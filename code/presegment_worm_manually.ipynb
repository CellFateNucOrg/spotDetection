{
 "cells": [
  {
   "cell_type": "markdown",
   "metadata": {},
   "source": [
    "# Viewing results in Napari\n",
    "\n",
    "Code uses outputs created by the spot_detection script to quickly load a particular image with masks and spots into napari in order to visually evaluate the restults.\n",
    "\n",
    "Run this on a local machine rather than the server as getting X11 forwarding to work on the server is a bit tricky. \n",
    "\n",
    "Pathnames from the fileList.csv df are automatically converted from /mnt/ to /Volumes/"
   ]
  },
  {
   "cell_type": "code",
   "execution_count": 1,
   "metadata": {},
   "outputs": [],
   "source": [
    "import napari\n",
    "from skimage.measure import regionprops_table, regionprops\n",
    "import pandas as pd\n",
    "import numpy as np\n",
    "import matplotlib.pyplot as plt\n",
    "import glob\n",
    "import os\n",
    "import gc\n",
    "from bioio import BioImage\n",
    "import bioio_nd2\n",
    "import bioio_tifffile\n",
    "import tqdm\n",
    "from bioio.writers import OmeTiffWriter\n",
    "from magicgui import magicgui\n",
    "from napari.settings import get_settings\n",
    "\n",
    "\n",
    "settings = get_settings()\n",
    "settings.application.ipy_interactive = False\n",
    "\n",
    "\n",
    "anisotropy = (3,1,1) # Relative scale of (Z,X,Y) axes\n",
    "\n",
    "nucChannel = 0 # red emerin rings\n",
    "spotChannel = 0 # green spots\n",
    "\n",
    "# in lucien's original scripts:\n",
    "# channel 0 is green spots\n",
    "# channel 1 is red emerin\n",
    "\n",
    "path_type=\"mac\" # could be \"server\", \"mac\" or \"wsl\"\n"
   ]
  },
  {
   "cell_type": "code",
   "execution_count": 2,
   "metadata": {},
   "outputs": [
    {
     "name": "stdout",
     "output_type": "stream",
     "text": [
      "Found 51 *.nd2 files.\n"
     ]
    },
    {
     "data": {
      "text/plain": [
       "'/Volumes/external.data/MeisterLab/jsemple/lhinder/segementation_Kalyan/2025-04-03_bet1-mSG_wPM1353'"
      ]
     },
     "execution_count": 2,
     "metadata": {},
     "output_type": "execute_result"
    }
   ],
   "source": [
    "def correct_path(path):\n",
    "    if path_type == \"server\":\n",
    "        return path\n",
    "    if path_type == \"mac\":\n",
    "        newpath = path.replace('/mnt/','/Volumes/')\n",
    "        return newpath\n",
    "    if path_type == \"wsl\":\n",
    "        newpath = path.replace('/mnt/external.data/','/mnt/izbkingston/')\n",
    "        return newpath\n",
    "    \n",
    "def correct_save_path(df, col_names=['raw_filepath', 'denoised_filepath','worm_mask_filepath']):\n",
    "    if path_type == \"server\":\n",
    "        return df\n",
    "    if path_type == \"mac\":\n",
    "        for col in col_names:\n",
    "            df[col] = df[col].str.replace('/Volumes/external.data/','/mnt/external.data/')\n",
    "        return df\n",
    "    if path_type == \"wsl\":\n",
    "        for col in col_names:\n",
    "            df[co] = df[col].str.replace('/mnt/izbkingston/','/mnt/external.data/')\n",
    "        return df\n",
    "\n",
    "def correct_loaded_path(df, col_names=['raw_filepath', 'denoised_filepath','worm_mask_filepath']):\n",
    "    if path_type == \"server\":\n",
    "        return df\n",
    "    if path_type == \"mac\":\n",
    "        for col in col_names:\n",
    "            df[col] = df[col].str.replace('/mnt/external.data/','/Volumes/external.data/')\n",
    "        return df\n",
    "    if path_type == \"wsl\":\n",
    "        for col in col_names:\n",
    "            df[col] = df[col].str.replace('/mnt/external.data/','/mnt/izbkingston/')\n",
    "        return df\n",
    "\n",
    "\n",
    "#output_path = '/Volumes/external.data/MeisterLab/jsemple/lhinder/segmentation_Dario/DPY27/'\n",
    "output_path_base = correct_path('/mnt/external.data/MeisterLab/jsemple/lhinder/segementation_Kalyan')\n",
    "\n",
    "raw_input_path = correct_path('/mnt/external.data/MeisterLab/Kalyan/TF_strains/wPM1353_bet1_mSG/2025_04_03_wPM1353/2025_04_03_wPM1353_HS')\n",
    "denoised_input_path = os.path.join(raw_input_path,'n2v_denoise/denoised')\n",
    "\n",
    "\n",
    "\n",
    "if not os.path.exists(output_path_base):\n",
    "    os.makedirs(output_path_base)\n",
    "\n",
    "raw_file_name_pattern = \"/*.nd2\"\n",
    "denoised_file_name_pattern = \"/*_n2v.tif\"\n",
    "raw_filepaths = sorted(glob.glob(raw_input_path + raw_file_name_pattern,recursive=True))\n",
    "raw_filepaths = [filepath for filepath in raw_filepaths if '_bad.nd2' not in filepath]\n",
    "\n",
    "print(f\"Found {len(raw_filepaths)} *.nd2 files.\")\n",
    "\n",
    "def kalyan_metadata(raw_input_path, raw_filepaths, output_path_base, denoised_input_path):\n",
    "    # extract identifying directories from raw_input_path\n",
    "    metadata = os.path.normpath(raw_input_path).split(os.sep)[-3:]\n",
    "    protein = '-'.join(metadata[0].split('_')[1:])\n",
    "    strain = metadata[0].split('_')[0]\n",
    "    date = '-'.join(metadata[1].split('_')[:3])\n",
    "\n",
    "    output_path = os.path.join(output_path_base, '_'.join([date,protein,strain]))\n",
    "    if not os.path.exists(output_path):\n",
    "        os.makedirs(output_path, exist_ok=True)\n",
    "\n",
    "    df = pd.DataFrame()\n",
    "    df['filename'] = [os.path.basename(filepath)[:-4] for filepath in raw_filepaths]\n",
    "    tmpdate = [os.path.normpath(filepath).split(os.sep)[-2] for filepath in raw_filepaths]\n",
    "    df['date'] = date\n",
    "    df['protein'] = protein\n",
    "    df['strain'] = strain\n",
    "    df['treatment'] = [filename.split('_')[1] for filename in df['filename']]\n",
    "    df['worm_id'] = [filename.split('_')[2] for filename in df['filename']]\n",
    "    df['id'] = df['protein'] + '_' + df['date'] + '_' + df['filename'] \n",
    "    df['raw_filepath'] = raw_filepaths\n",
    "    df['denoised_filepath'] = [os.path.join(denoised_input_path,filename+'_n2v.tif') for filename in df['filename']]\n",
    "    if (path_type==\"server\"):\n",
    "        df.to_csv(os.path.join(output_path,'fileList.csv'),index=False)\n",
    "    return(df, output_path)\n",
    "\n",
    "df, output_path = kalyan_metadata(raw_input_path, raw_filepaths, output_path_base, denoised_input_path)\n",
    "output_path  \n",
    "#df = pd.read_csv(os.path.join(output_path,'fileList.csv'))\n",
    "\n",
    "# if(path_type != \"server\"):\n",
    "#     df=pd.read_csv(os.path.join(output_path,'fileList.csv'))\n",
    "#     for i in range(len(df)):\n",
    "#         df.at[i,'raw_filepath'] = correct_path(df.at[i,'raw_filepath'])\n",
    "#         df.at[i,'denoised_filepath'] = correct_path(df.at[i,'denoised_filepath'])\n",
    "\n",
    "# indices = range(0,len(df))\n",
    "# df.head()"
   ]
  },
  {
   "cell_type": "code",
   "execution_count": 35,
   "metadata": {},
   "outputs": [],
   "source": [
    "def select_worm_region(df, index, output_path, spotChannel=0):\n",
    "    # Load the data\n",
    "    img = BioImage(df.raw_filepath.iloc[index], reader=bioio_nd2.Reader)\n",
    "    img = img.get_image_data(\"ZYX\", T=0, C=spotChannel)\n",
    "    img = np.max(img[:, :, :], axis=0)\n",
    "\n",
    "    if os.path.exists(os.path.join(output_path,'worm_masks'))==False:\n",
    "        os.makedirs(os.path.join(output_path,'worm_masks'), exist_ok=True)\n",
    "\n",
    "    if 'worm_mask_filepath' not in df.columns:\n",
    "        df['worm_mask_filepath'] = \"\"\n",
    "        df['worm_region'] = \"\"\n",
    "\n",
    "    # Create the Napari viewer\n",
    "    viewer = napari.Viewer()\n",
    "\n",
    "    # Add the image and shapes layers\n",
    "    layer_c0 = viewer.add_image(img, blending='additive', colormap='cyan', opacity=0.85,\n",
    "                                contrast_limits=[50, 300])\n",
    "    layer_c1 = viewer.add_shapes(opacity=0.1, name='Worm', edge_color='white', face_color='transparent')\n",
    "\n",
    "    # Dropdown widget for category selection\n",
    "    @magicgui(\n",
    "        auto_call=True,\n",
    "        category={\"choices\": [\"head\", \"tail\", \"tailnuc\", \"body\", \"embryo\"]},  # Dropdown menu\n",
    "    )\n",
    "    def dropdown_widget(category: str = \"head\"):\n",
    "        return category\n",
    "\n",
    "    # Add a text prompt to the viewer\n",
    "    viewer.text_overlay.text = \"Draw worm polygon outline in 'worm' layer then press 'm' to save the mask.\"\n",
    "    viewer.text_overlay.visible = True\n",
    "\n",
    "    # Add the dropdown widget to the viewer\n",
    "    viewer.window.add_dock_widget(dropdown_widget, area=\"right\")\n",
    "\n",
    "    # Key binding to save the mask\n",
    "    @viewer.bind_key('m')  # Press 'm' to generate the mask\n",
    "    def generate_mask(viewer):\n",
    "        # Convert shapes to a binary mask\n",
    "        binary_mask = layer_c1.to_masks(img.shape)\n",
    "        mask_path = os.path.join(output_path, 'worm_masks', df.id.iloc[index] + '.tif')\n",
    "        OmeTiffWriter.save(binary_mask.astype(np.uint8), mask_path)\n",
    "        df.at[index, 'worm_mask_filepath'] = mask_path\n",
    "        df.at[index, 'worm_region'] = dropdown_widget.category.value\n",
    "        print(f\"Mask saved to {mask_path}\")\n",
    "        viewer.close()\n",
    "\n",
    "    # Run Napari\n",
    "    napari.run()\n",
    "\n",
    "    return df\n",
    "\n",
    " "
   ]
  },
  {
   "cell_type": "code",
   "execution_count": 4,
   "metadata": {},
   "outputs": [
    {
     "data": {
      "application/vnd.microsoft.datawrangler.viewer.v0+json": {
       "columns": [
        {
         "name": "index",
         "rawType": "int64",
         "type": "integer"
        },
        {
         "name": "filename",
         "rawType": "object",
         "type": "string"
        },
        {
         "name": "date",
         "rawType": "object",
         "type": "string"
        },
        {
         "name": "protein",
         "rawType": "object",
         "type": "string"
        },
        {
         "name": "strain",
         "rawType": "object",
         "type": "string"
        },
        {
         "name": "treatment",
         "rawType": "object",
         "type": "string"
        },
        {
         "name": "worm_id",
         "rawType": "object",
         "type": "string"
        },
        {
         "name": "id",
         "rawType": "object",
         "type": "string"
        },
        {
         "name": "raw_filepath",
         "rawType": "object",
         "type": "string"
        },
        {
         "name": "denoised_filepath",
         "rawType": "object",
         "type": "string"
        }
       ],
       "conversionMethod": "pd.DataFrame",
       "ref": "d924b1de-96c9-43e1-84cd-423da737e659",
       "rows": [
        [
         "0",
         "wPM1353_HS_001",
         "2025-04-03",
         "bet1-mSG",
         "wPM1353",
         "HS",
         "001",
         "bet1-mSG_2025-04-03_wPM1353_HS_001",
         "/Volumes/external.data/MeisterLab/Kalyan/TF_strains/wPM1353_bet1_mSG/2025_04_03_wPM1353/2025_04_03_wPM1353_HS/wPM1353_HS_001.nd2",
         "/Volumes/external.data/MeisterLab/Kalyan/TF_strains/wPM1353_bet1_mSG/2025_04_03_wPM1353/2025_04_03_wPM1353_HS/n2v_denoise/denoised/wPM1353_HS_001_n2v.tif"
        ],
        [
         "1",
         "wPM1353_HS_002",
         "2025-04-03",
         "bet1-mSG",
         "wPM1353",
         "HS",
         "002",
         "bet1-mSG_2025-04-03_wPM1353_HS_002",
         "/Volumes/external.data/MeisterLab/Kalyan/TF_strains/wPM1353_bet1_mSG/2025_04_03_wPM1353/2025_04_03_wPM1353_HS/wPM1353_HS_002.nd2",
         "/Volumes/external.data/MeisterLab/Kalyan/TF_strains/wPM1353_bet1_mSG/2025_04_03_wPM1353/2025_04_03_wPM1353_HS/n2v_denoise/denoised/wPM1353_HS_002_n2v.tif"
        ],
        [
         "2",
         "wPM1353_HS_003",
         "2025-04-03",
         "bet1-mSG",
         "wPM1353",
         "HS",
         "003",
         "bet1-mSG_2025-04-03_wPM1353_HS_003",
         "/Volumes/external.data/MeisterLab/Kalyan/TF_strains/wPM1353_bet1_mSG/2025_04_03_wPM1353/2025_04_03_wPM1353_HS/wPM1353_HS_003.nd2",
         "/Volumes/external.data/MeisterLab/Kalyan/TF_strains/wPM1353_bet1_mSG/2025_04_03_wPM1353/2025_04_03_wPM1353_HS/n2v_denoise/denoised/wPM1353_HS_003_n2v.tif"
        ],
        [
         "3",
         "wPM1353_HS_004",
         "2025-04-03",
         "bet1-mSG",
         "wPM1353",
         "HS",
         "004",
         "bet1-mSG_2025-04-03_wPM1353_HS_004",
         "/Volumes/external.data/MeisterLab/Kalyan/TF_strains/wPM1353_bet1_mSG/2025_04_03_wPM1353/2025_04_03_wPM1353_HS/wPM1353_HS_004.nd2",
         "/Volumes/external.data/MeisterLab/Kalyan/TF_strains/wPM1353_bet1_mSG/2025_04_03_wPM1353/2025_04_03_wPM1353_HS/n2v_denoise/denoised/wPM1353_HS_004_n2v.tif"
        ],
        [
         "4",
         "wPM1353_HS_005",
         "2025-04-03",
         "bet1-mSG",
         "wPM1353",
         "HS",
         "005",
         "bet1-mSG_2025-04-03_wPM1353_HS_005",
         "/Volumes/external.data/MeisterLab/Kalyan/TF_strains/wPM1353_bet1_mSG/2025_04_03_wPM1353/2025_04_03_wPM1353_HS/wPM1353_HS_005.nd2",
         "/Volumes/external.data/MeisterLab/Kalyan/TF_strains/wPM1353_bet1_mSG/2025_04_03_wPM1353/2025_04_03_wPM1353_HS/n2v_denoise/denoised/wPM1353_HS_005_n2v.tif"
        ]
       ],
       "shape": {
        "columns": 9,
        "rows": 5
       }
      },
      "text/html": [
       "<div>\n",
       "<style scoped>\n",
       "    .dataframe tbody tr th:only-of-type {\n",
       "        vertical-align: middle;\n",
       "    }\n",
       "\n",
       "    .dataframe tbody tr th {\n",
       "        vertical-align: top;\n",
       "    }\n",
       "\n",
       "    .dataframe thead th {\n",
       "        text-align: right;\n",
       "    }\n",
       "</style>\n",
       "<table border=\"1\" class=\"dataframe\">\n",
       "  <thead>\n",
       "    <tr style=\"text-align: right;\">\n",
       "      <th></th>\n",
       "      <th>filename</th>\n",
       "      <th>date</th>\n",
       "      <th>protein</th>\n",
       "      <th>strain</th>\n",
       "      <th>treatment</th>\n",
       "      <th>worm_id</th>\n",
       "      <th>id</th>\n",
       "      <th>raw_filepath</th>\n",
       "      <th>denoised_filepath</th>\n",
       "    </tr>\n",
       "  </thead>\n",
       "  <tbody>\n",
       "    <tr>\n",
       "      <th>0</th>\n",
       "      <td>wPM1353_HS_001</td>\n",
       "      <td>2025-04-03</td>\n",
       "      <td>bet1-mSG</td>\n",
       "      <td>wPM1353</td>\n",
       "      <td>HS</td>\n",
       "      <td>001</td>\n",
       "      <td>bet1-mSG_2025-04-03_wPM1353_HS_001</td>\n",
       "      <td>/Volumes/external.data/MeisterLab/Kalyan/TF_st...</td>\n",
       "      <td>/Volumes/external.data/MeisterLab/Kalyan/TF_st...</td>\n",
       "    </tr>\n",
       "    <tr>\n",
       "      <th>1</th>\n",
       "      <td>wPM1353_HS_002</td>\n",
       "      <td>2025-04-03</td>\n",
       "      <td>bet1-mSG</td>\n",
       "      <td>wPM1353</td>\n",
       "      <td>HS</td>\n",
       "      <td>002</td>\n",
       "      <td>bet1-mSG_2025-04-03_wPM1353_HS_002</td>\n",
       "      <td>/Volumes/external.data/MeisterLab/Kalyan/TF_st...</td>\n",
       "      <td>/Volumes/external.data/MeisterLab/Kalyan/TF_st...</td>\n",
       "    </tr>\n",
       "    <tr>\n",
       "      <th>2</th>\n",
       "      <td>wPM1353_HS_003</td>\n",
       "      <td>2025-04-03</td>\n",
       "      <td>bet1-mSG</td>\n",
       "      <td>wPM1353</td>\n",
       "      <td>HS</td>\n",
       "      <td>003</td>\n",
       "      <td>bet1-mSG_2025-04-03_wPM1353_HS_003</td>\n",
       "      <td>/Volumes/external.data/MeisterLab/Kalyan/TF_st...</td>\n",
       "      <td>/Volumes/external.data/MeisterLab/Kalyan/TF_st...</td>\n",
       "    </tr>\n",
       "    <tr>\n",
       "      <th>3</th>\n",
       "      <td>wPM1353_HS_004</td>\n",
       "      <td>2025-04-03</td>\n",
       "      <td>bet1-mSG</td>\n",
       "      <td>wPM1353</td>\n",
       "      <td>HS</td>\n",
       "      <td>004</td>\n",
       "      <td>bet1-mSG_2025-04-03_wPM1353_HS_004</td>\n",
       "      <td>/Volumes/external.data/MeisterLab/Kalyan/TF_st...</td>\n",
       "      <td>/Volumes/external.data/MeisterLab/Kalyan/TF_st...</td>\n",
       "    </tr>\n",
       "    <tr>\n",
       "      <th>4</th>\n",
       "      <td>wPM1353_HS_005</td>\n",
       "      <td>2025-04-03</td>\n",
       "      <td>bet1-mSG</td>\n",
       "      <td>wPM1353</td>\n",
       "      <td>HS</td>\n",
       "      <td>005</td>\n",
       "      <td>bet1-mSG_2025-04-03_wPM1353_HS_005</td>\n",
       "      <td>/Volumes/external.data/MeisterLab/Kalyan/TF_st...</td>\n",
       "      <td>/Volumes/external.data/MeisterLab/Kalyan/TF_st...</td>\n",
       "    </tr>\n",
       "  </tbody>\n",
       "</table>\n",
       "</div>"
      ],
      "text/plain": [
       "         filename        date   protein   strain treatment worm_id  \\\n",
       "0  wPM1353_HS_001  2025-04-03  bet1-mSG  wPM1353        HS     001   \n",
       "1  wPM1353_HS_002  2025-04-03  bet1-mSG  wPM1353        HS     002   \n",
       "2  wPM1353_HS_003  2025-04-03  bet1-mSG  wPM1353        HS     003   \n",
       "3  wPM1353_HS_004  2025-04-03  bet1-mSG  wPM1353        HS     004   \n",
       "4  wPM1353_HS_005  2025-04-03  bet1-mSG  wPM1353        HS     005   \n",
       "\n",
       "                                   id  \\\n",
       "0  bet1-mSG_2025-04-03_wPM1353_HS_001   \n",
       "1  bet1-mSG_2025-04-03_wPM1353_HS_002   \n",
       "2  bet1-mSG_2025-04-03_wPM1353_HS_003   \n",
       "3  bet1-mSG_2025-04-03_wPM1353_HS_004   \n",
       "4  bet1-mSG_2025-04-03_wPM1353_HS_005   \n",
       "\n",
       "                                        raw_filepath  \\\n",
       "0  /Volumes/external.data/MeisterLab/Kalyan/TF_st...   \n",
       "1  /Volumes/external.data/MeisterLab/Kalyan/TF_st...   \n",
       "2  /Volumes/external.data/MeisterLab/Kalyan/TF_st...   \n",
       "3  /Volumes/external.data/MeisterLab/Kalyan/TF_st...   \n",
       "4  /Volumes/external.data/MeisterLab/Kalyan/TF_st...   \n",
       "\n",
       "                                   denoised_filepath  \n",
       "0  /Volumes/external.data/MeisterLab/Kalyan/TF_st...  \n",
       "1  /Volumes/external.data/MeisterLab/Kalyan/TF_st...  \n",
       "2  /Volumes/external.data/MeisterLab/Kalyan/TF_st...  \n",
       "3  /Volumes/external.data/MeisterLab/Kalyan/TF_st...  \n",
       "4  /Volumes/external.data/MeisterLab/Kalyan/TF_st...  "
      ]
     },
     "execution_count": 4,
     "metadata": {},
     "output_type": "execute_result"
    }
   ],
   "source": [
    "df.head()"
   ]
  },
  {
   "cell_type": "markdown",
   "metadata": {},
   "source": [
    "## Manually create masks for worm region\n",
    "Run this code to scroll through the rows of the df dataframe, and open a max projection of the raw image in napari. To create mask:\n",
    "\n",
    "1) Select from dropdown menu on the top right what worm region you are highlighting (head, tail, tailnuc, body, embryo)\n",
    "\n",
    "2) Use polygon selection tool among the options on the left menu to draw an outline around the region of interest. It does not have to be tight around the worm, just avoid any other fluorescent regions you are not interestd in. If you make a mistake you can delete and redraw.\n",
    "\n",
    "3) When you are satisfied with your selection, press 'm' and that will save a binary mask for that region, save the region type you selected and close the napari viewer.\n",
    "\n",
    "The code saves the df dataframe into fileList_wormMasks.csv after every image, so if your run get interrupted you can just change the range of indeces you are using."
   ]
  },
  {
   "cell_type": "code",
   "execution_count": null,
   "metadata": {},
   "outputs": [
    {
     "name": "stderr",
     "output_type": "stream",
     "text": [
      "  0%|          | 0/47 [00:00<?, ?it/s]"
     ]
    },
    {
     "name": "stderr",
     "output_type": "stream",
     "text": [
      "/Users/semple/micromamba/envs/lhcellpose/lib/python3.10/site-packages/dask/tokenize.py:242: UserWarning: ND2File file not closed before garbage collection. Please use `with ND2File(...):` context or call `.close()`.\n",
      "  mod.loads(out, buffers=buffers)\n",
      "  2%|▏         | 1/47 [01:22<1:03:14, 82.48s/it]"
     ]
    },
    {
     "name": "stdout",
     "output_type": "stream",
     "text": [
      "Mask saved to /Volumes/external.data/MeisterLab/jsemple/lhinder/segementation_Kalyan/2025-04-03_bet1-mSG_wPM1353/worm_masks/bet1-mSG_2025-04-03_wPM1353_HS_005.tif\n"
     ]
    },
    {
     "name": "stderr",
     "output_type": "stream",
     "text": [
      "/Users/semple/micromamba/envs/lhcellpose/lib/python3.10/site-packages/dask/tokenize.py:242: UserWarning: ND2File file not closed before garbage collection. Please use `with ND2File(...):` context or call `.close()`.\n",
      "  mod.loads(out, buffers=buffers)\n",
      "  4%|▍         | 2/47 [02:05<44:16, 59.02s/it]  "
     ]
    },
    {
     "name": "stdout",
     "output_type": "stream",
     "text": [
      "Mask saved to /Volumes/external.data/MeisterLab/jsemple/lhinder/segementation_Kalyan/2025-04-03_bet1-mSG_wPM1353/worm_masks/bet1-mSG_2025-04-03_wPM1353_HS_006.tif\n"
     ]
    },
    {
     "name": "stderr",
     "output_type": "stream",
     "text": [
      "/Users/semple/micromamba/envs/lhcellpose/lib/python3.10/site-packages/dask/tokenize.py:242: UserWarning: ND2File file not closed before garbage collection. Please use `with ND2File(...):` context or call `.close()`.\n",
      "  mod.loads(out, buffers=buffers)\n",
      "  6%|▋         | 3/47 [04:20<1:08:47, 93.80s/it]"
     ]
    },
    {
     "name": "stdout",
     "output_type": "stream",
     "text": [
      "Mask saved to /Volumes/external.data/MeisterLab/jsemple/lhinder/segementation_Kalyan/2025-04-03_bet1-mSG_wPM1353/worm_masks/bet1-mSG_2025-04-03_wPM1353_HS_007.tif\n"
     ]
    },
    {
     "name": "stderr",
     "output_type": "stream",
     "text": [
      "/Users/semple/micromamba/envs/lhcellpose/lib/python3.10/site-packages/dask/tokenize.py:242: UserWarning: ND2File file not closed before garbage collection. Please use `with ND2File(...):` context or call `.close()`.\n",
      "  mod.loads(out, buffers=buffers)\n",
      "  9%|▊         | 4/47 [05:16<56:29, 78.83s/it]  "
     ]
    },
    {
     "name": "stdout",
     "output_type": "stream",
     "text": [
      "Mask saved to /Volumes/external.data/MeisterLab/jsemple/lhinder/segementation_Kalyan/2025-04-03_bet1-mSG_wPM1353/worm_masks/bet1-mSG_2025-04-03_wPM1353_HS_008.tif\n"
     ]
    },
    {
     "name": "stderr",
     "output_type": "stream",
     "text": [
      "/Users/semple/micromamba/envs/lhcellpose/lib/python3.10/site-packages/dask/tokenize.py:242: UserWarning: ND2File file not closed before garbage collection. Please use `with ND2File(...):` context or call `.close()`.\n",
      "  mod.loads(out, buffers=buffers)\n",
      " 11%|█         | 5/47 [06:08<48:31, 69.31s/it]"
     ]
    },
    {
     "name": "stdout",
     "output_type": "stream",
     "text": [
      "Mask saved to /Volumes/external.data/MeisterLab/jsemple/lhinder/segementation_Kalyan/2025-04-03_bet1-mSG_wPM1353/worm_masks/bet1-mSG_2025-04-03_wPM1353_HS_009.tif\n"
     ]
    },
    {
     "name": "stderr",
     "output_type": "stream",
     "text": [
      "/Users/semple/micromamba/envs/lhcellpose/lib/python3.10/site-packages/dask/tokenize.py:242: UserWarning: ND2File file not closed before garbage collection. Please use `with ND2File(...):` context or call `.close()`.\n",
      "  mod.loads(out, buffers=buffers)\n",
      " 13%|█▎        | 6/47 [06:52<41:24, 60.59s/it]"
     ]
    },
    {
     "name": "stdout",
     "output_type": "stream",
     "text": [
      "Mask saved to /Volumes/external.data/MeisterLab/jsemple/lhinder/segementation_Kalyan/2025-04-03_bet1-mSG_wPM1353/worm_masks/bet1-mSG_2025-04-03_wPM1353_HS_010.tif\n"
     ]
    },
    {
     "name": "stderr",
     "output_type": "stream",
     "text": [
      "/Users/semple/micromamba/envs/lhcellpose/lib/python3.10/site-packages/dask/tokenize.py:242: UserWarning: ND2File file not closed before garbage collection. Please use `with ND2File(...):` context or call `.close()`.\n",
      "  mod.loads(out, buffers=buffers)\n",
      " 15%|█▍        | 7/47 [1:22:39<16:58:12, 1527.30s/it]"
     ]
    },
    {
     "name": "stdout",
     "output_type": "stream",
     "text": [
      "Mask saved to /Volumes/external.data/MeisterLab/jsemple/lhinder/segementation_Kalyan/2025-04-03_bet1-mSG_wPM1353/worm_masks/bet1-mSG_2025-04-03_wPM1353_HS_011.tif\n"
     ]
    },
    {
     "name": "stderr",
     "output_type": "stream",
     "text": [
      "/Users/semple/micromamba/envs/lhcellpose/lib/python3.10/site-packages/dask/tokenize.py:242: UserWarning: ND2File file not closed before garbage collection. Please use `with ND2File(...):` context or call `.close()`.\n",
      "  mod.loads(out, buffers=buffers)\n"
     ]
    },
    {
     "name": "stdout",
     "output_type": "stream",
     "text": [
      "\u001b[0;31m---------------------------------------------------------------------------\u001b[0m\n",
      "\u001b[0;31mValueError\u001b[0m                                Traceback (most recent call last)\n",
      "File \u001b[0;32m~/micromamba/envs/lhcellpose/lib/python3.10/site-packages/napari/_qt/qt_viewer.py:1045\u001b[0m, in \u001b[0;36mQtViewer.keyPressEvent\u001b[0;34m(self=<napari._qt.qt_viewer.QtViewer object>, event=<PyQt5.QtGui.QKeyEvent object>)\u001b[0m\n",
      "\u001b[1;32m   1037\u001b[0m \u001b[38;5;28;01mdef\u001b[39;00m \u001b[38;5;21mkeyPressEvent\u001b[39m(\u001b[38;5;28mself\u001b[39m, event):\n",
      "\u001b[1;32m   1038\u001b[0m \u001b[38;5;250m    \u001b[39m\u001b[38;5;124;03m\"\"\"Called whenever a key is pressed.\u001b[39;00m\n",
      "\u001b[1;32m   1039\u001b[0m \n",
      "\u001b[1;32m   1040\u001b[0m \u001b[38;5;124;03m    Parameters\u001b[39;00m\n",
      "\u001b[0;32m   (...)\u001b[0m\n",
      "\u001b[1;32m   1043\u001b[0m \u001b[38;5;124;03m        Event from the Qt context.\u001b[39;00m\n",
      "\u001b[1;32m   1044\u001b[0m \u001b[38;5;124;03m    \"\"\"\u001b[39;00m\n",
      "\u001b[0;32m-> 1045\u001b[0m     \u001b[38;5;28;43mself\u001b[39;49m\u001b[38;5;241;43m.\u001b[39;49m\u001b[43mcanvas\u001b[49m\u001b[38;5;241;43m.\u001b[39;49m\u001b[43m_scene_canvas\u001b[49m\u001b[38;5;241;43m.\u001b[39;49m\u001b[43m_backend\u001b[49m\u001b[38;5;241;43m.\u001b[39;49m\u001b[43m_keyEvent\u001b[49m\u001b[43m(\u001b[49m\n",
      "        self.canvas._scene_canvas._backend \u001b[0;34m= <vispy.app.backends._qt.CanvasBackendDesktop object at 0x1640e5360>\u001b[0m\u001b[0;34m\n",
      "        \u001b[0mself.canvas._scene_canvas \u001b[0;34m= <NapariSceneCanvas (PyQt5) at 0x168c36e00>\u001b[0m\u001b[0;34m\n",
      "        \u001b[0mself.canvas \u001b[0;34m= <napari._vispy.canvas.VispyCanvas object at 0x168c36dd0>\u001b[0m\u001b[0;34m\n",
      "        \u001b[0mself \u001b[0;34m= <napari._qt.qt_viewer.QtViewer object at 0x14a741900>\u001b[0m\u001b[0;34m\n",
      "        \u001b[0mself.canvas._scene_canvas.events.key_press \u001b[0;34m= <vispy.util.event.EventEmitter object at 0x15d1fe8c0>\u001b[0m\u001b[0;34m\n",
      "        \u001b[0mevent \u001b[0;34m= <PyQt5.QtGui.QKeyEvent object at 0x15c0bf250>\u001b[0m\u001b[0;34m\n",
      "        \u001b[0mself.canvas._scene_canvas.events \u001b[0;34m= <vispy.util.event.EmitterGroup object at 0x15d1ff340>\u001b[0m\n",
      "\u001b[1;32m   1046\u001b[0m \u001b[43m        \u001b[49m\u001b[38;5;28;43mself\u001b[39;49m\u001b[38;5;241;43m.\u001b[39;49m\u001b[43mcanvas\u001b[49m\u001b[38;5;241;43m.\u001b[39;49m\u001b[43m_scene_canvas\u001b[49m\u001b[38;5;241;43m.\u001b[39;49m\u001b[43mevents\u001b[49m\u001b[38;5;241;43m.\u001b[39;49m\u001b[43mkey_press\u001b[49m\u001b[43m,\u001b[49m\u001b[43m \u001b[49m\u001b[43mevent\u001b[49m\n",
      "\u001b[1;32m   1047\u001b[0m \u001b[43m    \u001b[49m\u001b[43m)\u001b[49m\n",
      "\u001b[1;32m   1048\u001b[0m     event\u001b[38;5;241m.\u001b[39maccept()\n",
      "\n",
      "File \u001b[0;32m~/micromamba/envs/lhcellpose/lib/python3.10/site-packages/vispy/app/backends/_qt.py:647\u001b[0m, in \u001b[0;36mQtBaseCanvasBackend._keyEvent\u001b[0;34m(self=<vispy.app.backends._qt.CanvasBackendDesktop object>, func=<vispy.util.event.EventEmitter object>, ev=<PyQt5.QtGui.QKeyEvent object>)\u001b[0m\n",
      "\u001b[1;32m    645\u001b[0m     key \u001b[38;5;241m=\u001b[39m \u001b[38;5;28;01mNone\u001b[39;00m\n",
      "\u001b[1;32m    646\u001b[0m mod \u001b[38;5;241m=\u001b[39m \u001b[38;5;28mself\u001b[39m\u001b[38;5;241m.\u001b[39m_modifiers(ev)\n",
      "\u001b[0;32m--> 647\u001b[0m \u001b[43mfunc\u001b[49m\u001b[43m(\u001b[49m\u001b[43mnative\u001b[49m\u001b[38;5;241;43m=\u001b[39;49m\u001b[43mev\u001b[49m\u001b[43m,\u001b[49m\u001b[43m \u001b[49m\u001b[43mkey\u001b[49m\u001b[38;5;241;43m=\u001b[39;49m\u001b[43mkey\u001b[49m\u001b[43m,\u001b[49m\u001b[43m \u001b[49m\u001b[43mtext\u001b[49m\u001b[38;5;241;43m=\u001b[39;49m\u001b[38;5;28;43mstr\u001b[39;49m\u001b[43m(\u001b[49m\u001b[43mev\u001b[49m\u001b[38;5;241;43m.\u001b[39;49m\u001b[43mtext\u001b[49m\u001b[43m(\u001b[49m\u001b[43m)\u001b[49m\u001b[43m)\u001b[49m\u001b[43m,\u001b[49m\u001b[43m \u001b[49m\u001b[43mmodifiers\u001b[49m\u001b[38;5;241;43m=\u001b[39;49m\u001b[43mmod\u001b[49m\u001b[43m)\u001b[49m\n",
      "        key \u001b[0;34m= <Key 'M'>\u001b[0m\u001b[0;34m\n",
      "        \u001b[0mmod \u001b[0;34m= ()\u001b[0m\u001b[0;34m\n",
      "        \u001b[0mev \u001b[0;34m= <PyQt5.QtGui.QKeyEvent object at 0x15c0bf250>\u001b[0m\u001b[0;34m\n",
      "        \u001b[0mfunc \u001b[0;34m= <vispy.util.event.EventEmitter object at 0x15d1fe8c0>\u001b[0m\n",
      "\n",
      "File \u001b[0;32m~/micromamba/envs/lhcellpose/lib/python3.10/site-packages/vispy/util/event.py:453\u001b[0m, in \u001b[0;36mEventEmitter.__call__\u001b[0;34m(self=<vispy.util.event.EventEmitter object>, *args=(), **kwargs={'key': <Key 'M'>, 'modifiers': (), 'native': <PyQt5.QtGui.QKeyEvent object>, 'text': 'm'})\u001b[0m\n",
      "\u001b[1;32m    450\u001b[0m \u001b[38;5;28;01mif\u001b[39;00m \u001b[38;5;28mself\u001b[39m\u001b[38;5;241m.\u001b[39m_emitting \u001b[38;5;241m>\u001b[39m \u001b[38;5;241m1\u001b[39m:\n",
      "\u001b[1;32m    451\u001b[0m     \u001b[38;5;28;01mraise\u001b[39;00m \u001b[38;5;167;01mRuntimeError\u001b[39;00m(\u001b[38;5;124m'\u001b[39m\u001b[38;5;124mEventEmitter loop detected!\u001b[39m\u001b[38;5;124m'\u001b[39m)\n",
      "\u001b[0;32m--> 453\u001b[0m \u001b[38;5;28;43mself\u001b[39;49m\u001b[38;5;241;43m.\u001b[39;49m\u001b[43m_invoke_callback\u001b[49m\u001b[43m(\u001b[49m\u001b[43mcb\u001b[49m\u001b[43m,\u001b[49m\u001b[43m \u001b[49m\u001b[43mevent\u001b[49m\u001b[43m)\u001b[49m\n",
      "        event \u001b[0;34m= <KeyEvent blocked=False handled=False key=<Key 'M'> modifiers=() native=<PyQt5.QtGui.QKeyEvent object at 0x15c0bf250> source=None sources=[] text=m type=key_press>\u001b[0m\u001b[0;34m\n",
      "        \u001b[0mself \u001b[0;34m= <vispy.util.event.EventEmitter object at 0x15d1fe8c0>\u001b[0m\u001b[0;34m\n",
      "        \u001b[0mcb \u001b[0;34m= <bound method KeymapHandler.on_key_press of <napari.utils.key_bindings.KeymapHandler object at 0x168c34640>>\u001b[0m\n",
      "\u001b[1;32m    454\u001b[0m \u001b[38;5;28;01mif\u001b[39;00m event\u001b[38;5;241m.\u001b[39mblocked:\n",
      "\u001b[1;32m    455\u001b[0m     \u001b[38;5;28;01mbreak\u001b[39;00m\n",
      "\n",
      "File \u001b[0;32m~/micromamba/envs/lhcellpose/lib/python3.10/site-packages/vispy/util/event.py:471\u001b[0m, in \u001b[0;36mEventEmitter._invoke_callback\u001b[0;34m(self=<vispy.util.event.EventEmitter object>, cb=<bound method KeymapHandler.on_key_press of <napari.utils.key_bindings.KeymapHandler object>>, event=<KeyEvent blocked=False handled=False key=<Key '...50> source=None sources=[] text=m type=key_press>)\u001b[0m\n",
      "\u001b[1;32m    469\u001b[0m     cb(event)\n",
      "\u001b[1;32m    470\u001b[0m \u001b[38;5;28;01mexcept\u001b[39;00m \u001b[38;5;167;01mException\u001b[39;00m:\n",
      "\u001b[0;32m--> 471\u001b[0m     \u001b[43m_handle_exception\u001b[49m\u001b[43m(\u001b[49m\u001b[38;5;28;43mself\u001b[39;49m\u001b[38;5;241;43m.\u001b[39;49m\u001b[43mignore_callback_errors\u001b[49m\u001b[43m,\u001b[49m\n",
      "        self \u001b[0;34m= <vispy.util.event.EventEmitter object at 0x15d1fe8c0>\u001b[0m\u001b[0;34m\n",
      "        \u001b[0mcb \u001b[0;34m= <bound method KeymapHandler.on_key_press of <napari.utils.key_bindings.KeymapHandler object at 0x168c34640>>\u001b[0m\u001b[0;34m\n",
      "        \u001b[0mevent \u001b[0;34m= <KeyEvent blocked=False handled=False key=<Key 'M'> modifiers=() native=<PyQt5.QtGui.QKeyEvent object at 0x15c0bf250> source=None sources=[] text=m type=key_press>\u001b[0m\u001b[0;34m\n",
      "        \u001b[0m(cb, event) \u001b[0;34m= (<bound method KeymapHandler.on_key_press of <napari.utils.key_bindings.KeymapHandler object at 0x168c34640>>, <KeyEvent blocked=False handled=False key=<Key 'M'> modifiers=() native=<PyQt5.QtGui.QKeyEvent object at 0x15c0bf250> source=None sources=[] text=m type=key_press>)\u001b[0m\n",
      "\u001b[1;32m    472\u001b[0m \u001b[43m                      \u001b[49m\u001b[38;5;28;43mself\u001b[39;49m\u001b[38;5;241;43m.\u001b[39;49m\u001b[43mprint_callback_errors\u001b[49m\u001b[43m,\u001b[49m\n",
      "\u001b[1;32m    473\u001b[0m \u001b[43m                      \u001b[49m\u001b[38;5;28;43mself\u001b[39;49m\u001b[43m,\u001b[49m\u001b[43m \u001b[49m\u001b[43mcb_event\u001b[49m\u001b[38;5;241;43m=\u001b[39;49m\u001b[43m(\u001b[49m\u001b[43mcb\u001b[49m\u001b[43m,\u001b[49m\u001b[43m \u001b[49m\u001b[43mevent\u001b[49m\u001b[43m)\u001b[49m\u001b[43m)\u001b[49m\n",
      "\n",
      "File \u001b[0;32m~/micromamba/envs/lhcellpose/lib/python3.10/site-packages/vispy/util/event.py:469\u001b[0m, in \u001b[0;36mEventEmitter._invoke_callback\u001b[0;34m(self=<vispy.util.event.EventEmitter object>, cb=<bound method KeymapHandler.on_key_press of <napari.utils.key_bindings.KeymapHandler object>>, event=<KeyEvent blocked=False handled=False key=<Key '...50> source=None sources=[] text=m type=key_press>)\u001b[0m\n",
      "\u001b[1;32m    467\u001b[0m \u001b[38;5;28;01mdef\u001b[39;00m \u001b[38;5;21m_invoke_callback\u001b[39m(\u001b[38;5;28mself\u001b[39m, cb, event):\n",
      "\u001b[1;32m    468\u001b[0m     \u001b[38;5;28;01mtry\u001b[39;00m:\n",
      "\u001b[0;32m--> 469\u001b[0m         \u001b[43mcb\u001b[49m\u001b[43m(\u001b[49m\u001b[43mevent\u001b[49m\u001b[43m)\u001b[49m\n",
      "        cb \u001b[0;34m= <bound method KeymapHandler.on_key_press of <napari.utils.key_bindings.KeymapHandler object at 0x168c34640>>\u001b[0m\u001b[0;34m\n",
      "        \u001b[0mevent \u001b[0;34m= <KeyEvent blocked=False handled=False key=<Key 'M'> modifiers=() native=<PyQt5.QtGui.QKeyEvent object at 0x15c0bf250> source=None sources=[] text=m type=key_press>\u001b[0m\n",
      "\u001b[1;32m    470\u001b[0m     \u001b[38;5;28;01mexcept\u001b[39;00m \u001b[38;5;167;01mException\u001b[39;00m:\n",
      "\u001b[1;32m    471\u001b[0m         _handle_exception(\u001b[38;5;28mself\u001b[39m\u001b[38;5;241m.\u001b[39mignore_callback_errors,\n",
      "\u001b[1;32m    472\u001b[0m                           \u001b[38;5;28mself\u001b[39m\u001b[38;5;241m.\u001b[39mprint_callback_errors,\n",
      "\u001b[1;32m    473\u001b[0m                           \u001b[38;5;28mself\u001b[39m, cb_event\u001b[38;5;241m=\u001b[39m(cb, event))\n",
      "\n",
      "File \u001b[0;32m~/micromamba/envs/lhcellpose/lib/python3.10/site-packages/napari/utils/key_bindings.py:515\u001b[0m, in \u001b[0;36mKeymapHandler.on_key_press\u001b[0;34m(self=<napari.utils.key_bindings.KeymapHandler object>, event=<KeyEvent blocked=False handled=False key=<Key '...50> source=None sources=[] text=m type=key_press>)\u001b[0m\n",
      "\u001b[1;32m    505\u001b[0m \u001b[38;5;28;01mif\u001b[39;00m (\n",
      "\u001b[1;32m    506\u001b[0m     event\u001b[38;5;241m.\u001b[39mnative \u001b[38;5;129;01mis\u001b[39;00m \u001b[38;5;129;01mnot\u001b[39;00m \u001b[38;5;28;01mNone\u001b[39;00m\n",
      "\u001b[1;32m    507\u001b[0m     \u001b[38;5;129;01mand\u001b[39;00m event\u001b[38;5;241m.\u001b[39mnative\u001b[38;5;241m.\u001b[39misAutoRepeat()\n",
      "\u001b[0;32m   (...)\u001b[0m\n",
      "\u001b[1;32m    511\u001b[0m     \u001b[38;5;66;03m# unless the combo being held down is one of the autorepeatables or\u001b[39;00m\n",
      "\u001b[1;32m    512\u001b[0m     \u001b[38;5;66;03m# one of the navigation keys (helps with scrolling).\u001b[39;00m\n",
      "\u001b[1;32m    513\u001b[0m     \u001b[38;5;28;01mreturn\u001b[39;00m\n",
      "\u001b[0;32m--> 515\u001b[0m \u001b[38;5;28;43mself\u001b[39;49m\u001b[38;5;241;43m.\u001b[39;49m\u001b[43mpress_key\u001b[49m\u001b[43m(\u001b[49m\u001b[43mkb\u001b[49m\u001b[43m)\u001b[49m\n",
      "        kb \u001b[0;34m= <KeyBinding at 0x15df3dab0: M>\u001b[0m\u001b[0;34m\n",
      "        \u001b[0mself \u001b[0;34m= <napari.utils.key_bindings.KeymapHandler object at 0x168c34640>\u001b[0m\n",
      "\n",
      "File \u001b[0;32m~/micromamba/envs/lhcellpose/lib/python3.10/site-packages/napari/utils/key_bindings.py:437\u001b[0m, in \u001b[0;36mKeymapHandler.press_key\u001b[0;34m(self=<napari.utils.key_bindings.KeymapHandler object>, key_bind=<KeyBinding at 0x15df3dab0: M>)\u001b[0m\n",
      "\u001b[1;32m    428\u001b[0m \u001b[38;5;28;01mif\u001b[39;00m \u001b[38;5;129;01mnot\u001b[39;00m \u001b[38;5;28mcallable\u001b[39m(func):\n",
      "\u001b[1;32m    429\u001b[0m     \u001b[38;5;28;01mraise\u001b[39;00m \u001b[38;5;167;01mTypeError\u001b[39;00m(\n",
      "\u001b[1;32m    430\u001b[0m         trans\u001b[38;5;241m.\u001b[39m_(\n",
      "\u001b[1;32m    431\u001b[0m             \u001b[38;5;124m'\u001b[39m\u001b[38;5;124mexpected \u001b[39m\u001b[38;5;132;01m{func}\u001b[39;00m\u001b[38;5;124m to be callable\u001b[39m\u001b[38;5;124m'\u001b[39m,\n",
      "\u001b[0;32m   (...)\u001b[0m\n",
      "\u001b[1;32m    434\u001b[0m         )\n",
      "\u001b[1;32m    435\u001b[0m     )\n",
      "\u001b[0;32m--> 437\u001b[0m generator_or_callback \u001b[38;5;241m=\u001b[39m \u001b[43mfunc\u001b[49m\u001b[43m(\u001b[49m\u001b[43m)\u001b[49m\n",
      "        func \u001b[0;34m= <bound method select_worm_region.<locals>.generate_mask of Viewer(camera=Camera(center=(0.0, 1023.5, 1021.5), zoom=0.36670743639921716, angles=(0.0, 0.0, 90.0), perspective=0.0, mouse_pan=False, mouse_zoom=True), cursor=Cursor(position=(1.0, 1.0), scaled=True, style=<CursorStyle.POINTING: 'pointing'>, size=1.0), dims=Dims(ndim=2, ndisplay=2, order=(0, 1), axis_labels=('0', '1'), rollable=(True, True), range=(RangeTuple(start=0.0, stop=2047.0, step=1.0), RangeTuple(start=0.0, stop=2043.0, step=1.0)), margin_left=(0.0, 0.0), margin_right=(0.0, 0.0), point=(1023.0, 1021.0), last_used=0), grid=GridCanvas(stride=1, shape=(-1, -1), enabled=False), layers=[<Image layer 'Image' at 0x15de87ca0>, <Shapes layer 'Worm' at 0x15c57a1d0>], help='use <6> for pan/zoom, use <7> for transform, use <R> for add rectangles, use <E> for add ellipses, use <L> for add lines, use <T> for add path, use <P> for add polygons, use <Shift+P> for add polygons lasso, use <4> for select vertices, use <2> for insert vertex, use <1> for remove vertex', status='Ready', tooltip=Tooltip(visible=False, text=''), theme='dark', title='napari', mouse_over_canvas=False, mouse_move_callbacks=[], mouse_drag_callbacks=[], mouse_double_click_callbacks=[<function double_click_to_zoom at 0x14a677490>], mouse_wheel_callbacks=[<function dims_scroll at 0x14a676b00>], _persisted_mouse_event={}, _mouse_drag_gen={}, _mouse_wheel_gen={}, _keymap={<KeyBinding at 0x15df3eb60: M>: <function select_worm_region.<locals>.generate_mask at 0x15cea8790>})>\u001b[0m\n",
      "\u001b[1;32m    439\u001b[0m key \u001b[38;5;241m=\u001b[39m \u001b[38;5;28mstr\u001b[39m(key_bind\u001b[38;5;241m.\u001b[39mparts[\u001b[38;5;241m-\u001b[39m\u001b[38;5;241m1\u001b[39m]\u001b[38;5;241m.\u001b[39mkey)\n",
      "\u001b[1;32m    441\u001b[0m \u001b[38;5;28;01mif\u001b[39;00m inspect\u001b[38;5;241m.\u001b[39misgeneratorfunction(func):\n",
      "\n",
      "Cell \u001b[0;32mIn[6], line 43\u001b[0m, in \u001b[0;36mselect_worm_region.<locals>.generate_mask\u001b[0;34m(viewer=Viewer(camera=Camera(center=(0.0, 1023.5, 1021.5...m_region.<locals>.generate_mask at 0x15cea8790>}))\u001b[0m\n",
      "\u001b[1;32m     41\u001b[0m binary_mask \u001b[38;5;241m=\u001b[39m layer_c1\u001b[38;5;241m.\u001b[39mto_masks(img\u001b[38;5;241m.\u001b[39mshape)\n",
      "\u001b[1;32m     42\u001b[0m mask_path \u001b[38;5;241m=\u001b[39m os\u001b[38;5;241m.\u001b[39mpath\u001b[38;5;241m.\u001b[39mjoin(output_path, \u001b[38;5;124m'\u001b[39m\u001b[38;5;124mworm_masks\u001b[39m\u001b[38;5;124m'\u001b[39m, df\u001b[38;5;241m.\u001b[39mid\u001b[38;5;241m.\u001b[39miloc[index] \u001b[38;5;241m+\u001b[39m \u001b[38;5;124m'\u001b[39m\u001b[38;5;124m.tif\u001b[39m\u001b[38;5;124m'\u001b[39m)\n",
      "\u001b[0;32m---> 43\u001b[0m \u001b[43mOmeTiffWriter\u001b[49m\u001b[38;5;241;43m.\u001b[39;49m\u001b[43msave\u001b[49m\u001b[43m(\u001b[49m\u001b[43mbinary_mask\u001b[49m\u001b[38;5;241;43m.\u001b[39;49m\u001b[43mastype\u001b[49m\u001b[43m(\u001b[49m\u001b[43mnp\u001b[49m\u001b[38;5;241;43m.\u001b[39;49m\u001b[43muint8\u001b[49m\u001b[43m)\u001b[49m\u001b[43m,\u001b[49m\u001b[43m \u001b[49m\u001b[43mmask_path\u001b[49m\u001b[43m)\u001b[49m\n",
      "        binary_mask \u001b[0;34m= array([], dtype=float64)\u001b[0m\u001b[0;34m\n",
      "        \u001b[0mmask_path \u001b[0;34m= '/Volumes/external.data/MeisterLab/jsemple/lhinder/segementation_Kalyan/2025-04-03_bet1-mSG_wPM1353/worm_masks/bet1-mSG_2025-04-03_wPM1353_HS_012.tif'\u001b[0m\u001b[0;34m\n",
      "        \u001b[0mOmeTiffWriter \u001b[0;34m= <class 'bioio.writers.ome_tiff_writer.OmeTiffWriter'>\u001b[0m\u001b[0;34m\n",
      "        \u001b[0mnp \u001b[0;34m= <module 'numpy' from '/Users/semple/micromamba/envs/lhcellpose/lib/python3.10/site-packages/numpy/__init__.py'>\u001b[0m\n",
      "\u001b[1;32m     44\u001b[0m df\u001b[38;5;241m.\u001b[39mat[index, \u001b[38;5;124m'\u001b[39m\u001b[38;5;124mworm_mask_filepath\u001b[39m\u001b[38;5;124m'\u001b[39m] \u001b[38;5;241m=\u001b[39m mask_path\n",
      "\u001b[1;32m     45\u001b[0m df\u001b[38;5;241m.\u001b[39mat[index, \u001b[38;5;124m'\u001b[39m\u001b[38;5;124mworm_region\u001b[39m\u001b[38;5;124m'\u001b[39m] \u001b[38;5;241m=\u001b[39m dropdown_widget\u001b[38;5;241m.\u001b[39mcategory\u001b[38;5;241m.\u001b[39mvalue\n",
      "\n",
      "File \u001b[0;32m~/micromamba/envs/lhcellpose/lib/python3.10/site-packages/bioio/writers/ome_tiff_writer.py:247\u001b[0m, in \u001b[0;36mOmeTiffWriter.save\u001b[0;34m(data=[array([], dtype=uint8)], uri='/Volumes/external.data/MeisterLab/jsemple/lhinde...worm_masks/bet1-mSG_2025-04-03_wPM1353_HS_012.tif', dim_order=[None], ome_xml=None, channel_names=[None], image_name=[None], physical_pixel_sizes=[PhysicalPixelSizes(Z=None, Y=None, X=None)], channel_colors=[None], fs_kwargs={}, **kwargs={})\u001b[0m\n",
      "\u001b[1;32m    245\u001b[0m \u001b[38;5;66;03m# try to construct OME from params\u001b[39;00m\n",
      "\u001b[1;32m    246\u001b[0m \u001b[38;5;28;01mif\u001b[39;00m ome_xml \u001b[38;5;129;01mis\u001b[39;00m \u001b[38;5;28;01mNone\u001b[39;00m:\n",
      "\u001b[0;32m--> 247\u001b[0m     ome_xml \u001b[38;5;241m=\u001b[39m \u001b[43mOmeTiffWriter\u001b[49m\u001b[38;5;241;43m.\u001b[39;49m\u001b[43mbuild_ome\u001b[49m\u001b[43m(\u001b[49m\n",
      "        ome_xml \u001b[0;34m= None\u001b[0m\u001b[0;34m\n",
      "        \u001b[0mOmeTiffWriter \u001b[0;34m= <class 'bioio.writers.ome_tiff_writer.OmeTiffWriter'>\u001b[0m\u001b[0;34m\n",
      "        \u001b[0mdata \u001b[0;34m= [array([], dtype=uint8)]\u001b[0m\u001b[0;34m\n",
      "        \u001b[0mchannel_names \u001b[0;34m= [None]\u001b[0m\u001b[0;34m\n",
      "        \u001b[0mimage_name \u001b[0;34m= [None]\u001b[0m\u001b[0;34m\n",
      "        \u001b[0mphysical_pixel_sizes \u001b[0;34m= [PhysicalPixelSizes(Z=None, Y=None, X=None)]\u001b[0m\u001b[0;34m\n",
      "        \u001b[0mchannel_colors \u001b[0;34m= [None]\u001b[0m\u001b[0;34m\n",
      "        \u001b[0mdim_order \u001b[0;34m= [None]\u001b[0m\n",
      "\u001b[1;32m    248\u001b[0m \u001b[43m        \u001b[49m\u001b[43m[\u001b[49m\u001b[43mi\u001b[49m\u001b[38;5;241;43m.\u001b[39;49m\u001b[43mshape\u001b[49m\u001b[43m \u001b[49m\u001b[38;5;28;43;01mfor\u001b[39;49;00m\u001b[43m \u001b[49m\u001b[43mi\u001b[49m\u001b[43m \u001b[49m\u001b[38;5;129;43;01min\u001b[39;49;00m\u001b[43m \u001b[49m\u001b[43mdata\u001b[49m\u001b[43m]\u001b[49m\u001b[43m,\u001b[49m\n",
      "\u001b[1;32m    249\u001b[0m \u001b[43m        \u001b[49m\u001b[43m[\u001b[49m\u001b[43mi\u001b[49m\u001b[38;5;241;43m.\u001b[39;49m\u001b[43mdtype\u001b[49m\u001b[43m \u001b[49m\u001b[38;5;28;43;01mfor\u001b[39;49;00m\u001b[43m \u001b[49m\u001b[43mi\u001b[49m\u001b[43m \u001b[49m\u001b[38;5;129;43;01min\u001b[39;49;00m\u001b[43m \u001b[49m\u001b[43mdata\u001b[49m\u001b[43m]\u001b[49m\u001b[43m,\u001b[49m\n",
      "\u001b[1;32m    250\u001b[0m \u001b[43m        \u001b[49m\u001b[43mchannel_names\u001b[49m\u001b[38;5;241;43m=\u001b[39;49m\u001b[43mchannel_names\u001b[49m\u001b[43m,\u001b[49m\u001b[43m  \u001b[49m\u001b[38;5;66;43;03m# type: ignore\u001b[39;49;00m\n",
      "\u001b[1;32m    251\u001b[0m \u001b[43m        \u001b[49m\u001b[43mimage_name\u001b[49m\u001b[38;5;241;43m=\u001b[39;49m\u001b[43mimage_name\u001b[49m\u001b[43m,\u001b[49m\n",
      "\u001b[1;32m    252\u001b[0m \u001b[43m        \u001b[49m\u001b[43mphysical_pixel_sizes\u001b[49m\u001b[38;5;241;43m=\u001b[39;49m\u001b[43mphysical_pixel_sizes\u001b[49m\u001b[43m,\u001b[49m\n",
      "\u001b[1;32m    253\u001b[0m \u001b[43m        \u001b[49m\u001b[43mchannel_colors\u001b[49m\u001b[38;5;241;43m=\u001b[39;49m\u001b[43mchannel_colors\u001b[49m\u001b[43m,\u001b[49m\u001b[43m  \u001b[49m\u001b[38;5;66;43;03m# type: ignore\u001b[39;49;00m\n",
      "\u001b[1;32m    254\u001b[0m \u001b[43m        \u001b[49m\u001b[43mdimension_order\u001b[49m\u001b[38;5;241;43m=\u001b[39;49m\u001b[43mdim_order\u001b[49m\u001b[43m,\u001b[49m\n",
      "\u001b[1;32m    255\u001b[0m \u001b[43m    \u001b[49m\u001b[43m)\u001b[49m\n",
      "\u001b[1;32m    256\u001b[0m \u001b[38;5;66;03m# else if string, then construct OME from string\u001b[39;00m\n",
      "\u001b[1;32m    257\u001b[0m \u001b[38;5;28;01melif\u001b[39;00m \u001b[38;5;28misinstance\u001b[39m(ome_xml, \u001b[38;5;28mstr\u001b[39m):\n",
      "\n",
      "File \u001b[0;32m~/micromamba/envs/lhcellpose/lib/python3.10/site-packages/bioio/writers/ome_tiff_writer.py:652\u001b[0m, in \u001b[0;36mOmeTiffWriter.build_ome\u001b[0;34m(data_shapes=[(0,)], data_types=[dtype('uint8')], dimension_order=[None], channel_names=[None], image_name=[None], physical_pixel_sizes=[PhysicalPixelSizes(Z=None, Y=None, X=None)], channel_colors=[None])\u001b[0m\n",
      "\u001b[1;32m    649\u001b[0m tiff_plane_offset \u001b[38;5;241m=\u001b[39m \u001b[38;5;241m0\u001b[39m\n",
      "\u001b[1;32m    650\u001b[0m \u001b[38;5;28;01mfor\u001b[39;00m image_index \u001b[38;5;129;01min\u001b[39;00m \u001b[38;5;28mrange\u001b[39m(\u001b[38;5;28mlen\u001b[39m(data_shapes)):\n",
      "\u001b[1;32m    651\u001b[0m     \u001b[38;5;66;03m# correct the dimension_order for ome\u001b[39;00m\n",
      "\u001b[0;32m--> 652\u001b[0m     ome_dimension_order, is_rgb \u001b[38;5;241m=\u001b[39m \u001b[43mOmeTiffWriter\u001b[49m\u001b[38;5;241;43m.\u001b[39;49m\u001b[43m_resolve_OME_dimension_order\u001b[49m\u001b[43m(\u001b[49m\n",
      "        OmeTiffWriter \u001b[0;34m= <class 'bioio.writers.ome_tiff_writer.OmeTiffWriter'>\u001b[0m\u001b[0;34m\n",
      "        \u001b[0mimage_index \u001b[0;34m= 0\u001b[0m\u001b[0;34m\n",
      "        \u001b[0mdata_shapes \u001b[0;34m= [(0,)]\u001b[0m\u001b[0;34m\n",
      "        \u001b[0mdimension_order \u001b[0;34m= [None]\u001b[0m\u001b[0;34m\n",
      "        \u001b[0mdata_shapes[image_index] \u001b[0;34m= (0,)\u001b[0m\u001b[0;34m\n",
      "        \u001b[0mdimension_order[image_index] \u001b[0;34m= None\u001b[0m\n",
      "\u001b[1;32m    653\u001b[0m \u001b[43m        \u001b[49m\u001b[43mdata_shapes\u001b[49m\u001b[43m[\u001b[49m\u001b[43mimage_index\u001b[49m\u001b[43m]\u001b[49m\u001b[43m,\u001b[49m\u001b[43m \u001b[49m\u001b[43mdimension_order\u001b[49m\u001b[43m[\u001b[49m\u001b[43mimage_index\u001b[49m\u001b[43m]\u001b[49m\n",
      "\u001b[1;32m    654\u001b[0m \u001b[43m    \u001b[49m\u001b[43m)\u001b[49m\n",
      "\u001b[1;32m    655\u001b[0m     img \u001b[38;5;241m=\u001b[39m OmeTiffWriter\u001b[38;5;241m.\u001b[39m_build_ome_image(\n",
      "\u001b[1;32m    656\u001b[0m         image_index,\n",
      "\u001b[1;32m    657\u001b[0m         tiff_plane_offset,\n",
      "\u001b[0;32m   (...)\u001b[0m\n",
      "\u001b[1;32m    665\u001b[0m         channel_colors[image_index],\n",
      "\u001b[1;32m    666\u001b[0m     )\n",
      "\u001b[1;32m    667\u001b[0m     \u001b[38;5;66;03m# increment tiff_plane_offset for next image\u001b[39;00m\n",
      "\n",
      "File \u001b[0;32m~/micromamba/envs/lhcellpose/lib/python3.10/site-packages/bioio/writers/ome_tiff_writer.py:361\u001b[0m, in \u001b[0;36mOmeTiffWriter._resolve_OME_dimension_order\u001b[0;34m(shape=(0,), dimension_order='TCZYX')\u001b[0m\n",
      "\u001b[1;32m    356\u001b[0m     is_rgb \u001b[38;5;241m=\u001b[39m \u001b[38;5;28mbool\u001b[39m(\n",
      "\u001b[1;32m    357\u001b[0m         dimension_order[\u001b[38;5;241m-\u001b[39m\u001b[38;5;241m1\u001b[39m] \u001b[38;5;241m==\u001b[39m biob\u001b[38;5;241m.\u001b[39mdimensions\u001b[38;5;241m.\u001b[39mDimensionNames\u001b[38;5;241m.\u001b[39mSamples\n",
      "\u001b[1;32m    358\u001b[0m     ) \u001b[38;5;129;01mand\u001b[39;00m (shape[\u001b[38;5;241m-\u001b[39m\u001b[38;5;241m1\u001b[39m] \u001b[38;5;241m==\u001b[39m \u001b[38;5;241m3\u001b[39m \u001b[38;5;129;01mor\u001b[39;00m shape[\u001b[38;5;241m-\u001b[39m\u001b[38;5;241m1\u001b[39m] \u001b[38;5;241m==\u001b[39m \u001b[38;5;241m4\u001b[39m)\n",
      "\u001b[1;32m    360\u001b[0m \u001b[38;5;28;01mif\u001b[39;00m (ndims \u001b[38;5;241m>\u001b[39m \u001b[38;5;241m5\u001b[39m \u001b[38;5;129;01mand\u001b[39;00m \u001b[38;5;129;01mnot\u001b[39;00m is_rgb) \u001b[38;5;129;01mor\u001b[39;00m ndims \u001b[38;5;241m>\u001b[39m \u001b[38;5;241m6\u001b[39m \u001b[38;5;129;01mor\u001b[39;00m ndims \u001b[38;5;241m<\u001b[39m \u001b[38;5;241m2\u001b[39m:\n",
      "\u001b[0;32m--> 361\u001b[0m     \u001b[38;5;28;01mraise\u001b[39;00m \u001b[38;5;167;01mValueError\u001b[39;00m(\n",
      "        is_rgb \u001b[0;34m= False\u001b[0m\u001b[0;34m\n",
      "        \u001b[0mshape \u001b[0;34m= (0,)\u001b[0m\n",
      "\u001b[1;32m    362\u001b[0m         \u001b[38;5;124mf\u001b[39m\u001b[38;5;124m\"\u001b[39m\u001b[38;5;124mData array has unexpected number of dimensions: is_rgb = \u001b[39m\u001b[38;5;132;01m{\u001b[39;00mis_rgb\u001b[38;5;132;01m}\u001b[39;00m\u001b[38;5;124m \u001b[39m\u001b[38;5;124m\"\u001b[39m\n",
      "\u001b[1;32m    363\u001b[0m         \u001b[38;5;124mf\u001b[39m\u001b[38;5;124m\"\u001b[39m\u001b[38;5;124mand shape is \u001b[39m\u001b[38;5;132;01m{\u001b[39;00mshape\u001b[38;5;132;01m}\u001b[39;00m\u001b[38;5;124m\"\u001b[39m\n",
      "\u001b[1;32m    364\u001b[0m     )\n",
      "\u001b[1;32m    366\u001b[0m \u001b[38;5;66;03m# assert valid characters in dimension_order\u001b[39;00m\n",
      "\u001b[1;32m    367\u001b[0m \u001b[38;5;28;01mif\u001b[39;00m \u001b[38;5;129;01mnot\u001b[39;00m (\n",
      "\u001b[1;32m    368\u001b[0m     \u001b[38;5;28mall\u001b[39m(\n",
      "\u001b[1;32m    369\u001b[0m         d \u001b[38;5;129;01min\u001b[39;00m biob\u001b[38;5;241m.\u001b[39mdimensions\u001b[38;5;241m.\u001b[39mDEFAULT_DIMENSION_ORDER_LIST_WITH_SAMPLES\n",
      "\u001b[1;32m    370\u001b[0m         \u001b[38;5;28;01mfor\u001b[39;00m d \u001b[38;5;129;01min\u001b[39;00m dimension_order\n",
      "\u001b[1;32m    371\u001b[0m     )\n",
      "\u001b[1;32m    372\u001b[0m ):\n",
      "\n",
      "\u001b[0;31mValueError\u001b[0m: Data array has unexpected number of dimensions: is_rgb = False and shape is (0,)\n"
     ]
    },
    {
     "name": "stderr",
     "output_type": "stream",
     "text": [
      " 17%|█▋        | 8/47 [1:23:54<11:32:14, 1065.00s/it]"
     ]
    },
    {
     "name": "stdout",
     "output_type": "stream",
     "text": [
      "Mask saved to /Volumes/external.data/MeisterLab/jsemple/lhinder/segementation_Kalyan/2025-04-03_bet1-mSG_wPM1353/worm_masks/bet1-mSG_2025-04-03_wPM1353_HS_012.tif\n"
     ]
    },
    {
     "name": "stderr",
     "output_type": "stream",
     "text": [
      "/Users/semple/micromamba/envs/lhcellpose/lib/python3.10/site-packages/dask/tokenize.py:242: UserWarning: ND2File file not closed before garbage collection. Please use `with ND2File(...):` context or call `.close()`.\n",
      "  mod.loads(out, buffers=buffers)\n",
      " 19%|█▉        | 9/47 [1:26:07<8:10:00, 773.70s/it]  "
     ]
    },
    {
     "name": "stdout",
     "output_type": "stream",
     "text": [
      "Mask saved to /Volumes/external.data/MeisterLab/jsemple/lhinder/segementation_Kalyan/2025-04-03_bet1-mSG_wPM1353/worm_masks/bet1-mSG_2025-04-03_wPM1353_HS_013.tif\n"
     ]
    },
    {
     "name": "stderr",
     "output_type": "stream",
     "text": [
      "/Users/semple/micromamba/envs/lhcellpose/lib/python3.10/site-packages/dask/tokenize.py:242: UserWarning: ND2File file not closed before garbage collection. Please use `with ND2File(...):` context or call `.close()`.\n",
      "  mod.loads(out, buffers=buffers)\n",
      " 21%|██▏       | 10/47 [1:26:50<5:38:00, 548.11s/it]"
     ]
    },
    {
     "name": "stdout",
     "output_type": "stream",
     "text": [
      "Mask saved to /Volumes/external.data/MeisterLab/jsemple/lhinder/segementation_Kalyan/2025-04-03_bet1-mSG_wPM1353/worm_masks/bet1-mSG_2025-04-03_wPM1353_HS_014.tif\n"
     ]
    },
    {
     "name": "stderr",
     "output_type": "stream",
     "text": [
      "/Users/semple/micromamba/envs/lhcellpose/lib/python3.10/site-packages/dask/tokenize.py:242: UserWarning: ND2File file not closed before garbage collection. Please use `with ND2File(...):` context or call `.close()`.\n",
      "  mod.loads(out, buffers=buffers)\n",
      " 23%|██▎       | 11/47 [1:27:41<3:57:35, 395.98s/it]"
     ]
    },
    {
     "name": "stdout",
     "output_type": "stream",
     "text": [
      "Mask saved to /Volumes/external.data/MeisterLab/jsemple/lhinder/segementation_Kalyan/2025-04-03_bet1-mSG_wPM1353/worm_masks/bet1-mSG_2025-04-03_wPM1353_HS_015.tif\n"
     ]
    },
    {
     "name": "stderr",
     "output_type": "stream",
     "text": [
      "/Users/semple/micromamba/envs/lhcellpose/lib/python3.10/site-packages/dask/tokenize.py:242: UserWarning: ND2File file not closed before garbage collection. Please use `with ND2File(...):` context or call `.close()`.\n",
      "  mod.loads(out, buffers=buffers)\n",
      " 26%|██▌       | 12/47 [1:28:27<2:48:56, 289.60s/it]"
     ]
    },
    {
     "name": "stdout",
     "output_type": "stream",
     "text": [
      "Mask saved to /Volumes/external.data/MeisterLab/jsemple/lhinder/segementation_Kalyan/2025-04-03_bet1-mSG_wPM1353/worm_masks/bet1-mSG_2025-04-03_wPM1353_HS_016.tif\n"
     ]
    },
    {
     "name": "stderr",
     "output_type": "stream",
     "text": [
      "/Users/semple/micromamba/envs/lhcellpose/lib/python3.10/site-packages/dask/tokenize.py:242: UserWarning: ND2File file not closed before garbage collection. Please use `with ND2File(...):` context or call `.close()`.\n",
      "  mod.loads(out, buffers=buffers)\n",
      " 28%|██▊       | 13/47 [1:29:42<2:07:10, 224.41s/it]"
     ]
    },
    {
     "name": "stdout",
     "output_type": "stream",
     "text": [
      "Mask saved to /Volumes/external.data/MeisterLab/jsemple/lhinder/segementation_Kalyan/2025-04-03_bet1-mSG_wPM1353/worm_masks/bet1-mSG_2025-04-03_wPM1353_HS_017.tif\n"
     ]
    },
    {
     "name": "stderr",
     "output_type": "stream",
     "text": [
      "/Users/semple/micromamba/envs/lhcellpose/lib/python3.10/site-packages/dask/tokenize.py:242: UserWarning: ND2File file not closed before garbage collection. Please use `with ND2File(...):` context or call `.close()`.\n",
      "  mod.loads(out, buffers=buffers)\n",
      " 30%|██▉       | 14/47 [1:30:29<1:33:56, 170.79s/it]"
     ]
    },
    {
     "name": "stdout",
     "output_type": "stream",
     "text": [
      "Mask saved to /Volumes/external.data/MeisterLab/jsemple/lhinder/segementation_Kalyan/2025-04-03_bet1-mSG_wPM1353/worm_masks/bet1-mSG_2025-04-03_wPM1353_HS_018.tif\n"
     ]
    },
    {
     "name": "stderr",
     "output_type": "stream",
     "text": [
      "/Users/semple/micromamba/envs/lhcellpose/lib/python3.10/site-packages/dask/tokenize.py:242: UserWarning: ND2File file not closed before garbage collection. Please use `with ND2File(...):` context or call `.close()`.\n",
      "  mod.loads(out, buffers=buffers)\n",
      " 32%|███▏      | 15/47 [1:31:33<1:13:59, 138.74s/it]"
     ]
    },
    {
     "name": "stdout",
     "output_type": "stream",
     "text": [
      "Mask saved to /Volumes/external.data/MeisterLab/jsemple/lhinder/segementation_Kalyan/2025-04-03_bet1-mSG_wPM1353/worm_masks/bet1-mSG_2025-04-03_wPM1353_HS_019.tif\n"
     ]
    },
    {
     "name": "stderr",
     "output_type": "stream",
     "text": [
      "/Users/semple/micromamba/envs/lhcellpose/lib/python3.10/site-packages/dask/tokenize.py:242: UserWarning: ND2File file not closed before garbage collection. Please use `with ND2File(...):` context or call `.close()`.\n",
      "  mod.loads(out, buffers=buffers)\n",
      " 34%|███▍      | 16/47 [1:34:17<1:15:36, 146.33s/it]"
     ]
    },
    {
     "name": "stdout",
     "output_type": "stream",
     "text": [
      "Mask saved to /Volumes/external.data/MeisterLab/jsemple/lhinder/segementation_Kalyan/2025-04-03_bet1-mSG_wPM1353/worm_masks/bet1-mSG_2025-04-03_wPM1353_HS_020.tif\n"
     ]
    },
    {
     "name": "stderr",
     "output_type": "stream",
     "text": [
      "/Users/semple/micromamba/envs/lhcellpose/lib/python3.10/site-packages/dask/tokenize.py:242: UserWarning: ND2File file not closed before garbage collection. Please use `with ND2File(...):` context or call `.close()`.\n",
      "  mod.loads(out, buffers=buffers)\n",
      " 36%|███▌      | 17/47 [1:36:15<1:08:52, 137.76s/it]"
     ]
    },
    {
     "name": "stdout",
     "output_type": "stream",
     "text": [
      "Mask saved to /Volumes/external.data/MeisterLab/jsemple/lhinder/segementation_Kalyan/2025-04-03_bet1-mSG_wPM1353/worm_masks/bet1-mSG_2025-04-03_wPM1353_HS_021.tif\n"
     ]
    },
    {
     "name": "stderr",
     "output_type": "stream",
     "text": [
      "/Users/semple/micromamba/envs/lhcellpose/lib/python3.10/site-packages/dask/tokenize.py:242: UserWarning: ND2File file not closed before garbage collection. Please use `with ND2File(...):` context or call `.close()`.\n",
      "  mod.loads(out, buffers=buffers)\n",
      " 38%|███▊      | 18/47 [1:37:13<55:00, 113.80s/it]  "
     ]
    },
    {
     "name": "stdout",
     "output_type": "stream",
     "text": [
      "Mask saved to /Volumes/external.data/MeisterLab/jsemple/lhinder/segementation_Kalyan/2025-04-03_bet1-mSG_wPM1353/worm_masks/bet1-mSG_2025-04-03_wPM1353_HS_022.tif\n"
     ]
    },
    {
     "name": "stderr",
     "output_type": "stream",
     "text": [
      "/Users/semple/micromamba/envs/lhcellpose/lib/python3.10/site-packages/dask/tokenize.py:242: UserWarning: ND2File file not closed before garbage collection. Please use `with ND2File(...):` context or call `.close()`.\n",
      "  mod.loads(out, buffers=buffers)\n",
      " 40%|████      | 19/47 [1:38:02<44:05, 94.49s/it] "
     ]
    },
    {
     "name": "stdout",
     "output_type": "stream",
     "text": [
      "Mask saved to /Volumes/external.data/MeisterLab/jsemple/lhinder/segementation_Kalyan/2025-04-03_bet1-mSG_wPM1353/worm_masks/bet1-mSG_2025-04-03_wPM1353_HS_023.tif\n"
     ]
    },
    {
     "name": "stderr",
     "output_type": "stream",
     "text": [
      "/Users/semple/micromamba/envs/lhcellpose/lib/python3.10/site-packages/dask/tokenize.py:242: UserWarning: ND2File file not closed before garbage collection. Please use `with ND2File(...):` context or call `.close()`.\n",
      "  mod.loads(out, buffers=buffers)\n",
      " 43%|████▎     | 20/47 [1:39:18<39:55, 88.72s/it]"
     ]
    },
    {
     "name": "stdout",
     "output_type": "stream",
     "text": [
      "Mask saved to /Volumes/external.data/MeisterLab/jsemple/lhinder/segementation_Kalyan/2025-04-03_bet1-mSG_wPM1353/worm_masks/bet1-mSG_2025-04-03_wPM1353_HS_024.tif\n"
     ]
    },
    {
     "name": "stderr",
     "output_type": "stream",
     "text": [
      "/Users/semple/micromamba/envs/lhcellpose/lib/python3.10/site-packages/dask/tokenize.py:242: UserWarning: ND2File file not closed before garbage collection. Please use `with ND2File(...):` context or call `.close()`.\n",
      "  mod.loads(out, buffers=buffers)\n",
      " 45%|████▍     | 21/47 [1:41:44<45:58, 106.11s/it]"
     ]
    },
    {
     "name": "stdout",
     "output_type": "stream",
     "text": [
      "Mask saved to /Volumes/external.data/MeisterLab/jsemple/lhinder/segementation_Kalyan/2025-04-03_bet1-mSG_wPM1353/worm_masks/bet1-mSG_2025-04-03_wPM1353_HS_025.tif\n"
     ]
    },
    {
     "name": "stderr",
     "output_type": "stream",
     "text": [
      "/Users/semple/micromamba/envs/lhcellpose/lib/python3.10/site-packages/dask/tokenize.py:242: UserWarning: ND2File file not closed before garbage collection. Please use `with ND2File(...):` context or call `.close()`.\n",
      "  mod.loads(out, buffers=buffers)\n",
      " 47%|████▋     | 22/47 [1:43:58<47:39, 114.39s/it]"
     ]
    },
    {
     "name": "stdout",
     "output_type": "stream",
     "text": [
      "Mask saved to /Volumes/external.data/MeisterLab/jsemple/lhinder/segementation_Kalyan/2025-04-03_bet1-mSG_wPM1353/worm_masks/bet1-mSG_2025-04-03_wPM1353_nHS_001.tif\n"
     ]
    },
    {
     "name": "stderr",
     "output_type": "stream",
     "text": [
      "/Users/semple/micromamba/envs/lhcellpose/lib/python3.10/site-packages/dask/tokenize.py:242: UserWarning: ND2File file not closed before garbage collection. Please use `with ND2File(...):` context or call `.close()`.\n",
      "  mod.loads(out, buffers=buffers)\n",
      " 49%|████▉     | 23/47 [1:45:02<39:44, 99.35s/it] "
     ]
    },
    {
     "name": "stdout",
     "output_type": "stream",
     "text": [
      "Mask saved to /Volumes/external.data/MeisterLab/jsemple/lhinder/segementation_Kalyan/2025-04-03_bet1-mSG_wPM1353/worm_masks/bet1-mSG_2025-04-03_wPM1353_nHS_002.tif\n"
     ]
    },
    {
     "name": "stderr",
     "output_type": "stream",
     "text": [
      "/Users/semple/micromamba/envs/lhcellpose/lib/python3.10/site-packages/dask/tokenize.py:242: UserWarning: ND2File file not closed before garbage collection. Please use `with ND2File(...):` context or call `.close()`.\n",
      "  mod.loads(out, buffers=buffers)\n",
      " 51%|█████     | 24/47 [2:12:32<3:36:26, 564.65s/it]"
     ]
    },
    {
     "name": "stdout",
     "output_type": "stream",
     "text": [
      "Mask saved to /Volumes/external.data/MeisterLab/jsemple/lhinder/segementation_Kalyan/2025-04-03_bet1-mSG_wPM1353/worm_masks/bet1-mSG_2025-04-03_wPM1353_nHS_003.tif\n"
     ]
    },
    {
     "name": "stderr",
     "output_type": "stream",
     "text": [
      "/Users/semple/micromamba/envs/lhcellpose/lib/python3.10/site-packages/dask/tokenize.py:242: UserWarning: ND2File file not closed before garbage collection. Please use `with ND2File(...):` context or call `.close()`.\n",
      "  mod.loads(out, buffers=buffers)\n",
      " 53%|█████▎    | 25/47 [2:13:52<2:33:41, 419.14s/it]"
     ]
    },
    {
     "name": "stdout",
     "output_type": "stream",
     "text": [
      "Mask saved to /Volumes/external.data/MeisterLab/jsemple/lhinder/segementation_Kalyan/2025-04-03_bet1-mSG_wPM1353/worm_masks/bet1-mSG_2025-04-03_wPM1353_nHS_004.tif\n"
     ]
    },
    {
     "name": "stderr",
     "output_type": "stream",
     "text": [
      "/Users/semple/micromamba/envs/lhcellpose/lib/python3.10/site-packages/dask/tokenize.py:242: UserWarning: ND2File file not closed before garbage collection. Please use `with ND2File(...):` context or call `.close()`.\n",
      "  mod.loads(out, buffers=buffers)\n",
      " 55%|█████▌    | 26/47 [2:16:07<1:56:50, 333.84s/it]"
     ]
    },
    {
     "name": "stdout",
     "output_type": "stream",
     "text": [
      "Mask saved to /Volumes/external.data/MeisterLab/jsemple/lhinder/segementation_Kalyan/2025-04-03_bet1-mSG_wPM1353/worm_masks/bet1-mSG_2025-04-03_wPM1353_nHS_005.tif\n"
     ]
    },
    {
     "name": "stderr",
     "output_type": "stream",
     "text": [
      "/Users/semple/micromamba/envs/lhcellpose/lib/python3.10/site-packages/dask/tokenize.py:242: UserWarning: ND2File file not closed before garbage collection. Please use `with ND2File(...):` context or call `.close()`.\n",
      "  mod.loads(out, buffers=buffers)\n",
      " 57%|█████▋    | 27/47 [2:33:36<3:02:48, 548.42s/it]"
     ]
    },
    {
     "name": "stdout",
     "output_type": "stream",
     "text": [
      "Mask saved to /Volumes/external.data/MeisterLab/jsemple/lhinder/segementation_Kalyan/2025-04-03_bet1-mSG_wPM1353/worm_masks/bet1-mSG_2025-04-03_wPM1353_nHS_006.tif\n"
     ]
    },
    {
     "name": "stderr",
     "output_type": "stream",
     "text": [
      "/Users/semple/micromamba/envs/lhcellpose/lib/python3.10/site-packages/dask/tokenize.py:242: UserWarning: ND2File file not closed before garbage collection. Please use `with ND2File(...):` context or call `.close()`.\n",
      "  mod.loads(out, buffers=buffers)\n"
     ]
    },
    {
     "name": "stdout",
     "output_type": "stream",
     "text": [
      "\u001b[0;31m---------------------------------------------------------------------------\u001b[0m\n",
      "\u001b[0;31mValueError\u001b[0m                                Traceback (most recent call last)\n",
      "File \u001b[0;32m~/micromamba/envs/lhcellpose/lib/python3.10/site-packages/napari/_qt/qt_viewer.py:1045\u001b[0m, in \u001b[0;36mQtViewer.keyPressEvent\u001b[0;34m(self=<napari._qt.qt_viewer.QtViewer object>, event=<PyQt5.QtGui.QKeyEvent object>)\u001b[0m\n",
      "\u001b[1;32m   1037\u001b[0m \u001b[38;5;28;01mdef\u001b[39;00m \u001b[38;5;21mkeyPressEvent\u001b[39m(\u001b[38;5;28mself\u001b[39m, event):\n",
      "\u001b[1;32m   1038\u001b[0m \u001b[38;5;250m    \u001b[39m\u001b[38;5;124;03m\"\"\"Called whenever a key is pressed.\u001b[39;00m\n",
      "\u001b[1;32m   1039\u001b[0m \n",
      "\u001b[1;32m   1040\u001b[0m \u001b[38;5;124;03m    Parameters\u001b[39;00m\n",
      "\u001b[0;32m   (...)\u001b[0m\n",
      "\u001b[1;32m   1043\u001b[0m \u001b[38;5;124;03m        Event from the Qt context.\u001b[39;00m\n",
      "\u001b[1;32m   1044\u001b[0m \u001b[38;5;124;03m    \"\"\"\u001b[39;00m\n",
      "\u001b[0;32m-> 1045\u001b[0m     \u001b[38;5;28;43mself\u001b[39;49m\u001b[38;5;241;43m.\u001b[39;49m\u001b[43mcanvas\u001b[49m\u001b[38;5;241;43m.\u001b[39;49m\u001b[43m_scene_canvas\u001b[49m\u001b[38;5;241;43m.\u001b[39;49m\u001b[43m_backend\u001b[49m\u001b[38;5;241;43m.\u001b[39;49m\u001b[43m_keyEvent\u001b[49m\u001b[43m(\u001b[49m\n",
      "        self.canvas._scene_canvas._backend \u001b[0;34m= <vispy.app.backends._qt.CanvasBackendDesktop object at 0x165322f80>\u001b[0m\u001b[0;34m\n",
      "        \u001b[0mself.canvas._scene_canvas \u001b[0;34m= <NapariSceneCanvas (PyQt5) at 0x1653292d0>\u001b[0m\u001b[0;34m\n",
      "        \u001b[0mself.canvas \u001b[0;34m= <napari._vispy.canvas.VispyCanvas object at 0x165329870>\u001b[0m\u001b[0;34m\n",
      "        \u001b[0mself \u001b[0;34m= <napari._qt.qt_viewer.QtViewer object at 0x16535beb0>\u001b[0m\u001b[0;34m\n",
      "        \u001b[0mself.canvas._scene_canvas.events.key_press \u001b[0;34m= <vispy.util.event.EventEmitter object at 0x1641500d0>\u001b[0m\u001b[0;34m\n",
      "        \u001b[0mevent \u001b[0;34m= <PyQt5.QtGui.QKeyEvent object at 0x15c0bf250>\u001b[0m\u001b[0;34m\n",
      "        \u001b[0mself.canvas._scene_canvas.events \u001b[0;34m= <vispy.util.event.EmitterGroup object at 0x164152470>\u001b[0m\n",
      "\u001b[1;32m   1046\u001b[0m \u001b[43m        \u001b[49m\u001b[38;5;28;43mself\u001b[39;49m\u001b[38;5;241;43m.\u001b[39;49m\u001b[43mcanvas\u001b[49m\u001b[38;5;241;43m.\u001b[39;49m\u001b[43m_scene_canvas\u001b[49m\u001b[38;5;241;43m.\u001b[39;49m\u001b[43mevents\u001b[49m\u001b[38;5;241;43m.\u001b[39;49m\u001b[43mkey_press\u001b[49m\u001b[43m,\u001b[49m\u001b[43m \u001b[49m\u001b[43mevent\u001b[49m\n",
      "\u001b[1;32m   1047\u001b[0m \u001b[43m    \u001b[49m\u001b[43m)\u001b[49m\n",
      "\u001b[1;32m   1048\u001b[0m     event\u001b[38;5;241m.\u001b[39maccept()\n",
      "\n",
      "File \u001b[0;32m~/micromamba/envs/lhcellpose/lib/python3.10/site-packages/vispy/app/backends/_qt.py:647\u001b[0m, in \u001b[0;36mQtBaseCanvasBackend._keyEvent\u001b[0;34m(self=<vispy.app.backends._qt.CanvasBackendDesktop object>, func=<vispy.util.event.EventEmitter object>, ev=<PyQt5.QtGui.QKeyEvent object>)\u001b[0m\n",
      "\u001b[1;32m    645\u001b[0m     key \u001b[38;5;241m=\u001b[39m \u001b[38;5;28;01mNone\u001b[39;00m\n",
      "\u001b[1;32m    646\u001b[0m mod \u001b[38;5;241m=\u001b[39m \u001b[38;5;28mself\u001b[39m\u001b[38;5;241m.\u001b[39m_modifiers(ev)\n",
      "\u001b[0;32m--> 647\u001b[0m \u001b[43mfunc\u001b[49m\u001b[43m(\u001b[49m\u001b[43mnative\u001b[49m\u001b[38;5;241;43m=\u001b[39;49m\u001b[43mev\u001b[49m\u001b[43m,\u001b[49m\u001b[43m \u001b[49m\u001b[43mkey\u001b[49m\u001b[38;5;241;43m=\u001b[39;49m\u001b[43mkey\u001b[49m\u001b[43m,\u001b[49m\u001b[43m \u001b[49m\u001b[43mtext\u001b[49m\u001b[38;5;241;43m=\u001b[39;49m\u001b[38;5;28;43mstr\u001b[39;49m\u001b[43m(\u001b[49m\u001b[43mev\u001b[49m\u001b[38;5;241;43m.\u001b[39;49m\u001b[43mtext\u001b[49m\u001b[43m(\u001b[49m\u001b[43m)\u001b[49m\u001b[43m)\u001b[49m\u001b[43m,\u001b[49m\u001b[43m \u001b[49m\u001b[43mmodifiers\u001b[49m\u001b[38;5;241;43m=\u001b[39;49m\u001b[43mmod\u001b[49m\u001b[43m)\u001b[49m\n",
      "        key \u001b[0;34m= <Key 'M'>\u001b[0m\u001b[0;34m\n",
      "        \u001b[0mmod \u001b[0;34m= ()\u001b[0m\u001b[0;34m\n",
      "        \u001b[0mev \u001b[0;34m= <PyQt5.QtGui.QKeyEvent object at 0x15c0bf250>\u001b[0m\u001b[0;34m\n",
      "        \u001b[0mfunc \u001b[0;34m= <vispy.util.event.EventEmitter object at 0x1641500d0>\u001b[0m\n",
      "\n",
      "File \u001b[0;32m~/micromamba/envs/lhcellpose/lib/python3.10/site-packages/vispy/util/event.py:453\u001b[0m, in \u001b[0;36mEventEmitter.__call__\u001b[0;34m(self=<vispy.util.event.EventEmitter object>, *args=(), **kwargs={'key': <Key 'M'>, 'modifiers': (), 'native': <PyQt5.QtGui.QKeyEvent object>, 'text': 'm'})\u001b[0m\n",
      "\u001b[1;32m    450\u001b[0m \u001b[38;5;28;01mif\u001b[39;00m \u001b[38;5;28mself\u001b[39m\u001b[38;5;241m.\u001b[39m_emitting \u001b[38;5;241m>\u001b[39m \u001b[38;5;241m1\u001b[39m:\n",
      "\u001b[1;32m    451\u001b[0m     \u001b[38;5;28;01mraise\u001b[39;00m \u001b[38;5;167;01mRuntimeError\u001b[39;00m(\u001b[38;5;124m'\u001b[39m\u001b[38;5;124mEventEmitter loop detected!\u001b[39m\u001b[38;5;124m'\u001b[39m)\n",
      "\u001b[0;32m--> 453\u001b[0m \u001b[38;5;28;43mself\u001b[39;49m\u001b[38;5;241;43m.\u001b[39;49m\u001b[43m_invoke_callback\u001b[49m\u001b[43m(\u001b[49m\u001b[43mcb\u001b[49m\u001b[43m,\u001b[49m\u001b[43m \u001b[49m\u001b[43mevent\u001b[49m\u001b[43m)\u001b[49m\n",
      "        event \u001b[0;34m= <KeyEvent blocked=False handled=False key=<Key 'M'> modifiers=() native=<PyQt5.QtGui.QKeyEvent object at 0x15c0bf250> source=None sources=[] text=m type=key_press>\u001b[0m\u001b[0;34m\n",
      "        \u001b[0mself \u001b[0;34m= <vispy.util.event.EventEmitter object at 0x1641500d0>\u001b[0m\u001b[0;34m\n",
      "        \u001b[0mcb \u001b[0;34m= <bound method KeymapHandler.on_key_press of <napari.utils.key_bindings.KeymapHandler object at 0x16532bb50>>\u001b[0m\n",
      "\u001b[1;32m    454\u001b[0m \u001b[38;5;28;01mif\u001b[39;00m event\u001b[38;5;241m.\u001b[39mblocked:\n",
      "\u001b[1;32m    455\u001b[0m     \u001b[38;5;28;01mbreak\u001b[39;00m\n",
      "\n",
      "File \u001b[0;32m~/micromamba/envs/lhcellpose/lib/python3.10/site-packages/vispy/util/event.py:471\u001b[0m, in \u001b[0;36mEventEmitter._invoke_callback\u001b[0;34m(self=<vispy.util.event.EventEmitter object>, cb=<bound method KeymapHandler.on_key_press of <napari.utils.key_bindings.KeymapHandler object>>, event=<KeyEvent blocked=False handled=False key=<Key '...50> source=None sources=[] text=m type=key_press>)\u001b[0m\n",
      "\u001b[1;32m    469\u001b[0m     cb(event)\n",
      "\u001b[1;32m    470\u001b[0m \u001b[38;5;28;01mexcept\u001b[39;00m \u001b[38;5;167;01mException\u001b[39;00m:\n",
      "\u001b[0;32m--> 471\u001b[0m     \u001b[43m_handle_exception\u001b[49m\u001b[43m(\u001b[49m\u001b[38;5;28;43mself\u001b[39;49m\u001b[38;5;241;43m.\u001b[39;49m\u001b[43mignore_callback_errors\u001b[49m\u001b[43m,\u001b[49m\n",
      "        self \u001b[0;34m= <vispy.util.event.EventEmitter object at 0x1641500d0>\u001b[0m\u001b[0;34m\n",
      "        \u001b[0mcb \u001b[0;34m= <bound method KeymapHandler.on_key_press of <napari.utils.key_bindings.KeymapHandler object at 0x16532bb50>>\u001b[0m\u001b[0;34m\n",
      "        \u001b[0mevent \u001b[0;34m= <KeyEvent blocked=False handled=False key=<Key 'M'> modifiers=() native=<PyQt5.QtGui.QKeyEvent object at 0x15c0bf250> source=None sources=[] text=m type=key_press>\u001b[0m\u001b[0;34m\n",
      "        \u001b[0m(cb, event) \u001b[0;34m= (<bound method KeymapHandler.on_key_press of <napari.utils.key_bindings.KeymapHandler object at 0x16532bb50>>, <KeyEvent blocked=False handled=False key=<Key 'M'> modifiers=() native=<PyQt5.QtGui.QKeyEvent object at 0x15c0bf250> source=None sources=[] text=m type=key_press>)\u001b[0m\n",
      "\u001b[1;32m    472\u001b[0m \u001b[43m                      \u001b[49m\u001b[38;5;28;43mself\u001b[39;49m\u001b[38;5;241;43m.\u001b[39;49m\u001b[43mprint_callback_errors\u001b[49m\u001b[43m,\u001b[49m\n",
      "\u001b[1;32m    473\u001b[0m \u001b[43m                      \u001b[49m\u001b[38;5;28;43mself\u001b[39;49m\u001b[43m,\u001b[49m\u001b[43m \u001b[49m\u001b[43mcb_event\u001b[49m\u001b[38;5;241;43m=\u001b[39;49m\u001b[43m(\u001b[49m\u001b[43mcb\u001b[49m\u001b[43m,\u001b[49m\u001b[43m \u001b[49m\u001b[43mevent\u001b[49m\u001b[43m)\u001b[49m\u001b[43m)\u001b[49m\n",
      "\n",
      "File \u001b[0;32m~/micromamba/envs/lhcellpose/lib/python3.10/site-packages/vispy/util/event.py:469\u001b[0m, in \u001b[0;36mEventEmitter._invoke_callback\u001b[0;34m(self=<vispy.util.event.EventEmitter object>, cb=<bound method KeymapHandler.on_key_press of <napari.utils.key_bindings.KeymapHandler object>>, event=<KeyEvent blocked=False handled=False key=<Key '...50> source=None sources=[] text=m type=key_press>)\u001b[0m\n",
      "\u001b[1;32m    467\u001b[0m \u001b[38;5;28;01mdef\u001b[39;00m \u001b[38;5;21m_invoke_callback\u001b[39m(\u001b[38;5;28mself\u001b[39m, cb, event):\n",
      "\u001b[1;32m    468\u001b[0m     \u001b[38;5;28;01mtry\u001b[39;00m:\n",
      "\u001b[0;32m--> 469\u001b[0m         \u001b[43mcb\u001b[49m\u001b[43m(\u001b[49m\u001b[43mevent\u001b[49m\u001b[43m)\u001b[49m\n",
      "        cb \u001b[0;34m= <bound method KeymapHandler.on_key_press of <napari.utils.key_bindings.KeymapHandler object at 0x16532bb50>>\u001b[0m\u001b[0;34m\n",
      "        \u001b[0mevent \u001b[0;34m= <KeyEvent blocked=False handled=False key=<Key 'M'> modifiers=() native=<PyQt5.QtGui.QKeyEvent object at 0x15c0bf250> source=None sources=[] text=m type=key_press>\u001b[0m\n",
      "\u001b[1;32m    470\u001b[0m     \u001b[38;5;28;01mexcept\u001b[39;00m \u001b[38;5;167;01mException\u001b[39;00m:\n",
      "\u001b[1;32m    471\u001b[0m         _handle_exception(\u001b[38;5;28mself\u001b[39m\u001b[38;5;241m.\u001b[39mignore_callback_errors,\n",
      "\u001b[1;32m    472\u001b[0m                           \u001b[38;5;28mself\u001b[39m\u001b[38;5;241m.\u001b[39mprint_callback_errors,\n",
      "\u001b[1;32m    473\u001b[0m                           \u001b[38;5;28mself\u001b[39m, cb_event\u001b[38;5;241m=\u001b[39m(cb, event))\n",
      "\n",
      "File \u001b[0;32m~/micromamba/envs/lhcellpose/lib/python3.10/site-packages/napari/utils/key_bindings.py:515\u001b[0m, in \u001b[0;36mKeymapHandler.on_key_press\u001b[0;34m(self=<napari.utils.key_bindings.KeymapHandler object>, event=<KeyEvent blocked=False handled=False key=<Key '...50> source=None sources=[] text=m type=key_press>)\u001b[0m\n",
      "\u001b[1;32m    505\u001b[0m \u001b[38;5;28;01mif\u001b[39;00m (\n",
      "\u001b[1;32m    506\u001b[0m     event\u001b[38;5;241m.\u001b[39mnative \u001b[38;5;129;01mis\u001b[39;00m \u001b[38;5;129;01mnot\u001b[39;00m \u001b[38;5;28;01mNone\u001b[39;00m\n",
      "\u001b[1;32m    507\u001b[0m     \u001b[38;5;129;01mand\u001b[39;00m event\u001b[38;5;241m.\u001b[39mnative\u001b[38;5;241m.\u001b[39misAutoRepeat()\n",
      "\u001b[0;32m   (...)\u001b[0m\n",
      "\u001b[1;32m    511\u001b[0m     \u001b[38;5;66;03m# unless the combo being held down is one of the autorepeatables or\u001b[39;00m\n",
      "\u001b[1;32m    512\u001b[0m     \u001b[38;5;66;03m# one of the navigation keys (helps with scrolling).\u001b[39;00m\n",
      "\u001b[1;32m    513\u001b[0m     \u001b[38;5;28;01mreturn\u001b[39;00m\n",
      "\u001b[0;32m--> 515\u001b[0m \u001b[38;5;28;43mself\u001b[39;49m\u001b[38;5;241;43m.\u001b[39;49m\u001b[43mpress_key\u001b[49m\u001b[43m(\u001b[49m\u001b[43mkb\u001b[49m\u001b[43m)\u001b[49m\n",
      "        kb \u001b[0;34m= <KeyBinding at 0x15c5ccfd0: M>\u001b[0m\u001b[0;34m\n",
      "        \u001b[0mself \u001b[0;34m= <napari.utils.key_bindings.KeymapHandler object at 0x16532bb50>\u001b[0m\n",
      "\n",
      "File \u001b[0;32m~/micromamba/envs/lhcellpose/lib/python3.10/site-packages/napari/utils/key_bindings.py:437\u001b[0m, in \u001b[0;36mKeymapHandler.press_key\u001b[0;34m(self=<napari.utils.key_bindings.KeymapHandler object>, key_bind=<KeyBinding at 0x15c5ccfd0: M>)\u001b[0m\n",
      "\u001b[1;32m    428\u001b[0m \u001b[38;5;28;01mif\u001b[39;00m \u001b[38;5;129;01mnot\u001b[39;00m \u001b[38;5;28mcallable\u001b[39m(func):\n",
      "\u001b[1;32m    429\u001b[0m     \u001b[38;5;28;01mraise\u001b[39;00m \u001b[38;5;167;01mTypeError\u001b[39;00m(\n",
      "\u001b[1;32m    430\u001b[0m         trans\u001b[38;5;241m.\u001b[39m_(\n",
      "\u001b[1;32m    431\u001b[0m             \u001b[38;5;124m'\u001b[39m\u001b[38;5;124mexpected \u001b[39m\u001b[38;5;132;01m{func}\u001b[39;00m\u001b[38;5;124m to be callable\u001b[39m\u001b[38;5;124m'\u001b[39m,\n",
      "\u001b[0;32m   (...)\u001b[0m\n",
      "\u001b[1;32m    434\u001b[0m         )\n",
      "\u001b[1;32m    435\u001b[0m     )\n",
      "\u001b[0;32m--> 437\u001b[0m generator_or_callback \u001b[38;5;241m=\u001b[39m \u001b[43mfunc\u001b[49m\u001b[43m(\u001b[49m\u001b[43m)\u001b[49m\n",
      "        func \u001b[0;34m= <bound method select_worm_region.<locals>.generate_mask of Viewer(camera=Camera(center=(0.0, 1023.5, 1021.5), zoom=0.36670743639921716, angles=(0.0, 0.0, 90.0), perspective=0.0, mouse_pan=False, mouse_zoom=True), cursor=Cursor(position=(1.0, 1.0), scaled=True, style=<CursorStyle.POINTING: 'pointing'>, size=1.0), dims=Dims(ndim=2, ndisplay=2, order=(0, 1), axis_labels=('0', '1'), rollable=(True, True), range=(RangeTuple(start=0.0, stop=2047.0, step=1.0), RangeTuple(start=0.0, stop=2043.0, step=1.0)), margin_left=(0.0, 0.0), margin_right=(0.0, 0.0), point=(1023.0, 1021.0), last_used=0), grid=GridCanvas(stride=1, shape=(-1, -1), enabled=False), layers=[<Image layer 'Image' at 0x169f1b6a0>, <Shapes layer 'Worm' at 0x17fe90880>], help='use <6> for pan/zoom, use <7> for transform, use <R> for add rectangles, use <E> for add ellipses, use <L> for add lines, use <T> for add path, use <P> for add polygons, use <Shift+P> for add polygons lasso, use <4> for select vertices, use <2> for insert vertex, use <1> for remove vertex', status='Ready', tooltip=Tooltip(visible=False, text=''), theme='dark', title='napari', mouse_over_canvas=False, mouse_move_callbacks=[], mouse_drag_callbacks=[], mouse_double_click_callbacks=[<function double_click_to_zoom at 0x14a677490>], mouse_wheel_callbacks=[<function dims_scroll at 0x14a676b00>], _persisted_mouse_event={}, _mouse_drag_gen={}, _mouse_wheel_gen={}, _keymap={<KeyBinding at 0x15c5cd780: M>: <function select_worm_region.<locals>.generate_mask at 0x15c0bf010>})>\u001b[0m\n",
      "\u001b[1;32m    439\u001b[0m key \u001b[38;5;241m=\u001b[39m \u001b[38;5;28mstr\u001b[39m(key_bind\u001b[38;5;241m.\u001b[39mparts[\u001b[38;5;241m-\u001b[39m\u001b[38;5;241m1\u001b[39m]\u001b[38;5;241m.\u001b[39mkey)\n",
      "\u001b[1;32m    441\u001b[0m \u001b[38;5;28;01mif\u001b[39;00m inspect\u001b[38;5;241m.\u001b[39misgeneratorfunction(func):\n",
      "\n",
      "Cell \u001b[0;32mIn[6], line 43\u001b[0m, in \u001b[0;36mselect_worm_region.<locals>.generate_mask\u001b[0;34m(viewer=Viewer(camera=Camera(center=(0.0, 1023.5, 1021.5...m_region.<locals>.generate_mask at 0x15c0bf010>}))\u001b[0m\n",
      "\u001b[1;32m     41\u001b[0m binary_mask \u001b[38;5;241m=\u001b[39m layer_c1\u001b[38;5;241m.\u001b[39mto_masks(img\u001b[38;5;241m.\u001b[39mshape)\n",
      "\u001b[1;32m     42\u001b[0m mask_path \u001b[38;5;241m=\u001b[39m os\u001b[38;5;241m.\u001b[39mpath\u001b[38;5;241m.\u001b[39mjoin(output_path, \u001b[38;5;124m'\u001b[39m\u001b[38;5;124mworm_masks\u001b[39m\u001b[38;5;124m'\u001b[39m, df\u001b[38;5;241m.\u001b[39mid\u001b[38;5;241m.\u001b[39miloc[index] \u001b[38;5;241m+\u001b[39m \u001b[38;5;124m'\u001b[39m\u001b[38;5;124m.tif\u001b[39m\u001b[38;5;124m'\u001b[39m)\n",
      "\u001b[0;32m---> 43\u001b[0m \u001b[43mOmeTiffWriter\u001b[49m\u001b[38;5;241;43m.\u001b[39;49m\u001b[43msave\u001b[49m\u001b[43m(\u001b[49m\u001b[43mbinary_mask\u001b[49m\u001b[38;5;241;43m.\u001b[39;49m\u001b[43mastype\u001b[49m\u001b[43m(\u001b[49m\u001b[43mnp\u001b[49m\u001b[38;5;241;43m.\u001b[39;49m\u001b[43muint8\u001b[49m\u001b[43m)\u001b[49m\u001b[43m,\u001b[49m\u001b[43m \u001b[49m\u001b[43mmask_path\u001b[49m\u001b[43m)\u001b[49m\n",
      "        binary_mask \u001b[0;34m= array([], dtype=float64)\u001b[0m\u001b[0;34m\n",
      "        \u001b[0mmask_path \u001b[0;34m= '/Volumes/external.data/MeisterLab/jsemple/lhinder/segementation_Kalyan/2025-04-03_bet1-mSG_wPM1353/worm_masks/bet1-mSG_2025-04-03_wPM1353_nHS_007.tif'\u001b[0m\u001b[0;34m\n",
      "        \u001b[0mOmeTiffWriter \u001b[0;34m= <class 'bioio.writers.ome_tiff_writer.OmeTiffWriter'>\u001b[0m\u001b[0;34m\n",
      "        \u001b[0mnp \u001b[0;34m= <module 'numpy' from '/Users/semple/micromamba/envs/lhcellpose/lib/python3.10/site-packages/numpy/__init__.py'>\u001b[0m\n",
      "\u001b[1;32m     44\u001b[0m df\u001b[38;5;241m.\u001b[39mat[index, \u001b[38;5;124m'\u001b[39m\u001b[38;5;124mworm_mask_filepath\u001b[39m\u001b[38;5;124m'\u001b[39m] \u001b[38;5;241m=\u001b[39m mask_path\n",
      "\u001b[1;32m     45\u001b[0m df\u001b[38;5;241m.\u001b[39mat[index, \u001b[38;5;124m'\u001b[39m\u001b[38;5;124mworm_region\u001b[39m\u001b[38;5;124m'\u001b[39m] \u001b[38;5;241m=\u001b[39m dropdown_widget\u001b[38;5;241m.\u001b[39mcategory\u001b[38;5;241m.\u001b[39mvalue\n",
      "\n",
      "File \u001b[0;32m~/micromamba/envs/lhcellpose/lib/python3.10/site-packages/bioio/writers/ome_tiff_writer.py:247\u001b[0m, in \u001b[0;36mOmeTiffWriter.save\u001b[0;34m(data=[array([], dtype=uint8)], uri='/Volumes/external.data/MeisterLab/jsemple/lhinde...orm_masks/bet1-mSG_2025-04-03_wPM1353_nHS_007.tif', dim_order=[None], ome_xml=None, channel_names=[None], image_name=[None], physical_pixel_sizes=[PhysicalPixelSizes(Z=None, Y=None, X=None)], channel_colors=[None], fs_kwargs={}, **kwargs={})\u001b[0m\n",
      "\u001b[1;32m    245\u001b[0m \u001b[38;5;66;03m# try to construct OME from params\u001b[39;00m\n",
      "\u001b[1;32m    246\u001b[0m \u001b[38;5;28;01mif\u001b[39;00m ome_xml \u001b[38;5;129;01mis\u001b[39;00m \u001b[38;5;28;01mNone\u001b[39;00m:\n",
      "\u001b[0;32m--> 247\u001b[0m     ome_xml \u001b[38;5;241m=\u001b[39m \u001b[43mOmeTiffWriter\u001b[49m\u001b[38;5;241;43m.\u001b[39;49m\u001b[43mbuild_ome\u001b[49m\u001b[43m(\u001b[49m\n",
      "        ome_xml \u001b[0;34m= None\u001b[0m\u001b[0;34m\n",
      "        \u001b[0mOmeTiffWriter \u001b[0;34m= <class 'bioio.writers.ome_tiff_writer.OmeTiffWriter'>\u001b[0m\u001b[0;34m\n",
      "        \u001b[0mdata \u001b[0;34m= [array([], dtype=uint8)]\u001b[0m\u001b[0;34m\n",
      "        \u001b[0mchannel_names \u001b[0;34m= [None]\u001b[0m\u001b[0;34m\n",
      "        \u001b[0mimage_name \u001b[0;34m= [None]\u001b[0m\u001b[0;34m\n",
      "        \u001b[0mphysical_pixel_sizes \u001b[0;34m= [PhysicalPixelSizes(Z=None, Y=None, X=None)]\u001b[0m\u001b[0;34m\n",
      "        \u001b[0mchannel_colors \u001b[0;34m= [None]\u001b[0m\u001b[0;34m\n",
      "        \u001b[0mdim_order \u001b[0;34m= [None]\u001b[0m\n",
      "\u001b[1;32m    248\u001b[0m \u001b[43m        \u001b[49m\u001b[43m[\u001b[49m\u001b[43mi\u001b[49m\u001b[38;5;241;43m.\u001b[39;49m\u001b[43mshape\u001b[49m\u001b[43m \u001b[49m\u001b[38;5;28;43;01mfor\u001b[39;49;00m\u001b[43m \u001b[49m\u001b[43mi\u001b[49m\u001b[43m \u001b[49m\u001b[38;5;129;43;01min\u001b[39;49;00m\u001b[43m \u001b[49m\u001b[43mdata\u001b[49m\u001b[43m]\u001b[49m\u001b[43m,\u001b[49m\n",
      "\u001b[1;32m    249\u001b[0m \u001b[43m        \u001b[49m\u001b[43m[\u001b[49m\u001b[43mi\u001b[49m\u001b[38;5;241;43m.\u001b[39;49m\u001b[43mdtype\u001b[49m\u001b[43m \u001b[49m\u001b[38;5;28;43;01mfor\u001b[39;49;00m\u001b[43m \u001b[49m\u001b[43mi\u001b[49m\u001b[43m \u001b[49m\u001b[38;5;129;43;01min\u001b[39;49;00m\u001b[43m \u001b[49m\u001b[43mdata\u001b[49m\u001b[43m]\u001b[49m\u001b[43m,\u001b[49m\n",
      "\u001b[1;32m    250\u001b[0m \u001b[43m        \u001b[49m\u001b[43mchannel_names\u001b[49m\u001b[38;5;241;43m=\u001b[39;49m\u001b[43mchannel_names\u001b[49m\u001b[43m,\u001b[49m\u001b[43m  \u001b[49m\u001b[38;5;66;43;03m# type: ignore\u001b[39;49;00m\n",
      "\u001b[1;32m    251\u001b[0m \u001b[43m        \u001b[49m\u001b[43mimage_name\u001b[49m\u001b[38;5;241;43m=\u001b[39;49m\u001b[43mimage_name\u001b[49m\u001b[43m,\u001b[49m\n",
      "\u001b[1;32m    252\u001b[0m \u001b[43m        \u001b[49m\u001b[43mphysical_pixel_sizes\u001b[49m\u001b[38;5;241;43m=\u001b[39;49m\u001b[43mphysical_pixel_sizes\u001b[49m\u001b[43m,\u001b[49m\n",
      "\u001b[1;32m    253\u001b[0m \u001b[43m        \u001b[49m\u001b[43mchannel_colors\u001b[49m\u001b[38;5;241;43m=\u001b[39;49m\u001b[43mchannel_colors\u001b[49m\u001b[43m,\u001b[49m\u001b[43m  \u001b[49m\u001b[38;5;66;43;03m# type: ignore\u001b[39;49;00m\n",
      "\u001b[1;32m    254\u001b[0m \u001b[43m        \u001b[49m\u001b[43mdimension_order\u001b[49m\u001b[38;5;241;43m=\u001b[39;49m\u001b[43mdim_order\u001b[49m\u001b[43m,\u001b[49m\n",
      "\u001b[1;32m    255\u001b[0m \u001b[43m    \u001b[49m\u001b[43m)\u001b[49m\n",
      "\u001b[1;32m    256\u001b[0m \u001b[38;5;66;03m# else if string, then construct OME from string\u001b[39;00m\n",
      "\u001b[1;32m    257\u001b[0m \u001b[38;5;28;01melif\u001b[39;00m \u001b[38;5;28misinstance\u001b[39m(ome_xml, \u001b[38;5;28mstr\u001b[39m):\n",
      "\n",
      "File \u001b[0;32m~/micromamba/envs/lhcellpose/lib/python3.10/site-packages/bioio/writers/ome_tiff_writer.py:652\u001b[0m, in \u001b[0;36mOmeTiffWriter.build_ome\u001b[0;34m(data_shapes=[(0,)], data_types=[dtype('uint8')], dimension_order=[None], channel_names=[None], image_name=[None], physical_pixel_sizes=[PhysicalPixelSizes(Z=None, Y=None, X=None)], channel_colors=[None])\u001b[0m\n",
      "\u001b[1;32m    649\u001b[0m tiff_plane_offset \u001b[38;5;241m=\u001b[39m \u001b[38;5;241m0\u001b[39m\n",
      "\u001b[1;32m    650\u001b[0m \u001b[38;5;28;01mfor\u001b[39;00m image_index \u001b[38;5;129;01min\u001b[39;00m \u001b[38;5;28mrange\u001b[39m(\u001b[38;5;28mlen\u001b[39m(data_shapes)):\n",
      "\u001b[1;32m    651\u001b[0m     \u001b[38;5;66;03m# correct the dimension_order for ome\u001b[39;00m\n",
      "\u001b[0;32m--> 652\u001b[0m     ome_dimension_order, is_rgb \u001b[38;5;241m=\u001b[39m \u001b[43mOmeTiffWriter\u001b[49m\u001b[38;5;241;43m.\u001b[39;49m\u001b[43m_resolve_OME_dimension_order\u001b[49m\u001b[43m(\u001b[49m\n",
      "        OmeTiffWriter \u001b[0;34m= <class 'bioio.writers.ome_tiff_writer.OmeTiffWriter'>\u001b[0m\u001b[0;34m\n",
      "        \u001b[0mimage_index \u001b[0;34m= 0\u001b[0m\u001b[0;34m\n",
      "        \u001b[0mdata_shapes \u001b[0;34m= [(0,)]\u001b[0m\u001b[0;34m\n",
      "        \u001b[0mdimension_order \u001b[0;34m= [None]\u001b[0m\u001b[0;34m\n",
      "        \u001b[0mdata_shapes[image_index] \u001b[0;34m= (0,)\u001b[0m\u001b[0;34m\n",
      "        \u001b[0mdimension_order[image_index] \u001b[0;34m= None\u001b[0m\n",
      "\u001b[1;32m    653\u001b[0m \u001b[43m        \u001b[49m\u001b[43mdata_shapes\u001b[49m\u001b[43m[\u001b[49m\u001b[43mimage_index\u001b[49m\u001b[43m]\u001b[49m\u001b[43m,\u001b[49m\u001b[43m \u001b[49m\u001b[43mdimension_order\u001b[49m\u001b[43m[\u001b[49m\u001b[43mimage_index\u001b[49m\u001b[43m]\u001b[49m\n",
      "\u001b[1;32m    654\u001b[0m \u001b[43m    \u001b[49m\u001b[43m)\u001b[49m\n",
      "\u001b[1;32m    655\u001b[0m     img \u001b[38;5;241m=\u001b[39m OmeTiffWriter\u001b[38;5;241m.\u001b[39m_build_ome_image(\n",
      "\u001b[1;32m    656\u001b[0m         image_index,\n",
      "\u001b[1;32m    657\u001b[0m         tiff_plane_offset,\n",
      "\u001b[0;32m   (...)\u001b[0m\n",
      "\u001b[1;32m    665\u001b[0m         channel_colors[image_index],\n",
      "\u001b[1;32m    666\u001b[0m     )\n",
      "\u001b[1;32m    667\u001b[0m     \u001b[38;5;66;03m# increment tiff_plane_offset for next image\u001b[39;00m\n",
      "\n",
      "File \u001b[0;32m~/micromamba/envs/lhcellpose/lib/python3.10/site-packages/bioio/writers/ome_tiff_writer.py:361\u001b[0m, in \u001b[0;36mOmeTiffWriter._resolve_OME_dimension_order\u001b[0;34m(shape=(0,), dimension_order='TCZYX')\u001b[0m\n",
      "\u001b[1;32m    356\u001b[0m     is_rgb \u001b[38;5;241m=\u001b[39m \u001b[38;5;28mbool\u001b[39m(\n",
      "\u001b[1;32m    357\u001b[0m         dimension_order[\u001b[38;5;241m-\u001b[39m\u001b[38;5;241m1\u001b[39m] \u001b[38;5;241m==\u001b[39m biob\u001b[38;5;241m.\u001b[39mdimensions\u001b[38;5;241m.\u001b[39mDimensionNames\u001b[38;5;241m.\u001b[39mSamples\n",
      "\u001b[1;32m    358\u001b[0m     ) \u001b[38;5;129;01mand\u001b[39;00m (shape[\u001b[38;5;241m-\u001b[39m\u001b[38;5;241m1\u001b[39m] \u001b[38;5;241m==\u001b[39m \u001b[38;5;241m3\u001b[39m \u001b[38;5;129;01mor\u001b[39;00m shape[\u001b[38;5;241m-\u001b[39m\u001b[38;5;241m1\u001b[39m] \u001b[38;5;241m==\u001b[39m \u001b[38;5;241m4\u001b[39m)\n",
      "\u001b[1;32m    360\u001b[0m \u001b[38;5;28;01mif\u001b[39;00m (ndims \u001b[38;5;241m>\u001b[39m \u001b[38;5;241m5\u001b[39m \u001b[38;5;129;01mand\u001b[39;00m \u001b[38;5;129;01mnot\u001b[39;00m is_rgb) \u001b[38;5;129;01mor\u001b[39;00m ndims \u001b[38;5;241m>\u001b[39m \u001b[38;5;241m6\u001b[39m \u001b[38;5;129;01mor\u001b[39;00m ndims \u001b[38;5;241m<\u001b[39m \u001b[38;5;241m2\u001b[39m:\n",
      "\u001b[0;32m--> 361\u001b[0m     \u001b[38;5;28;01mraise\u001b[39;00m \u001b[38;5;167;01mValueError\u001b[39;00m(\n",
      "        is_rgb \u001b[0;34m= False\u001b[0m\u001b[0;34m\n",
      "        \u001b[0mshape \u001b[0;34m= (0,)\u001b[0m\n",
      "\u001b[1;32m    362\u001b[0m         \u001b[38;5;124mf\u001b[39m\u001b[38;5;124m\"\u001b[39m\u001b[38;5;124mData array has unexpected number of dimensions: is_rgb = \u001b[39m\u001b[38;5;132;01m{\u001b[39;00mis_rgb\u001b[38;5;132;01m}\u001b[39;00m\u001b[38;5;124m \u001b[39m\u001b[38;5;124m\"\u001b[39m\n",
      "\u001b[1;32m    363\u001b[0m         \u001b[38;5;124mf\u001b[39m\u001b[38;5;124m\"\u001b[39m\u001b[38;5;124mand shape is \u001b[39m\u001b[38;5;132;01m{\u001b[39;00mshape\u001b[38;5;132;01m}\u001b[39;00m\u001b[38;5;124m\"\u001b[39m\n",
      "\u001b[1;32m    364\u001b[0m     )\n",
      "\u001b[1;32m    366\u001b[0m \u001b[38;5;66;03m# assert valid characters in dimension_order\u001b[39;00m\n",
      "\u001b[1;32m    367\u001b[0m \u001b[38;5;28;01mif\u001b[39;00m \u001b[38;5;129;01mnot\u001b[39;00m (\n",
      "\u001b[1;32m    368\u001b[0m     \u001b[38;5;28mall\u001b[39m(\n",
      "\u001b[1;32m    369\u001b[0m         d \u001b[38;5;129;01min\u001b[39;00m biob\u001b[38;5;241m.\u001b[39mdimensions\u001b[38;5;241m.\u001b[39mDEFAULT_DIMENSION_ORDER_LIST_WITH_SAMPLES\n",
      "\u001b[1;32m    370\u001b[0m         \u001b[38;5;28;01mfor\u001b[39;00m d \u001b[38;5;129;01min\u001b[39;00m dimension_order\n",
      "\u001b[1;32m    371\u001b[0m     )\n",
      "\u001b[1;32m    372\u001b[0m ):\n",
      "\n",
      "\u001b[0;31mValueError\u001b[0m: Data array has unexpected number of dimensions: is_rgb = False and shape is (0,)\n"
     ]
    },
    {
     "name": "stderr",
     "output_type": "stream",
     "text": [
      " 60%|█████▉    | 28/47 [2:34:57<2:09:18, 408.33s/it]"
     ]
    },
    {
     "name": "stdout",
     "output_type": "stream",
     "text": [
      "Mask saved to /Volumes/external.data/MeisterLab/jsemple/lhinder/segementation_Kalyan/2025-04-03_bet1-mSG_wPM1353/worm_masks/bet1-mSG_2025-04-03_wPM1353_nHS_007.tif\n"
     ]
    },
    {
     "name": "stderr",
     "output_type": "stream",
     "text": [
      "/Users/semple/micromamba/envs/lhcellpose/lib/python3.10/site-packages/dask/tokenize.py:242: UserWarning: ND2File file not closed before garbage collection. Please use `with ND2File(...):` context or call `.close()`.\n",
      "  mod.loads(out, buffers=buffers)\n",
      " 62%|██████▏   | 29/47 [2:36:04<1:31:45, 305.88s/it]"
     ]
    },
    {
     "name": "stdout",
     "output_type": "stream",
     "text": [
      "Mask saved to /Volumes/external.data/MeisterLab/jsemple/lhinder/segementation_Kalyan/2025-04-03_bet1-mSG_wPM1353/worm_masks/bet1-mSG_2025-04-03_wPM1353_nHS_008.tif\n"
     ]
    },
    {
     "name": "stderr",
     "output_type": "stream",
     "text": [
      "/Users/semple/micromamba/envs/lhcellpose/lib/python3.10/site-packages/dask/tokenize.py:242: UserWarning: ND2File file not closed before garbage collection. Please use `with ND2File(...):` context or call `.close()`.\n",
      "  mod.loads(out, buffers=buffers)\n",
      " 64%|██████▍   | 30/47 [2:37:36<1:08:25, 241.50s/it]"
     ]
    },
    {
     "name": "stdout",
     "output_type": "stream",
     "text": [
      "Mask saved to /Volumes/external.data/MeisterLab/jsemple/lhinder/segementation_Kalyan/2025-04-03_bet1-mSG_wPM1353/worm_masks/bet1-mSG_2025-04-03_wPM1353_nHS_009.tif\n"
     ]
    },
    {
     "name": "stderr",
     "output_type": "stream",
     "text": [
      "/Users/semple/micromamba/envs/lhcellpose/lib/python3.10/site-packages/dask/tokenize.py:242: UserWarning: ND2File file not closed before garbage collection. Please use `with ND2File(...):` context or call `.close()`.\n",
      "  mod.loads(out, buffers=buffers)\n"
     ]
    },
    {
     "name": "stdout",
     "output_type": "stream",
     "text": [
      "Mask saved to /Volumes/external.data/MeisterLab/jsemple/lhinder/segementation_Kalyan/2025-04-03_bet1-mSG_wPM1353/worm_masks/bet1-mSG_2025-04-03_wPM1353_nHS_010.tif\n"
     ]
    },
    {
     "name": "stderr",
     "output_type": "stream",
     "text": [
      " 66%|██████▌   | 31/47 [2:38:49<50:59, 191.23s/it]  /Users/semple/micromamba/envs/lhcellpose/lib/python3.10/site-packages/dask/tokenize.py:242: UserWarning: ND2File file not closed before garbage collection. Please use `with ND2File(...):` context or call `.close()`.\n",
      "  mod.loads(out, buffers=buffers)\n",
      " 68%|██████▊   | 32/47 [2:40:26<40:40, 162.70s/it]"
     ]
    },
    {
     "name": "stdout",
     "output_type": "stream",
     "text": [
      "Mask saved to /Volumes/external.data/MeisterLab/jsemple/lhinder/segementation_Kalyan/2025-04-03_bet1-mSG_wPM1353/worm_masks/bet1-mSG_2025-04-03_wPM1353_nHS_011.tif\n"
     ]
    },
    {
     "name": "stderr",
     "output_type": "stream",
     "text": [
      "/Users/semple/micromamba/envs/lhcellpose/lib/python3.10/site-packages/dask/tokenize.py:242: UserWarning: ND2File file not closed before garbage collection. Please use `with ND2File(...):` context or call `.close()`.\n",
      "  mod.loads(out, buffers=buffers)\n",
      " 70%|███████   | 33/47 [2:41:22<30:30, 130.74s/it]"
     ]
    },
    {
     "name": "stdout",
     "output_type": "stream",
     "text": [
      "Mask saved to /Volumes/external.data/MeisterLab/jsemple/lhinder/segementation_Kalyan/2025-04-03_bet1-mSG_wPM1353/worm_masks/bet1-mSG_2025-04-03_wPM1353_nHS_012.tif\n"
     ]
    },
    {
     "name": "stderr",
     "output_type": "stream",
     "text": [
      "/Users/semple/micromamba/envs/lhcellpose/lib/python3.10/site-packages/dask/tokenize.py:242: UserWarning: ND2File file not closed before garbage collection. Please use `with ND2File(...):` context or call `.close()`.\n",
      "  mod.loads(out, buffers=buffers)\n",
      " 72%|███████▏  | 34/47 [2:42:31<24:18, 112.18s/it]"
     ]
    },
    {
     "name": "stdout",
     "output_type": "stream",
     "text": [
      "Mask saved to /Volumes/external.data/MeisterLab/jsemple/lhinder/segementation_Kalyan/2025-04-03_bet1-mSG_wPM1353/worm_masks/bet1-mSG_2025-04-03_wPM1353_nHS_013.tif\n"
     ]
    },
    {
     "name": "stderr",
     "output_type": "stream",
     "text": [
      "/Users/semple/micromamba/envs/lhcellpose/lib/python3.10/site-packages/dask/tokenize.py:242: UserWarning: ND2File file not closed before garbage collection. Please use `with ND2File(...):` context or call `.close()`.\n",
      "  mod.loads(out, buffers=buffers)\n",
      " 74%|███████▍  | 35/47 [2:43:14<18:16, 91.41s/it] "
     ]
    },
    {
     "name": "stdout",
     "output_type": "stream",
     "text": [
      "Mask saved to /Volumes/external.data/MeisterLab/jsemple/lhinder/segementation_Kalyan/2025-04-03_bet1-mSG_wPM1353/worm_masks/bet1-mSG_2025-04-03_wPM1353_nHS_014.tif\n"
     ]
    },
    {
     "name": "stderr",
     "output_type": "stream",
     "text": [
      "/Users/semple/micromamba/envs/lhcellpose/lib/python3.10/site-packages/dask/tokenize.py:242: UserWarning: ND2File file not closed before garbage collection. Please use `with ND2File(...):` context or call `.close()`.\n",
      "  mod.loads(out, buffers=buffers)\n",
      " 77%|███████▋  | 36/47 [2:44:12<14:55, 81.40s/it]"
     ]
    },
    {
     "name": "stdout",
     "output_type": "stream",
     "text": [
      "Mask saved to /Volumes/external.data/MeisterLab/jsemple/lhinder/segementation_Kalyan/2025-04-03_bet1-mSG_wPM1353/worm_masks/bet1-mSG_2025-04-03_wPM1353_nHS_015.tif\n"
     ]
    },
    {
     "name": "stderr",
     "output_type": "stream",
     "text": [
      "/Users/semple/micromamba/envs/lhcellpose/lib/python3.10/site-packages/dask/tokenize.py:242: UserWarning: ND2File file not closed before garbage collection. Please use `with ND2File(...):` context or call `.close()`.\n",
      "  mod.loads(out, buffers=buffers)\n",
      " 79%|███████▊  | 37/47 [2:45:05<12:10, 73.00s/it]"
     ]
    },
    {
     "name": "stdout",
     "output_type": "stream",
     "text": [
      "Mask saved to /Volumes/external.data/MeisterLab/jsemple/lhinder/segementation_Kalyan/2025-04-03_bet1-mSG_wPM1353/worm_masks/bet1-mSG_2025-04-03_wPM1353_nHS_016.tif\n"
     ]
    },
    {
     "name": "stderr",
     "output_type": "stream",
     "text": [
      "/Users/semple/micromamba/envs/lhcellpose/lib/python3.10/site-packages/dask/tokenize.py:242: UserWarning: ND2File file not closed before garbage collection. Please use `with ND2File(...):` context or call `.close()`.\n",
      "  mod.loads(out, buffers=buffers)\n",
      " 81%|████████  | 38/47 [2:46:14<10:46, 71.86s/it]"
     ]
    },
    {
     "name": "stdout",
     "output_type": "stream",
     "text": [
      "Mask saved to /Volumes/external.data/MeisterLab/jsemple/lhinder/segementation_Kalyan/2025-04-03_bet1-mSG_wPM1353/worm_masks/bet1-mSG_2025-04-03_wPM1353_nHS_017.tif\n"
     ]
    },
    {
     "name": "stderr",
     "output_type": "stream",
     "text": [
      "/Users/semple/micromamba/envs/lhcellpose/lib/python3.10/site-packages/dask/tokenize.py:242: UserWarning: ND2File file not closed before garbage collection. Please use `with ND2File(...):` context or call `.close()`.\n",
      "  mod.loads(out, buffers=buffers)\n",
      " 83%|████████▎ | 39/47 [2:52:09<20:53, 156.74s/it]"
     ]
    },
    {
     "name": "stdout",
     "output_type": "stream",
     "text": [
      "Mask saved to /Volumes/external.data/MeisterLab/jsemple/lhinder/segementation_Kalyan/2025-04-03_bet1-mSG_wPM1353/worm_masks/bet1-mSG_2025-04-03_wPM1353_nHS_018.tif\n"
     ]
    },
    {
     "name": "stderr",
     "output_type": "stream",
     "text": [
      "/Users/semple/micromamba/envs/lhcellpose/lib/python3.10/site-packages/dask/tokenize.py:242: UserWarning: ND2File file not closed before garbage collection. Please use `with ND2File(...):` context or call `.close()`.\n",
      "  mod.loads(out, buffers=buffers)\n",
      " 85%|████████▌ | 40/47 [3:26:49<1:25:34, 733.56s/it]"
     ]
    },
    {
     "name": "stdout",
     "output_type": "stream",
     "text": [
      "Mask saved to /Volumes/external.data/MeisterLab/jsemple/lhinder/segementation_Kalyan/2025-04-03_bet1-mSG_wPM1353/worm_masks/bet1-mSG_2025-04-03_wPM1353_nHS_019.tif\n"
     ]
    },
    {
     "name": "stderr",
     "output_type": "stream",
     "text": [
      "/Users/semple/micromamba/envs/lhcellpose/lib/python3.10/site-packages/dask/tokenize.py:242: UserWarning: ND2File file not closed before garbage collection. Please use `with ND2File(...):` context or call `.close()`.\n",
      "  mod.loads(out, buffers=buffers)\n",
      " 87%|████████▋ | 41/47 [3:28:04<53:36, 536.05s/it]  "
     ]
    },
    {
     "name": "stdout",
     "output_type": "stream",
     "text": [
      "Mask saved to /Volumes/external.data/MeisterLab/jsemple/lhinder/segementation_Kalyan/2025-04-03_bet1-mSG_wPM1353/worm_masks/bet1-mSG_2025-04-03_wPM1353_nHS_020.tif\n"
     ]
    },
    {
     "name": "stderr",
     "output_type": "stream",
     "text": [
      "/Users/semple/micromamba/envs/lhcellpose/lib/python3.10/site-packages/dask/tokenize.py:242: UserWarning: ND2File file not closed before garbage collection. Please use `with ND2File(...):` context or call `.close()`.\n",
      "  mod.loads(out, buffers=buffers)\n",
      " 89%|████████▉ | 42/47 [3:35:59<43:09, 517.89s/it]"
     ]
    },
    {
     "name": "stdout",
     "output_type": "stream",
     "text": [
      "Mask saved to /Volumes/external.data/MeisterLab/jsemple/lhinder/segementation_Kalyan/2025-04-03_bet1-mSG_wPM1353/worm_masks/bet1-mSG_2025-04-03_wPM1353_nHS_021.tif\n"
     ]
    },
    {
     "name": "stderr",
     "output_type": "stream",
     "text": [
      "/Users/semple/micromamba/envs/lhcellpose/lib/python3.10/site-packages/dask/tokenize.py:242: UserWarning: ND2File file not closed before garbage collection. Please use `with ND2File(...):` context or call `.close()`.\n",
      "  mod.loads(out, buffers=buffers)\n",
      " 91%|█████████▏| 43/47 [3:36:53<25:14, 378.62s/it]"
     ]
    },
    {
     "name": "stdout",
     "output_type": "stream",
     "text": [
      "Mask saved to /Volumes/external.data/MeisterLab/jsemple/lhinder/segementation_Kalyan/2025-04-03_bet1-mSG_wPM1353/worm_masks/bet1-mSG_2025-04-03_wPM1353_nHS_022.tif\n"
     ]
    },
    {
     "name": "stderr",
     "output_type": "stream",
     "text": [
      "/Users/semple/micromamba/envs/lhcellpose/lib/python3.10/site-packages/dask/tokenize.py:242: UserWarning: ND2File file not closed before garbage collection. Please use `with ND2File(...):` context or call `.close()`.\n",
      "  mod.loads(out, buffers=buffers)\n",
      " 94%|█████████▎| 44/47 [3:37:55<14:10, 283.65s/it]"
     ]
    },
    {
     "name": "stdout",
     "output_type": "stream",
     "text": [
      "Mask saved to /Volumes/external.data/MeisterLab/jsemple/lhinder/segementation_Kalyan/2025-04-03_bet1-mSG_wPM1353/worm_masks/bet1-mSG_2025-04-03_wPM1353_nHS_023.tif\n"
     ]
    },
    {
     "name": "stderr",
     "output_type": "stream",
     "text": [
      "/Users/semple/micromamba/envs/lhcellpose/lib/python3.10/site-packages/dask/tokenize.py:242: UserWarning: ND2File file not closed before garbage collection. Please use `with ND2File(...):` context or call `.close()`.\n",
      "  mod.loads(out, buffers=buffers)\n",
      " 96%|█████████▌| 45/47 [3:38:45<07:07, 213.67s/it]"
     ]
    },
    {
     "name": "stdout",
     "output_type": "stream",
     "text": [
      "Mask saved to /Volumes/external.data/MeisterLab/jsemple/lhinder/segementation_Kalyan/2025-04-03_bet1-mSG_wPM1353/worm_masks/bet1-mSG_2025-04-03_wPM1353_nHS_024.tif\n"
     ]
    },
    {
     "name": "stderr",
     "output_type": "stream",
     "text": [
      "/Users/semple/micromamba/envs/lhcellpose/lib/python3.10/site-packages/dask/tokenize.py:242: UserWarning: ND2File file not closed before garbage collection. Please use `with ND2File(...):` context or call `.close()`.\n",
      "  mod.loads(out, buffers=buffers)\n",
      " 98%|█████████▊| 46/47 [3:40:06<02:53, 173.79s/it]"
     ]
    },
    {
     "name": "stdout",
     "output_type": "stream",
     "text": [
      "Mask saved to /Volumes/external.data/MeisterLab/jsemple/lhinder/segementation_Kalyan/2025-04-03_bet1-mSG_wPM1353/worm_masks/bet1-mSG_2025-04-03_wPM1353_nHS_025.tif\n"
     ]
    },
    {
     "name": "stderr",
     "output_type": "stream",
     "text": [
      "/Users/semple/micromamba/envs/lhcellpose/lib/python3.10/site-packages/dask/tokenize.py:242: UserWarning: ND2File file not closed before garbage collection. Please use `with ND2File(...):` context or call `.close()`.\n",
      "  mod.loads(out, buffers=buffers)\n",
      "100%|██████████| 47/47 [3:41:13<00:00, 282.41s/it]"
     ]
    },
    {
     "name": "stdout",
     "output_type": "stream",
     "text": [
      "Mask saved to /Volumes/external.data/MeisterLab/jsemple/lhinder/segementation_Kalyan/2025-04-03_bet1-mSG_wPM1353/worm_masks/bet1-mSG_2025-04-03_wPM1353_nHS_026.tif\n"
     ]
    },
    {
     "name": "stderr",
     "output_type": "stream",
     "text": [
      "\n"
     ]
    }
   ],
   "source": [
    "if os.path.exists(os.path.join(output_path,'fileList_wormMasks.csv'))==True:\n",
    "    df = pd.read_csv(os.path.join(output_path,'fileList_wormMasks.csv'))\n",
    "    df = correct_loaded_path(df,col_names=['raw_filepath', 'denoised_filepath','worm_mask_filepath'])\n",
    "\n",
    "indeces=range(4, len(df))\n",
    "\n",
    "for index in tqdm.tqdm(indeces):\n",
    "    df = select_worm_region(df, index, output_path, spotChannel=spotChannel)\n",
    "    df_tmp = correct_save_path(df,col_names=['raw_filepath', 'denoised_filepath','worm_mask_filepath'])\n",
    "    df_tmp.to_csv(os.path.join(output_path,'fileList_wormMasks.csv'),index=False)\n",
    "\n",
    "\n"
   ]
  },
  {
   "cell_type": "code",
   "execution_count": 3,
   "metadata": {},
   "outputs": [
    {
     "name": "stderr",
     "output_type": "stream",
     "text": [
      "/Users/semple/micromamba/envs/lhcellpose/lib/python3.10/site-packages/dask/tokenize.py:242: UserWarning: ND2File file not closed before garbage collection. Please use `with ND2File(...):` context or call `.close()`.\n",
      "  mod.loads(out, buffers=buffers)\n"
     ]
    },
    {
     "name": "stdout",
     "output_type": "stream",
     "text": [
      "Mask saved to /Volumes/external.data/MeisterLab/jsemple/lhinder/segementation_Kalyan/2025-04-03_bet1-mSG_wPM1353/worm_masks/bet1-mSG_2025-04-03_wPM1353_HS_013.tif\n",
      "\u001b[0;31m---------------------------------------------------------------------------\u001b[0m\n",
      "\u001b[0;31mTypeError\u001b[0m                                 Traceback (most recent call last)\n",
      "File \u001b[0;32m~/micromamba/envs/lhcellpose/lib/python3.10/site-packages/vispy/app/backends/_qt.py:555\u001b[0m, in \u001b[0;36mQtBaseCanvasBackend.keyPressEvent\u001b[0;34m(self=<vispy.app.backends._qt.CanvasBackendDesktop object>, ev=<PyQt5.QtGui.QKeyEvent object>)\u001b[0m\n",
      "\u001b[1;32m    554\u001b[0m \u001b[38;5;28;01mdef\u001b[39;00m \u001b[38;5;21mkeyPressEvent\u001b[39m(\u001b[38;5;28mself\u001b[39m, ev):\n",
      "\u001b[0;32m--> 555\u001b[0m     \u001b[38;5;28;43mself\u001b[39;49m\u001b[38;5;241;43m.\u001b[39;49m\u001b[43m_keyEvent\u001b[49m\u001b[43m(\u001b[49m\u001b[38;5;28;43mself\u001b[39;49m\u001b[38;5;241;43m.\u001b[39;49m\u001b[43m_vispy_canvas\u001b[49m\u001b[38;5;241;43m.\u001b[39;49m\u001b[43mevents\u001b[49m\u001b[38;5;241;43m.\u001b[39;49m\u001b[43mkey_press\u001b[49m\u001b[43m,\u001b[49m\u001b[43m \u001b[49m\u001b[43mev\u001b[49m\u001b[43m)\u001b[49m\n",
      "        self._vispy_canvas.events.key_press \u001b[0;34m= <vispy.util.event.EventEmitter object at 0x152fcd540>\u001b[0m\u001b[0;34m\n",
      "        \u001b[0mev \u001b[0;34m= <PyQt5.QtGui.QKeyEvent object at 0x15d099990>\u001b[0m\u001b[0;34m\n",
      "        \u001b[0mself \u001b[0;34m= <vispy.app.backends._qt.CanvasBackendDesktop object at 0x152fc96c0>\u001b[0m\u001b[0;34m\n",
      "        \u001b[0mself._vispy_canvas.events \u001b[0;34m= <vispy.util.event.EmitterGroup object at 0x152fcd390>\u001b[0m\u001b[0;34m\n",
      "        \u001b[0mself._vispy_canvas \u001b[0;34m= <NapariSceneCanvas (PyQt5) at 0x152fc36d0>\u001b[0m\n",
      "\n",
      "File \u001b[0;32m~/micromamba/envs/lhcellpose/lib/python3.10/site-packages/vispy/app/backends/_qt.py:647\u001b[0m, in \u001b[0;36mQtBaseCanvasBackend._keyEvent\u001b[0;34m(self=<vispy.app.backends._qt.CanvasBackendDesktop object>, func=<vispy.util.event.EventEmitter object>, ev=<PyQt5.QtGui.QKeyEvent object>)\u001b[0m\n",
      "\u001b[1;32m    645\u001b[0m     key \u001b[38;5;241m=\u001b[39m \u001b[38;5;28;01mNone\u001b[39;00m\n",
      "\u001b[1;32m    646\u001b[0m mod \u001b[38;5;241m=\u001b[39m \u001b[38;5;28mself\u001b[39m\u001b[38;5;241m.\u001b[39m_modifiers(ev)\n",
      "\u001b[0;32m--> 647\u001b[0m \u001b[43mfunc\u001b[49m\u001b[43m(\u001b[49m\u001b[43mnative\u001b[49m\u001b[38;5;241;43m=\u001b[39;49m\u001b[43mev\u001b[49m\u001b[43m,\u001b[49m\u001b[43m \u001b[49m\u001b[43mkey\u001b[49m\u001b[38;5;241;43m=\u001b[39;49m\u001b[43mkey\u001b[49m\u001b[43m,\u001b[49m\u001b[43m \u001b[49m\u001b[43mtext\u001b[49m\u001b[38;5;241;43m=\u001b[39;49m\u001b[38;5;28;43mstr\u001b[39;49m\u001b[43m(\u001b[49m\u001b[43mev\u001b[49m\u001b[38;5;241;43m.\u001b[39;49m\u001b[43mtext\u001b[49m\u001b[43m(\u001b[49m\u001b[43m)\u001b[49m\u001b[43m)\u001b[49m\u001b[43m,\u001b[49m\u001b[43m \u001b[49m\u001b[43mmodifiers\u001b[49m\u001b[38;5;241;43m=\u001b[39;49m\u001b[43mmod\u001b[49m\u001b[43m)\u001b[49m\n",
      "        key \u001b[0;34m= <Key 'M'>\u001b[0m\u001b[0;34m\n",
      "        \u001b[0mmod \u001b[0;34m= ()\u001b[0m\u001b[0;34m\n",
      "        \u001b[0mev \u001b[0;34m= <PyQt5.QtGui.QKeyEvent object at 0x15d099990>\u001b[0m\u001b[0;34m\n",
      "        \u001b[0mfunc \u001b[0;34m= <vispy.util.event.EventEmitter object at 0x152fcd540>\u001b[0m\n",
      "\n",
      "File \u001b[0;32m~/micromamba/envs/lhcellpose/lib/python3.10/site-packages/vispy/util/event.py:453\u001b[0m, in \u001b[0;36mEventEmitter.__call__\u001b[0;34m(self=<vispy.util.event.EventEmitter object>, *args=(), **kwargs={'key': <Key 'M'>, 'modifiers': (), 'native': <PyQt5.QtGui.QKeyEvent object>, 'text': 'm'})\u001b[0m\n",
      "\u001b[1;32m    450\u001b[0m \u001b[38;5;28;01mif\u001b[39;00m \u001b[38;5;28mself\u001b[39m\u001b[38;5;241m.\u001b[39m_emitting \u001b[38;5;241m>\u001b[39m \u001b[38;5;241m1\u001b[39m:\n",
      "\u001b[1;32m    451\u001b[0m     \u001b[38;5;28;01mraise\u001b[39;00m \u001b[38;5;167;01mRuntimeError\u001b[39;00m(\u001b[38;5;124m'\u001b[39m\u001b[38;5;124mEventEmitter loop detected!\u001b[39m\u001b[38;5;124m'\u001b[39m)\n",
      "\u001b[0;32m--> 453\u001b[0m \u001b[38;5;28;43mself\u001b[39;49m\u001b[38;5;241;43m.\u001b[39;49m\u001b[43m_invoke_callback\u001b[49m\u001b[43m(\u001b[49m\u001b[43mcb\u001b[49m\u001b[43m,\u001b[49m\u001b[43m \u001b[49m\u001b[43mevent\u001b[49m\u001b[43m)\u001b[49m\n",
      "        event \u001b[0;34m= <KeyEvent blocked=False handled=False key=<Key 'M'> modifiers=() native=<PyQt5.QtGui.QKeyEvent object at 0x15d099990> source=None sources=[] text=m type=key_press>\u001b[0m\u001b[0;34m\n",
      "        \u001b[0mself \u001b[0;34m= <vispy.util.event.EventEmitter object at 0x152fcd540>\u001b[0m\u001b[0;34m\n",
      "        \u001b[0mcb \u001b[0;34m= <bound method KeymapHandler.on_key_press of <napari.utils.key_bindings.KeymapHandler object at 0x1529d2f80>>\u001b[0m\n",
      "\u001b[1;32m    454\u001b[0m \u001b[38;5;28;01mif\u001b[39;00m event\u001b[38;5;241m.\u001b[39mblocked:\n",
      "\u001b[1;32m    455\u001b[0m     \u001b[38;5;28;01mbreak\u001b[39;00m\n",
      "\n",
      "File \u001b[0;32m~/micromamba/envs/lhcellpose/lib/python3.10/site-packages/vispy/util/event.py:471\u001b[0m, in \u001b[0;36mEventEmitter._invoke_callback\u001b[0;34m(self=<vispy.util.event.EventEmitter object>, cb=<bound method KeymapHandler.on_key_press of <napari.utils.key_bindings.KeymapHandler object>>, event=<KeyEvent blocked=False handled=False key=<Key '...90> source=None sources=[] text=m type=key_press>)\u001b[0m\n",
      "\u001b[1;32m    469\u001b[0m     cb(event)\n",
      "\u001b[1;32m    470\u001b[0m \u001b[38;5;28;01mexcept\u001b[39;00m \u001b[38;5;167;01mException\u001b[39;00m:\n",
      "\u001b[0;32m--> 471\u001b[0m     \u001b[43m_handle_exception\u001b[49m\u001b[43m(\u001b[49m\u001b[38;5;28;43mself\u001b[39;49m\u001b[38;5;241;43m.\u001b[39;49m\u001b[43mignore_callback_errors\u001b[49m\u001b[43m,\u001b[49m\n",
      "        self \u001b[0;34m= <vispy.util.event.EventEmitter object at 0x152fcd540>\u001b[0m\u001b[0;34m\n",
      "        \u001b[0mcb \u001b[0;34m= <bound method KeymapHandler.on_key_press of <napari.utils.key_bindings.KeymapHandler object at 0x1529d2f80>>\u001b[0m\u001b[0;34m\n",
      "        \u001b[0mevent \u001b[0;34m= <KeyEvent blocked=False handled=False key=<Key 'M'> modifiers=() native=<PyQt5.QtGui.QKeyEvent object at 0x15d099990> source=None sources=[] text=m type=key_press>\u001b[0m\u001b[0;34m\n",
      "        \u001b[0m(cb, event) \u001b[0;34m= (<bound method KeymapHandler.on_key_press of <napari.utils.key_bindings.KeymapHandler object at 0x1529d2f80>>, <KeyEvent blocked=False handled=False key=<Key 'M'> modifiers=() native=<PyQt5.QtGui.QKeyEvent object at 0x15d099990> source=None sources=[] text=m type=key_press>)\u001b[0m\n",
      "\u001b[1;32m    472\u001b[0m \u001b[43m                      \u001b[49m\u001b[38;5;28;43mself\u001b[39;49m\u001b[38;5;241;43m.\u001b[39;49m\u001b[43mprint_callback_errors\u001b[49m\u001b[43m,\u001b[49m\n",
      "\u001b[1;32m    473\u001b[0m \u001b[43m                      \u001b[49m\u001b[38;5;28;43mself\u001b[39;49m\u001b[43m,\u001b[49m\u001b[43m \u001b[49m\u001b[43mcb_event\u001b[49m\u001b[38;5;241;43m=\u001b[39;49m\u001b[43m(\u001b[49m\u001b[43mcb\u001b[49m\u001b[43m,\u001b[49m\u001b[43m \u001b[49m\u001b[43mevent\u001b[49m\u001b[43m)\u001b[49m\u001b[43m)\u001b[49m\n",
      "\n",
      "File \u001b[0;32m~/micromamba/envs/lhcellpose/lib/python3.10/site-packages/vispy/util/event.py:469\u001b[0m, in \u001b[0;36mEventEmitter._invoke_callback\u001b[0;34m(self=<vispy.util.event.EventEmitter object>, cb=<bound method KeymapHandler.on_key_press of <napari.utils.key_bindings.KeymapHandler object>>, event=<KeyEvent blocked=False handled=False key=<Key '...90> source=None sources=[] text=m type=key_press>)\u001b[0m\n",
      "\u001b[1;32m    467\u001b[0m \u001b[38;5;28;01mdef\u001b[39;00m \u001b[38;5;21m_invoke_callback\u001b[39m(\u001b[38;5;28mself\u001b[39m, cb, event):\n",
      "\u001b[1;32m    468\u001b[0m     \u001b[38;5;28;01mtry\u001b[39;00m:\n",
      "\u001b[0;32m--> 469\u001b[0m         \u001b[43mcb\u001b[49m\u001b[43m(\u001b[49m\u001b[43mevent\u001b[49m\u001b[43m)\u001b[49m\n",
      "        cb \u001b[0;34m= <bound method KeymapHandler.on_key_press of <napari.utils.key_bindings.KeymapHandler object at 0x1529d2f80>>\u001b[0m\u001b[0;34m\n",
      "        \u001b[0mevent \u001b[0;34m= <KeyEvent blocked=False handled=False key=<Key 'M'> modifiers=() native=<PyQt5.QtGui.QKeyEvent object at 0x15d099990> source=None sources=[] text=m type=key_press>\u001b[0m\n",
      "\u001b[1;32m    470\u001b[0m     \u001b[38;5;28;01mexcept\u001b[39;00m \u001b[38;5;167;01mException\u001b[39;00m:\n",
      "\u001b[1;32m    471\u001b[0m         _handle_exception(\u001b[38;5;28mself\u001b[39m\u001b[38;5;241m.\u001b[39mignore_callback_errors,\n",
      "\u001b[1;32m    472\u001b[0m                           \u001b[38;5;28mself\u001b[39m\u001b[38;5;241m.\u001b[39mprint_callback_errors,\n",
      "\u001b[1;32m    473\u001b[0m                           \u001b[38;5;28mself\u001b[39m, cb_event\u001b[38;5;241m=\u001b[39m(cb, event))\n",
      "\n",
      "File \u001b[0;32m~/micromamba/envs/lhcellpose/lib/python3.10/site-packages/napari/utils/key_bindings.py:515\u001b[0m, in \u001b[0;36mKeymapHandler.on_key_press\u001b[0;34m(self=<napari.utils.key_bindings.KeymapHandler object>, event=<KeyEvent blocked=False handled=False key=<Key '...90> source=None sources=[] text=m type=key_press>)\u001b[0m\n",
      "\u001b[1;32m    505\u001b[0m \u001b[38;5;28;01mif\u001b[39;00m (\n",
      "\u001b[1;32m    506\u001b[0m     event\u001b[38;5;241m.\u001b[39mnative \u001b[38;5;129;01mis\u001b[39;00m \u001b[38;5;129;01mnot\u001b[39;00m \u001b[38;5;28;01mNone\u001b[39;00m\n",
      "\u001b[1;32m    507\u001b[0m     \u001b[38;5;129;01mand\u001b[39;00m event\u001b[38;5;241m.\u001b[39mnative\u001b[38;5;241m.\u001b[39misAutoRepeat()\n",
      "\u001b[0;32m   (...)\u001b[0m\n",
      "\u001b[1;32m    511\u001b[0m     \u001b[38;5;66;03m# unless the combo being held down is one of the autorepeatables or\u001b[39;00m\n",
      "\u001b[1;32m    512\u001b[0m     \u001b[38;5;66;03m# one of the navigation keys (helps with scrolling).\u001b[39;00m\n",
      "\u001b[1;32m    513\u001b[0m     \u001b[38;5;28;01mreturn\u001b[39;00m\n",
      "\u001b[0;32m--> 515\u001b[0m \u001b[38;5;28;43mself\u001b[39;49m\u001b[38;5;241;43m.\u001b[39;49m\u001b[43mpress_key\u001b[49m\u001b[43m(\u001b[49m\u001b[43mkb\u001b[49m\u001b[43m)\u001b[49m\n",
      "        kb \u001b[0;34m= <KeyBinding at 0x162a61270: M>\u001b[0m\u001b[0;34m\n",
      "        \u001b[0mself \u001b[0;34m= <napari.utils.key_bindings.KeymapHandler object at 0x1529d2f80>\u001b[0m\n",
      "\n",
      "File \u001b[0;32m~/micromamba/envs/lhcellpose/lib/python3.10/site-packages/napari/utils/key_bindings.py:437\u001b[0m, in \u001b[0;36mKeymapHandler.press_key\u001b[0;34m(self=<napari.utils.key_bindings.KeymapHandler object>, key_bind=<KeyBinding at 0x162a61270: M>)\u001b[0m\n",
      "\u001b[1;32m    428\u001b[0m \u001b[38;5;28;01mif\u001b[39;00m \u001b[38;5;129;01mnot\u001b[39;00m \u001b[38;5;28mcallable\u001b[39m(func):\n",
      "\u001b[1;32m    429\u001b[0m     \u001b[38;5;28;01mraise\u001b[39;00m \u001b[38;5;167;01mTypeError\u001b[39;00m(\n",
      "\u001b[1;32m    430\u001b[0m         trans\u001b[38;5;241m.\u001b[39m_(\n",
      "\u001b[1;32m    431\u001b[0m             \u001b[38;5;124m'\u001b[39m\u001b[38;5;124mexpected \u001b[39m\u001b[38;5;132;01m{func}\u001b[39;00m\u001b[38;5;124m to be callable\u001b[39m\u001b[38;5;124m'\u001b[39m,\n",
      "\u001b[0;32m   (...)\u001b[0m\n",
      "\u001b[1;32m    434\u001b[0m         )\n",
      "\u001b[1;32m    435\u001b[0m     )\n",
      "\u001b[0;32m--> 437\u001b[0m generator_or_callback \u001b[38;5;241m=\u001b[39m \u001b[43mfunc\u001b[49m\u001b[43m(\u001b[49m\u001b[43m)\u001b[49m\n",
      "        func \u001b[0;34m= <bound method generate_mask of Viewer(camera=Camera(center=(0.0, 1023.5, 1021.5), zoom=0.36670743639921716, angles=(0.0, 0.0, 90.0), perspective=0.0, mouse_pan=False, mouse_zoom=True), cursor=Cursor(position=(-79.55916538937282, 1787.7783903009101), scaled=True, style=<CursorStyle.CROSS: 'cross'>, size=1.0), dims=Dims(ndim=2, ndisplay=2, order=(0, 1), axis_labels=('0', '1'), rollable=(True, True), range=(RangeTuple(start=0.0, stop=2047.0, step=1.0), RangeTuple(start=0.0, stop=2043.0, step=1.0)), margin_left=(0.0, 0.0), margin_right=(0.0, 0.0), point=(1023.0, 1021.0), last_used=0), grid=GridCanvas(stride=1, shape=(-1, -1), enabled=False), layers=[<Image layer 'img' at 0x1062b7850>, <Shapes layer 'Worm' at 0x1571e0f10>], help='use <6> for pan/zoom, use <7> for transform, use <R> for add rectangles, use <E> for add ellipses, use <L> for add lines, use <T> for add path, use <Shift+P> for add polygons lasso, use <4> for select vertices, use <5> for select shapes, use <2> for insert vertex, use <1> for remove vertex', status='', tooltip=Tooltip(visible=False, text=''), theme='dark', title='napari', mouse_over_canvas=False, mouse_move_callbacks=[], mouse_drag_callbacks=[], mouse_double_click_callbacks=[<function double_click_to_zoom at 0x14b840ca0>], mouse_wheel_callbacks=[<function dims_scroll at 0x14b840310>], _persisted_mouse_event={}, _mouse_drag_gen={}, _mouse_wheel_gen={}, _keymap={<KeyBinding at 0x15dff4580: M>: <function generate_mask at 0x15db55360>})>\u001b[0m\n",
      "\u001b[1;32m    439\u001b[0m key \u001b[38;5;241m=\u001b[39m \u001b[38;5;28mstr\u001b[39m(key_bind\u001b[38;5;241m.\u001b[39mparts[\u001b[38;5;241m-\u001b[39m\u001b[38;5;241m1\u001b[39m]\u001b[38;5;241m.\u001b[39mkey)\n",
      "\u001b[1;32m    441\u001b[0m \u001b[38;5;28;01mif\u001b[39;00m inspect\u001b[38;5;241m.\u001b[39misgeneratorfunction(func):\n",
      "\n",
      "Cell \u001b[0;32mIn[3], line 50\u001b[0m, in \u001b[0;36mgenerate_mask\u001b[0;34m(viewer=Viewer(camera=Camera(center=(0.0, 1023.5, 1021.5...80: M>: <function generate_mask at 0x15db55360>}))\u001b[0m\n",
      "\u001b[1;32m     46\u001b[0m \u001b[38;5;66;03m#OmeTiffWriter.save(binary_mask.astype(np.uint8), mask_path)\u001b[39;00m\n",
      "\u001b[1;32m     47\u001b[0m \u001b[38;5;66;03m#df.at[index, 'worm_mask_filepath'] = mask_path\u001b[39;00m\n",
      "\u001b[1;32m     48\u001b[0m \u001b[38;5;66;03m#df.at[index, 'worm_region'] = dropdown_widget.category.value\u001b[39;00m\n",
      "\u001b[1;32m     49\u001b[0m \u001b[38;5;28mprint\u001b[39m(\u001b[38;5;124mf\u001b[39m\u001b[38;5;124m\"\u001b[39m\u001b[38;5;124mMask saved to \u001b[39m\u001b[38;5;132;01m{\u001b[39;00mmask_path\u001b[38;5;132;01m}\u001b[39;00m\u001b[38;5;124m\"\u001b[39m)\n",
      "\u001b[0;32m---> 50\u001b[0m \u001b[43mviewer\u001b[49m\u001b[38;5;241;43m.\u001b[39;49m\u001b[43mexport_figure\u001b[49m\u001b[43m(\u001b[49m\u001b[43mos\u001b[49m\u001b[38;5;241;43m.\u001b[39;49m\u001b[43mpath\u001b[49m\u001b[38;5;241;43m.\u001b[39;49m\u001b[43mjoin\u001b[49m\u001b[43m(\u001b[49m\u001b[43moutput_path\u001b[49m\u001b[43m,\u001b[49m\u001b[43m \u001b[49m\u001b[38;5;124;43m'\u001b[39;49m\u001b[38;5;124;43mtest\u001b[39;49m\u001b[38;5;124;43m'\u001b[39;49m\u001b[38;5;241;43m+\u001b[39;49m\u001b[43mdf\u001b[49m\u001b[38;5;241;43m.\u001b[39;49m\u001b[43mid\u001b[49m\u001b[38;5;241;43m.\u001b[39;49m\u001b[43miloc\u001b[49m\u001b[43m[\u001b[49m\u001b[43mindex\u001b[49m\u001b[43m]\u001b[49m\u001b[43m \u001b[49m\u001b[38;5;241;43m+\u001b[39;49m\u001b[43m \u001b[49m\u001b[38;5;124;43m'\u001b[39;49m\u001b[38;5;124;43m.png\u001b[39;49m\u001b[38;5;124;43m'\u001b[39;49m\u001b[43m)\u001b[49m\u001b[43m,\u001b[49m\u001b[43m \u001b[49m\u001b[43mdpi\u001b[49m\u001b[38;5;241;43m=\u001b[39;49m\u001b[38;5;241;43m300\u001b[39;49m\u001b[43m)\u001b[49m\n",
      "        output_path \u001b[0;34m= '/Volumes/external.data/MeisterLab/jsemple/lhinder/segementation_Kalyan/2025-04-03_bet1-mSG_wPM1353'\u001b[0m\u001b[0;34m\n",
      "        \u001b[0mviewer \u001b[0;34m= Viewer(camera=Camera(center=(0.0, 1023.5, 1021.5), zoom=0.36670743639921716, angles=(0.0, 0.0, 90.0), perspective=0.0, mouse_pan=False, mouse_zoom=True), cursor=Cursor(position=(-79.55916538937282, 1787.7783903009101), scaled=True, style=<CursorStyle.CROSS: 'cross'>, size=1.0), dims=Dims(ndim=2, ndisplay=2, order=(0, 1), axis_labels=('0', '1'), rollable=(True, True), range=(RangeTuple(start=0.0, stop=2047.0, step=1.0), RangeTuple(start=0.0, stop=2043.0, step=1.0)), margin_left=(0.0, 0.0), margin_right=(0.0, 0.0), point=(1023.0, 1021.0), last_used=0), grid=GridCanvas(stride=1, shape=(-1, -1), enabled=False), layers=[<Image layer 'img' at 0x1062b7850>, <Shapes layer 'Worm' at 0x1571e0f10>], help='use <6> for pan/zoom, use <7> for transform, use <R> for add rectangles, use <E> for add ellipses, use <L> for add lines, use <T> for add path, use <Shift+P> for add polygons lasso, use <4> for select vertices, use <5> for select shapes, use <2> for insert vertex, use <1> for remove vertex', status='', tooltip=Tooltip(visible=False, text=''), theme='dark', title='napari', mouse_over_canvas=False, mouse_move_callbacks=[], mouse_drag_callbacks=[], mouse_double_click_callbacks=[<function double_click_to_zoom at 0x14b840ca0>], mouse_wheel_callbacks=[<function dims_scroll at 0x14b840310>], _persisted_mouse_event={}, _mouse_drag_gen={}, _mouse_wheel_gen={}, _keymap={<KeyBinding at 0x15dff4580: M>: <function generate_mask at 0x15db55360>})\u001b[0m\u001b[0;34m\n",
      "        \u001b[0mos.path \u001b[0;34m= <module 'posixpath' from '/Users/semple/micromamba/envs/lhcellpose/lib/python3.10/posixpath.py'>\u001b[0m\u001b[0;34m\n",
      "        \u001b[0mindex \u001b[0;34m= 12\u001b[0m\u001b[0;34m\n",
      "        \u001b[0mdf \u001b[0;34m=            filename        date   protein   strain treatment  worm_id  \\\n",
      "0    wPM1353_HS_001  2025-04-03  bet1-mSG  wPM1353        HS        1   \n",
      "1    wPM1353_HS_002  2025-04-03  bet1-mSG  wPM1353        HS        2   \n",
      "2    wPM1353_HS_003  2025-04-03  bet1-mSG  wPM1353        HS        3   \n",
      "3    wPM1353_HS_004  2025-04-03  bet1-mSG  wPM1353        HS        4   \n",
      "4    wPM1353_HS_005  2025-04-03  bet1-mSG  wPM1353        HS        5   \n",
      "5    wPM1353_HS_006  2025-04-03  bet1-mSG  wPM1353        HS        6   \n",
      "6    wPM1353_HS_007  2025-04-03  bet1-mSG  wPM1353        HS        7   \n",
      "7    wPM1353_HS_008  2025-04-03  bet1-mSG  wPM1353        HS        8   \n",
      "8    wPM1353_HS_009  2025-04-03  bet1-mSG  wPM1353        HS        9   \n",
      "9    wPM1353_HS_010  2025-04-03  bet1-mSG  wPM1353        HS       10   \n",
      "10   wPM1353_HS_011  2025-04-03  bet1-mSG  wPM1353        HS       11   \n",
      "11   wPM1353_HS_012  2025-04-03  bet1-mSG  wPM1353        HS       12   \n",
      "12   wPM1353_HS_013  2025-04-03  bet1-mSG  wPM1353        HS       13   \n",
      "13   wPM1353_HS_014  2025-04-03  bet1-mSG  wPM1353        HS       14   \n",
      "14   wPM1353_HS_015  2025-04-03  bet1-mSG  wPM1353        HS       15   \n",
      "15   wPM1353_HS_016  2025-04-03  bet1-mSG  wPM1353        HS       16   \n",
      "16   wPM1353_HS_017  2025-04-03  bet1-mSG  wPM1353        HS       17   \n",
      "17   wPM1353_HS_018  2025-04-03  bet1-mSG  wPM1353        HS       18   \n",
      "18   wPM1353_HS_019  2025-04-03  bet1-mSG  wPM1353        HS       19   \n",
      "19   wPM1353_HS_020  2025-04-03  bet1-mSG  wPM1353        HS       20   \n",
      "20   wPM1353_HS_021  2025-04-03  bet1-mSG  wPM1353        HS       21   \n",
      "21   wPM1353_HS_022  2025-04-03  bet1-mSG  wPM1353        HS       22   \n",
      "22   wPM1353_HS_023  2025-04-03  bet1-mSG  wPM1353        HS       23   \n",
      "23   wPM1353_HS_024  2025-04-03  bet1-mSG  wPM1353        HS       24   \n",
      "24   wPM1353_HS_025  2025-04-03  bet1-mSG  wPM1353        HS       25   \n",
      "25  wPM1353_nHS_001  2025-04-03  bet1-mSG  wPM1353       nHS        1   \n",
      "26  wPM1353_nHS_002  2025-04-03  bet1-mSG  wPM1353       nHS        2   \n",
      "27  wPM1353_nHS_003  2025-04-03  bet1-mSG  wPM1353       nHS        3   \n",
      "28  wPM1353_nHS_004  2025-04-03  bet1-mSG  wPM1353       nHS        4   \n",
      "29  wPM1353_nHS_005  2025-04-03  bet1-mSG  wPM1353       nHS        5   \n",
      "30  wPM1353_nHS_006  2025-04-03  bet1-mSG  wPM1353       nHS        6   \n",
      "31  wPM1353_nHS_007  2025-04-03  bet1-mSG  wPM1353       nHS        7   \n",
      "32  wPM1353_nHS_008  2025-04-03  bet1-mSG  wPM1353       nHS        8   \n",
      "33  wPM1353_nHS_009  2025-04-03  bet1-mSG  wPM1353       nHS        9   \n",
      "34  wPM1353_nHS_010  2025-04-03  bet1-mSG  wPM1353       nHS       10   \n",
      "35  wPM1353_nHS_011  2025-04-03  bet1-mSG  wPM1353       nHS       11   \n",
      "36  wPM1353_nHS_012  2025-04-03  bet1-mSG  wPM1353       nHS       12   \n",
      "37  wPM1353_nHS_013  2025-04-03  bet1-mSG  wPM1353       nHS       13   \n",
      "38  wPM1353_nHS_014  2025-04-03  bet1-mSG  wPM1353       nHS       14   \n",
      "39  wPM1353_nHS_015  2025-04-03  bet1-mSG  wPM1353       nHS       15   \n",
      "40  wPM1353_nHS_016  2025-04-03  bet1-mSG  wPM1353       nHS       16   \n",
      "41  wPM1353_nHS_017  2025-04-03  bet1-mSG  wPM1353       nHS       17   \n",
      "42  wPM1353_nHS_018  2025-04-03  bet1-mSG  wPM1353       nHS       18   \n",
      "43  wPM1353_nHS_019  2025-04-03  bet1-mSG  wPM1353       nHS       19   \n",
      "44  wPM1353_nHS_020  2025-04-03  bet1-mSG  wPM1353       nHS       20   \n",
      "45  wPM1353_nHS_021  2025-04-03  bet1-mSG  wPM1353       nHS       21   \n",
      "46  wPM1353_nHS_022  2025-04-03  bet1-mSG  wPM1353       nHS       22   \n",
      "47  wPM1353_nHS_023  2025-04-03  bet1-mSG  wPM1353       nHS       23   \n",
      "48  wPM1353_nHS_024  2025-04-03  bet1-mSG  wPM1353       nHS       24   \n",
      "49  wPM1353_nHS_025  2025-04-03  bet1-mSG  wPM1353       nHS       25   \n",
      "50  wPM1353_nHS_026  2025-04-03  bet1-mSG  wPM1353       nHS       26   \n",
      "\n",
      "                                     id  \\\n",
      "0    bet1-mSG_2025-04-03_wPM1353_HS_001   \n",
      "1    bet1-mSG_2025-04-03_wPM1353_HS_002   \n",
      "2    bet1-mSG_2025-04-03_wPM1353_HS_003   \n",
      "3    bet1-mSG_2025-04-03_wPM1353_HS_004   \n",
      "4    bet1-mSG_2025-04-03_wPM1353_HS_005   \n",
      "5    bet1-mSG_2025-04-03_wPM1353_HS_006   \n",
      "6    bet1-mSG_2025-04-03_wPM1353_HS_007   \n",
      "7    bet1-mSG_2025-04-03_wPM1353_HS_008   \n",
      "8    bet1-mSG_2025-04-03_wPM1353_HS_009   \n",
      "9    bet1-mSG_2025-04-03_wPM1353_HS_010   \n",
      "10   bet1-mSG_2025-04-03_wPM1353_HS_011   \n",
      "11   bet1-mSG_2025-04-03_wPM1353_HS_012   \n",
      "12   bet1-mSG_2025-04-03_wPM1353_HS_013   \n",
      "13   bet1-mSG_2025-04-03_wPM1353_HS_014   \n",
      "14   bet1-mSG_2025-04-03_wPM1353_HS_015   \n",
      "15   bet1-mSG_2025-04-03_wPM1353_HS_016   \n",
      "16   bet1-mSG_2025-04-03_wPM1353_HS_017   \n",
      "17   bet1-mSG_2025-04-03_wPM1353_HS_018   \n",
      "18   bet1-mSG_2025-04-03_wPM1353_HS_019   \n",
      "19   bet1-mSG_2025-04-03_wPM1353_HS_020   \n",
      "20   bet1-mSG_2025-04-03_wPM1353_HS_021   \n",
      "21   bet1-mSG_2025-04-03_wPM1353_HS_022   \n",
      "22   bet1-mSG_2025-04-03_wPM1353_HS_023   \n",
      "23   bet1-mSG_2025-04-03_wPM1353_HS_024   \n",
      "24   bet1-mSG_2025-04-03_wPM1353_HS_025   \n",
      "25  bet1-mSG_2025-04-03_wPM1353_nHS_001   \n",
      "26  bet1-mSG_2025-04-03_wPM1353_nHS_002   \n",
      "27  bet1-mSG_2025-04-03_wPM1353_nHS_003   \n",
      "28  bet1-mSG_2025-04-03_wPM1353_nHS_004   \n",
      "29  bet1-mSG_2025-04-03_wPM1353_nHS_005   \n",
      "30  bet1-mSG_2025-04-03_wPM1353_nHS_006   \n",
      "31  bet1-mSG_2025-04-03_wPM1353_nHS_007   \n",
      "32  bet1-mSG_2025-04-03_wPM1353_nHS_008   \n",
      "33  bet1-mSG_2025-04-03_wPM1353_nHS_009   \n",
      "34  bet1-mSG_2025-04-03_wPM1353_nHS_010   \n",
      "35  bet1-mSG_2025-04-03_wPM1353_nHS_011   \n",
      "36  bet1-mSG_2025-04-03_wPM1353_nHS_012   \n",
      "37  bet1-mSG_2025-04-03_wPM1353_nHS_013   \n",
      "38  bet1-mSG_2025-04-03_wPM1353_nHS_014   \n",
      "39  bet1-mSG_2025-04-03_wPM1353_nHS_015   \n",
      "40  bet1-mSG_2025-04-03_wPM1353_nHS_016   \n",
      "41  bet1-mSG_2025-04-03_wPM1353_nHS_017   \n",
      "42  bet1-mSG_2025-04-03_wPM1353_nHS_018   \n",
      "43  bet1-mSG_2025-04-03_wPM1353_nHS_019   \n",
      "44  bet1-mSG_2025-04-03_wPM1353_nHS_020   \n",
      "45  bet1-mSG_2025-04-03_wPM1353_nHS_021   \n",
      "46  bet1-mSG_2025-04-03_wPM1353_nHS_022   \n",
      "47  bet1-mSG_2025-04-03_wPM1353_nHS_023   \n",
      "48  bet1-mSG_2025-04-03_wPM1353_nHS_024   \n",
      "49  bet1-mSG_2025-04-03_wPM1353_nHS_025   \n",
      "50  bet1-mSG_2025-04-03_wPM1353_nHS_026   \n",
      "\n",
      "                                         raw_filepath  \\\n",
      "0   /Volumes/external.data/MeisterLab/Kalyan/TF_st...   \n",
      "1   /Volumes/external.data/MeisterLab/Kalyan/TF_st...   \n",
      "2   /Volumes/external.data/MeisterLab/Kalyan/TF_st...   \n",
      "3   /Volumes/external.data/MeisterLab/Kalyan/TF_st...   \n",
      "4   /Volumes/external.data/MeisterLab/Kalyan/TF_st...   \n",
      "5   /Volumes/external.data/MeisterLab/Kalyan/TF_st...   \n",
      "6   /Volumes/external.data/MeisterLab/Kalyan/TF_st...   \n",
      "7   /Volumes/external.data/MeisterLab/Kalyan/TF_st...   \n",
      "8   /Volumes/external.data/MeisterLab/Kalyan/TF_st...   \n",
      "9   /Volumes/external.data/MeisterLab/Kalyan/TF_st...   \n",
      "10  /Volumes/external.data/MeisterLab/Kalyan/TF_st...   \n",
      "11  /Volumes/external.data/MeisterLab/Kalyan/TF_st...   \n",
      "12  /Volumes/external.data/MeisterLab/Kalyan/TF_st...   \n",
      "13  /Volumes/external.data/MeisterLab/Kalyan/TF_st...   \n",
      "14  /Volumes/external.data/MeisterLab/Kalyan/TF_st...   \n",
      "15  /Volumes/external.data/MeisterLab/Kalyan/TF_st...   \n",
      "16  /Volumes/external.data/MeisterLab/Kalyan/TF_st...   \n",
      "17  /Volumes/external.data/MeisterLab/Kalyan/TF_st...   \n",
      "18  /Volumes/external.data/MeisterLab/Kalyan/TF_st...   \n",
      "19  /Volumes/external.data/MeisterLab/Kalyan/TF_st...   \n",
      "20  /Volumes/external.data/MeisterLab/Kalyan/TF_st...   \n",
      "21  /Volumes/external.data/MeisterLab/Kalyan/TF_st...   \n",
      "22  /Volumes/external.data/MeisterLab/Kalyan/TF_st...   \n",
      "23  /Volumes/external.data/MeisterLab/Kalyan/TF_st...   \n",
      "24  /Volumes/external.data/MeisterLab/Kalyan/TF_st...   \n",
      "25  /Volumes/external.data/MeisterLab/Kalyan/TF_st...   \n",
      "26  /Volumes/external.data/MeisterLab/Kalyan/TF_st...   \n",
      "27  /Volumes/external.data/MeisterLab/Kalyan/TF_st...   \n",
      "28  /Volumes/external.data/MeisterLab/Kalyan/TF_st...   \n",
      "29  /Volumes/external.data/MeisterLab/Kalyan/TF_st...   \n",
      "30  /Volumes/external.data/MeisterLab/Kalyan/TF_st...   \n",
      "31  /Volumes/external.data/MeisterLab/Kalyan/TF_st...   \n",
      "32  /Volumes/external.data/MeisterLab/Kalyan/TF_st...   \n",
      "33  /Volumes/external.data/MeisterLab/Kalyan/TF_st...   \n",
      "34  /Volumes/external.data/MeisterLab/Kalyan/TF_st...   \n",
      "35  /Volumes/external.data/MeisterLab/Kalyan/TF_st...   \n",
      "36  /Volumes/external.data/MeisterLab/Kalyan/TF_st...   \n",
      "37  /Volumes/external.data/MeisterLab/Kalyan/TF_st...   \n",
      "38  /Volumes/external.data/MeisterLab/Kalyan/TF_st...   \n",
      "39  /Volumes/external.data/MeisterLab/Kalyan/TF_st...   \n",
      "40  /Volumes/external.data/MeisterLab/Kalyan/TF_st...   \n",
      "41  /Volumes/external.data/MeisterLab/Kalyan/TF_st...   \n",
      "42  /Volumes/external.data/MeisterLab/Kalyan/TF_st...   \n",
      "43  /Volumes/external.data/MeisterLab/Kalyan/TF_st...   \n",
      "44  /Volumes/external.data/MeisterLab/Kalyan/TF_st...   \n",
      "45  /Volumes/external.data/MeisterLab/Kalyan/TF_st...   \n",
      "46  /Volumes/external.data/MeisterLab/Kalyan/TF_st...   \n",
      "47  /Volumes/external.data/MeisterLab/Kalyan/TF_st...   \n",
      "48  /Volumes/external.data/MeisterLab/Kalyan/TF_st...   \n",
      "49  /Volumes/external.data/MeisterLab/Kalyan/TF_st...   \n",
      "50  /Volumes/external.data/MeisterLab/Kalyan/TF_st...   \n",
      "\n",
      "                                    denoised_filepath  \\\n",
      "0   /Volumes/external.data/MeisterLab/Kalyan/TF_st...   \n",
      "1   /Volumes/external.data/MeisterLab/Kalyan/TF_st...   \n",
      "2   /Volumes/external.data/MeisterLab/Kalyan/TF_st...   \n",
      "3   /Volumes/external.data/MeisterLab/Kalyan/TF_st...   \n",
      "4   /Volumes/external.data/MeisterLab/Kalyan/TF_st...   \n",
      "5   /Volumes/external.data/MeisterLab/Kalyan/TF_st...   \n",
      "6   /Volumes/external.data/MeisterLab/Kalyan/TF_st...   \n",
      "7   /Volumes/external.data/MeisterLab/Kalyan/TF_st...   \n",
      "8   /Volumes/external.data/MeisterLab/Kalyan/TF_st...   \n",
      "9   /Volumes/external.data/MeisterLab/Kalyan/TF_st...   \n",
      "10  /Volumes/external.data/MeisterLab/Kalyan/TF_st...   \n",
      "11  /Volumes/external.data/MeisterLab/Kalyan/TF_st...   \n",
      "12  /Volumes/external.data/MeisterLab/Kalyan/TF_st...   \n",
      "13  /Volumes/external.data/MeisterLab/Kalyan/TF_st...   \n",
      "14  /Volumes/external.data/MeisterLab/Kalyan/TF_st...   \n",
      "15  /Volumes/external.data/MeisterLab/Kalyan/TF_st...   \n",
      "16  /Volumes/external.data/MeisterLab/Kalyan/TF_st...   \n",
      "17  /Volumes/external.data/MeisterLab/Kalyan/TF_st...   \n",
      "18  /Volumes/external.data/MeisterLab/Kalyan/TF_st...   \n",
      "19  /Volumes/external.data/MeisterLab/Kalyan/TF_st...   \n",
      "20  /Volumes/external.data/MeisterLab/Kalyan/TF_st...   \n",
      "21  /Volumes/external.data/MeisterLab/Kalyan/TF_st...   \n",
      "22  /Volumes/external.data/MeisterLab/Kalyan/TF_st...   \n",
      "23  /Volumes/external.data/MeisterLab/Kalyan/TF_st...   \n",
      "24  /Volumes/external.data/MeisterLab/Kalyan/TF_st...   \n",
      "25  /Volumes/external.data/MeisterLab/Kalyan/TF_st...   \n",
      "26  /Volumes/external.data/MeisterLab/Kalyan/TF_st...   \n",
      "27  /Volumes/external.data/MeisterLab/Kalyan/TF_st...   \n",
      "28  /Volumes/external.data/MeisterLab/Kalyan/TF_st...   \n",
      "29  /Volumes/external.data/MeisterLab/Kalyan/TF_st...   \n",
      "30  /Volumes/external.data/MeisterLab/Kalyan/TF_st...   \n",
      "31  /Volumes/external.data/MeisterLab/Kalyan/TF_st...   \n",
      "32  /Volumes/external.data/MeisterLab/Kalyan/TF_st...   \n",
      "33  /Volumes/external.data/MeisterLab/Kalyan/TF_st...   \n",
      "34  /Volumes/external.data/MeisterLab/Kalyan/TF_st...   \n",
      "35  /Volumes/external.data/MeisterLab/Kalyan/TF_st...   \n",
      "36  /Volumes/external.data/MeisterLab/Kalyan/TF_st...   \n",
      "37  /Volumes/external.data/MeisterLab/Kalyan/TF_st...   \n",
      "38  /Volumes/external.data/MeisterLab/Kalyan/TF_st...   \n",
      "39  /Volumes/external.data/MeisterLab/Kalyan/TF_st...   \n",
      "40  /Volumes/external.data/MeisterLab/Kalyan/TF_st...   \n",
      "41  /Volumes/external.data/MeisterLab/Kalyan/TF_st...   \n",
      "42  /Volumes/external.data/MeisterLab/Kalyan/TF_st...   \n",
      "43  /Volumes/external.data/MeisterLab/Kalyan/TF_st...   \n",
      "44  /Volumes/external.data/MeisterLab/Kalyan/TF_st...   \n",
      "45  /Volumes/external.data/MeisterLab/Kalyan/TF_st...   \n",
      "46  /Volumes/external.data/MeisterLab/Kalyan/TF_st...   \n",
      "47  /Volumes/external.data/MeisterLab/Kalyan/TF_st...   \n",
      "48  /Volumes/external.data/MeisterLab/Kalyan/TF_st...   \n",
      "49  /Volumes/external.data/MeisterLab/Kalyan/TF_st...   \n",
      "50  /Volumes/external.data/MeisterLab/Kalyan/TF_st...   \n",
      "\n",
      "                                   worm_mask_filepath worm_region  \n",
      "0   /Volumes/external.data/MeisterLab/jsemple/lhin...     tailnuc  \n",
      "1   /Volumes/external.data/MeisterLab/jsemple/lhin...        head  \n",
      "2   /Volumes/external.data/MeisterLab/jsemple/lhin...        head  \n",
      "3   /Volumes/external.data/MeisterLab/jsemple/lhin...     tailnuc  \n",
      "4   /Volumes/external.data/MeisterLab/jsemple/lhin...        head  \n",
      "5   /Volumes/external.data/MeisterLab/jsemple/lhin...     tailnuc  \n",
      "6   /Volumes/external.data/MeisterLab/jsemple/lhin...        head  \n",
      "7   /Volumes/external.data/MeisterLab/jsemple/lhin...     tailnuc  \n",
      "8   /Volumes/external.data/MeisterLab/jsemple/lhin...        head  \n",
      "9   /Volumes/external.data/MeisterLab/jsemple/lhin...     tailnuc  \n",
      "10  /Volumes/external.data/MeisterLab/jsemple/lhin...        head  \n",
      "11  /Volumes/external.data/MeisterLab/jsemple/lhin...     tailnuc  \n",
      "12  /Volumes/external.data/MeisterLab/jsemple/lhin...        head  \n",
      "13  /Volumes/external.data/MeisterLab/jsemple/lhin...     tailnuc  \n",
      "14  /Volumes/external.data/MeisterLab/jsemple/lhin...        head  \n",
      "15  /Volumes/external.data/MeisterLab/jsemple/lhin...     tailnuc  \n",
      "16  /Volumes/external.data/MeisterLab/jsemple/lhin...        head  \n",
      "17  /Volumes/external.data/MeisterLab/jsemple/lhin...     tailnuc  \n",
      "18  /Volumes/external.data/MeisterLab/jsemple/lhin...     tailnuc  \n",
      "19  /Volumes/external.data/MeisterLab/jsemple/lhin...        head  \n",
      "20  /Volumes/external.data/MeisterLab/jsemple/lhin...     tailnuc  \n",
      "21  /Volumes/external.data/MeisterLab/jsemple/lhin...        head  \n",
      "22  /Volumes/external.data/MeisterLab/jsemple/lhin...     tailnuc  \n",
      "23  /Volumes/external.data/MeisterLab/jsemple/lhin...        head  \n",
      "24  /Volumes/external.data/MeisterLab/jsemple/lhin...     tailnuc  \n",
      "25  /Volumes/external.data/MeisterLab/jsemple/lhin...        head  \n",
      "26  /Volumes/external.data/MeisterLab/jsemple/lhin...     tailnuc  \n",
      "27  /Volumes/external.data/MeisterLab/jsemple/lhin...        head  \n",
      "28  /Volumes/external.data/MeisterLab/jsemple/lhin...     tailnuc  \n",
      "29  /Volumes/external.data/MeisterLab/jsemple/lhin...        head  \n",
      "30  /Volumes/external.data/MeisterLab/jsemple/lhin...     tailnuc  \n",
      "31  /Volumes/external.data/MeisterLab/jsemple/lhin...        head  \n",
      "32  /Volumes/external.data/MeisterLab/jsemple/lhin...     tailnuc  \n",
      "33  /Volumes/external.data/MeisterLab/jsemple/lhin...        head  \n",
      "34  /Volumes/external.data/MeisterLab/jsemple/lhin...     tailnuc  \n",
      "35  /Volumes/external.data/MeisterLab/jsemple/lhin...        head  \n",
      "36  /Volumes/external.data/MeisterLab/jsemple/lhin...     tailnuc  \n",
      "37  /Volumes/external.data/MeisterLab/jsemple/lhin...        head  \n",
      "38  /Volumes/external.data/MeisterLab/jsemple/lhin...     tailnuc  \n",
      "39  /Volumes/external.data/MeisterLab/jsemple/lhin...        head  \n",
      "40  /Volumes/external.data/MeisterLab/jsemple/lhin...     tailnuc  \n",
      "41  /Volumes/external.data/MeisterLab/jsemple/lhin...        head  \n",
      "42  /Volumes/external.data/MeisterLab/jsemple/lhin...     tailnuc  \n",
      "43  /Volumes/external.data/MeisterLab/jsemple/lhin...        head  \n",
      "44  /Volumes/external.data/MeisterLab/jsemple/lhin...     tailnuc  \n",
      "45  /Volumes/external.data/MeisterLab/jsemple/lhin...        head  \n",
      "46  /Volumes/external.data/MeisterLab/jsemple/lhin...     tailnuc  \n",
      "47  /Volumes/external.data/MeisterLab/jsemple/lhin...        head  \n",
      "48  /Volumes/external.data/MeisterLab/jsemple/lhin...     tailnuc  \n",
      "49  /Volumes/external.data/MeisterLab/jsemple/lhin...        head  \n",
      "50  /Volumes/external.data/MeisterLab/jsemple/lhin...     tailnuc  \u001b[0m\n",
      "\u001b[1;32m     51\u001b[0m viewer\u001b[38;5;241m.\u001b[39mclose()\n",
      "\n",
      "\u001b[0;31mTypeError\u001b[0m: Viewer.export_figure() got an unexpected keyword argument 'dpi'\n"
     ]
    },
    {
     "ename": "KeyboardInterrupt",
     "evalue": "",
     "output_type": "error",
     "traceback": [
      "\u001b[0;31m---------------------------------------------------------------------------\u001b[0m",
      "\u001b[0;31mKeyboardInterrupt\u001b[0m                         Traceback (most recent call last)",
      "Cell \u001b[0;32mIn[3], line 55\u001b[0m\n\u001b[1;32m     51\u001b[0m     viewer\u001b[38;5;241m.\u001b[39mclose()\n\u001b[1;32m     54\u001b[0m \u001b[38;5;66;03m# Run Napari\u001b[39;00m\n\u001b[0;32m---> 55\u001b[0m \u001b[43mnapari\u001b[49m\u001b[38;5;241;43m.\u001b[39;49m\u001b[43mrun\u001b[49m\u001b[43m(\u001b[49m\u001b[43m)\u001b[49m\n\u001b[1;32m     57\u001b[0m  \u001b[38;5;66;03m#   return df\u001b[39;00m\n",
      "File \u001b[0;32m~/micromamba/envs/lhcellpose/lib/python3.10/site-packages/napari/_qt/qt_event_loop.py:436\u001b[0m, in \u001b[0;36mrun\u001b[0;34m(force, gui_exceptions, max_loop_level, _func_name)\u001b[0m\n\u001b[1;32m    424\u001b[0m     warn(\n\u001b[1;32m    425\u001b[0m         trans\u001b[38;5;241m.\u001b[39m_n(\n\u001b[1;32m    426\u001b[0m             \u001b[38;5;124m'\u001b[39m\u001b[38;5;124mA QApplication is already running with 1 event loop. To enter *another* event loop, use `\u001b[39m\u001b[38;5;132;01m{_func_name}\u001b[39;00m\u001b[38;5;124m(max_loop_level=\u001b[39m\u001b[38;5;132;01m{max_loop_level}\u001b[39;00m\u001b[38;5;124m)`\u001b[39m\u001b[38;5;124m'\u001b[39m,\n\u001b[0;32m   (...)\u001b[0m\n\u001b[1;32m    433\u001b[0m         stacklevel\u001b[38;5;241m=\u001b[39m\u001b[38;5;241m2\u001b[39m,\n\u001b[1;32m    434\u001b[0m     )\n\u001b[1;32m    435\u001b[0m     \u001b[38;5;28;01mreturn\u001b[39;00m\n\u001b[0;32m--> 436\u001b[0m \u001b[38;5;28;01mwith\u001b[39;00m notification_manager, _maybe_allow_interrupt(app):\n\u001b[1;32m    437\u001b[0m     app\u001b[38;5;241m.\u001b[39mexec_()\n",
      "File \u001b[0;32m~/micromamba/envs/lhcellpose/lib/python3.10/contextlib.py:142\u001b[0m, in \u001b[0;36m_GeneratorContextManager.__exit__\u001b[0;34m(self, typ, value, traceback)\u001b[0m\n\u001b[1;32m    140\u001b[0m \u001b[38;5;28;01mif\u001b[39;00m typ \u001b[38;5;129;01mis\u001b[39;00m \u001b[38;5;28;01mNone\u001b[39;00m:\n\u001b[1;32m    141\u001b[0m     \u001b[38;5;28;01mtry\u001b[39;00m:\n\u001b[0;32m--> 142\u001b[0m         \u001b[38;5;28;43mnext\u001b[39;49m\u001b[43m(\u001b[49m\u001b[38;5;28;43mself\u001b[39;49m\u001b[38;5;241;43m.\u001b[39;49m\u001b[43mgen\u001b[49m\u001b[43m)\u001b[49m\n\u001b[1;32m    143\u001b[0m     \u001b[38;5;28;01mexcept\u001b[39;00m \u001b[38;5;167;01mStopIteration\u001b[39;00m:\n\u001b[1;32m    144\u001b[0m         \u001b[38;5;28;01mreturn\u001b[39;00m \u001b[38;5;28;01mFalse\u001b[39;00m\n",
      "File \u001b[0;32m~/micromamba/envs/lhcellpose/lib/python3.10/site-packages/napari/_qt/utils.py:364\u001b[0m, in \u001b[0;36m_maybe_allow_interrupt\u001b[0;34m(qapp)\u001b[0m\n\u001b[1;32m    362\u001b[0m signal\u001b[38;5;241m.\u001b[39msignal(signal\u001b[38;5;241m.\u001b[39mSIGINT, old_sigint_handler)\n\u001b[1;32m    363\u001b[0m \u001b[38;5;28;01mif\u001b[39;00m handler_args \u001b[38;5;129;01mis\u001b[39;00m \u001b[38;5;129;01mnot\u001b[39;00m \u001b[38;5;28;01mNone\u001b[39;00m:\n\u001b[0;32m--> 364\u001b[0m     \u001b[43mold_sigint_handler\u001b[49m\u001b[43m(\u001b[49m\u001b[38;5;241;43m*\u001b[39;49m\u001b[43mhandler_args\u001b[49m\u001b[43m)\u001b[49m\n",
      "\u001b[0;31mKeyboardInterrupt\u001b[0m: "
     ]
    }
   ],
   "source": [
    "df = pd.read_csv(os.path.join(output_path,'fileList_wormMasks.csv'))\n",
    "df = correct_loaded_path(df,col_names=['raw_filepath', 'denoised_filepath','worm_mask_filepath'])\n",
    "index=12\n",
    "#def select_worm_region(df, index, output_path, spotChannel=0):\n",
    "    # Load the data\n",
    "img = BioImage(df.raw_filepath.iloc[index], reader=bioio_nd2.Reader)\n",
    "img = img.get_image_data(\"ZYX\", T=0, C=spotChannel)\n",
    "img = np.max(img[:, :, :], axis=0)\n",
    "\n",
    "if os.path.exists(os.path.join(output_path,'worm_masks'))==False:\n",
    "    os.makedirs(os.path.join(output_path,'worm_masks'), exist_ok=True)\n",
    "\n",
    "if 'worm_mask_filepath' not in df.columns:\n",
    "    df['worm_mask_filepath'] = \"\"\n",
    "    df['worm_region'] = \"\"\n",
    "\n",
    "# Create the Napari viewer\n",
    "viewer = napari.Viewer()\n",
    "\n",
    "# Add the image and shapes layers\n",
    "layer_c0 = viewer.add_image(img, blending='additive', colormap='cyan', opacity=0.85,\n",
    "                            contrast_limits=[50, 300])\n",
    "layer_c1 = viewer.add_shapes(opacity=0.1, name='Worm', edge_color='white', face_color='transparent')\n",
    "\n",
    "# Dropdown widget for category selection\n",
    "@magicgui(\n",
    "    auto_call=True,\n",
    "    category={\"choices\": [\"head\", \"tail\", \"tailnuc\", \"body\", \"embryo\"]},  # Dropdown menu\n",
    ")\n",
    "def dropdown_widget(category: str = \"head\"):\n",
    "    return category\n",
    "\n",
    "# Add a text prompt to the viewer\n",
    "viewer.text_overlay.text = \"Draw worm polygon outline in 'worm' layer then press 'm' to save the mask.\"\n",
    "viewer.text_overlay.visible = True\n",
    "\n",
    "# Add the dropdown widget to the viewer\n",
    "viewer.window.add_dock_widget(dropdown_widget, area=\"right\")\n",
    "\n",
    "# Key binding to save the mask\n",
    "@viewer.bind_key('m')  # Press 'm' to generate the mask\n",
    "def generate_mask(viewer):\n",
    "    # Convert shapes to a binary mask\n",
    "    binary_mask = layer_c1.to_masks(img.shape)\n",
    "    mask_path = os.path.join(output_path, 'worm_masks', df.id.iloc[index] + '.tif')\n",
    "    #OmeTiffWriter.save(binary_mask.astype(np.uint8), mask_path)\n",
    "    #df.at[index, 'worm_mask_filepath'] = mask_path\n",
    "    #df.at[index, 'worm_region'] = dropdown_widget.category.value\n",
    "    print(f\"Mask saved to {mask_path}\")\n",
    "    viewer.export_figure(os.path.join(output_path, 'test'+df.id.iloc[index] + '.png'), dpi=300)\n",
    "    viewer.close()\n",
    "\n",
    "\n",
    "# Run Napari\n",
    "napari.run()\n",
    "\n",
    " #   return df"
   ]
  },
  {
   "cell_type": "code",
   "execution_count": null,
   "metadata": {},
   "outputs": [],
   "source": []
  }
 ],
 "metadata": {
  "kernelspec": {
   "display_name": "lhcellpose",
   "language": "python",
   "name": "python3"
  },
  "language_info": {
   "codemirror_mode": {
    "name": "ipython",
    "version": 3
   },
   "file_extension": ".py",
   "mimetype": "text/x-python",
   "name": "python",
   "nbconvert_exporter": "python",
   "pygments_lexer": "ipython3",
   "version": "3.10.16"
  }
 },
 "nbformat": 4,
 "nbformat_minor": 2
}
