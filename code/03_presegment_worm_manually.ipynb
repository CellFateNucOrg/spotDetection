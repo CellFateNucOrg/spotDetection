{
 "cells": [
  {
   "cell_type": "markdown",
   "metadata": {},
   "source": [
    "# Viewing results in Napari\n",
    "\n",
    "Code uses outputs created by the spot_detection script to quickly load a particular image with masks and spots into napari in order to visually evaluate the restults.\n",
    "\n",
    "Run this on a local machine rather than the server as getting X11 forwarding to work on the server is a bit tricky. \n",
    "\n",
    "Pathnames from the fileList.csv df are automatically converted from /mnt/external.data/ to /Volumes/external.data/\n",
    "\n",
    "If you are working on windows, then mount izbkingston in WSL under /mnt/izbkingston/ so it can be converted to /mnt/external.data/.\n",
    "\n",
    "the pathnames stored in the file_list.csv of flie_list_wormMasks.csv are always in server format."
   ]
  },
  {
   "cell_type": "code",
   "execution_count": null,
   "metadata": {},
   "outputs": [],
   "source": [
    "import napari\n",
    "import pandas as pd\n",
    "import numpy as np\n",
    "import matplotlib.pyplot as plt\n",
    "import os\n",
    "from bioio import BioImage\n",
    "import bioio_nd2\n",
    "import tqdm\n",
    "from bioio.writers import OmeTiffWriter\n",
    "from magicgui import magicgui\n",
    "from napari.settings import get_settings\n",
    "from magicgui.widgets import ComboBox, PushButton, Container\n",
    "from skimage.draw import polygon\n",
    "from convert_paths import correct_path, correct_save_path, correct_loaded_path\n",
    "\n",
    "\n",
    "settings = get_settings()\n",
    "settings.application.ipy_interactive = False\n"
   ]
  },
  {
   "cell_type": "markdown",
   "metadata": {},
   "source": [
    "## Input parameters"
   ]
  },
  {
   "cell_type": "code",
   "execution_count": null,
   "metadata": {},
   "outputs": [
    {
     "data": {
      "application/vnd.microsoft.datawrangler.viewer.v0+json": {
       "columns": [
        {
         "name": "index",
         "rawType": "int64",
         "type": "integer"
        },
        {
         "name": "filename",
         "rawType": "object",
         "type": "string"
        },
        {
         "name": "date",
         "rawType": "object",
         "type": "string"
        },
        {
         "name": "protein",
         "rawType": "object",
         "type": "string"
        },
        {
         "name": "strain",
         "rawType": "object",
         "type": "string"
        },
        {
         "name": "treatment",
         "rawType": "object",
         "type": "string"
        },
        {
         "name": "worm_id",
         "rawType": "int64",
         "type": "integer"
        },
        {
         "name": "id",
         "rawType": "object",
         "type": "string"
        },
        {
         "name": "raw_filepath",
         "rawType": "object",
         "type": "string"
        },
        {
         "name": "denoised_filepath",
         "rawType": "object",
         "type": "string"
        }
       ],
       "conversionMethod": "pd.DataFrame",
       "ref": "dec04fbe-be82-44f1-b386-2e0c4d19f208",
       "rows": [
        [
         "0",
         "2025_10_05_wPM1353_HS_001",
         "2025-10-05",
         "bet1-mSG",
         "wPM1353",
         "HS",
         "1",
         "bet1-mSG_2025-10-05_2025_10_05_wPM1353_HS_001",
         "/Volumes/external.data/MeisterLab/jsemple/demo_VIBE/images/wPM1353_bet1_mSG/2025_10_05_wPM1353/2025_10_05_wPM1353_HS/2025_10_05_wPM1353_HS_001.nd2",
         "/Volumes/external.data/MeisterLab/jsemple/demo_VIBE/images/wPM1353_bet1_mSG/2025_10_05_wPM1353/2025_10_05_wPM1353_HS/n2v_denoise/denoised/2025_10_05_wPM1353_HS_001_green_n2v.tif"
        ],
        [
         "1",
         "2025_10_05_wPM1353_nHS_001",
         "2025-10-05",
         "bet1-mSG",
         "wPM1353",
         "nHS",
         "1",
         "bet1-mSG_2025-10-05_2025_10_05_wPM1353_nHS_001",
         "/Volumes/external.data/MeisterLab/jsemple/demo_VIBE/images/wPM1353_bet1_mSG/2025_10_05_wPM1353/2025_10_05_wPM1353_HS/2025_10_05_wPM1353_nHS_001.nd2",
         "/Volumes/external.data/MeisterLab/jsemple/demo_VIBE/images/wPM1353_bet1_mSG/2025_10_05_wPM1353/2025_10_05_wPM1353_HS/n2v_denoise/denoised/2025_10_05_wPM1353_nHS_001_green_n2v.tif"
        ]
       ],
       "shape": {
        "columns": 9,
        "rows": 2
       }
      },
      "text/html": [
       "<div>\n",
       "<style scoped>\n",
       "    .dataframe tbody tr th:only-of-type {\n",
       "        vertical-align: middle;\n",
       "    }\n",
       "\n",
       "    .dataframe tbody tr th {\n",
       "        vertical-align: top;\n",
       "    }\n",
       "\n",
       "    .dataframe thead th {\n",
       "        text-align: right;\n",
       "    }\n",
       "</style>\n",
       "<table border=\"1\" class=\"dataframe\">\n",
       "  <thead>\n",
       "    <tr style=\"text-align: right;\">\n",
       "      <th></th>\n",
       "      <th>filename</th>\n",
       "      <th>date</th>\n",
       "      <th>protein</th>\n",
       "      <th>strain</th>\n",
       "      <th>treatment</th>\n",
       "      <th>worm_id</th>\n",
       "      <th>id</th>\n",
       "      <th>raw_filepath</th>\n",
       "      <th>denoised_filepath</th>\n",
       "    </tr>\n",
       "  </thead>\n",
       "  <tbody>\n",
       "    <tr>\n",
       "      <th>0</th>\n",
       "      <td>2025_10_05_wPM1353_HS_001</td>\n",
       "      <td>2025-10-05</td>\n",
       "      <td>bet1-mSG</td>\n",
       "      <td>wPM1353</td>\n",
       "      <td>HS</td>\n",
       "      <td>1</td>\n",
       "      <td>bet1-mSG_2025-10-05_2025_10_05_wPM1353_HS_001</td>\n",
       "      <td>/Volumes/external.data/MeisterLab/jsemple/demo...</td>\n",
       "      <td>/Volumes/external.data/MeisterLab/jsemple/demo...</td>\n",
       "    </tr>\n",
       "    <tr>\n",
       "      <th>1</th>\n",
       "      <td>2025_10_05_wPM1353_nHS_001</td>\n",
       "      <td>2025-10-05</td>\n",
       "      <td>bet1-mSG</td>\n",
       "      <td>wPM1353</td>\n",
       "      <td>nHS</td>\n",
       "      <td>1</td>\n",
       "      <td>bet1-mSG_2025-10-05_2025_10_05_wPM1353_nHS_001</td>\n",
       "      <td>/Volumes/external.data/MeisterLab/jsemple/demo...</td>\n",
       "      <td>/Volumes/external.data/MeisterLab/jsemple/demo...</td>\n",
       "    </tr>\n",
       "  </tbody>\n",
       "</table>\n",
       "</div>"
      ],
      "text/plain": [
       "                     filename        date   protein   strain treatment  \\\n",
       "0   2025_10_05_wPM1353_HS_001  2025-10-05  bet1-mSG  wPM1353        HS   \n",
       "1  2025_10_05_wPM1353_nHS_001  2025-10-05  bet1-mSG  wPM1353       nHS   \n",
       "\n",
       "   worm_id                                              id  \\\n",
       "0        1   bet1-mSG_2025-10-05_2025_10_05_wPM1353_HS_001   \n",
       "1        1  bet1-mSG_2025-10-05_2025_10_05_wPM1353_nHS_001   \n",
       "\n",
       "                                        raw_filepath  \\\n",
       "0  /Volumes/external.data/MeisterLab/jsemple/demo...   \n",
       "1  /Volumes/external.data/MeisterLab/jsemple/demo...   \n",
       "\n",
       "                                   denoised_filepath  \n",
       "0  /Volumes/external.data/MeisterLab/jsemple/demo...  \n",
       "1  /Volumes/external.data/MeisterLab/jsemple/demo...  "
      ]
     },
     "execution_count": 14,
     "metadata": {},
     "output_type": "execute_result"
    }
   ],
   "source": [
    "spotChannel = 0 # green spots\n",
    "#nucChannel = 0 # red emerin rings  - if there is no nuclear marker, set to same as spotChannel\n",
    "\n",
    "path_type=\"mac\" # could be \"server\", \"mac\" or \"wsl\"\n",
    "\n",
    "#output_path = '/mnt/external.data/MeisterLab/jsemple/lhinder/segmentation_Dario/DPY27/'\n",
    "output_path = '/mnt/external.data/MeisterLab/jsemple/demo_VIBE/results/2025-10-05_bet1-mSG_wPM1353'\n",
    "output_path = correct_path(output_path, path_type)\n",
    " \n",
    "df = pd.read_csv(os.path.join(output_path,'fileList.csv'))\n",
    "df = correct_loaded_path(df, path_type, col_names=['raw_filepath', 'denoised_filepath'])\n",
    "\n",
    "df.head()"
   ]
  },
  {
   "cell_type": "markdown",
   "metadata": {},
   "source": [
    "## Function to interactively choose and clasify region"
   ]
  },
  {
   "cell_type": "code",
   "execution_count": null,
   "metadata": {},
   "outputs": [],
   "source": [
    "def select_worm_region(df, index, output_path, spotChannel=0, contrast_min=100, contrast_max=250):\n",
    "    img = BioImage(df.raw_filepath.iloc[index], reader=bioio_nd2.Reader)\n",
    "    img = img.get_image_data(\"ZYX\", T=0, C=spotChannel)\n",
    "    img = np.max(img[:, :, :], axis=0)\n",
    "\n",
    "    if os.path.exists(os.path.join(output_path,'worm_masks'))==False:\n",
    "        os.makedirs(os.path.join(output_path,'worm_masks'), exist_ok=True)\n",
    "\n",
    "    if os.path.exists(os.path.join(output_path,'qc'))==False:\n",
    "        os.makedirs(os.path.join(output_path,'qc'), exist_ok=True)\n",
    "\n",
    "    # Create the Napari viewer\n",
    "    viewer = napari.Viewer()\n",
    "\n",
    "    # Add the image and shapes layers\n",
    "    layer_c0 = viewer.add_image(img, blending='additive', colormap='cyan', opacity=0.85,\n",
    "                            contrast_limits=[contrast_min, contrast_max])\n",
    "\n",
    "    shapes_layer = viewer.add_shapes(opacity=0.5, name='Labeled Shapes', edge_color='white', \n",
    "                                face_color='transparent', edge_width=5, properties={'label': []},\n",
    "                                text={'text': 'label', 'size': 20, 'color': 'magenta', 'anchor': 'center'})\n",
    "\n",
    "\n",
    "    # Dropdown for label choices (no \"other\" option)\n",
    "    label_dropdown = ComboBox(label=\"Label\", choices=[\"head\", \"tail\", \"tailnuc\", \"body_vnc\",\"body_other\",\"embryo\",\"worm\"])\n",
    "\n",
    "    # Button to apply the label\n",
    "    set_label_button = PushButton(label=\"Set Label\")\n",
    "\n",
    "    # Function to apply the label to the current shape\n",
    "    def apply_label(event=None):\n",
    "        label = label_dropdown.value\n",
    "        shapes_layer.current_properties = {'label': [label]}\n",
    "\n",
    "    set_label_button.clicked.connect(apply_label)\n",
    "\n",
    "    # Combine widgets into a container\n",
    "    label_widget = Container(widgets=[label_dropdown, set_label_button])\n",
    "\n",
    "    # Add to Napari\n",
    "    viewer.window.add_dock_widget(label_widget, area='right')\n",
    "\n",
    "    # Add a text prompt to the viewer\n",
    "    viewer.text_overlay.text = \"Draw polygon outline in 'labled Shapes' layer then press 'm' to save the mask.\"\n",
    "    viewer.text_overlay.visible = True\n",
    "\n",
    "    # Keybinding to save shapes with the same label as binary masks\n",
    "    @viewer.bind_key('m')\n",
    "    def save_shapes_as_masks(viewer):\n",
    "        shapes = shapes_layer.data\n",
    "        labels = shapes_layer.properties['label']\n",
    "        canvas_size = img.shape  # Adjust to your image size\n",
    "\n",
    "        for label in set(labels):\n",
    "            mask = np.zeros(canvas_size, dtype=np.uint8)\n",
    "            for shape, shape_label in zip(shapes, labels):\n",
    "                if shape_label == label:\n",
    "                    rr, cc = polygon(shape[:, 0], shape[:, 1], canvas_size)\n",
    "                    mask[rr, cc] = 1\n",
    "            mask_path = os.path.join(output_path, 'worm_masks', df.id.iloc[index] + '_' + label +'.tif')\n",
    "            OmeTiffWriter.save(mask.astype(np.uint8), mask_path)\n",
    "\n",
    "        if 'worm_regions_all' not in df.columns:\n",
    "            df['worm_regions_all'] = \"\"\n",
    "        df.at[index, 'worm_regions_all'] = ';'.join(set(labels))\n",
    "        viewer.text_overlay.text = 'index'+str(index)+' '+df.at[index, 'worm_regions_all']\n",
    "        viewer.text_overlay.font_size = 40\n",
    "        viewer.text_overlay.visible = True\n",
    "        viewer.export_figure(os.path.join(output_path, 'qc', 'wormMask_'+df.id.iloc[index]  + '.png'))\n",
    "\n",
    "        viewer.close()\n",
    "    napari.run()\n",
    "    return df\n"
   ]
  },
  {
   "cell_type": "markdown",
   "metadata": {},
   "source": [
    "## Manually create masks for worm region\n",
    "Run this code to scroll through the rows of the df dataframe, and open a max projection of the raw image in napari. To create mask:\n",
    "\n",
    "1) Select from dropdown menu on the top right what worm region you are highlighting (head, tail, tailnuc, body, embryo), and press \"select\" button\n",
    "\n",
    "2) Use polygon selection tool among the options on the left menu to draw an outline around the region of interest. It does not have to be tight around the worm, just avoid any other fluorescent regions you are not interestd in. If you make a mistake you can delete and redraw. you can draw several regions of the same type.\n",
    "\n",
    "3) To draw a region of a different type, select a different region from the dropdown menu and press the \"set label\" button.\n",
    "\n",
    "4) When you are satisfied with your selection, press 'm' and that will save a binary mask for each type of region, and save the region types you selected to the data frame and close the napari viewer.\n",
    "\n",
    "\n",
    "The code saves the df dataframe into fileList_wormMasks.csv after every image, so if your run get interrupted you can just change the range of indeces you are using."
   ]
  },
  {
   "cell_type": "code",
   "execution_count": 13,
   "metadata": {},
   "outputs": [
    {
     "name": "stderr",
     "output_type": "stream",
     "text": [
      "  0%|          | 0/2 [00:00<?, ?it/s]"
     ]
    },
    {
     "name": "stderr",
     "output_type": "stream",
     "text": [
      "/Users/semple/micromamba/envs/lhcellpose/lib/python3.10/site-packages/dask/tokenize.py:242: UserWarning: ND2File file not closed before garbage collection. Please use `with ND2File(...):` context or call `.close()`.\n",
      "  mod.loads(out, buffers=buffers)\n",
      " 50%|█████     | 1/2 [01:32<01:32, 92.03s/it]/Users/semple/micromamba/envs/lhcellpose/lib/python3.10/site-packages/dask/tokenize.py:242: UserWarning: ND2File file not closed before garbage collection. Please use `with ND2File(...):` context or call `.close()`.\n",
      "  mod.loads(out, buffers=buffers)\n",
      "100%|██████████| 2/2 [02:48<00:00, 84.39s/it]\n"
     ]
    }
   ],
   "source": [
    "if os.path.exists(os.path.join(output_path,'fileList_wormMasks.csv'))==True:\n",
    "    df = pd.read_csv(os.path.join(output_path,'fileList_wormMasks.csv'))\n",
    "    df = correct_loaded_path(df, path_type, col_names=['raw_filepath', 'denoised_filepath'])\n",
    "\n",
    "\n",
    "indeces=range(0, len(df))\n",
    "#indeces=range(19, 20)\n",
    "\n",
    "for index in tqdm.tqdm(indeces):\n",
    "    df = select_worm_region(df, index, output_path, spotChannel=spotChannel, contrast_min=100,contrast_max=450)\n",
    "    df_tmp = df.copy()\n",
    "    df_tmp = correct_save_path(df_tmp, path_type, col_names=['raw_filepath', 'denoised_filepath'])\n",
    "    df_tmp.to_csv(os.path.join(output_path,'fileList_wormMasks.csv'),index=False)"
   ]
  }
 ],
 "metadata": {
  "kernelspec": {
   "display_name": "lhcellpose",
   "language": "python",
   "name": "python3"
  },
  "language_info": {
   "codemirror_mode": {
    "name": "ipython",
    "version": 3
   },
   "file_extension": ".py",
   "mimetype": "text/x-python",
   "name": "python",
   "nbconvert_exporter": "python",
   "pygments_lexer": "ipython3",
   "version": "3.10.16"
  }
 },
 "nbformat": 4,
 "nbformat_minor": 2
}
