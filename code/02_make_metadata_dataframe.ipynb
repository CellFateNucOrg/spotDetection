{
 "cells": [
  {
   "cell_type": "markdown",
   "id": "b502f17d",
   "metadata": {},
   "source": [
    "# Create metadata dataframe\n",
    "\n",
    "- Get full paths to raw and denoised images\n",
    "- Extract metadata from paths\n",
    "\n",
    "Generate output path for that dataset and save pandas dataframe with metadata to fileList.csv"
   ]
  },
  {
   "cell_type": "code",
   "execution_count": 1,
   "id": "4507552f",
   "metadata": {},
   "outputs": [],
   "source": [
    "import glob\n",
    "import os\n",
    "import pandas as pd\n",
    "from convert_paths import correct_path, correct_save_path"
   ]
  },
  {
   "cell_type": "markdown",
   "id": "9b41b641",
   "metadata": {},
   "source": [
    "## Input parameters"
   ]
  },
  {
   "cell_type": "code",
   "execution_count": 2,
   "id": "be27c25e",
   "metadata": {},
   "outputs": [],
   "source": [
    "#### input parameters ######\n",
    "path_type=\"mac\"  # could be \"server\", \"mac\" or \"wsl\"\n",
    "\n",
    "#raw_input_path = correct_path('/mnt/external.data/MeisterLab/Kalyan/TF_strains/wPM1353_bet1_mSG/2025_25_02_wPM1353/2025_25_02_wPM1353_HS')\n",
    "#raw_input_path = correct_path('/mnt/external.data/MeisterLab/Kalyan/TF_strains/wPM1353_bet1_mSG/2025_04_03_wPM1353/2025_04_03_wPM1353_HS')\n",
    "#raw_input_path = correct_path('/mnt/external.data/MeisterLab/Kalyan/TF_strains/wPM1353_bet1_mSG/2025_10_05_wPM1353/2025_10_05_wPM1353_HS')\n",
    "raw_input_path = correct_path('/mnt/external.data/MeisterLab/jsemple/demo_VIBE/images/wPM1353_bet1_mSG/2025_10_05_wPM1353/2025_10_05_wPM1353_HS', path_type)\n",
    "denoised_input_path = os.path.join(raw_input_path,'n2v_denoise/denoised')\n",
    "\n",
    "\n",
    "#output_path = '/Volumes/external.data/MeisterLab/jsemple/lhinder/segmentation_Dario/DPY27/'\n",
    "output_path_base = correct_path('/mnt/external.data/MeisterLab/jsemple/demo_VIBE/results', path_type)\n"
   ]
  },
  {
   "cell_type": "markdown",
   "id": "6fe3133d",
   "metadata": {},
   "source": [
    "## Dataset specific import functions and metadata generators"
   ]
  },
  {
   "cell_type": "code",
   "execution_count": 3,
   "id": "8df63619",
   "metadata": {},
   "outputs": [],
   "source": [
    "def kalyan_metadata(raw_input_path, raw_filepaths, output_path_base, denoised_input_path):\n",
    "    # extract identifying directories from raw_input_path\n",
    "    metadata = os.path.normpath(raw_input_path).split(os.sep)[-3:]\n",
    "    protein = '-'.join(metadata[0].split('_')[1:])\n",
    "    strain = metadata[0].split('_')[0]\n",
    "    date = '-'.join(metadata[1].split('_')[:3])\n",
    "\n",
    "    output_path = os.path.join(output_path_base, '_'.join([date,protein,strain]))\n",
    "    if not os.path.exists(output_path):\n",
    "        os.makedirs(output_path, exist_ok=True)\n",
    "\n",
    "    df = pd.DataFrame()\n",
    "    df['filename'] = [os.path.basename(filepath)[:-4] for filepath in raw_filepaths]\n",
    "    #tmpdate = [os.path.normpath(filepath).split(os.sep)[-2] for filepath in raw_filepaths]\n",
    "    df['date'] = date\n",
    "    df['protein'] = protein\n",
    "    df['strain'] = strain\n",
    "    df['treatment'] = [filename.split('_')[-2] for filename in df['filename']]\n",
    "    df['worm_id'] = [filename.split('_')[-1] for filename in df['filename']]    \n",
    "    df['id'] = df['protein'] + '_' + df['date'] + '_' + df['filename'] \n",
    "    df['raw_filepath'] = raw_filepaths\n",
    "    df['denoised_filepath'] = [os.path.join(denoised_input_path,filename+'_green_n2v.tif') for filename in df['filename']]\n",
    "    df_to_save = correct_save_path(df.copy(), path_type, col_names=['raw_filepath', 'denoised_filepath'])        \n",
    "    df_to_save.to_csv(os.path.join(output_path,'fileList.csv'),index=False)\n",
    "    return(df, output_path)\n",
    "\n",
    "\n",
    "\n",
    "\n",
    "def dario_metadata(raw_input_path, raw_filepaths, output_path_base, denoised_input_path):\n",
    "    # extract identifying directories from raw_input_path\n",
    "    protein_strain_date = os.path.normpath(raw_input_path).split(os.sep)[-3:]\n",
    "    protein_strain_date = '/'.join(protein_strain_date)\n",
    "    output_path = os.path.join(output_path_base, protein_strain_date)\n",
    "    df = pd.DataFrame()\n",
    "    df['filename'] = [os.path.basename(filepath)[:-4] for filepath in raw_filepaths]\n",
    "    tmpdate = [os.path.normpath(filepath).split(os.sep)[-2] for filepath in raw_filepaths]\n",
    "    df['date'] = pd.Series([exp.split('_')[0] for exp in tmpdate])\n",
    "    df['stage'] = pd.Series([exp.split('_')[1] for exp in tmpdate])\n",
    "    df['experiment'] = pd.Series([exp.split('_')[2] for exp in tmpdate])\n",
    "    df['strain'] = [os.path.normpath(filepath).split(os.sep)[-3] for filepath in raw_filepaths]\n",
    "    df['protein'] = [os.path.normpath(filepath).split(os.sep)[-4] for filepath in raw_filepaths]\n",
    "    df['id'] = df['protein'] + '_' + df['stage'] + '_' + df['experiment'] + '_' + df['filename'] \n",
    "    df['raw_filepath'] = raw_filepaths\n",
    "    df['denoised_filepath'] = [os.path.join(denoised_input_path,filename+'_n2v.tif') for filename in df['filename']]\n",
    "    df_to_save = correct_save_path(df.copy(), path_type, col_names=['raw_filepath', 'denoised_filepath'])  \n",
    "    df_to_save.to_csv(os.path.join(output_path,'fileList.csv'),index=False)\n",
    "    return(df, output_path)"
   ]
  },
  {
   "cell_type": "markdown",
   "id": "a8a6ccec",
   "metadata": {},
   "source": [
    "## Get paths and make dataframe"
   ]
  },
  {
   "cell_type": "code",
   "execution_count": 4,
   "id": "6118e9ae",
   "metadata": {},
   "outputs": [
    {
     "name": "stdout",
     "output_type": "stream",
     "text": [
      "Found 2 *.nd2 files.\n"
     ]
    },
    {
     "data": {
      "text/plain": [
       "'/Volumes/external.data/MeisterLab/jsemple/demo_VIBE/results/2025-10-05_bet1-mSG_wPM1353'"
      ]
     },
     "execution_count": 4,
     "metadata": {},
     "output_type": "execute_result"
    }
   ],
   "source": [
    "if not os.path.exists(output_path_base):\n",
    "    os.makedirs(output_path_base, exist_ok=True)\n",
    "\n",
    "raw_file_name_pattern = \"/*.nd2\"\n",
    "raw_filepaths = sorted(glob.glob(raw_input_path + raw_file_name_pattern,recursive=True))\n",
    "raw_filepaths = [filepath for filepath in raw_filepaths if '_bad.nd2' not in filepath]\n",
    "\n",
    "print(f\"Found {len(raw_filepaths)} *.nd2 files.\")\n",
    "\n",
    "\n",
    "df, output_path = kalyan_metadata(raw_input_path, raw_filepaths, output_path_base, denoised_input_path)\n",
    "output_path "
   ]
  },
  {
   "cell_type": "code",
   "execution_count": 5,
   "id": "021a1ceb",
   "metadata": {},
   "outputs": [
    {
     "data": {
      "application/vnd.microsoft.datawrangler.viewer.v0+json": {
       "columns": [
        {
         "name": "index",
         "rawType": "int64",
         "type": "integer"
        },
        {
         "name": "filename",
         "rawType": "object",
         "type": "string"
        },
        {
         "name": "date",
         "rawType": "object",
         "type": "string"
        },
        {
         "name": "protein",
         "rawType": "object",
         "type": "string"
        },
        {
         "name": "strain",
         "rawType": "object",
         "type": "string"
        },
        {
         "name": "treatment",
         "rawType": "object",
         "type": "string"
        },
        {
         "name": "worm_id",
         "rawType": "object",
         "type": "string"
        },
        {
         "name": "id",
         "rawType": "object",
         "type": "string"
        },
        {
         "name": "raw_filepath",
         "rawType": "object",
         "type": "string"
        },
        {
         "name": "denoised_filepath",
         "rawType": "object",
         "type": "string"
        }
       ],
       "ref": "c2acaf7e-5f8b-405b-8ec2-b480d2e71de6",
       "rows": [
        [
         "0",
         "2025_10_05_wPM1353_HS_001",
         "2025-10-05",
         "bet1-mSG",
         "wPM1353",
         "HS",
         "001",
         "bet1-mSG_2025-10-05_2025_10_05_wPM1353_HS_001",
         "/Volumes/external.data/MeisterLab/jsemple/demo_VIBE/images/wPM1353_bet1_mSG/2025_10_05_wPM1353/2025_10_05_wPM1353_HS/2025_10_05_wPM1353_HS_001.nd2",
         "/Volumes/external.data/MeisterLab/jsemple/demo_VIBE/images/wPM1353_bet1_mSG/2025_10_05_wPM1353/2025_10_05_wPM1353_HS/n2v_denoise/denoised/2025_10_05_wPM1353_HS_001_green_n2v.tif"
        ],
        [
         "1",
         "2025_10_05_wPM1353_nHS_001",
         "2025-10-05",
         "bet1-mSG",
         "wPM1353",
         "nHS",
         "001",
         "bet1-mSG_2025-10-05_2025_10_05_wPM1353_nHS_001",
         "/Volumes/external.data/MeisterLab/jsemple/demo_VIBE/images/wPM1353_bet1_mSG/2025_10_05_wPM1353/2025_10_05_wPM1353_HS/2025_10_05_wPM1353_nHS_001.nd2",
         "/Volumes/external.data/MeisterLab/jsemple/demo_VIBE/images/wPM1353_bet1_mSG/2025_10_05_wPM1353/2025_10_05_wPM1353_HS/n2v_denoise/denoised/2025_10_05_wPM1353_nHS_001_green_n2v.tif"
        ]
       ],
       "shape": {
        "columns": 9,
        "rows": 2
       }
      },
      "text/html": [
       "<div>\n",
       "<style scoped>\n",
       "    .dataframe tbody tr th:only-of-type {\n",
       "        vertical-align: middle;\n",
       "    }\n",
       "\n",
       "    .dataframe tbody tr th {\n",
       "        vertical-align: top;\n",
       "    }\n",
       "\n",
       "    .dataframe thead th {\n",
       "        text-align: right;\n",
       "    }\n",
       "</style>\n",
       "<table border=\"1\" class=\"dataframe\">\n",
       "  <thead>\n",
       "    <tr style=\"text-align: right;\">\n",
       "      <th></th>\n",
       "      <th>filename</th>\n",
       "      <th>date</th>\n",
       "      <th>protein</th>\n",
       "      <th>strain</th>\n",
       "      <th>treatment</th>\n",
       "      <th>worm_id</th>\n",
       "      <th>id</th>\n",
       "      <th>raw_filepath</th>\n",
       "      <th>denoised_filepath</th>\n",
       "    </tr>\n",
       "  </thead>\n",
       "  <tbody>\n",
       "    <tr>\n",
       "      <th>0</th>\n",
       "      <td>2025_10_05_wPM1353_HS_001</td>\n",
       "      <td>2025-10-05</td>\n",
       "      <td>bet1-mSG</td>\n",
       "      <td>wPM1353</td>\n",
       "      <td>HS</td>\n",
       "      <td>001</td>\n",
       "      <td>bet1-mSG_2025-10-05_2025_10_05_wPM1353_HS_001</td>\n",
       "      <td>/Volumes/external.data/MeisterLab/jsemple/demo...</td>\n",
       "      <td>/Volumes/external.data/MeisterLab/jsemple/demo...</td>\n",
       "    </tr>\n",
       "    <tr>\n",
       "      <th>1</th>\n",
       "      <td>2025_10_05_wPM1353_nHS_001</td>\n",
       "      <td>2025-10-05</td>\n",
       "      <td>bet1-mSG</td>\n",
       "      <td>wPM1353</td>\n",
       "      <td>nHS</td>\n",
       "      <td>001</td>\n",
       "      <td>bet1-mSG_2025-10-05_2025_10_05_wPM1353_nHS_001</td>\n",
       "      <td>/Volumes/external.data/MeisterLab/jsemple/demo...</td>\n",
       "      <td>/Volumes/external.data/MeisterLab/jsemple/demo...</td>\n",
       "    </tr>\n",
       "  </tbody>\n",
       "</table>\n",
       "</div>"
      ],
      "text/plain": [
       "                     filename        date   protein   strain treatment  \\\n",
       "0   2025_10_05_wPM1353_HS_001  2025-10-05  bet1-mSG  wPM1353        HS   \n",
       "1  2025_10_05_wPM1353_nHS_001  2025-10-05  bet1-mSG  wPM1353       nHS   \n",
       "\n",
       "  worm_id                                              id  \\\n",
       "0     001   bet1-mSG_2025-10-05_2025_10_05_wPM1353_HS_001   \n",
       "1     001  bet1-mSG_2025-10-05_2025_10_05_wPM1353_nHS_001   \n",
       "\n",
       "                                        raw_filepath  \\\n",
       "0  /Volumes/external.data/MeisterLab/jsemple/demo...   \n",
       "1  /Volumes/external.data/MeisterLab/jsemple/demo...   \n",
       "\n",
       "                                   denoised_filepath  \n",
       "0  /Volumes/external.data/MeisterLab/jsemple/demo...  \n",
       "1  /Volumes/external.data/MeisterLab/jsemple/demo...  "
      ]
     },
     "execution_count": 5,
     "metadata": {},
     "output_type": "execute_result"
    }
   ],
   "source": [
    "df.head()"
   ]
  }
 ],
 "metadata": {
  "kernelspec": {
   "display_name": "lhcellpose",
   "language": "python",
   "name": "python3"
  },
  "language_info": {
   "codemirror_mode": {
    "name": "ipython",
    "version": 3
   },
   "file_extension": ".py",
   "mimetype": "text/x-python",
   "name": "python",
   "nbconvert_exporter": "python",
   "pygments_lexer": "ipython3",
   "version": "3.10.16"
  }
 },
 "nbformat": 4,
 "nbformat_minor": 5
}
