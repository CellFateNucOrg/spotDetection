{
 "cells": [
  {
   "cell_type": "markdown",
   "id": "ecdc50a0",
   "metadata": {},
   "source": [
    "# Nuclear segmentation with emerin ring and spot detection\n",
    "\n",
    "Scripts to detect nuclei from 4d images (z,x,y,c) where channel 0 is green spots and channel 1 is red emerin rings.\n",
    "Mostly based on scripts from Lucien Hinderling, with some modifications and cleanup by Jennifer Semple\n",
    "\n",
    "**Inputs**:\n",
    "\n",
    "input_path and output_path. input_path is used to create a dataframe with paths to images and the following \n",
    "columns:\n",
    "\n",
    "*filename\tpos\ttimepoint\tgroup\tfilepath\tid*\n",
    "\n",
    "example line:\n",
    "\n",
    "*PMW989_embryos_pos1\tpos1\t1\tPMW989\t/mnt/external.data/MeisterLab/lhinder/PMW989_t...\tPMW989_pos1_1*\n",
    "\n",
    "the id column is used to name images in the output_path directories\n",
    "\n",
    "**Outputs**:\n",
    "\n",
    "segmentation masks (.tif files) in output_path/segementation/\n",
    "\n",
    "distance masks (.tif files) in output_path/edt/\n",
    "\n",
    "nuclear measurements (.csv files) in output_path/nuclei/\n",
    "\n",
    "intensity measurements for nuclei with arrays of intensity/distance from middle slice of each nuclear mask (.pkl files) in output_path/dist/ \n",
    "\n",
    "qc plots of segmentation on original image (segmentation_XXX.pdf), individual masked nuclei (cropped_nuclei_XXX.pdf) in output_path/qc/\n",
    "\n",
    "spot detection (.csv files, doesn't work very well) in output_path/spots/ with some qc in output_path/qc/spots*.pdf and spotGMM*.pdf\n",
    "\n",
    "\n"
   ]
  },
  {
   "cell_type": "code",
   "execution_count": 1,
   "id": "4864532e",
   "metadata": {
    "tags": []
   },
   "outputs": [],
   "source": [
    "import napari\n",
    "import torch\n",
    "import skimage.io as io\n",
    "from skimage.measure import regionprops_table, regionprops\n",
    "import pandas as pd\n",
    "import numpy as np\n",
    "import matplotlib.pyplot as plt\n",
    "import trackpy as tp\n",
    "import cellpose\n",
    "from cellpose import models\n",
    "import edt\n",
    "import glob\n",
    "import os\n",
    "import tqdm\n",
    "from matplotlib_scalebar.scalebar import ScaleBar\n",
    "import gc\n",
    "from nd2reader import ND2Reader\n",
    "from threading import Thread\n",
    "from multiprocessing import Process\n",
    "import seaborn as sns\n",
    "from sklearn.mixture import GaussianMixture\n",
    "from bioio import BioImage\n",
    "import bioio_nd2\n",
    "import bioio_tifffile\n",
    "from bioio.writers import OmeTiffWriter\n",
    "\n",
    "\n",
    "anisotropy = (3,1,1) # Relative scale of (Z,X,Y) axes\n",
    "\n",
    "nucChannel = 0 # red emerin rings\n",
    "spotChannel = 1 # green spots\n",
    "\n",
    "# in lucien's original scripts:\n",
    "# channel 0 is green spots\n",
    "# channel 1 is red emerin"
   ]
  },
  {
   "cell_type": "code",
   "execution_count": 2,
   "id": "e8d2eb4b",
   "metadata": {
    "tags": []
   },
   "outputs": [
    {
     "name": "stdout",
     "output_type": "stream",
     "text": [
      "Found 24 *.nd2 files.\n"
     ]
    }
   ],
   "source": [
    "\n",
    "raw_input_path = '/mnt/external.data/MeisterLab/Dario/Imaging/DPY27/1268/20240915_3d/'\n",
    "denoised_input_path = raw_input_path+'N2V_1268RG_1273RG/denoised/'\n",
    "output_path = '/mnt/external.data/MeisterLab/jsemple/lhinder/segmentation_Dario/DPY27/'\n",
    "\n",
    "#raw_input_path = '/Volumes/external.data/MeisterLab/Dario/Imaging/DPY27/1268/20240915_3d/'\n",
    "#denoised_input_path = raw_input_path+'N2V_1268RG_1273RG/denoised/'\n",
    "#output_path = '/Volumes/external.data/MeisterLab/jsemple/lhinder/segmentation_Dario/DPY27/'\n",
    "\n",
    "if not os.path.exists(output_path+\"/qc\"):\n",
    "    os.makedirs(output_path+\"/qc\")\n",
    "\n",
    "if not os.path.exists(output_path+\"/segmentation\"):\n",
    "    os.makedirs(output_path+\"/segmentation\")\n",
    "\n",
    "if not os.path.exists(output_path+\"/edt\"):\n",
    "    os.makedirs(output_path+\"/edt\")\n",
    "\n",
    "if not os.path.exists(output_path+\"/spots\"):\n",
    "    os.makedirs(output_path+\"/spots\")\n",
    "\n",
    "if not os.path.exists(output_path+\"/nuclei\"):\n",
    "    os.makedirs(output_path+\"/nuclei\")\n",
    "\n",
    "if not os.path.exists(output_path+\"/dist\"):\n",
    "    os.makedirs(output_path+\"/dist\")\n",
    "\n",
    "\n",
    "raw_file_name_pattern = \"/*.nd2\"\n",
    "denoised_file_name_pattern = \"/*_n2v.tif\"\n",
    "raw_filepaths = sorted(glob.glob(raw_input_path + raw_file_name_pattern,recursive=True))\n",
    "print(f\"Found {len(raw_filepaths)} *.nd2 files.\")"
   ]
  },
  {
   "cell_type": "markdown",
   "id": "1e87afd6",
   "metadata": {},
   "source": [
    "Generate data frame of file paths with metadata"
   ]
  },
  {
   "cell_type": "code",
   "execution_count": 3,
   "id": "f7fe90e4",
   "metadata": {},
   "outputs": [],
   "source": [
    "df = pd.DataFrame()\n",
    "df['filename'] = [os.path.basename(filepath)[:-4] for filepath in raw_filepaths]\n",
    "tmpdate = [os.path.normpath(filepath).split(os.sep)[-2] for filepath in raw_filepaths]\n",
    "df['date'] = pd.Series([exp.split('_')[0] for exp in tmpdate])\n",
    "df['experiment'] = pd.Series([exp.split('_')[1] for exp in tmpdate])\n",
    "df['strain'] = [os.path.normpath(filepath).split(os.sep)[-3] for filepath in raw_filepaths]\n",
    "df['protein'] = [os.path.normpath(filepath).split(os.sep)[-4] for filepath in raw_filepaths]\n",
    "df['id'] = df['protein'] + '_' + df['experiment'] + '_' + df['filename'] \n",
    "df['raw_filepath'] = raw_filepaths\n",
    "df['denoised_filepath'] = [denoised_input_path+filename+'_n2v.tif' for filename in df['filename']]\n",
    "\n",
    "df.to_csv(output_path+'fileList.csv',index=False)"
   ]
  },
  {
   "cell_type": "markdown",
   "id": "27817eeb",
   "metadata": {},
   "source": [
    "Load model"
   ]
  },
  {
   "cell_type": "code",
   "execution_count": 4,
   "id": "667d650d",
   "metadata": {
    "tags": []
   },
   "outputs": [
    {
     "name": "stderr",
     "output_type": "stream",
     "text": [
      "/home/jsemple/miniforge3/envs/lhcellpose/lib/python3.10/site-packages/cellpose/resnet_torch.py:280: FutureWarning: You are using `torch.load` with `weights_only=False` (the current default value), which uses the default pickle module implicitly. It is possible to construct malicious pickle data which will execute arbitrary code during unpickling (See https://github.com/pytorch/pytorch/blob/main/SECURITY.md#untrusted-models for more details). In a future release, the default value for `weights_only` will be flipped to `True`. This limits the functions that could be executed during unpickling. Arbitrary objects will no longer be allowed to be loaded via this mode unless they are explicitly allowlisted by the user via `torch.serialization.add_safe_globals`. We recommend you start setting `weights_only=True` for any use case where you don't have full control of the loaded file. Please open an issue on GitHub for any issues related to this experimental feature.\n",
      "  state_dict = torch.load(filename, map_location=torch.device(\"cpu\"))\n"
     ]
    }
   ],
   "source": [
    "torch.cuda.device(0)\n",
    "\n",
    "# using gpu, on server\n",
    "#model = models.CellposeModel(pretrained_model='/mnt/external.data/MeisterLab/lhinder/segmentation_3d_anja/code/worms_1000epochs_v0', gpu=False, device =torch.device('cuda:0'))\n",
    "\n",
    "# no gpu, on server\n",
    "model = models.CellposeModel(pretrained_model='/mnt/external.data/MeisterLab/lhinder/segmentation_3d_anja/code/worms_1000epochs_v0')\n",
    "\n",
    "# no gpu, from local machine with izbkingston mounted \n",
    "#model = models.CellposeModel(pretrained_model='/Volumes/external.data/MeisterLab/lhinder/segmentation_3d_anja/code/worms_1000epochs_v0')"
   ]
  },
  {
   "cell_type": "markdown",
   "id": "dc1d6c4b",
   "metadata": {},
   "source": [
    "## Functions for nuclear segmentation and qc"
   ]
  },
  {
   "cell_type": "code",
   "execution_count": 83,
   "id": "1d68a0b9",
   "metadata": {
    "tags": []
   },
   "outputs": [],
   "source": [
    "# Disable do_3D, there is a bug. 2D and stitching with overlap works much better.\n",
    "# Takes around 7min for the whole image on the macbook\n",
    "def segment_nuclei(img, model):\n",
    "    masks,flows,styles = model.eval(img,do_3D=False,stitch_threshold=0.3,cellprob_threshold =0,diameter =36)\n",
    "    return masks,flows,styles\n",
    "\n",
    "\n",
    "def calc_distance_mask(masks,anisotropy):\n",
    "    '''Calculate the distance map from the nuclei-edge towards the center of nucleus'''\n",
    "    masks_edt = edt.edt(masks,anisotropy = anisotropy)\n",
    "    return masks_edt\n",
    "\n",
    "\n",
    "# \n",
    "\n",
    "def plot_qc_nuclei_crop(df, index, df_region_props, img, display = False, seed=1):\n",
    "    nb_nuc = 10\n",
    "    np.random.seed(seed)\n",
    "    indices_to_sample = np.random.choice(range(len(df_region_props)),size = nb_nuc,replace = False)\n",
    "    # sort indeces in descending order of area\n",
    "\n",
    "    widths=[df_region_props['image'][i].shape[1] for i in indices_to_sample]\n",
    "\n",
    "    fig, axs = plt.subplots(nrows = 2, ncols = nb_nuc, figsize = (15,5),dpi = 250, \n",
    "                            sharex=False, sharey=False, width_ratios=widths)\n",
    "    fig.suptitle(f'Cropped nuclei {df.id.iloc[index]}', fontsize=16)\n",
    "\n",
    "    for i,sample in enumerate(indices_to_sample):\n",
    "        intensity_image = df_region_props['intensity_image'][sample][:,:,:,spotChannel] #show first spot channel\n",
    "        image = df_region_props['image'][sample]\n",
    "        mx = np.ma.masked_array(intensity_image,mask = ~image)\n",
    "        z_height = image.shape[0] \n",
    "        axs[0,i].imshow(mx[int(z_height/2)])\n",
    "        axs[0,i].spines['top'].set_visible(False)\n",
    "        axs[0,i].spines['right'].set_visible(False)\n",
    "        axs[0,i].spines['bottom'].set_visible(False)\n",
    "        axs[0,i].spines['left'].set_visible(False)\n",
    "        axs[0,i].get_xaxis().set_ticks([])\n",
    "        axs[0,i].get_yaxis().set_ticks([])\n",
    "\n",
    "    for i,sample in enumerate(indices_to_sample):\n",
    "        intensity_image = df_region_props['intensity_image'][sample][:,:,:,nucChannel] #show second nuclear channel\n",
    "        image = df_region_props['image'][sample]\n",
    "        mx = np.ma.masked_array(intensity_image,mask = ~image)\n",
    "        z_height = image.shape[0]\n",
    "        axs[1,i].imshow(mx[int(z_height/2)])\n",
    "        axs[1,i].spines['top'].set_visible(False)\n",
    "        axs[1,i].spines['right'].set_visible(False)\n",
    "        axs[1,i].spines['bottom'].set_visible(False)\n",
    "        axs[1,i].spines['left'].set_visible(False)\n",
    "        axs[1,i].get_xaxis().set_ticks([])\n",
    "        axs[1,i].get_yaxis().set_ticks([])\n",
    "\n",
    "        if i == nb_nuc-1:\n",
    "            scalebar = ScaleBar(0.065, \"um\", length_fraction=1, box_alpha=0.7,color='black',location='lower right',height_fraction = 0.05,border_pad =-1)\n",
    "            axs[1,i].add_artist(scalebar)\n",
    "\n",
    "    #plt.tight_layout()\n",
    "    fig.savefig(output_path + 'qc/cropped_nuclei_'+df.id.iloc[index]+'.pdf')\n",
    "    if display == False:\n",
    "        plt.close()\n",
    "    else:\n",
    "        plt.show()\n",
    "\n",
    "\n",
    "#def plot_qc_segmentation(img,masks,index,df,display_plot=False):\n",
    "#     fig, axs = plt.subplots(2,3,figsize = (7,5),dpi= 450)\n",
    "#     plt.tight_layout()\n",
    "#     fig.suptitle(f'Segmentation for {df.id.iloc[index]}', fontsize=10)\n",
    "#     axs[0,0].imshow(masks[10,:,:]>0,cmap = 'gray_r')\n",
    "#     axs[1,0].set_title('z=10', fontsize=8)\n",
    "#     axs[0,1].imshow(masks[30,:,:]>0,cmap = 'gray_r')\n",
    "#     axs[1,1].set_title('z=30', fontsize=8)\n",
    "#     axs[0,2].imshow(masks[45,:,:]>0,cmap = 'gray_r')\n",
    "#     axs[1,2].set_title('z=45', fontsize=8)\n",
    "\n",
    "#     axs[1,0].imshow(img[nucChannel,10,:,:],cmap = 'gray_r')\n",
    "#     axs[1,1].imshow(img[nucChannel,30,:,:],cmap = 'gray_r')\n",
    "#     axs[1,2].imshow(img[nucChannel,45,:,:],cmap = 'gray_r')\n",
    "\n",
    "\n",
    "#     for axss in axs:\n",
    "#         for ax in axss:\n",
    "#             ax.set_xticks([])\n",
    "#             ax.set_yticks([])\n",
    "\n",
    "#     fig.savefig(output_path + 'qc/segmentation_'+df.id.iloc[index]+'.pdf')\n",
    "#     if display_plot:\n",
    "#         plt.show()\n",
    "#     else:\n",
    "#         fig.savefig(output_path + 'qc/segmentation_'+df.id.iloc[index]+'.pdf')\n",
    "#         plt.close()\n",
    "\n",
    "\n",
    "def plot_qc_segmentation_xyz1(img,masks,index,df,display_plot=False, plotContours=False):\n",
    "    nucChannel = 0\n",
    "    num_z=img.shape[1]\n",
    "    num_y=img.shape[2]\n",
    "    num_x=img.shape[3]\n",
    "\n",
    "    fig = plt.figure(layout='constrained',dpi=450,figsize = (10,10))\n",
    "    fig.suptitle(f'Segmentation for {df.id.iloc[index]}', fontsize=10)\n",
    "    subfigs = fig.subfigures(2, 1, wspace=0.1)\n",
    "\n",
    "    axsTop = subfigs[0].subplots(2, 3,sharex=True, sharey=True)\n",
    "    #xy\n",
    "    axsTop[0,0].imshow(masks[int(num_z*0.3),:,:]>0,cmap = 'grey_r')\n",
    "    axsTop[1,0].set_title('z='+str(int(num_z*0.3)), fontsize=8)\n",
    "    axsTop[0,1].imshow(masks[int(num_z*0.5),:,:]>0,cmap = 'grey_r')\n",
    "    axsTop[1,1].set_title('z='+str(int(num_z*0.5)), fontsize=8)\n",
    "    axsTop[0,2].imshow(masks[int(num_z*0.7),:,:]>0,cmap = 'gray_r')\n",
    "    axsTop[1,2].set_title('z='+str(int(num_z*0.7)), fontsize=8)\n",
    "\n",
    "    axsTop[1,0].imshow(img[nucChannel,int(num_z*0.3),:,:],cmap = 'gray_r')\n",
    "    axsTop[1,1].imshow(img[nucChannel,int(num_z*0.5),:,:],cmap = 'gray_r')\n",
    "    axsTop[1,2].imshow(img[nucChannel,int(num_z*0.7),:,:],cmap = 'gray_r')\n",
    "\n",
    "    if plotContours:\n",
    "        axsTop[1,0].contour(masks[int(num_z*0.3),:,:], [0.5], linewidths=0.5, colors='r')\n",
    "        axsTop[1,1].contour(masks[int(num_z*0.5),:,:], [0.5], linewidths=0.5, colors='r')\n",
    "        axsTop[1,2].contour(masks[int(num_z*0.7),:,:], [0.5], linewidths=0.5, colors='r')\n",
    "\n",
    "\n",
    "\n",
    "    for axss in axsTop:\n",
    "        for ax in axss:\n",
    "            #ax.set_xlim(0,num_x)\n",
    "            #ax.set_ylim(0,num_y)\n",
    "            ax.set_xticks([])\n",
    "            ax.set_yticks([])\n",
    "\n",
    "    axsBottom = subfigs[1].subplots(4, 3,sharex=True,sharey=True)\n",
    "    #xz\n",
    "    axsBottom[0,0].imshow(masks[:,int(num_y*0.3),:]>0,cmap = 'grey_r')\n",
    "    axsBottom[1,0].set_title('y='+str(int(num_y*0.3)), fontsize=8)\n",
    "    axsBottom[0,1].imshow(masks[:,int(num_y*0.5),:]>0,cmap = 'grey_r')\n",
    "    axsBottom[1,1].set_title('y='+str(int(num_y*0.5)), fontsize=8)\n",
    "    axsBottom[0,2].imshow(masks[:,int(num_y*0.7),:]>0,cmap = 'gray_r')\n",
    "    axsBottom[1,2].set_title('y='+str(int(num_y*0.7)), fontsize=8)\n",
    "\n",
    "    axsBottom[1,0].imshow(img[nucChannel,:,int(num_y*0.3),:],cmap = 'gray_r')\n",
    "    axsBottom[1,1].imshow(img[nucChannel,:,int(num_y*0.5),:],cmap = 'gray_r')\n",
    "    axsBottom[1,2].imshow(img[nucChannel,:,int(num_y*0.7),:],cmap = 'gray_r')\n",
    "\n",
    "    if plotContours:\n",
    "        axsBottom[1,0].contour(masks[:,int(num_y*0.3),:], [0.5], linewidths=0.5, colors='r')\n",
    "        axsBottom[1,1].contour(masks[:,int(num_y*0.5),:], [0.5], linewidths=0.5, colors='r')\n",
    "        axsBottom[1,2].contour(masks[:,int(num_y*0.7),:], [0.5], linewidths=0.5, colors='r')\n",
    "\n",
    "\n",
    "    #yz\n",
    "    axsBottom[2,0].imshow(masks[:,:,int(num_x*0.3)]>0,cmap = 'grey_r')\n",
    "    axsBottom[3,0].set_title('x='+str(int(num_x*0.3)), fontsize=8)\n",
    "    axsBottom[2,1].imshow(masks[:,:,int(num_x*0.5)]>0,cmap = 'grey_r')\n",
    "    axsBottom[3,1].set_title('x='+str(int(num_x*0.5)), fontsize=8)\n",
    "    axsBottom[2,2].imshow(masks[:,:,int(num_x*0.7)]>0,cmap = 'gray_r')\n",
    "    axsBottom[3,2].set_title('x='+str(int(num_x*0.7)), fontsize=8)\n",
    "\n",
    "    axsBottom[3,0].imshow(img[nucChannel,:,:,int(num_x*0.3)],cmap = 'gray_r')\n",
    "    axsBottom[3,1].imshow(img[nucChannel,:,:,int(num_x*0.5)],cmap = 'gray_r')\n",
    "    axsBottom[3,2].imshow(img[nucChannel,:,:,int(num_x*0.7)],cmap = 'gray_r')\n",
    "\n",
    "    if plotContours:\n",
    "        axsBottom[3,0].contour(masks[:,:,int(num_x*0.3)], [0.5], linewidths=0.5, colors='r')\n",
    "        axsBottom[3,1].contour(masks[:,:,int(num_x*0.5)], [0.5], linewidths=0.5, colors='r')\n",
    "        axsBottom[3,2].contour(masks[:,:,int(num_x*0.7)], [0.5], linewidths=0.5, colors='r')\n",
    "\n",
    "    for axss in axsBottom:\n",
    "        for ax in axss:\n",
    "            #ax.set_ylim(0,num_z)\n",
    "            ax.set_xticks([])\n",
    "            ax.set_yticks([])\n",
    "\n",
    "    plt.tight_layout()\n",
    "    if display_plot:\n",
    "        plt.show()\n",
    "    else:\n",
    "        fig.savefig(output_path + 'qc/segmentation_'+df.id.iloc[index]+'.pdf')\n",
    "        plt.close()\n",
    "\n",
    "def plot_qc_segmentation_xyz(img,masks,index,df,display_plot=False, plotContours=False):\n",
    "    nucChannel = 0\n",
    "    num_z=img.shape[1]\n",
    "    num_y=img.shape[2]\n",
    "    num_x=img.shape[3]\n",
    "    nlabel=100\n",
    "\n",
    "    fig = plt.figure(layout='constrained',dpi=450,figsize = (10,10))\n",
    "    fig.suptitle(f'Segmentation for {df.id.iloc[index]}', fontsize=10)\n",
    "    subfigs = fig.subfigures(2, 1, wspace=0.1)\n",
    "\n",
    "    axsTop = subfigs[0].subplots(2, 3,sharex=True, sharey=True)\n",
    "    #xy\n",
    "    axsTop[0,0].imshow(label2rgb(masks[int(num_z*0.3),:,:],bg_label=0,bg_color=(255, 255, 255),colors=np.random.random((nlabel, 3))))\n",
    "    axsTop[1,0].set_title('z='+str(int(num_z*0.3)), fontsize=8)\n",
    "    axsTop[0,1].imshow(label2rgb(masks[int(num_z*0.5),:,:],bg_label=0,bg_color=(255, 255, 255),colors=np.random.random((nlabel, 3))))\n",
    "    axsTop[1,1].set_title('z='+str(int(num_z*0.5)), fontsize=8)\n",
    "    axsTop[0,2].imshow(label2rgb(masks[int(num_z*0.7),:,:],bg_label=0,bg_color=(255, 255, 255),colors=np.random.random((nlabel, 3))))\n",
    "    axsTop[1,2].set_title('z='+str(int(num_z*0.7)), fontsize=8)\n",
    "\n",
    "    axsTop[1,0].imshow(img[nucChannel,int(num_z*0.3),:,:],cmap = 'gray_r')\n",
    "    axsTop[1,1].imshow(img[nucChannel,int(num_z*0.5),:,:],cmap = 'gray_r')\n",
    "    axsTop[1,2].imshow(img[nucChannel,int(num_z*0.7),:,:],cmap = 'gray_r')\n",
    "\n",
    "    if plotContours:\n",
    "        axsTop[1,0].contour(masks[int(num_z*0.3),:,:], [0.5], linewidths=0.5, colors='r')\n",
    "        axsTop[1,1].contour(masks[int(num_z*0.5),:,:], [0.5], linewidths=0.5, colors='r')\n",
    "        axsTop[1,2].contour(masks[int(num_z*0.7),:,:], [0.5], linewidths=0.5, colors='r')\n",
    "\n",
    "\n",
    "\n",
    "    for axss in axsTop:\n",
    "        for ax in axss:\n",
    "            #ax.set_xlim(0,num_x)\n",
    "            #ax.set_ylim(0,num_y)\n",
    "            ax.set_xticks([])\n",
    "            ax.set_yticks([])\n",
    "\n",
    "    axsBottom = subfigs[1].subplots(4, 3,sharex=True,sharey=True)\n",
    "    #xz\n",
    "    axsBottom[0,0].imshow(label2rgb(masks[:,int(num_y*0.3),:],bg_label=0,bg_color=(255, 255, 255),colors=np.random.random((nlabel, 3))))\n",
    "    axsBottom[1,0].set_title('y='+str(int(num_y*0.3)), fontsize=8)\n",
    "    axsBottom[0,1].imshow(label2rgb(masks[:,int(num_y*0.5),:],bg_label=0,bg_color=(255, 255, 255),colors=np.random.random((nlabel, 3))))\n",
    "    axsBottom[1,1].set_title('y='+str(int(num_y*0.5)), fontsize=8)\n",
    "    axsBottom[0,2].imshow(label2rgb(masks[:,int(num_y*0.7),:],bg_label=0,bg_color=(255, 255, 255),colors=np.random.random((nlabel, 3))))\n",
    "    axsBottom[1,2].set_title('y='+str(int(num_y*0.7)), fontsize=8)\n",
    "\n",
    "    axsBottom[1,0].imshow(img[nucChannel,:,int(num_y*0.3),:],cmap = 'gray_r')\n",
    "    axsBottom[1,1].imshow(img[nucChannel,:,int(num_y*0.5),:],cmap = 'gray_r')\n",
    "    axsBottom[1,2].imshow(img[nucChannel,:,int(num_y*0.7),:],cmap = 'gray_r')\n",
    "\n",
    "    if plotContours:\n",
    "        axsBottom[1,0].contour(masks[:,int(num_y*0.3),:], [0.5], linewidths=0.5, colors='r')\n",
    "        axsBottom[1,1].contour(masks[:,int(num_y*0.5),:], [0.5], linewidths=0.5, colors='r')\n",
    "        axsBottom[1,2].contour(masks[:,int(num_y*0.7),:], [0.5], linewidths=0.5, colors='r')\n",
    "\n",
    "\n",
    "    #yz\n",
    "    axsBottom[2,0].imshow(label2rgb(masks[:,:,int(num_x*0.3)],bg_label=0,bg_color=(255, 255, 255),colors=np.random.random((nlabel, 3))))\n",
    "    axsBottom[3,0].set_title('x='+str(int(num_x*0.3)), fontsize=8)\n",
    "    axsBottom[2,1].imshow(label2rgb(masks[:,:,int(num_x*0.5)],bg_label=0,bg_color=(255, 255, 255),colors=np.random.random((nlabel, 3))))\n",
    "    axsBottom[3,1].set_title('x='+str(int(num_x*0.5)), fontsize=8)\n",
    "    axsBottom[2,2].imshow(label2rgb(masks[:,:,int(num_x*0.7)],bg_label=0,bg_color=(255, 255, 255),colors=np.random.random((nlabel, 3))))\n",
    "    axsBottom[3,2].set_title('x='+str(int(num_x*0.7)), fontsize=8)\n",
    "\n",
    "    axsBottom[3,0].imshow(img[nucChannel,:,:,int(num_x*0.3)],cmap = 'gray_r')\n",
    "    axsBottom[3,1].imshow(img[nucChannel,:,:,int(num_x*0.5)],cmap = 'gray_r')\n",
    "    axsBottom[3,2].imshow(img[nucChannel,:,:,int(num_x*0.7)],cmap = 'gray_r')\n",
    "\n",
    "    if plotContours:\n",
    "        axsBottom[3,0].contour(masks[:,:,int(num_x*0.3)], [0.5], linewidths=0.5, colors='r')\n",
    "        axsBottom[3,1].contour(masks[:,:,int(num_x*0.5)], [0.5], linewidths=0.5, colors='r')\n",
    "        axsBottom[3,2].contour(masks[:,:,int(num_x*0.7)], [0.5], linewidths=0.5, colors='r')\n",
    "\n",
    "    for axss in axsBottom:\n",
    "        for ax in axss:\n",
    "            #ax.set_ylim(0,num_z)\n",
    "            ax.set_xticks([])\n",
    "            ax.set_yticks([])\n",
    "\n",
    "    plt.tight_layout()\n",
    "    if display_plot:\n",
    "        plt.show()\n",
    "    else:\n",
    "        fig.savefig(output_path + 'qc/segmentation_'+df.id.iloc[index]+'.pdf')\n",
    "        plt.close()"
   ]
  },
  {
   "cell_type": "code",
   "execution_count": 6,
   "id": "2061263f",
   "metadata": {},
   "outputs": [],
   "source": [
    "## Run the segmentation script on all images (reserve more than 24GB!)\n",
    "# this produces segmentation, segmentation_qc and edt files\n",
    "def run_nuclear_segmentation(indices, df):\n",
    "    for index in tqdm.tqdm(indices):\n",
    "        # Load the data\n",
    "        #with ND2Reader(df.filepath.iloc[index]) as images:\n",
    "        #    images.bundle_axes = ['z','x','y','c']\n",
    "        #    img = images[0]\n",
    "        #img = io.imread(df.denoised_filepath.iloc[index])\n",
    "        img = BioImage(df.denoised_filepath.iloc[index], reader=bioio_tifffile.Reader)\n",
    "        img = img.get_image_data(\"CZYX\", T=0)\n",
    "\n",
    "\n",
    "        # Segment nuclei \n",
    "        masks,flows,styles = segment_nuclei(img[nucChannel,:,:,:],model) # Run the segmentation\n",
    "        plot_qc_segmentation_xyz(img,masks,index, df, display_plot = False)                         # Create qc plot\n",
    "        #io.imsave(output_path+'segmentation/'+df.id.iloc[index]+'.tif',masks,check_contrast=False) #store segmentation\n",
    "        OmeTiffWriter.save(masks, output_path+'segmentation/'+df.id.iloc[index]+'.tif')\n",
    "\n",
    "        del flows\n",
    "        del styles\n",
    "        gc.collect()\n",
    "        \n",
    "        # Calculate edt \n",
    "        masks_edt = calc_distance_mask(masks,anisotropy)\n",
    "        #io.imsave(output_path+'edt/'+df.id.iloc[index]+'.tif',masks_edt,check_contrast=False) #store segmentation\n",
    "        OmeTiffWriter.save(masks_edt, output_path+'edt/'+df.id.iloc[index]+'.tif')\n",
    "\n",
    "        del masks\n",
    "        del masks_edt\n",
    "        gc.collect()\n",
    "        continue\n"
   ]
  },
  {
   "cell_type": "code",
   "execution_count": 7,
   "id": "0f83e25f",
   "metadata": {},
   "outputs": [],
   "source": [
    "## read images\n",
    "## crop the nuclei slices\n",
    "## calculate EDT transform\n",
    "## for each nuclei loop over all distances (1:40) and take mean\n",
    "## array of distance/intensity measurements are taken only for middle slice of mask (?)\n",
    "\n",
    "## nucleus_id | nucleus volume | [1:20] mean intensities | group | ...\n",
    "\n",
    "\n",
    "def run_dist_analysis(indices,df):\n",
    "    for index in tqdm.tqdm(indices):\n",
    "        \n",
    "        df_nuclei = pd.DataFrame()\n",
    "        print(df.iloc[index].raw_filepath)\n",
    "        \n",
    "        masks = BioImage(output_path+'segmentation/'+df.id.iloc[index]+'.tif', reader=bioio_tifffile.Reader)\n",
    "        masks = masks.get_image_data(\"ZYX\", T=0, C=0)\n",
    "\n",
    "        img = BioImage(df.raw_filepath.iloc[index], reader=bioio_nd2.Reader)\n",
    "        img = img.get_image_data(\"ZYXC\", T=0)\n",
    "            \n",
    "          \n",
    "        df_region_props = regionprops_table(masks,img, properties = ['label', 'area','image','intensity_image'])\n",
    "        df_region_props = pd.DataFrame(df_region_props)\n",
    "\n",
    "        if len(df_region_props)>=10:\n",
    "            plot_qc_nuclei_crop(df, index, df_region_props, img, display = False) \n",
    "\n",
    "        for i in range(len(df_region_props)):\n",
    "            df_nuclei_temp = pd.DataFrame()\n",
    "\n",
    "            intensity_image_spots = df_region_props['intensity_image'][i][:,:,:,spotChannel] #show spot channel\n",
    "            intensity_image_nuclei = df_region_props['intensity_image'][i][:,:,:,nucChannel] #show nuclear ring channel\n",
    "\n",
    "            image = df_region_props['image'][i]\n",
    "            mx = np.ma.masked_array(intensity_image_spots,mask = ~image)\n",
    "\n",
    "            # Extract the intensity per distance\n",
    "            intensity_image = df_region_props['intensity_image'][i][:,:,:,spotChannel] #show first spot channel\n",
    "            image = df_region_props['image'][i]\n",
    "            mx_spots = np.ma.masked_array(intensity_image_spots,mask = ~image)\n",
    "            mx_nuclei = np.ma.masked_array(intensity_image_nuclei,mask = ~image)\n",
    "            mx_mask = np.ma.masked_array(image,mask = ~image)\n",
    "\n",
    "            z_height = image.shape[0]\n",
    "\n",
    "            slice_spots = mx_spots[int(z_height/2)]\n",
    "            slice_nuclei = mx_nuclei[int(z_height/2)]\n",
    "            slice_mask = mx_mask[int(z_height/2)]\n",
    "\n",
    "            slice_mask_edt = edt.edt(slice_mask)\n",
    "            slice_mask_edt = np.ma.masked_array(slice_mask_edt,mask = ~(slice_mask_edt>0)) \n",
    "\n",
    "            results = regionprops_table(slice_mask_edt.astype('int'),slice_nuclei,properties=['label','intensity_mean'])\n",
    "            intensity_dist_nuclei = results['intensity_mean']\n",
    "\n",
    "            results = regionprops_table(slice_mask_edt.astype('int'),slice_spots,properties=['label','intensity_mean'])\n",
    "            intensity_dist_spots = results['intensity_mean']\n",
    "            dist = results['label']\n",
    "\n",
    "            df_nuclei_temp['label']  = [df_region_props.label.iloc[i]]\n",
    "            df_nuclei_temp['bb_dimZ']  = [mx.shape[0]]\n",
    "            df_nuclei_temp['bb_dimY']  = [mx.shape[1]]\n",
    "            df_nuclei_temp['bb_dimX']  = [mx.shape[2]]\n",
    "            df_nuclei_temp['mean'] = [np.ma.mean(mx)]\n",
    "            df_nuclei_temp['median'] = [np.ma.median(mx)]\n",
    "            df_nuclei_temp['std']=  [np.ma.std(mx)]\n",
    "            df_nuclei_temp['sum']= [np.ma.sum(mx)]\n",
    "            df_nuclei_temp['variance']= [np.ma.var(mx)]\n",
    "            df_nuclei_temp['max'] = [np.ma.max(mx)]\n",
    "            df_nuclei_temp['min'] = [np.ma.min(mx)]\n",
    "            df_nuclei_temp['volume'] = [np.sum(mx.mask)]\n",
    "            df_nuclei_temp['id'] = [df.id.iloc[index]]\n",
    "            df_nuclei_temp['intensity_dist_nuclei'] = [intensity_dist_nuclei]  # this is the emerin ring channel intensity on central slice\n",
    "            df_nuclei_temp['intensity_dist_spots'] = [intensity_dist_spots] # this is the spot channel but not actual detected spots\n",
    "            df_nuclei_temp['intensity_dist'] = [dist]  # this is the distance from the edge of the nucleus\n",
    "\n",
    "            df_nuclei = pd.concat([df_nuclei,df_nuclei_temp])\n",
    "        # save as pickle because has array stored in Dataframe\n",
    "        df_nuclei.to_pickle(output_path+'dist/'+df.id.iloc[index]+'.pkl') # Back up the DF for this FOV\n",
    "\n",
    "        # save with metadata as csv for simple viewing \n",
    "        df_nuclei_for_csv = pd.merge(df_nuclei,df,on='id',how='left')\n",
    "        df_nuclei_for_csv.drop( columns = [ 'intensity_dist_nuclei','intensity_dist_spots','intensity_dist' ], axis=1, inplace=True)\n",
    "        df_nuclei_for_csv.to_csv(output_path+'nuclei/'+df.id.iloc[index]+'.csv', index=False)\n",
    "\n"
   ]
  },
  {
   "cell_type": "markdown",
   "id": "5596bfee",
   "metadata": {},
   "source": [
    "## Functions for spot detection and qc"
   ]
  },
  {
   "cell_type": "code",
   "execution_count": 8,
   "id": "4b7b6731-732e-453e-b8a4-7b1e1fb43ede",
   "metadata": {
    "tags": []
   },
   "outputs": [],
   "source": [
    "def find_spots(img,diameter=(9,5,5),separation=(3,2,2)):\n",
    "    '''Find protein clusters of a certain size. Method is very sensitive, be sure to filter the spots afterwards using the signal value.\n",
    "    Input: img -> 3D array from C0 containing\n",
    "    Output: pandas.df containing data with all the detected spots.\n",
    "            x,y,z: centroid of spot in image coordinates (px space)\n",
    "            mass: total integrated brightness of the blob\n",
    "            size: radius of gyration of its Gaussian-like profile\n",
    "            ecc: eccentricity\n",
    "            raw_mass: integrated brightness in raw_image '''\n",
    "\n",
    "    #features = tp.locate(img, diameter=diameter, engine='numba',minmass = 10,percentile = 0.95,max_iterations=3,preprocess = True) #check \n",
    "    features = tp.locate(img[:,:,:], diameter, minmass=None, maxsize=None, separation=separation, noise_size=1, smoothing_size=None, threshold=None, invert=False, percentile=95, topn=None, preprocess=True, max_iterations=3, filter_before=None, filter_after=None, characterize=True, engine='numba')\n",
    "    return features\n",
    "\n",
    "\n",
    "def extract_spot_features(features,masks,masks_edt):\n",
    "    '''For each spot get the label of the corresponding nucleus and distance to its envelope.'''\n",
    "\n",
    "    for feature in features.iterrows():\n",
    "        index = feature[0]\n",
    "        x = round(feature[1].x)\n",
    "        y = round(feature[1].y)\n",
    "        z = round(feature[1].z)\n",
    "        dist = masks_edt[z,y,x]\n",
    "        label = masks[z,y,x]\n",
    "        features.loc[index,'dist'] = dist\n",
    "        features.loc[index,'label'] = int(label)\n",
    "        \n",
    "    return features\n",
    "#features = extract_spot_features(features,masks,masks_edt)\n",
    "\n",
    "def filter_spots(features, measure = 'signal', signal_strength = 0.1):\n",
    "    '''Remove all spots that lie outside of a nucleus (or where nucleus is not detected.\n",
    "       Remove all spots with signal<signal_strength'''\n",
    "    features_filt = features[(features['dist']>0)&(features[measure]>signal_strength)]\n",
    "    return features_filt"
   ]
  },
  {
   "cell_type": "code",
   "execution_count": 84,
   "id": "f546a5be-5c00-4cdd-83ec-8133d19cf190",
   "metadata": {
    "tags": []
   },
   "outputs": [],
   "source": [
    "def plot_qc_spot_detection(df, index, df_features, img, display_plot = False,\n",
    "                            measure = 'signal', thresholds = [1 ,2.5, 5, 10]):\n",
    "    z_projection = np.max(img[:,:,:], axis = 0)\n",
    "    #masks_z_projection = np.max(masks[:,:,:], axis = 0)\n",
    "    features_filt_01 = filter_spots(df_features, measure = measure, signal_strength = thresholds[0])\n",
    "    features_filt_02 = filter_spots(df_features, measure = measure, signal_strength = thresholds[1])\n",
    "    features_filt_03 = filter_spots(df_features, measure = measure, signal_strength =  thresholds[2])\n",
    "    features_filt_04 = filter_spots(df_features, measure = measure, signal_strength = thresholds[3])\n",
    "\n",
    "\n",
    "    fig, axs = plt.subplots(2,2,figsize = (6,7),dpi= 450)\n",
    "\n",
    "    for axss in axs:\n",
    "        for ax in axss:\n",
    "            ax.set_xticks([])\n",
    "            ax.set_yticks([])\n",
    "\n",
    "\n",
    "    axs[0,0].imshow(z_projection, cmap = 'gray_r')\n",
    "    axs[0,0].scatter(features_filt_01[['x']],features_filt_01[['y']], s = 0.3, linewidths=0.1, alpha = 1, edgecolors = 'red', facecolors='none')\n",
    "    #axs[0,0].contour(masks_z_projection, [0.5], linewidths=0.5, colors='green')\n",
    "    axs[0,0].set_title(f'{measure}>{thresholds[0]} (n={len(features_filt_01)})', fontsize=8,y=-0.01)\n",
    "\n",
    "    axs[0,1].imshow(z_projection, cmap = 'gray_r')\n",
    "    axs[0,1].scatter(features_filt_02[['x']],features_filt_02[['y']], s = 0.3, linewidths=0.1, alpha = 1, edgecolors = 'red', facecolors='none')\n",
    "    #axs[0,1].contour(masks_z_projection, [0.5], linewidths=0.5, colors='green')\n",
    "    axs[0,1].set_title(f'{measure}>{thresholds[1]} (n={len(features_filt_02)})', fontsize=8,y=-0.01)\n",
    "\n",
    "    axs[1,0].imshow(z_projection, cmap = 'gray_r')\n",
    "    axs[1,0].scatter(features_filt_03[['x']],features_filt_03[['y']], s = 0.3, linewidths=0.11, alpha = 1, edgecolors = 'red', facecolors='none')\n",
    "    #axs[1,0].contour(masks_z_projection, [0.5], linewidths=0.5, colors='green')\n",
    "    axs[1,0].set_title(f'{measure}>{thresholds[2]} (n={len(features_filt_03)})', fontsize=8,y=-0.01)\n",
    "\n",
    "    axs[1,1].imshow(z_projection, cmap = 'gray_r')\n",
    "    axs[1,1].scatter(features_filt_04[['x']],features_filt_04[['y']], s = 0.3, linewidths=0.1, alpha = 1, edgecolors = 'red', facecolors='none')\n",
    "    #axs[1,1].contour(masks_z_projection, [0.5], linewidths=0.5, colors='green')\n",
    "    axs[1,1].set_title(f'{measure}>{thresholds[3]} (n={len(features_filt_04)})', fontsize=8,y=-0.01)\n",
    "\n",
    "    plt.tight_layout()\n",
    "    fig.suptitle(f'Spot detection for {df.filename.iloc[index]}', fontsize=10)\n",
    "    #xs[0,0].imshow(masks[10,:,:]>0,cmap = 'gray_r')\n",
    "\n",
    "    if display_plot:\n",
    "        plt.show()\n",
    "    else:\n",
    "        fig.savefig(output_path + 'qc/spots_'+df.id.iloc[index]+'.pdf')\n",
    "        plt.close()\n"
   ]
  },
  {
   "cell_type": "code",
   "execution_count": 85,
   "id": "d5e58611",
   "metadata": {},
   "outputs": [],
   "source": [
    "def plot_qc_spot_threshold(index, df, display_plot=False, measure='signal'):\n",
    "    ''' Fits mixed gaussian model to find threshold of spot mass\n",
    "\n",
    "    Parameters:\n",
    "    index (int): Index of image whose spots should be analysed\n",
    "    df (pd.DataFrame): Data frame with list of image ids\n",
    "\n",
    "    Returns:\n",
    "    Saves a spotThreshold__.pdf for each image with a histogram, model fit and \n",
    "    threshold and returns image id, number of spots and the estimated threshold\n",
    "    '''\n",
    "    df_spots = pd.read_csv(output_path+'spots/'+df.id.iloc[index]+'.csv')\n",
    "    x = np.array(df_spots[measure]).reshape(-1,1)\n",
    "    gm =GaussianMixture(n_components=2,random_state=0).fit(x)\n",
    "    mu1=gm.means_[0]\n",
    "    mu2=gm.means_[1]\n",
    "    sigma1=np.sqrt(gm.covariances_[0])\n",
    "    sigma2=np.sqrt(gm.covariances_[1])\n",
    "    threshold=np.round(float(mu1+3*sigma1),2)\n",
    "\n",
    "    x_fit = np.linspace(0,max(x),100)\n",
    "    y_fit = gm.score_samples(x_fit)\n",
    "\n",
    "    plt.figure(figsize=(10,6))\n",
    "    g = sns.histplot(data=df_spots,x=measure,stat='density',label=\"Data\")\n",
    "    plt.plot(x_fit,np.exp(y_fit),color='red',lw=1,ls='-',label=\"Fitted bimodal distribution\")\n",
    "    plt.axvline(mu1,0,1,color='red',lw=0.5,ls=\"--\",label=\"Mean first gaussian\")\n",
    "    plt.axvline(threshold,0,1,color='red',lw=2,ls=\"-\",label=\"Threshold (mean1+3*SD1)\")\n",
    "    plt.axvline(mu2,0,1,color='red',lw=0.5,ls=\":\",label=\"Mean second gaussian\")\n",
    "    plt.annotate('Threshold='+str(threshold),xy=(0.4,0.9),xycoords='axes fraction')\n",
    "    plt.title('Distribution of spot '+measure+' as mixture of two gaussians')\n",
    "    plt.xlabel(measure)\n",
    "    plt.legend()\n",
    "\n",
    "    if display_plot:\n",
    "        plt.show()\n",
    "    else:\n",
    "        plt.savefig(output_path + 'qc/spotGMM_'+df.id.iloc[index]+'.pdf')\n",
    "        plt.close()\n",
    "    id=df.id.iloc[index]\n",
    "    num_spot=len(df_spots)\n",
    "    return(id, num_spot, threshold)\n"
   ]
  },
  {
   "cell_type": "code",
   "execution_count": 86,
   "id": "d7b103e2-a6fa-47cb-8323-cc1dcdc4a59a",
   "metadata": {
    "tags": []
   },
   "outputs": [],
   "source": [
    "def run_spot_analysis(indices, df, useRaw=True, diameter=(9,5,5), separation=(3,2,2), qc_thresholds=[1,2.5,5,10]):\n",
    "    '''Finds spots and estimates threshold'''\n",
    "    ids = list()\n",
    "    num_spots = list()\n",
    "    thresholds = list()\n",
    "    for index in tqdm.tqdm(indices):\n",
    "        # Load the data\n",
    "        # with ND2Reader(df.filepath.iloc[index]) as images:\n",
    "        #     images.bundle_axes = ['z','x','y','c']\n",
    "        #     img = images[0]\n",
    "        if useRaw:\n",
    "            img = BioImage(df.raw_filepath.iloc[index], reader=bioio_nd2.Reader)\n",
    "            img = img.get_image_data(\"ZYX\", T=0, C=spotChannel)\n",
    "        else:\n",
    "            img = BioImage(df.denoised_filepath.iloc[index], reader=bioio_tifffile.Reader)\n",
    "            img = img.get_image_data(\"ZYX\", T=0, C=spotChannel)\n",
    "\n",
    "        # Run t\n",
    "        masks = BioImage(output_path+'segmentation/'+df.id.iloc[index]+'.tif', reader=bioio_tifffile.Reader)\n",
    "        masks = masks.get_image_data(\"ZYX\", T=0, C=0)\n",
    "\n",
    "        masks_edt = BioImage(output_path+'edt/'+df.id.iloc[index]+'.tif', reader=bioio_tifffile.Reader)\n",
    "        masks_edt = masks_edt.get_image_data(\"ZYX\", T=0, C=0)\n",
    "\n",
    "        # Find the spots (location given in image coordinate system )\n",
    "        df_spots = find_spots(img[:,:,:],diameter = diameter,separation = separation)\n",
    "        df_features = extract_spot_features(df_spots,masks,masks_edt)    # For all the spots calculate the features\n",
    "\n",
    "        \n",
    "        df_features = filter_spots(df_features, measure='signal', signal_strength = 0.0001)\n",
    "        if len(df_features) == 0:\n",
    "            print('EMPTY DF!!')\n",
    "            print(df.filename.iloc[index])\n",
    "            print('INDEX:' + str(index))\n",
    "        else:\n",
    "            print('found spots:' + str(len(df_features)))\n",
    "\n",
    "\n",
    "        df_features.loc[:,'id'] = df.id.iloc[index]\n",
    "\n",
    "        df_features.to_csv(output_path+'spots/'+df.id.iloc[index]+'.csv') # Back up the DF for this FOV\n",
    "        \n",
    "        #plot spots detected at different thresholds\n",
    "        plot_qc_spot_detection(df, index, df_features, img, display_plot = False, measure = 'signal', thresholds = qc_thresholds) # Plot and save the QC of the spot detection\n",
    "\n",
    "        # Use mixed Guassian model to separate background from true spots\n",
    "        id, num_spot, threshold = plot_qc_spot_threshold(index, df, display_plot = False, measure = 'signal')\n",
    "        ids.append(id)\n",
    "        num_spots.append(num_spot)\n",
    "        thresholds.append(threshold)\n",
    "    \n",
    "    df_thresholds = pd.DataFrame(data = {'id': ids, 'num_spots': num_spots, 'threshold':thresholds })\n",
    "    df_thresholds.to_csv(output_path+'spotGMMthresholds.csv',index=False)\n",
    "    return df_thresholds\n",
    "\n",
    "\n",
    "def replot_spots_with_thresholds(indices, df, useRaw=True, qc_thresholds=[1,2.5,5,10]):\n",
    "    '''Finds spots and estimates threshold'''\n",
    "    for index in tqdm.tqdm(indices):\n",
    "        # Load the data\n",
    "        # with ND2Reader(df.filepath.iloc[index]) as images:\n",
    "        #     images.bundle_axes = ['z','x','y','c']\n",
    "        #     img = images[0]\n",
    "        if useRaw:\n",
    "            img = BioImage(df.raw_filepath.iloc[index], reader=bioio_nd2.Reader)\n",
    "            img = img.get_image_data(\"ZYX\", T=0, C=spotChannel)\n",
    "        else:\n",
    "            img = BioImage(df.denoised_filepath.iloc[index], reader=bioio_tifffile.Reader)\n",
    "            img = img.get_image_data(\"ZYX\", T=0, C=spotChannel)\n",
    "\n",
    "        # Run t\n",
    "        masks = BioImage(output_path+'segmentation/'+df.id.iloc[index]+'.tif', reader=bioio_tifffile.Reader)\n",
    "        masks = masks.get_image_data(\"ZYX\", T=0, C=0)\n",
    "\n",
    "        df_features =  pd.read_csv(output_path+'spots/'+df.id.iloc[index]+'.csv') # Back up the DF for this FOV\n",
    "        \n",
    "        #plot spots detected at different thresholds\n",
    "        plot_qc_spot_detection(df,index, df_features, img, display_plot = False, measure = 'signal', thresholds = qc_thresholds) # Plot and save the QC of the spot detection\n"
   ]
  },
  {
   "cell_type": "markdown",
   "id": "3b657443",
   "metadata": {},
   "source": [
    "## Functions to gather results into single file"
   ]
  },
  {
   "cell_type": "code",
   "execution_count": 12,
   "id": "28a8332f",
   "metadata": {},
   "outputs": [],
   "source": [
    "def collect_nuclear_segementation_data(indices, df, suffix = 'v001'):\n",
    "    '''Collects nuclear intensity and intensity vs distance data for all nuclei in the dataset'''\n",
    "    df_nuclei = pd.DataFrame()\n",
    "    for index in tqdm.tqdm(indices):\n",
    "        df_tmp = pd.read_csv(output_path+'nuclei/'+df.id.iloc[index]+'.csv')\n",
    "        df_nuclei = pd.concat([df_nuclei,df_tmp])\n",
    "    df_nuclei.to_csv(output_path+'nuclei_analysis_'+suffix+'.csv',index=False)\n",
    "\n",
    "\n",
    "\n",
    "def collect_nuclear_distance_data(indices, df, suffix = 'v001'):\n",
    "    '''Collects nuclear intensity and intensity vs distance data for all nuclei in the dataset'''\n",
    "    df_dist = pd.DataFrame()\n",
    "    for index in tqdm.tqdm(indices):\n",
    "        df_tmp = pd.read_pickle(output_path+'dist/'+df.id.iloc[index]+'.pkl')\n",
    "        df_dist = pd.concat([df_dist,df_tmp])\n",
    "    df_dist.to_pickle(output_path+'dist_analysis_'+suffix+'.pkl')\n",
    "\n",
    "\n",
    "def collect_spot_data(indices, df, suffix = 'v001'):\n",
    "    '''Collects spot data for all images'''\n",
    "    df_spots = pd.DataFrame()\n",
    "    for index in tqdm.tqdm(indices):\n",
    "        df_tmp = pd.read_csv(output_path+'spots/'+df.id.iloc[index]+'.csv')\n",
    "        df_spots = pd.concat([df_spots,df_tmp])\n",
    "    df_spots.to_csv(output_path+'spots_analysis_'+suffix+'.csv',index=False)\n"
   ]
  },
  {
   "cell_type": "code",
   "execution_count": 80,
   "id": "228bd0d7",
   "metadata": {},
   "outputs": [
    {
     "name": "stderr",
     "output_type": "stream",
     "text": [
      "Clipping input data to the valid range for imshow with RGB data ([0..1] for floats or [0..255] for integers). Got range [0.006170680147440377..255.0].\n",
      "Clipping input data to the valid range for imshow with RGB data ([0..1] for floats or [0..255] for integers). Got range [0.00048077780487187916..255.0].\n",
      "Clipping input data to the valid range for imshow with RGB data ([0..1] for floats or [0..255] for integers). Got range [0.0007590933015833023..255.0].\n",
      "Clipping input data to the valid range for imshow with RGB data ([0..1] for floats or [0..255] for integers). Got range [0.029727879141836056..255.0].\n",
      "Clipping input data to the valid range for imshow with RGB data ([0..1] for floats or [0..255] for integers). Got range [0.011042114485362409..255.0].\n",
      "Clipping input data to the valid range for imshow with RGB data ([0..1] for floats or [0..255] for integers). Got range [0.0010990084899535901..255.0].\n",
      "Clipping input data to the valid range for imshow with RGB data ([0..1] for floats or [0..255] for integers). Got range [0.01406732469518246..255.0].\n",
      "Clipping input data to the valid range for imshow with RGB data ([0..1] for floats or [0..255] for integers). Got range [0.004702510801651405..255.0].\n",
      "Clipping input data to the valid range for imshow with RGB data ([0..1] for floats or [0..255] for integers). Got range [0.04016019873144239..255.0].\n",
      "/tmp/ipykernel_2284930/3222297102.py:97: UserWarning: The figure layout has changed to tight\n",
      "  plt.tight_layout()\n"
     ]
    }
   ],
   "source": [
    "index=0\n",
    "\n",
    "img = BioImage(df.denoised_filepath.iloc[index], reader=bioio_tifffile.Reader)\n",
    "img = img.get_image_data(\"CZYX\", T=0)\n",
    "\n",
    "# Run t\n",
    "masks = BioImage(output_path+'segmentation/'+df.id.iloc[index]+'.tif', reader=bioio_tifffile.Reader)\n",
    "masks = masks.get_image_data(\"ZYX\", T=0, C=0)\n",
    "\n",
    "#masks = BioImage(output_path+'edt/'+df.id.iloc[index]+'.tif', reader=bioio_tifffile.Reader)\n",
    "#masks = masks.get_image_data(\"ZYX\", T=0, C=0)\n",
    "#from skimage.measure import label\n",
    "from skimage.color import label2rgb\n",
    "\n",
    "#visualization = label2rgb(imagej_label_image, bg_label=0)\n",
    "\n",
    "def plot_qc_segmentation_xyz(img,masks,index,df,display_plot=False, plotContours=False):\n",
    "    nucChannel = 0\n",
    "    num_z=img.shape[1]\n",
    "    num_y=img.shape[2]\n",
    "    num_x=img.shape[3]\n",
    "    nlabel=100\n",
    "\n",
    "    fig = plt.figure(layout='constrained',dpi=450,figsize = (10,10))\n",
    "    fig.suptitle(f'Segmentation for {df.id.iloc[index]}', fontsize=10)\n",
    "    subfigs = fig.subfigures(2, 1, wspace=0.1)\n",
    "\n",
    "    axsTop = subfigs[0].subplots(2, 3,sharex=True, sharey=True)\n",
    "    #xy\n",
    "    axsTop[0,0].imshow(label2rgb(masks[int(num_z*0.3),:,:],bg_label=0,bg_color=(255, 255, 255),colors=np.random.random((nlabel, 3))))\n",
    "    axsTop[1,0].set_title('z='+str(int(num_z*0.3)), fontsize=8)\n",
    "    axsTop[0,1].imshow(label2rgb(masks[int(num_z*0.5),:,:],bg_label=0,bg_color=(255, 255, 255),colors=np.random.random((nlabel, 3))))\n",
    "    axsTop[1,1].set_title('z='+str(int(num_z*0.5)), fontsize=8)\n",
    "    axsTop[0,2].imshow(label2rgb(masks[int(num_z*0.7),:,:],bg_label=0,bg_color=(255, 255, 255),colors=np.random.random((nlabel, 3))))\n",
    "    axsTop[1,2].set_title('z='+str(int(num_z*0.7)), fontsize=8)\n",
    "\n",
    "    axsTop[1,0].imshow(img[nucChannel,int(num_z*0.3),:,:],cmap = 'gray_r')\n",
    "    axsTop[1,1].imshow(img[nucChannel,int(num_z*0.5),:,:],cmap = 'gray_r')\n",
    "    axsTop[1,2].imshow(img[nucChannel,int(num_z*0.7),:,:],cmap = 'gray_r')\n",
    "\n",
    "    if plotContours:\n",
    "        axsTop[1,0].contour(masks[int(num_z*0.3),:,:], [0.5], linewidths=0.5, colors='r')\n",
    "        axsTop[1,1].contour(masks[int(num_z*0.5),:,:], [0.5], linewidths=0.5, colors='r')\n",
    "        axsTop[1,2].contour(masks[int(num_z*0.7),:,:], [0.5], linewidths=0.5, colors='r')\n",
    "\n",
    "\n",
    "\n",
    "    for axss in axsTop:\n",
    "        for ax in axss:\n",
    "            #ax.set_xlim(0,num_x)\n",
    "            #ax.set_ylim(0,num_y)\n",
    "            ax.set_xticks([])\n",
    "            ax.set_yticks([])\n",
    "\n",
    "    axsBottom = subfigs[1].subplots(4, 3,sharex=True,sharey=True)\n",
    "    #xz\n",
    "    axsBottom[0,0].imshow(label2rgb(masks[:,int(num_y*0.3),:],bg_label=0,bg_color=(255, 255, 255),colors=np.random.random((nlabel, 3))))\n",
    "    axsBottom[1,0].set_title('y='+str(int(num_y*0.3)), fontsize=8)\n",
    "    axsBottom[0,1].imshow(label2rgb(masks[:,int(num_y*0.5),:],bg_label=0,bg_color=(255, 255, 255),colors=np.random.random((nlabel, 3))))\n",
    "    axsBottom[1,1].set_title('y='+str(int(num_y*0.5)), fontsize=8)\n",
    "    axsBottom[0,2].imshow(label2rgb(masks[:,int(num_y*0.7),:],bg_label=0,bg_color=(255, 255, 255),colors=np.random.random((nlabel, 3))))\n",
    "    axsBottom[1,2].set_title('y='+str(int(num_y*0.7)), fontsize=8)\n",
    "\n",
    "    axsBottom[1,0].imshow(img[nucChannel,:,int(num_y*0.3),:],cmap = 'gray_r')\n",
    "    axsBottom[1,1].imshow(img[nucChannel,:,int(num_y*0.5),:],cmap = 'gray_r')\n",
    "    axsBottom[1,2].imshow(img[nucChannel,:,int(num_y*0.7),:],cmap = 'gray_r')\n",
    "\n",
    "    if plotContours:\n",
    "        axsBottom[1,0].contour(masks[:,int(num_y*0.3),:], [0.5], linewidths=0.5, colors='r')\n",
    "        axsBottom[1,1].contour(masks[:,int(num_y*0.5),:], [0.5], linewidths=0.5, colors='r')\n",
    "        axsBottom[1,2].contour(masks[:,int(num_y*0.7),:], [0.5], linewidths=0.5, colors='r')\n",
    "\n",
    "\n",
    "    #yz\n",
    "    axsBottom[2,0].imshow(label2rgb(masks[:,:,int(num_x*0.3)],bg_label=0,bg_color=(255, 255, 255),colors=np.random.random((nlabel, 3))))\n",
    "    axsBottom[3,0].set_title('x='+str(int(num_x*0.3)), fontsize=8)\n",
    "    axsBottom[2,1].imshow(label2rgb(masks[:,:,int(num_x*0.5)],bg_label=0,bg_color=(255, 255, 255),colors=np.random.random((nlabel, 3))))\n",
    "    axsBottom[3,1].set_title('x='+str(int(num_x*0.5)), fontsize=8)\n",
    "    axsBottom[2,2].imshow(label2rgb(masks[:,:,int(num_x*0.7)],bg_label=0,bg_color=(255, 255, 255),colors=np.random.random((nlabel, 3))))\n",
    "    axsBottom[3,2].set_title('x='+str(int(num_x*0.7)), fontsize=8)\n",
    "\n",
    "    axsBottom[3,0].imshow(img[nucChannel,:,:,int(num_x*0.3)],cmap = 'gray_r')\n",
    "    axsBottom[3,1].imshow(img[nucChannel,:,:,int(num_x*0.5)],cmap = 'gray_r')\n",
    "    axsBottom[3,2].imshow(img[nucChannel,:,:,int(num_x*0.7)],cmap = 'gray_r')\n",
    "\n",
    "    if plotContours:\n",
    "        axsBottom[3,0].contour(masks[:,:,int(num_x*0.3)], [0.5], linewidths=0.5, colors='r')\n",
    "        axsBottom[3,1].contour(masks[:,:,int(num_x*0.5)], [0.5], linewidths=0.5, colors='r')\n",
    "        axsBottom[3,2].contour(masks[:,:,int(num_x*0.7)], [0.5], linewidths=0.5, colors='r')\n",
    "\n",
    "    for axss in axsBottom:\n",
    "        for ax in axss:\n",
    "            #ax.set_ylim(0,num_z)\n",
    "            ax.set_xticks([])\n",
    "            ax.set_yticks([])\n",
    "\n",
    "    plt.tight_layout()\n",
    "    if display_plot:\n",
    "        plt.show()\n",
    "    else:\n",
    "        fig.savefig(output_path + 'qc/segmentation_'+df.id.iloc[index]+'.pdf')\n",
    "        plt.close()\n",
    "\n",
    "plot_qc_segmentation_xyz(img,masks,index,df,display_plot=False,plotContours=False)"
   ]
  },
  {
   "cell_type": "code",
   "execution_count": 59,
   "id": "b974c392",
   "metadata": {},
   "outputs": [
    {
     "data": {
      "text/plain": [
       "436"
      ]
     },
     "execution_count": 59,
     "metadata": {},
     "output_type": "execute_result"
    }
   ],
   "source": [
    "len(np.unique(masks))"
   ]
  },
  {
   "cell_type": "code",
   "execution_count": null,
   "id": "00776665",
   "metadata": {},
   "outputs": [
    {
     "ename": "AttributeError",
     "evalue": "'numpy.ndarray' object has no attribute 'count'",
     "output_type": "error",
     "traceback": [
      "\u001b[0;31m---------------------------------------------------------------------------\u001b[0m",
      "\u001b[0;31mAttributeError\u001b[0m                            Traceback (most recent call last)",
      "Cell \u001b[0;32mIn[128], line 1\u001b[0m\n\u001b[0;32m----> 1\u001b[0m \u001b[43mmasks\u001b[49m\u001b[38;5;241;43m.\u001b[39;49m\u001b[43mflatten\u001b[49m\u001b[43m(\u001b[49m\u001b[43m)\u001b[49m\u001b[38;5;241;43m.\u001b[39;49m\u001b[43mcount\u001b[49m\n",
      "\u001b[0;31mAttributeError\u001b[0m: 'numpy.ndarray' object has no attribute 'count'"
     ]
    }
   ],
   "source": [
    "masks.unique()"
   ]
  },
  {
   "cell_type": "markdown",
   "id": "89662d67",
   "metadata": {},
   "source": [
    "## Running the analysis for nuclear segmentation"
   ]
  },
  {
   "cell_type": "code",
   "execution_count": 82,
   "id": "12b5278b",
   "metadata": {},
   "outputs": [
    {
     "name": "stderr",
     "output_type": "stream",
     "text": [
      "  0%|          | 0/24 [00:00<?, ?it/s]"
     ]
    },
    {
     "name": "stdout",
     "output_type": "stream",
     "text": [
      "/mnt/external.data/MeisterLab/Dario/Imaging/DPY27/1268/20240915_3d/20240915_1268_E_bean_15um.nd2\n"
     ]
    },
    {
     "name": "stderr",
     "output_type": "stream",
     "text": [
      "/home/jsemple/miniforge3/envs/lhcellpose/lib/python3.10/site-packages/dask/tokenize.py:242: UserWarning: ND2File file not closed before garbage collection. Please use `with ND2File(...):` context or call `.close()`.\n",
      "  mod.loads(out, buffers=buffers)\n",
      "  4%|▍         | 1/24 [00:10<04:07, 10.75s/it]"
     ]
    },
    {
     "name": "stdout",
     "output_type": "stream",
     "text": [
      "/mnt/external.data/MeisterLab/Dario/Imaging/DPY27/1268/20240915_3d/20240915_1268_E_bean_15um_02.nd2\n"
     ]
    },
    {
     "name": "stderr",
     "output_type": "stream",
     "text": [
      "/home/jsemple/miniforge3/envs/lhcellpose/lib/python3.10/site-packages/dask/tokenize.py:242: UserWarning: ND2File file not closed before garbage collection. Please use `with ND2File(...):` context or call `.close()`.\n",
      "  mod.loads(out, buffers=buffers)\n",
      "  8%|▊         | 2/24 [00:24<04:30, 12.28s/it]"
     ]
    },
    {
     "name": "stdout",
     "output_type": "stream",
     "text": [
      "/mnt/external.data/MeisterLab/Dario/Imaging/DPY27/1268/20240915_3d/20240915_1268_E_early_15um.nd2\n"
     ]
    },
    {
     "name": "stderr",
     "output_type": "stream",
     "text": [
      "/home/jsemple/miniforge3/envs/lhcellpose/lib/python3.10/site-packages/dask/tokenize.py:242: UserWarning: ND2File file not closed before garbage collection. Please use `with ND2File(...):` context or call `.close()`.\n",
      "  mod.loads(out, buffers=buffers)\n",
      " 12%|█▎        | 3/24 [00:35<04:13, 12.05s/it]"
     ]
    },
    {
     "name": "stdout",
     "output_type": "stream",
     "text": [
      "/mnt/external.data/MeisterLab/Dario/Imaging/DPY27/1268/20240915_3d/20240915_1268_E_early_15um_02.nd2\n"
     ]
    },
    {
     "name": "stderr",
     "output_type": "stream",
     "text": [
      "/home/jsemple/miniforge3/envs/lhcellpose/lib/python3.10/site-packages/dask/tokenize.py:242: UserWarning: ND2File file not closed before garbage collection. Please use `with ND2File(...):` context or call `.close()`.\n",
      "  mod.loads(out, buffers=buffers)\n",
      " 17%|█▋        | 4/24 [00:48<04:01, 12.09s/it]"
     ]
    },
    {
     "name": "stdout",
     "output_type": "stream",
     "text": [
      "/mnt/external.data/MeisterLab/Dario/Imaging/DPY27/1268/20240915_3d/20240915_1268_E_early_15um_03.nd2\n"
     ]
    },
    {
     "name": "stderr",
     "output_type": "stream",
     "text": [
      "/home/jsemple/miniforge3/envs/lhcellpose/lib/python3.10/site-packages/dask/tokenize.py:242: UserWarning: ND2File file not closed before garbage collection. Please use `with ND2File(...):` context or call `.close()`.\n",
      "  mod.loads(out, buffers=buffers)\n",
      " 21%|██        | 5/24 [00:59<03:45, 11.85s/it]"
     ]
    },
    {
     "name": "stdout",
     "output_type": "stream",
     "text": [
      "/mnt/external.data/MeisterLab/Dario/Imaging/DPY27/1268/20240915_3d/20240915_1268_E_early_15um_04.nd2\n"
     ]
    },
    {
     "name": "stderr",
     "output_type": "stream",
     "text": [
      "/home/jsemple/miniforge3/envs/lhcellpose/lib/python3.10/site-packages/dask/tokenize.py:242: UserWarning: ND2File file not closed before garbage collection. Please use `with ND2File(...):` context or call `.close()`.\n",
      "  mod.loads(out, buffers=buffers)\n",
      " 25%|██▌       | 6/24 [01:07<03:09, 10.54s/it]"
     ]
    },
    {
     "name": "stdout",
     "output_type": "stream",
     "text": [
      "/mnt/external.data/MeisterLab/Dario/Imaging/DPY27/1268/20240915_3d/20240915_1268_E_early_15um_05.nd2\n"
     ]
    },
    {
     "name": "stderr",
     "output_type": "stream",
     "text": [
      "/home/jsemple/miniforge3/envs/lhcellpose/lib/python3.10/site-packages/dask/tokenize.py:242: UserWarning: ND2File file not closed before garbage collection. Please use `with ND2File(...):` context or call `.close()`.\n",
      "  mod.loads(out, buffers=buffers)\n",
      " 29%|██▉       | 7/24 [01:15<02:43,  9.62s/it]"
     ]
    },
    {
     "name": "stdout",
     "output_type": "stream",
     "text": [
      "/mnt/external.data/MeisterLab/Dario/Imaging/DPY27/1268/20240915_3d/20240915_1268_E_early_15um_06.nd2\n"
     ]
    },
    {
     "name": "stderr",
     "output_type": "stream",
     "text": [
      "/home/jsemple/miniforge3/envs/lhcellpose/lib/python3.10/site-packages/dask/tokenize.py:242: UserWarning: ND2File file not closed before garbage collection. Please use `with ND2File(...):` context or call `.close()`.\n",
      "  mod.loads(out, buffers=buffers)\n",
      " 33%|███▎      | 8/24 [01:25<02:38,  9.88s/it]"
     ]
    },
    {
     "name": "stdout",
     "output_type": "stream",
     "text": [
      "/mnt/external.data/MeisterLab/Dario/Imaging/DPY27/1268/20240915_3d/20240915_1268_E_early_15um_07.nd2\n"
     ]
    },
    {
     "name": "stderr",
     "output_type": "stream",
     "text": [
      "/home/jsemple/miniforge3/envs/lhcellpose/lib/python3.10/site-packages/dask/tokenize.py:242: UserWarning: ND2File file not closed before garbage collection. Please use `with ND2File(...):` context or call `.close()`.\n",
      "  mod.loads(out, buffers=buffers)\n",
      " 38%|███▊      | 9/24 [01:34<02:23,  9.59s/it]"
     ]
    },
    {
     "name": "stdout",
     "output_type": "stream",
     "text": [
      "/mnt/external.data/MeisterLab/Dario/Imaging/DPY27/1268/20240915_3d/20240915_1268_E_late_15um.nd2\n"
     ]
    },
    {
     "name": "stderr",
     "output_type": "stream",
     "text": [
      "/home/jsemple/miniforge3/envs/lhcellpose/lib/python3.10/site-packages/dask/tokenize.py:242: UserWarning: ND2File file not closed before garbage collection. Please use `with ND2File(...):` context or call `.close()`.\n",
      "  mod.loads(out, buffers=buffers)\n",
      " 42%|████▏     | 10/24 [01:45<02:18,  9.88s/it]"
     ]
    },
    {
     "name": "stdout",
     "output_type": "stream",
     "text": [
      "/mnt/external.data/MeisterLab/Dario/Imaging/DPY27/1268/20240915_3d/20240915_1268_E_late_15um_02.nd2\n"
     ]
    },
    {
     "name": "stderr",
     "output_type": "stream",
     "text": [
      "/home/jsemple/miniforge3/envs/lhcellpose/lib/python3.10/site-packages/dask/tokenize.py:242: UserWarning: ND2File file not closed before garbage collection. Please use `with ND2File(...):` context or call `.close()`.\n",
      "  mod.loads(out, buffers=buffers)\n",
      " 46%|████▌     | 11/24 [01:55<02:08,  9.91s/it]"
     ]
    },
    {
     "name": "stdout",
     "output_type": "stream",
     "text": [
      "/mnt/external.data/MeisterLab/Dario/Imaging/DPY27/1268/20240915_3d/20240915_1268_E_late_15um_03.nd2\n"
     ]
    },
    {
     "name": "stderr",
     "output_type": "stream",
     "text": [
      "/home/jsemple/miniforge3/envs/lhcellpose/lib/python3.10/site-packages/dask/tokenize.py:242: UserWarning: ND2File file not closed before garbage collection. Please use `with ND2File(...):` context or call `.close()`.\n",
      "  mod.loads(out, buffers=buffers)\n",
      " 50%|█████     | 12/24 [02:05<02:01, 10.15s/it]"
     ]
    },
    {
     "name": "stdout",
     "output_type": "stream",
     "text": [
      "/mnt/external.data/MeisterLab/Dario/Imaging/DPY27/1268/20240915_3d/20240915_1268_E_late_15um_04.nd2\n"
     ]
    },
    {
     "name": "stderr",
     "output_type": "stream",
     "text": [
      "/home/jsemple/miniforge3/envs/lhcellpose/lib/python3.10/site-packages/dask/tokenize.py:242: UserWarning: ND2File file not closed before garbage collection. Please use `with ND2File(...):` context or call `.close()`.\n",
      "  mod.loads(out, buffers=buffers)\n",
      " 54%|█████▍    | 13/24 [02:17<01:55, 10.48s/it]"
     ]
    },
    {
     "name": "stdout",
     "output_type": "stream",
     "text": [
      "/mnt/external.data/MeisterLab/Dario/Imaging/DPY27/1268/20240915_3d/20240915_1268_E_late_15um_05.nd2\n"
     ]
    },
    {
     "name": "stderr",
     "output_type": "stream",
     "text": [
      "/home/jsemple/miniforge3/envs/lhcellpose/lib/python3.10/site-packages/dask/tokenize.py:242: UserWarning: ND2File file not closed before garbage collection. Please use `with ND2File(...):` context or call `.close()`.\n",
      "  mod.loads(out, buffers=buffers)\n",
      " 58%|█████▊    | 14/24 [02:32<01:59, 11.90s/it]"
     ]
    },
    {
     "name": "stdout",
     "output_type": "stream",
     "text": [
      "/mnt/external.data/MeisterLab/Dario/Imaging/DPY27/1268/20240915_3d/20240915_1268_E_late_15um_06.nd2\n"
     ]
    },
    {
     "name": "stderr",
     "output_type": "stream",
     "text": [
      "/home/jsemple/miniforge3/envs/lhcellpose/lib/python3.10/site-packages/dask/tokenize.py:242: UserWarning: ND2File file not closed before garbage collection. Please use `with ND2File(...):` context or call `.close()`.\n",
      "  mod.loads(out, buffers=buffers)\n",
      " 62%|██████▎   | 15/24 [02:43<01:46, 11.86s/it]"
     ]
    },
    {
     "name": "stdout",
     "output_type": "stream",
     "text": [
      "/mnt/external.data/MeisterLab/Dario/Imaging/DPY27/1268/20240915_3d/20240915_1268_E_late_15um_07.nd2\n"
     ]
    },
    {
     "name": "stderr",
     "output_type": "stream",
     "text": [
      "/home/jsemple/miniforge3/envs/lhcellpose/lib/python3.10/site-packages/dask/tokenize.py:242: UserWarning: ND2File file not closed before garbage collection. Please use `with ND2File(...):` context or call `.close()`.\n",
      "  mod.loads(out, buffers=buffers)\n",
      " 67%|██████▋   | 16/24 [02:58<01:41, 12.69s/it]"
     ]
    },
    {
     "name": "stdout",
     "output_type": "stream",
     "text": [
      "/mnt/external.data/MeisterLab/Dario/Imaging/DPY27/1268/20240915_3d/20240915_1268_E_mid_15um.nd2\n"
     ]
    },
    {
     "name": "stderr",
     "output_type": "stream",
     "text": [
      "/home/jsemple/miniforge3/envs/lhcellpose/lib/python3.10/site-packages/dask/tokenize.py:242: UserWarning: ND2File file not closed before garbage collection. Please use `with ND2File(...):` context or call `.close()`.\n",
      "  mod.loads(out, buffers=buffers)\n",
      " 71%|███████   | 17/24 [03:08<01:22, 11.82s/it]"
     ]
    },
    {
     "name": "stdout",
     "output_type": "stream",
     "text": [
      "/mnt/external.data/MeisterLab/Dario/Imaging/DPY27/1268/20240915_3d/20240915_1268_E_mid_15um_02.nd2\n"
     ]
    },
    {
     "name": "stderr",
     "output_type": "stream",
     "text": [
      "/home/jsemple/miniforge3/envs/lhcellpose/lib/python3.10/site-packages/dask/tokenize.py:242: UserWarning: ND2File file not closed before garbage collection. Please use `with ND2File(...):` context or call `.close()`.\n",
      "  mod.loads(out, buffers=buffers)\n",
      " 75%|███████▌  | 18/24 [03:16<01:04, 10.67s/it]"
     ]
    },
    {
     "name": "stdout",
     "output_type": "stream",
     "text": [
      "/mnt/external.data/MeisterLab/Dario/Imaging/DPY27/1268/20240915_3d/20240915_1268_E_mid_15um_03.nd2\n"
     ]
    },
    {
     "name": "stderr",
     "output_type": "stream",
     "text": [
      "/home/jsemple/miniforge3/envs/lhcellpose/lib/python3.10/site-packages/dask/tokenize.py:242: UserWarning: ND2File file not closed before garbage collection. Please use `with ND2File(...):` context or call `.close()`.\n",
      "  mod.loads(out, buffers=buffers)\n",
      " 79%|███████▉  | 19/24 [03:27<00:54, 10.81s/it]"
     ]
    },
    {
     "name": "stdout",
     "output_type": "stream",
     "text": [
      "/mnt/external.data/MeisterLab/Dario/Imaging/DPY27/1268/20240915_3d/20240915_1268_E_mid_15um_04.nd2\n"
     ]
    },
    {
     "name": "stderr",
     "output_type": "stream",
     "text": [
      "/home/jsemple/miniforge3/envs/lhcellpose/lib/python3.10/site-packages/dask/tokenize.py:242: UserWarning: ND2File file not closed before garbage collection. Please use `with ND2File(...):` context or call `.close()`.\n",
      "  mod.loads(out, buffers=buffers)\n",
      " 83%|████████▎ | 20/24 [03:36<00:41, 10.25s/it]"
     ]
    },
    {
     "name": "stdout",
     "output_type": "stream",
     "text": [
      "/mnt/external.data/MeisterLab/Dario/Imaging/DPY27/1268/20240915_3d/20240915_1268_E_mid_15um_05.nd2\n"
     ]
    },
    {
     "name": "stderr",
     "output_type": "stream",
     "text": [
      "/home/jsemple/miniforge3/envs/lhcellpose/lib/python3.10/site-packages/dask/tokenize.py:242: UserWarning: ND2File file not closed before garbage collection. Please use `with ND2File(...):` context or call `.close()`.\n",
      "  mod.loads(out, buffers=buffers)\n",
      " 88%|████████▊ | 21/24 [03:48<00:32, 10.80s/it]"
     ]
    },
    {
     "name": "stdout",
     "output_type": "stream",
     "text": [
      "/mnt/external.data/MeisterLab/Dario/Imaging/DPY27/1268/20240915_3d/20240915_1268_E_mid_15um_06.nd2\n"
     ]
    },
    {
     "name": "stderr",
     "output_type": "stream",
     "text": [
      "/home/jsemple/miniforge3/envs/lhcellpose/lib/python3.10/site-packages/dask/tokenize.py:242: UserWarning: ND2File file not closed before garbage collection. Please use `with ND2File(...):` context or call `.close()`.\n",
      "  mod.loads(out, buffers=buffers)\n",
      " 92%|█████████▏| 22/24 [03:58<00:21, 10.61s/it]"
     ]
    },
    {
     "name": "stdout",
     "output_type": "stream",
     "text": [
      "/mnt/external.data/MeisterLab/Dario/Imaging/DPY27/1268/20240915_3d/20240915_1268_E_mid_15um_07.nd2\n"
     ]
    },
    {
     "name": "stderr",
     "output_type": "stream",
     "text": [
      "/home/jsemple/miniforge3/envs/lhcellpose/lib/python3.10/site-packages/dask/tokenize.py:242: UserWarning: ND2File file not closed before garbage collection. Please use `with ND2File(...):` context or call `.close()`.\n",
      "  mod.loads(out, buffers=buffers)\n",
      " 96%|█████████▌| 23/24 [04:12<00:11, 11.58s/it]"
     ]
    },
    {
     "name": "stdout",
     "output_type": "stream",
     "text": [
      "/mnt/external.data/MeisterLab/Dario/Imaging/DPY27/1268/20240915_3d/20240915_1268_E_mid_15um_08.nd2\n"
     ]
    },
    {
     "name": "stderr",
     "output_type": "stream",
     "text": [
      "/home/jsemple/miniforge3/envs/lhcellpose/lib/python3.10/site-packages/dask/tokenize.py:242: UserWarning: ND2File file not closed before garbage collection. Please use `with ND2File(...):` context or call `.close()`.\n",
      "  mod.loads(out, buffers=buffers)\n",
      "100%|██████████| 24/24 [04:21<00:00, 10.88s/it]\n",
      "100%|██████████| 24/24 [00:00<00:00, 148.45it/s]\n",
      "100%|██████████| 24/24 [00:00<00:00, 24.27it/s]\n"
     ]
    }
   ],
   "source": [
    "# run analysis to segment nuclei\n",
    "indices=range(0,len(df))\n",
    "#indices=[0]\n",
    "\n",
    "#run_nuclear_segmentation(indices, df)\n",
    "\n",
    "run_dist_analysis(indices,df)\n",
    "\n",
    "collect_nuclear_segementation_data(indices, df, suffix = 'v001')\n",
    "collect_nuclear_distance_data(indices, df, suffix = 'v001')"
   ]
  },
  {
   "cell_type": "code",
   "execution_count": 239,
   "id": "a30bc9d9",
   "metadata": {},
   "outputs": [
    {
     "data": {
      "text/html": [
       "<div>\n",
       "<style scoped>\n",
       "    .dataframe tbody tr th:only-of-type {\n",
       "        vertical-align: middle;\n",
       "    }\n",
       "\n",
       "    .dataframe tbody tr th {\n",
       "        vertical-align: top;\n",
       "    }\n",
       "\n",
       "    .dataframe thead th {\n",
       "        text-align: right;\n",
       "    }\n",
       "</style>\n",
       "<table border=\"1\" class=\"dataframe\">\n",
       "  <thead>\n",
       "    <tr style=\"text-align: right;\">\n",
       "      <th></th>\n",
       "      <th>filename</th>\n",
       "      <th>date</th>\n",
       "      <th>experiment</th>\n",
       "      <th>strain</th>\n",
       "      <th>protein</th>\n",
       "      <th>id</th>\n",
       "      <th>raw_filepath</th>\n",
       "      <th>denoised_filepath</th>\n",
       "    </tr>\n",
       "  </thead>\n",
       "  <tbody>\n",
       "    <tr>\n",
       "      <th>0</th>\n",
       "      <td>20240915_1268_E_bean_15um</td>\n",
       "      <td>20240915</td>\n",
       "      <td>3d</td>\n",
       "      <td>1268</td>\n",
       "      <td>DPY27</td>\n",
       "      <td>DPY27_3d_20240915_1268_E_bean_15um</td>\n",
       "      <td>/mnt/external.data/MeisterLab/Dario/Imaging/DP...</td>\n",
       "      <td>/mnt/external.data/MeisterLab/Dario/Imaging/DP...</td>\n",
       "    </tr>\n",
       "    <tr>\n",
       "      <th>1</th>\n",
       "      <td>20240915_1268_E_bean_15um_02</td>\n",
       "      <td>20240915</td>\n",
       "      <td>3d</td>\n",
       "      <td>1268</td>\n",
       "      <td>DPY27</td>\n",
       "      <td>DPY27_3d_20240915_1268_E_bean_15um_02</td>\n",
       "      <td>/mnt/external.data/MeisterLab/Dario/Imaging/DP...</td>\n",
       "      <td>/mnt/external.data/MeisterLab/Dario/Imaging/DP...</td>\n",
       "    </tr>\n",
       "    <tr>\n",
       "      <th>2</th>\n",
       "      <td>20240915_1268_E_early_15um</td>\n",
       "      <td>20240915</td>\n",
       "      <td>3d</td>\n",
       "      <td>1268</td>\n",
       "      <td>DPY27</td>\n",
       "      <td>DPY27_3d_20240915_1268_E_early_15um</td>\n",
       "      <td>/mnt/external.data/MeisterLab/Dario/Imaging/DP...</td>\n",
       "      <td>/mnt/external.data/MeisterLab/Dario/Imaging/DP...</td>\n",
       "    </tr>\n",
       "    <tr>\n",
       "      <th>3</th>\n",
       "      <td>20240915_1268_E_early_15um_02</td>\n",
       "      <td>20240915</td>\n",
       "      <td>3d</td>\n",
       "      <td>1268</td>\n",
       "      <td>DPY27</td>\n",
       "      <td>DPY27_3d_20240915_1268_E_early_15um_02</td>\n",
       "      <td>/mnt/external.data/MeisterLab/Dario/Imaging/DP...</td>\n",
       "      <td>/mnt/external.data/MeisterLab/Dario/Imaging/DP...</td>\n",
       "    </tr>\n",
       "    <tr>\n",
       "      <th>4</th>\n",
       "      <td>20240915_1268_E_early_15um_03</td>\n",
       "      <td>20240915</td>\n",
       "      <td>3d</td>\n",
       "      <td>1268</td>\n",
       "      <td>DPY27</td>\n",
       "      <td>DPY27_3d_20240915_1268_E_early_15um_03</td>\n",
       "      <td>/mnt/external.data/MeisterLab/Dario/Imaging/DP...</td>\n",
       "      <td>/mnt/external.data/MeisterLab/Dario/Imaging/DP...</td>\n",
       "    </tr>\n",
       "  </tbody>\n",
       "</table>\n",
       "</div>"
      ],
      "text/plain": [
       "                        filename      date experiment strain protein  \\\n",
       "0      20240915_1268_E_bean_15um  20240915         3d   1268   DPY27   \n",
       "1   20240915_1268_E_bean_15um_02  20240915         3d   1268   DPY27   \n",
       "2     20240915_1268_E_early_15um  20240915         3d   1268   DPY27   \n",
       "3  20240915_1268_E_early_15um_02  20240915         3d   1268   DPY27   \n",
       "4  20240915_1268_E_early_15um_03  20240915         3d   1268   DPY27   \n",
       "\n",
       "                                       id  \\\n",
       "0      DPY27_3d_20240915_1268_E_bean_15um   \n",
       "1   DPY27_3d_20240915_1268_E_bean_15um_02   \n",
       "2     DPY27_3d_20240915_1268_E_early_15um   \n",
       "3  DPY27_3d_20240915_1268_E_early_15um_02   \n",
       "4  DPY27_3d_20240915_1268_E_early_15um_03   \n",
       "\n",
       "                                        raw_filepath  \\\n",
       "0  /mnt/external.data/MeisterLab/Dario/Imaging/DP...   \n",
       "1  /mnt/external.data/MeisterLab/Dario/Imaging/DP...   \n",
       "2  /mnt/external.data/MeisterLab/Dario/Imaging/DP...   \n",
       "3  /mnt/external.data/MeisterLab/Dario/Imaging/DP...   \n",
       "4  /mnt/external.data/MeisterLab/Dario/Imaging/DP...   \n",
       "\n",
       "                                   denoised_filepath  \n",
       "0  /mnt/external.data/MeisterLab/Dario/Imaging/DP...  \n",
       "1  /mnt/external.data/MeisterLab/Dario/Imaging/DP...  \n",
       "2  /mnt/external.data/MeisterLab/Dario/Imaging/DP...  \n",
       "3  /mnt/external.data/MeisterLab/Dario/Imaging/DP...  \n",
       "4  /mnt/external.data/MeisterLab/Dario/Imaging/DP...  "
      ]
     },
     "execution_count": 239,
     "metadata": {},
     "output_type": "execute_result"
    }
   ],
   "source": [
    "df.head()"
   ]
  },
  {
   "cell_type": "markdown",
   "id": "439a487a",
   "metadata": {},
   "source": [
    "## Running the analysis for spot detection"
   ]
  },
  {
   "cell_type": "code",
   "execution_count": 42,
   "id": "896ed966",
   "metadata": {},
   "outputs": [
    {
     "name": "stderr",
     "output_type": "stream",
     "text": [
      "100%|██████████| 24/24 [03:38<00:00,  9.12s/it]\n"
     ]
    }
   ],
   "source": [
    "#indices=[0]\n",
    "indices=range(0,len(df))\n",
    "#run_spot_analysis(indices, df ,diameter=(9,5,5), separation=(3,2,2))\n",
    "#collect_spot_data(indices, df, suffix = 'v001')\n",
    "#run_spot_analysis(indices, df ,diameter=(7,9,9), separation=(1,2,2))\n",
    "#run_spot_analysis(indices, df, useRaw=False, diameter=(7,9,9), separation=(7,9,9), qc_thresholds=[10,15,20,25])\n",
    "replot_spots_with_thresholds(indices, df, useRaw=False, qc_thresholds=[10, 15, 20, 25])\n",
    "\n",
    "#collect_spot_data(indices, df, suffix = 'v001')"
   ]
  },
  {
   "cell_type": "code",
   "execution_count": 25,
   "id": "fba173dd",
   "metadata": {},
   "outputs": [
    {
     "name": "stderr",
     "output_type": "stream",
     "text": [
      "WARNING: could not connect to display \n",
      "WARNING: Could not load the Qt platform plugin \"xcb\" in \"\" even though it was found.\n"
     ]
    },
    {
     "ename": "",
     "evalue": "",
     "output_type": "error",
     "traceback": [
      "\u001b[1;31mThe Kernel crashed while executing code in the current cell or a previous cell. \n",
      "\u001b[1;31mPlease review the code in the cell(s) to identify a possible cause of the failure. \n",
      "\u001b[1;31mClick <a href='https://aka.ms/vscodeJupyterKernelCrash'>here</a> for more info. \n",
      "\u001b[1;31mView Jupyter <a href='command:jupyter.viewOutput'>log</a> for further details."
     ]
    }
   ],
   "source": [
    "index=indices[0]\n",
    "\n",
    "#def view_spots_in_napari(df, index, anisotropy=(4,1,1)):\n",
    "# Load the data\n",
    "with ND2Reader(df.filepath.iloc[index]) as images:\n",
    "    images.bundle_axes = ['z','x','y','c']\n",
    "    img = images[0]\n",
    "        \n",
    "# Run t\n",
    "masks = io.imread(output_path+'segmentation/'+df.id.iloc[index]+'.tif')\n",
    "masks_edt = io.imread(output_path+'edt/'+df.id.iloc[index]+'.tif')\n",
    "df_features = pd.read_csv(output_path+'spots/'+df.id.iloc[index]+'.csv')\n",
    "\n",
    "points = np.array(df_features[df_features['signal']>1.5][['z','y','x']].values)\n",
    "points[:,0] = points[:,0]*anisotropy[0]\n",
    "points[:,1] = points[:,1]*anisotropy[1]\n",
    "points[:,2] = points[:,2]*anisotropy[2]\n",
    "\n",
    "### Display everything in Napari\n",
    "napari.run()\n",
    "viewer = napari.Viewer()\n",
    "layer_c0 = viewer.add_labels(masks ,scale=anisotropy)\n",
    "layer_c0 = viewer.add_image(masks_edt ,scale=anisotropy)\n",
    "layer_c0 = viewer.add_image(img[:,1,:,:] ,scale=anisotropy)\n",
    "layer_c0 = viewer.add_image(img[:,0,:,:] ,scale=anisotropy)\n",
    "points_layer = viewer.add_points(points, size=3)#,anisotropy=anisotropy)\n",
    "    "
   ]
  },
  {
   "cell_type": "code",
   "execution_count": 41,
   "id": "d5b6f7c1-2c79-4f72-a514-4c3b54b43fae",
   "metadata": {
    "tags": []
   },
   "outputs": [
    {
     "name": "stderr",
     "output_type": "stream",
     "text": [
      "/home/jsemple/miniforge3/envs/lhcellpose/lib/python3.10/site-packages/numpy/core/fromnumeric.py:3474: RuntimeWarning: Mean of empty slice.\n",
      "  return _methods._mean(a, axis=axis, dtype=dtype,\n",
      "/home/jsemple/miniforge3/envs/lhcellpose/lib/python3.10/site-packages/numpy/core/_methods.py:189: RuntimeWarning: invalid value encountered in double_scalars\n",
      "  ret = ret.dtype.type(ret / rcount)\n",
      "/home/jsemple/miniforge3/envs/lhcellpose/lib/python3.10/site-packages/scipy/stats/_stats_py.py:600: RuntimeWarning: Degrees of freedom <= 0 for slice\n",
      "  return a.var(ddof=ddof, axis=axis)\n",
      "/home/jsemple/miniforge3/envs/lhcellpose/lib/python3.10/site-packages/numpy/core/_methods.py:222: RuntimeWarning: invalid value encountered in true_divide\n",
      "  arrmean = um.true_divide(arrmean, div, out=arrmean, casting='unsafe',\n",
      "/home/jsemple/miniforge3/envs/lhcellpose/lib/python3.10/site-packages/numpy/core/_methods.py:256: RuntimeWarning: invalid value encountered in double_scalars\n",
      "  ret = ret.dtype.type(ret / rcount)\n"
     ]
    },
    {
     "data": {
      "text/plain": [
       "([nan,\n",
       "  100.34782608695652,\n",
       "  100.51388888888889,\n",
       "  100.67676767676768,\n",
       "  100.79411764705883,\n",
       "  100.9479467726397,\n",
       "  101.08938826466917,\n",
       "  101.15929203539822,\n",
       "  101.25521059487625,\n",
       "  101.29587542087542,\n",
       "  101.31914893617021,\n",
       "  101.32200460829493,\n",
       "  101.34722222222223,\n",
       "  101.34866102889359,\n",
       "  101.33333333333333,\n",
       "  101.33333333333333,\n",
       "  101.3170731707317,\n",
       "  101.26086956521739,\n",
       "  101.15957446808511,\n",
       "  101.07019704433498,\n",
       "  101.06060606060606,\n",
       "  101.0,\n",
       "  100.66666666666667,\n",
       "  100.64285714285714,\n",
       "  100.60645161290321],\n",
       " [nan,\n",
       "  100.96941573622912,\n",
       "  101.18954617477297,\n",
       "  101.41077326559358,\n",
       "  101.58093978609976,\n",
       "  101.77999333860036,\n",
       "  102.00052357162127,\n",
       "  102.11177022079676,\n",
       "  102.25225764044181,\n",
       "  102.34351294558454,\n",
       "  102.41249823478337,\n",
       "  102.48212595486669,\n",
       "  102.5102979941424,\n",
       "  102.56674125368073,\n",
       "  102.61295587918292,\n",
       "  102.63834203640124,\n",
       "  102.63743970490268,\n",
       "  102.61413754157617,\n",
       "  102.5875249195631,\n",
       "  102.56081311800442,\n",
       "  102.6411151618238,\n",
       "  102.56319964472144,\n",
       "  102.17074410091675,\n",
       "  102.05488004794101,\n",
       "  101.93072673665016],\n",
       " [nan,\n",
       "  99.72623643768391,\n",
       "  99.8382316030048,\n",
       "  99.94276208794179,\n",
       "  100.00729550801789,\n",
       "  100.11590020667903,\n",
       "  100.17825295771706,\n",
       "  100.20681384999969,\n",
       "  100.25816354931068,\n",
       "  100.2482378961663,\n",
       "  100.22579963755705,\n",
       "  100.16188326172318,\n",
       "  100.18414645030205,\n",
       "  100.13058080410644,\n",
       "  100.05371078748374,\n",
       "  100.02832463026542,\n",
       "  99.99670663656073,\n",
       "  99.90760158885861,\n",
       "  99.73162401660713,\n",
       "  99.57958097066553,\n",
       "  99.48009695938832,\n",
       "  99.43680035527856,\n",
       "  99.1625892324166,\n",
       "  99.23083423777327,\n",
       "  99.28217648915627])"
      ]
     },
     "execution_count": 41,
     "metadata": {},
     "output_type": "execute_result"
    }
   ],
   "source": [
    "dists = pd.read_pickle(output_path+'dist_analysis_v001.pkl')\n",
    "import scipy\n",
    "\n",
    "def get_dist_means(strain,dists):\n",
    "    medians = []\n",
    "    uppers = []\n",
    "    lowers =[]\n",
    "\n",
    "    df_filt = dists[dists.group == strain]\n",
    "    #intensity_dist_nuclei = df_filt['intensity_dist_nuclei'].values\n",
    "    intensity_dist_spots= df_filt['intensity_dist_spots'].values\n",
    "    intensity_dist = df_filt['intensity_dist'].values\n",
    "    #nuc = np.concatenate(intensity_dist_nuclei).ravel()\n",
    "    spot = np.hstack(intensity_dist_spots).ravel()\n",
    "    dist = np.hstack(intensity_dist).ravel()\n",
    "    for i in range(25):\n",
    "        data = spot[np.where(dist==i)]\n",
    "        median = np.median(data)\n",
    "        tstd = scipy.stats.tstd(data)\n",
    "        upper = median+tstd/2\n",
    "        lower = median-tstd/2\n",
    "\n",
    "        medians.append(median)\n",
    "        uppers.append(upper)\n",
    "        lowers.append(lower)\n",
    "    \n",
    "    return medians,uppers,lowers\n",
    "\n",
    "import scipy\n",
    "def plot_median_and_std(gp,color):\n",
    "    arrays = []\n",
    "    for name, row in gp:\n",
    "        arrays.append(row.values)\n",
    "    array = np.array(arrays)\n",
    "    if len(array>0):\n",
    "        array = array.T\n",
    "        mean = np.median(array,axis=0)\n",
    "\n",
    "        # create 99% confidence interval\n",
    "        tstd = scipy.stats.tstd(array)\n",
    "        upper = mean+tstd/2\n",
    "        lower = mean-tstd/2\n",
    "\n",
    "        plt.plot(mean, color = color,alpha = 0.5)\n",
    "        #plt.plot(upper, color = color, alpha = 0.1,linestyle = 'dashed')\n",
    "        #plt.plot(lower, color = color, alpha = 0.1,linestyle = 'dashed')\n",
    "\n",
    "        plt.fill_between(range(40),upper,lower, color = color, alpha = 0.1)\n",
    "        return mean, upper, lower\n",
    "\n",
    "    else:\n",
    "        return [],[],[]"
   ]
  },
  {
   "cell_type": "code",
   "execution_count": 16,
   "id": "9c214243",
   "metadata": {},
   "outputs": [
    {
     "data": {
      "text/html": [
       "<div>\n",
       "<style scoped>\n",
       "    .dataframe tbody tr th:only-of-type {\n",
       "        vertical-align: middle;\n",
       "    }\n",
       "\n",
       "    .dataframe tbody tr th {\n",
       "        vertical-align: top;\n",
       "    }\n",
       "\n",
       "    .dataframe thead th {\n",
       "        text-align: right;\n",
       "    }\n",
       "</style>\n",
       "<table border=\"1\" class=\"dataframe\">\n",
       "  <thead>\n",
       "    <tr style=\"text-align: right;\">\n",
       "      <th></th>\n",
       "      <th>mean</th>\n",
       "      <th>median</th>\n",
       "      <th>std</th>\n",
       "      <th>sum</th>\n",
       "      <th>variance</th>\n",
       "      <th>max</th>\n",
       "      <th>min</th>\n",
       "      <th>volume</th>\n",
       "      <th>group</th>\n",
       "      <th>id</th>\n",
       "      <th>intensity_dist_nuclei</th>\n",
       "      <th>intensity_dist_spots</th>\n",
       "      <th>intensity_dist</th>\n",
       "      <th>pos</th>\n",
       "      <th>timepoint</th>\n",
       "    </tr>\n",
       "  </thead>\n",
       "  <tbody>\n",
       "    <tr>\n",
       "      <th>0</th>\n",
       "      <td>103.223907</td>\n",
       "      <td>101.0</td>\n",
       "      <td>8.573567</td>\n",
       "      <td>1831605.0</td>\n",
       "      <td>73.506054</td>\n",
       "      <td>174.0</td>\n",
       "      <td>82.0</td>\n",
       "      <td>11632</td>\n",
       "      <td>PMW989</td>\n",
       "      <td>PMW989_pos1_1</td>\n",
       "      <td>[112.3956044  110.99438202 107.89830508 107.90...</td>\n",
       "      <td>[103.40659341 103.0505618  103.11016949 104.48...</td>\n",
       "      <td>[ 1  2  3  4  5  6  7  8  9 10 11 12 13 14 15 ...</td>\n",
       "      <td>pos1</td>\n",
       "      <td>1</td>\n",
       "    </tr>\n",
       "    <tr>\n",
       "      <th>1</th>\n",
       "      <td>103.694590</td>\n",
       "      <td>103.0</td>\n",
       "      <td>6.184983</td>\n",
       "      <td>59417.0</td>\n",
       "      <td>38.254020</td>\n",
       "      <td>126.0</td>\n",
       "      <td>88.0</td>\n",
       "      <td>252</td>\n",
       "      <td>PMW989</td>\n",
       "      <td>PMW989_pos1_1</td>\n",
       "      <td>[105.38461538 105.6        104.02941176 105.69...</td>\n",
       "      <td>[104.82692308 105.01       104.22058824 103.63...</td>\n",
       "      <td>[1 2 3 4 5 6 7 8 9]</td>\n",
       "      <td>pos1</td>\n",
       "      <td>1</td>\n",
       "    </tr>\n",
       "    <tr>\n",
       "      <th>2</th>\n",
       "      <td>103.561733</td>\n",
       "      <td>103.0</td>\n",
       "      <td>6.528765</td>\n",
       "      <td>253312.0</td>\n",
       "      <td>42.624766</td>\n",
       "      <td>134.0</td>\n",
       "      <td>83.0</td>\n",
       "      <td>2342</td>\n",
       "      <td>PMW989</td>\n",
       "      <td>PMW989_pos1_1</td>\n",
       "      <td>[107.26315789 106.17647059 105.52238806 104.83...</td>\n",
       "      <td>[102.84210526 103.51960784 103.20895522 103.65...</td>\n",
       "      <td>[ 1  2  3  4  5  6  7  8  9 10 11 12 13]</td>\n",
       "      <td>pos1</td>\n",
       "      <td>1</td>\n",
       "    </tr>\n",
       "    <tr>\n",
       "      <th>3</th>\n",
       "      <td>103.033664</td>\n",
       "      <td>102.0</td>\n",
       "      <td>7.468929</td>\n",
       "      <td>2004726.0</td>\n",
       "      <td>55.784908</td>\n",
       "      <td>156.0</td>\n",
       "      <td>82.0</td>\n",
       "      <td>12343</td>\n",
       "      <td>PMW989</td>\n",
       "      <td>PMW989_pos1_1</td>\n",
       "      <td>[112.83957219 111.47593583 110.952      108.56...</td>\n",
       "      <td>[100.98395722 101.4171123  101.016      102.31...</td>\n",
       "      <td>[ 1  2  3  4  5  6  7  8  9 10 11 12 13 14 15 ...</td>\n",
       "      <td>pos1</td>\n",
       "      <td>1</td>\n",
       "    </tr>\n",
       "    <tr>\n",
       "      <th>4</th>\n",
       "      <td>104.000775</td>\n",
       "      <td>102.0</td>\n",
       "      <td>8.190572</td>\n",
       "      <td>2013871.0</td>\n",
       "      <td>67.085467</td>\n",
       "      <td>158.0</td>\n",
       "      <td>82.0</td>\n",
       "      <td>12496</td>\n",
       "      <td>PMW989</td>\n",
       "      <td>PMW989_pos1_1</td>\n",
       "      <td>[111.94387755 109.74       108.13513514 107.18...</td>\n",
       "      <td>[100.2755102  100.955      101.55405405 100.97...</td>\n",
       "      <td>[ 1  2  3  4  5  6  7  8  9 10 11 12 13 14 15 ...</td>\n",
       "      <td>pos1</td>\n",
       "      <td>1</td>\n",
       "    </tr>\n",
       "  </tbody>\n",
       "</table>\n",
       "</div>"
      ],
      "text/plain": [
       "         mean  median       std        sum   variance    max   min  volume  \\\n",
       "0  103.223907   101.0  8.573567  1831605.0  73.506054  174.0  82.0   11632   \n",
       "1  103.694590   103.0  6.184983    59417.0  38.254020  126.0  88.0     252   \n",
       "2  103.561733   103.0  6.528765   253312.0  42.624766  134.0  83.0    2342   \n",
       "3  103.033664   102.0  7.468929  2004726.0  55.784908  156.0  82.0   12343   \n",
       "4  104.000775   102.0  8.190572  2013871.0  67.085467  158.0  82.0   12496   \n",
       "\n",
       "    group             id                              intensity_dist_nuclei  \\\n",
       "0  PMW989  PMW989_pos1_1  [112.3956044  110.99438202 107.89830508 107.90...   \n",
       "1  PMW989  PMW989_pos1_1  [105.38461538 105.6        104.02941176 105.69...   \n",
       "2  PMW989  PMW989_pos1_1  [107.26315789 106.17647059 105.52238806 104.83...   \n",
       "3  PMW989  PMW989_pos1_1  [112.83957219 111.47593583 110.952      108.56...   \n",
       "4  PMW989  PMW989_pos1_1  [111.94387755 109.74       108.13513514 107.18...   \n",
       "\n",
       "                                intensity_dist_spots  \\\n",
       "0  [103.40659341 103.0505618  103.11016949 104.48...   \n",
       "1  [104.82692308 105.01       104.22058824 103.63...   \n",
       "2  [102.84210526 103.51960784 103.20895522 103.65...   \n",
       "3  [100.98395722 101.4171123  101.016      102.31...   \n",
       "4  [100.2755102  100.955      101.55405405 100.97...   \n",
       "\n",
       "                                      intensity_dist   pos  timepoint  \n",
       "0  [ 1  2  3  4  5  6  7  8  9 10 11 12 13 14 15 ...  pos1          1  \n",
       "1                                [1 2 3 4 5 6 7 8 9]  pos1          1  \n",
       "2           [ 1  2  3  4  5  6  7  8  9 10 11 12 13]  pos1          1  \n",
       "3  [ 1  2  3  4  5  6  7  8  9 10 11 12 13 14 15 ...  pos1          1  \n",
       "4  [ 1  2  3  4  5  6  7  8  9 10 11 12 13 14 15 ...  pos1          1  "
      ]
     },
     "execution_count": 16,
     "metadata": {},
     "output_type": "execute_result"
    }
   ],
   "source": [
    "index=0\n",
    "df_nuclei = pd.read_csv(output_path+'nuclei/'+df.id.iloc[index]+'.csv')\n",
    "df_dist = pd.read_csv(output_path+'dist/'+df.id.iloc[index]+'.csv')\n",
    "\n",
    "df_dist.head()"
   ]
  },
  {
   "cell_type": "code",
   "execution_count": 17,
   "id": "4654f0a8",
   "metadata": {},
   "outputs": [
    {
     "data": {
      "text/html": [
       "<div>\n",
       "<style scoped>\n",
       "    .dataframe tbody tr th:only-of-type {\n",
       "        vertical-align: middle;\n",
       "    }\n",
       "\n",
       "    .dataframe tbody tr th {\n",
       "        vertical-align: top;\n",
       "    }\n",
       "\n",
       "    .dataframe thead th {\n",
       "        text-align: right;\n",
       "    }\n",
       "</style>\n",
       "<table border=\"1\" class=\"dataframe\">\n",
       "  <thead>\n",
       "    <tr style=\"text-align: right;\">\n",
       "      <th></th>\n",
       "      <th>label</th>\n",
       "      <th>area</th>\n",
       "      <th>intensity_mean</th>\n",
       "      <th>intensity_std</th>\n",
       "      <th>num_pixels</th>\n",
       "      <th>group</th>\n",
       "      <th>id</th>\n",
       "    </tr>\n",
       "  </thead>\n",
       "  <tbody>\n",
       "    <tr>\n",
       "      <th>0</th>\n",
       "      <td>1</td>\n",
       "      <td>17744.0</td>\n",
       "      <td>103.223907</td>\n",
       "      <td>8.573567</td>\n",
       "      <td>17744</td>\n",
       "      <td>PMW989</td>\n",
       "      <td>PMW989_pos1_1</td>\n",
       "    </tr>\n",
       "    <tr>\n",
       "      <th>1</th>\n",
       "      <td>2</td>\n",
       "      <td>573.0</td>\n",
       "      <td>103.694590</td>\n",
       "      <td>6.184983</td>\n",
       "      <td>573</td>\n",
       "      <td>PMW989</td>\n",
       "      <td>PMW989_pos1_1</td>\n",
       "    </tr>\n",
       "    <tr>\n",
       "      <th>2</th>\n",
       "      <td>3</td>\n",
       "      <td>2446.0</td>\n",
       "      <td>103.561733</td>\n",
       "      <td>6.528765</td>\n",
       "      <td>2446</td>\n",
       "      <td>PMW989</td>\n",
       "      <td>PMW989_pos1_1</td>\n",
       "    </tr>\n",
       "    <tr>\n",
       "      <th>3</th>\n",
       "      <td>4</td>\n",
       "      <td>19457.0</td>\n",
       "      <td>103.033664</td>\n",
       "      <td>7.468929</td>\n",
       "      <td>19457</td>\n",
       "      <td>PMW989</td>\n",
       "      <td>PMW989_pos1_1</td>\n",
       "    </tr>\n",
       "    <tr>\n",
       "      <th>4</th>\n",
       "      <td>5</td>\n",
       "      <td>19364.0</td>\n",
       "      <td>104.000775</td>\n",
       "      <td>8.190572</td>\n",
       "      <td>19364</td>\n",
       "      <td>PMW989</td>\n",
       "      <td>PMW989_pos1_1</td>\n",
       "    </tr>\n",
       "  </tbody>\n",
       "</table>\n",
       "</div>"
      ],
      "text/plain": [
       "   label     area  intensity_mean  intensity_std  num_pixels   group  \\\n",
       "0      1  17744.0      103.223907       8.573567       17744  PMW989   \n",
       "1      2    573.0      103.694590       6.184983         573  PMW989   \n",
       "2      3   2446.0      103.561733       6.528765        2446  PMW989   \n",
       "3      4  19457.0      103.033664       7.468929       19457  PMW989   \n",
       "4      5  19364.0      104.000775       8.190572       19364  PMW989   \n",
       "\n",
       "              id  \n",
       "0  PMW989_pos1_1  \n",
       "1  PMW989_pos1_1  \n",
       "2  PMW989_pos1_1  \n",
       "3  PMW989_pos1_1  \n",
       "4  PMW989_pos1_1  "
      ]
     },
     "execution_count": 17,
     "metadata": {},
     "output_type": "execute_result"
    }
   ],
   "source": [
    "df_nuclei.head()"
   ]
  },
  {
   "cell_type": "code",
   "execution_count": null,
   "id": "48d99677-1d14-431e-97b5-d3ed0a433770",
   "metadata": {
    "tags": []
   },
   "outputs": [],
   "source": [
    "#input_path = '/Volumes/external.data/MeisterLab/anja/Segmentation_Lucien/'\n",
    "output_path = '/Volumes/external.data/MeisterLab/lhinder/segmentation_3d_anja/output_timeseries/'\n",
    "\n",
    "\n",
    "file_name_pattern = \"/nuclei/*.csv*\"\n",
    "filepaths_csv = sorted(glob.glob(output_path + file_name_pattern,recursive=True))\n",
    "print(f\"Found {len(filepaths_csv)} *.csv files.\")\n",
    "\n",
    "spots = pd.DataFrame()\n",
    "for filepath in tqdm.tqdm(filepaths_csv):\n",
    "    df_temp = pd.read_pickle(filepath)\n",
    "    spots = pd.concat([spots,df_temp])\n",
    "\n",
    "spots.to_pickle(output_path+'nuclei_v00.csv')"
   ]
  },
  {
   "cell_type": "code",
   "execution_count": null,
   "id": "c960d2ac-551b-4d3c-b025-3020f9daf560",
   "metadata": {},
   "outputs": [],
   "source": [
    "combined = pd.merge(A_df, B_df,  how='left', left_on=['A_c1','c2'], right_on = ['B_c1','c2'])\n"
   ]
  },
  {
   "cell_type": "code",
   "execution_count": null,
   "id": "7f8244e3-691a-49b4-8786-67680a49c3fe",
   "metadata": {
    "tags": []
   },
   "outputs": [],
   "source": [
    "spots[spots.mass>15].to_csv(output_path+'spots_analysis_v03_filt.csv')"
   ]
  },
  {
   "cell_type": "code",
   "execution_count": null,
   "id": "11772528-c9fa-47be-934a-0aa07388e1a5",
   "metadata": {
    "tags": []
   },
   "outputs": [],
   "source": [
    "from threading import Thread\n",
    "from multiprocessing import Process"
   ]
  },
  {
   "cell_type": "code",
   "execution_count": null,
   "id": "74ab13fa-32c6-4caf-bc22-aa834551e295",
   "metadata": {
    "tags": []
   },
   "outputs": [],
   "source": [
    "processes = []\n",
    "for i in range(14):\n",
    "    start = starts[i]\n",
    "    stop = starts[i+1]\n",
    "    print(to_do[start:stop])\n",
    "    process = Process(target=run_spot_analysis, args=(to_do[start:stop],df))\n",
    "    process.start()\n",
    "    processes.append(process)"
   ]
  },
  {
   "cell_type": "code",
   "execution_count": null,
   "id": "d7e38945-5fa0-4cad-8b7a-60a357416a80",
   "metadata": {
    "collapsed": true,
    "jupyter": {
     "outputs_hidden": true
    },
    "tags": []
   },
   "outputs": [],
   "source": [
    "processes = []\n",
    "for i in range(39):\n",
    "    start = starts[i]\n",
    "    stop = starts[i+1]\n",
    "    process = Process(target=run_dist_analysis, args=((start,stop)))\n",
    "    process.start()\n",
    "    processes.append(process)"
   ]
  },
  {
   "cell_type": "code",
   "execution_count": null,
   "id": "b594f7a1-b25c-42d0-b339-c077c496950f",
   "metadata": {
    "tags": []
   },
   "outputs": [],
   "source": [
    "for process in processes:\n",
    "    process.kill()"
   ]
  },
  {
   "cell_type": "code",
   "execution_count": null,
   "id": "0417814d-818a-4985-906a-7741058bed6d",
   "metadata": {
    "collapsed": true,
    "jupyter": {
     "outputs_hidden": true
    },
    "tags": []
   },
   "outputs": [],
   "source": [
    "import seaborn as sns\n",
    "plt.figure(figsize = (30,5),dpi = 300)\n",
    "#plt.ylim((0,0.25e5))\n",
    "violin_plot = sns.violinplot(data=df_filt, x=\"group\", y=\"mass\", inner=None)\n",
    "for item in violin_plot.get_xticklabels():\n",
    "    item.set_rotation(90)\n",
    "violin_plot.tick_params(labelsize=10)\n",
    "plt.title('Mean nuclear volume (in px^3) per group')"
   ]
  },
  {
   "cell_type": "code",
   "execution_count": null,
   "id": "4673cc9f-7a6e-40a0-8aa9-cfa35e5a323f",
   "metadata": {
    "tags": []
   },
   "outputs": [],
   "source": [
    "df_nuclei = pd.read_csv(output_path+'df_nuclei_v0.csv')"
   ]
  },
  {
   "cell_type": "code",
   "execution_count": null,
   "id": "1a13635d",
   "metadata": {
    "tags": []
   },
   "outputs": [],
   "source": [
    "import seaborn as sns\n",
    "plt.figure(figsize = (30,5),dpi = 300)\n",
    "plt.ylim((0,100))\n",
    "violin_plot = sns.violinplot(data=df_nuclei, x=\"group\", y=\"std\", inner=None)\n",
    "for item in violin_plot.get_xticklabels():\n",
    "    item.set_rotation(90)\n",
    "violin_plot.tick_params(labelsize=10)\n",
    "plt.title('Mean nuclear volume (in px^3) per group')"
   ]
  },
  {
   "cell_type": "code",
   "execution_count": null,
   "id": "1363274a-f6c9-4cb9-9609-d8610172fa48",
   "metadata": {
    "tags": []
   },
   "outputs": [],
   "source": [
    "df_nuclei"
   ]
  },
  {
   "cell_type": "code",
   "execution_count": null,
   "id": "084bcf70-a1c2-4313-8a50-383fcf7b1496",
   "metadata": {
    "tags": []
   },
   "outputs": [],
   "source": [
    "len(df_nuclei[df_nuclei['group'].str.contains('PMW1119_2nd')])"
   ]
  },
  {
   "cell_type": "code",
   "execution_count": null,
   "id": "12061252-4949-4d56-81d8-6068a556efbc",
   "metadata": {
    "tags": []
   },
   "outputs": [],
   "source": [
    "df_nuclei['max_min_ratio'] = (df_nuclei['max']/df_nuclei['min'])"
   ]
  },
  {
   "cell_type": "code",
   "execution_count": 28,
   "id": "5df88cf1-0dd3-45da-bb4e-008c184d22de",
   "metadata": {
    "tags": []
   },
   "outputs": [
    {
     "ename": "NameError",
     "evalue": "name 'df_nuclei' is not defined",
     "output_type": "error",
     "traceback": [
      "\u001b[0;31m---------------------------------------------------------------------------\u001b[0m",
      "\u001b[0;31mNameError\u001b[0m                                 Traceback (most recent call last)",
      "Cell \u001b[0;32mIn[28], line 1\u001b[0m\n\u001b[0;32m----> 1\u001b[0m \u001b[43mdf_nuclei\u001b[49m\n",
      "\u001b[0;31mNameError\u001b[0m: name 'df_nuclei' is not defined"
     ]
    }
   ],
   "source": [
    "df_nuclei"
   ]
  },
  {
   "cell_type": "code",
   "execution_count": 27,
   "id": "c2a57914-9e5a-4ea7-9c34-60c486cb0f40",
   "metadata": {
    "tags": []
   },
   "outputs": [
    {
     "ename": "NameError",
     "evalue": "name 'df_nuclei' is not defined",
     "output_type": "error",
     "traceback": [
      "\u001b[0;31m---------------------------------------------------------------------------\u001b[0m",
      "\u001b[0;31mNameError\u001b[0m                                 Traceback (most recent call last)",
      "Cell \u001b[0;32mIn[27], line 4\u001b[0m\n\u001b[1;32m      2\u001b[0m plt\u001b[38;5;241m.\u001b[39mfigure(figsize \u001b[38;5;241m=\u001b[39m (\u001b[38;5;241m2\u001b[39m,\u001b[38;5;241m3\u001b[39m),dpi \u001b[38;5;241m=\u001b[39m \u001b[38;5;241m200\u001b[39m)\n\u001b[1;32m      3\u001b[0m plt\u001b[38;5;241m.\u001b[39mylim((\u001b[38;5;241m0\u001b[39m,\u001b[38;5;241m100\u001b[39m))\n\u001b[0;32m----> 4\u001b[0m violin_plot \u001b[38;5;241m=\u001b[39m sns\u001b[38;5;241m.\u001b[39mviolinplot(data\u001b[38;5;241m=\u001b[39m\u001b[43mdf_nuclei\u001b[49m[(df_nuclei[\u001b[38;5;124m'\u001b[39m\u001b[38;5;124mgroup\u001b[39m\u001b[38;5;124m'\u001b[39m]\u001b[38;5;241m.\u001b[39mstr\u001b[38;5;241m.\u001b[39mcontains(\u001b[38;5;124m'\u001b[39m\u001b[38;5;124m989_HS\u001b[39m\u001b[38;5;124m'\u001b[39m)) \u001b[38;5;241m|\u001b[39m (df_nuclei[\u001b[38;5;124m'\u001b[39m\u001b[38;5;124mgroup\u001b[39m\u001b[38;5;124m'\u001b[39m]\u001b[38;5;241m.\u001b[39mstr\u001b[38;5;241m.\u001b[39mcontains(\u001b[38;5;124m'\u001b[39m\u001b[38;5;124m989_L3\u001b[39m\u001b[38;5;124m'\u001b[39m))], x\u001b[38;5;241m=\u001b[39m\u001b[38;5;124m\"\u001b[39m\u001b[38;5;124mgroup\u001b[39m\u001b[38;5;124m\"\u001b[39m, y\u001b[38;5;241m=\u001b[39m\u001b[38;5;124m\"\u001b[39m\u001b[38;5;124mvariance\u001b[39m\u001b[38;5;124m\"\u001b[39m,legend \u001b[38;5;241m=\u001b[39m \u001b[38;5;28;01mFalse\u001b[39;00m,inner\u001b[38;5;241m=\u001b[39m\u001b[38;5;124m'\u001b[39m\u001b[38;5;124mbox\u001b[39m\u001b[38;5;124m'\u001b[39m,width\u001b[38;5;241m=\u001b[39m\u001b[38;5;241m1\u001b[39m)\n\u001b[1;32m      5\u001b[0m \u001b[38;5;28;01mfor\u001b[39;00m item \u001b[38;5;129;01min\u001b[39;00m violin_plot\u001b[38;5;241m.\u001b[39mget_xticklabels():\n\u001b[1;32m      6\u001b[0m     item\u001b[38;5;241m.\u001b[39mset_rotation(\u001b[38;5;241m45\u001b[39m)\n",
      "\u001b[0;31mNameError\u001b[0m: name 'df_nuclei' is not defined"
     ]
    },
    {
     "data": {
      "image/png": "[encoded data removed]",
      "text/plain": [
       "<Figure size 400x600 with 1 Axes>"
      ]
     },
     "metadata": {},
     "output_type": "display_data"
    }
   ],
   "source": [
    "import seaborn as sns\n",
    "plt.figure(figsize = (2,3),dpi = 200)\n",
    "plt.ylim((0,100))\n",
    "violin_plot = sns.violinplot(data=df_nuclei[(df_nuclei['group'].str.contains('989_HS')) | (df_nuclei['group'].str.contains('989_L3'))], x=\"group\", y=\"variance\",legend = False,inner='box',width=1)\n",
    "for item in violin_plot.get_xticklabels():\n",
    "    item.set_rotation(45)\n",
    "plt.legend([], [], frameon=False)\n",
    "violin_plot.tick_params(labelsize=6)\n",
    "#plt.margins(x=0.25)\n",
    "plt.title('variance of signal between groups')"
   ]
  },
  {
   "cell_type": "code",
   "execution_count": null,
   "id": "3207c0c7-474d-4381-9a5a-2365ff9942c4",
   "metadata": {
    "tags": []
   },
   "outputs": [],
   "source": [
    "import seaborn as sns\n",
    "plt.figure(figsize = (2,3),dpi = 200)\n",
    "#plt.ylim((0,150))\n",
    "violin_plot = sns.violinplot(data=df_nuclei[df_nuclei['group'].str.contains('PMW1066')], x=\"group\", y=\"std\",legend = False,inner='box',width=0.6)\n",
    "for item in violin_plot.get_xticklabels():\n",
    "    item.set_rotation(45)\n",
    "plt.legend([], [], frameon=False)\n",
    "violin_plot.tick_params(labelsize=6)\n",
    "#plt.margins(x=0.25)\n",
    "plt.title('variance of signal between groups')"
   ]
  },
  {
   "cell_type": "code",
   "execution_count": null,
   "id": "d9a0d403-5525-4a46-b419-dc395e1e08e0",
   "metadata": {
    "tags": []
   },
   "outputs": [],
   "source": [
    "import seaborn as sns\n",
    "plt.figure(figsize = (2,3),dpi = 200)\n",
    "#plt.ylim((0,150))\n",
    "violin_plot = sns.swarmplot(data=df_nuclei[df_nuclei['group'].str.contains('PMW989_animals')], x=\"group\", y=\"std\",legend = False)\n",
    "for item in violin_plot.get_xticklabels():\n",
    "    item.set_rotation(45)\n",
    "plt.legend([], [], frameon=False)\n",
    "violin_plot.tick_params(labelsize=6)\n",
    "#plt.margins(x=0.25)\n",
    "plt.title('variance of signal between groups')"
   ]
  },
  {
   "cell_type": "code",
   "execution_count": null,
   "id": "458d5c12-6c67-4c3a-89f0-a020ba548f0d",
   "metadata": {
    "tags": []
   },
   "outputs": [],
   "source": [
    "import seaborn as sns\n",
    "plt.figure(figsize = (5,2),dpi = 200)\n",
    "#plt.ylim((0,150))\n",
    "violin_plot = sns.violinplot(data=df_nuclei[df_nuclei['group'].str.contains('PMW989_animals_hexanediol')], x=\"group\", y=\"variance\",hue='id',inner=None,width=0.6)\n",
    "for item in violin_plot.get_xticklabels():\n",
    "    item.set_rotation(45)\n",
    "plt.legend(np.arange(1,13), [], frameon=False)\n",
    "violin_plot.tick_params(labelsize=6)\n",
    "#plt.margins(x=0.25)\n"
   ]
  },
  {
   "cell_type": "code",
   "execution_count": null,
   "id": "63d2317c-a1f7-486a-957a-b86b82630521",
   "metadata": {
    "tags": []
   },
   "outputs": [],
   "source": [
    "import seaborn as sns\n",
    "plt.figure(figsize = (3,2),dpi = 200)\n",
    "#plt.ylim((0,150))\n",
    "violin_plot = sns.violinplot(data=df_nuclei[df_nuclei['group'].str.contains('PMW989_animals_hexanediol')], x=\"group\", y=\"variance\",hue='id',inner=None,width=0.9)\n",
    "for item in violin_plot.get_xticklabels():\n",
    "    item.set_rotation(0)\n",
    "plt.legend(np.arange(1,13), [], frameon=False)\n",
    "violin_plot.tick_params(labelsize=6)\n",
    "plt.title('Variance of signal inside nuclei for each worm')\n",
    "#plt.margins(x=0.25)"
   ]
  },
  {
   "cell_type": "code",
   "execution_count": null,
   "id": "dfb7a89e-6abe-408c-a57f-42e3a576d68a",
   "metadata": {
    "tags": []
   },
   "outputs": [],
   "source": [
    "import seaborn as sns\n",
    "plt.figure(figsize = (30,5),dpi = 300)\n",
    "plt.ylim((0,30000))\n",
    "violin_plot = sns.violinplot(data=df_nuclei, x=\"group\", y=\"volume\", inner=None)\n",
    "for item in violin_plot.get_xticklabels():\n",
    "    item.set_rotation(90)\n",
    "violin_plot.tick_params(labelsize=10)"
   ]
  },
  {
   "cell_type": "code",
   "execution_count": null,
   "id": "2556cd63-3602-499a-9ad4-548c5e512823",
   "metadata": {
    "tags": []
   },
   "outputs": [],
   "source": [
    "df_nuclei.groupby(['group'])['volume'].mean()"
   ]
  },
  {
   "cell_type": "code",
   "execution_count": null,
   "id": "82f3ce70-91d9-45d3-85c9-d0fb52327136",
   "metadata": {
    "tags": []
   },
   "outputs": [],
   "source": [
    "df_nuclei.groupby(['group'])"
   ]
  },
  {
   "cell_type": "code",
   "execution_count": null,
   "id": "be36a77f-6164-4594-84d9-c3b5cda0f054",
   "metadata": {
    "tags": []
   },
   "outputs": [],
   "source": [
    "'import seaborn as sns\n",
    "plt.figure(figsize = (30,5),dpi = 300)\n",
    "plt.ylim((0,25000))\n",
    "violin_plot = sns.violinplot(data=df_nuclei, x=\"group\", y=\"volume\", inner=None)\n",
    "for item in violin_plot.get_xticklabels():\n",
    "    item.set_rotation(90)\n",
    "violin_plot.tick_params(labelsize=8)"
   ]
  },
  {
   "cell_type": "code",
   "execution_count": null,
   "id": "2732087c-27ae-4ef4-85e9-80e62d8df42e",
   "metadata": {
    "tags": []
   },
   "outputs": [],
   "source": [
    "filt = df_nuclei[(df_nuclei['volume']<0.25e6)&(df_nuclei['median']>400)]"
   ]
  },
  {
   "cell_type": "code",
   "execution_count": null,
   "id": "3cbf01d7-2352-4d35-b6e2-fa7d203c9039",
   "metadata": {
    "tags": []
   },
   "outputs": [],
   "source": [
    "plt.figure(figsize = (11,11))\n",
    "plt.scatter(filt['volume'],filt['median'], alpha = 0.1)\n",
    "plt.xlabel('volume')\n",
    "plt.ylabel('median')"
   ]
  },
  {
   "cell_type": "code",
   "execution_count": null,
   "id": "55e4aa2e-b553-4727-9933-808887a0add7",
   "metadata": {
    "tags": []
   },
   "outputs": [],
   "source": [
    "import seaborn as sns\n",
    "plt.figure(figsize = (30,5),dpi = 300)\n",
    "plt.ylim((0,25000))\n",
    "violin_plot = sns.violinplot(data=filt, x=\"group\", y=\"volume\", inner=None)\n",
    "for item in violin_plot.get_xticklabels():\n",
    "    item.set_rotation(90)\n",
    "violin_plot.tick_params(labelsize=8)"
   ]
  },
  {
   "cell_type": "code",
   "execution_count": null,
   "id": "5238190c-59b2-4e55-a728-16fa82fc922f",
   "metadata": {
    "tags": []
   },
   "outputs": [],
   "source": [
    "plt.figure(figsize = (11,11))\n",
    "plt.scatter(filt['std'],filt['volume'], alpha = 0.1)"
   ]
  },
  {
   "cell_type": "code",
   "execution_count": null,
   "id": "bb196fe0-d9dc-4244-912b-7998d71f4b4b",
   "metadata": {
    "tags": []
   },
   "outputs": [],
   "source": [
    "plt.figure(dpi = 200)\n",
    "plt.hist(df_nuclei.volume, bins = 200, range=(0, 28000))\n",
    "plt.plot()"
   ]
  },
  {
   "cell_type": "code",
   "execution_count": null,
   "id": "74d4a9e0",
   "metadata": {
    "tags": []
   },
   "outputs": [],
   "source": [
    "plt.figure(figsize = (11,11))\n",
    "plt.scatter(filt['volume'],filt['median'], alpha = 0.1)\n",
    "plt.xlabel('volume')\n",
    "plt.ylabel('median')"
   ]
  },
  {
   "cell_type": "code",
   "execution_count": null,
   "id": "5e4bd680",
   "metadata": {},
   "outputs": [],
   "source": [
    "mx.mask.shape"
   ]
  },
  {
   "cell_type": "code",
   "execution_count": null,
   "id": "1492e1b1",
   "metadata": {},
   "outputs": [],
   "source": [
    "34*35"
   ]
  },
  {
   "cell_type": "code",
   "execution_count": null,
   "id": "7184a510",
   "metadata": {},
   "outputs": [],
   "source": [
    "plt.imshow(df_region_props['intensity_image'][0][5])"
   ]
  },
  {
   "cell_type": "code",
   "execution_count": null,
   "id": "be2def66",
   "metadata": {},
   "outputs": [],
   "source": [
    "df_region_props['intensity_image'][0][5][0,0]"
   ]
  },
  {
   "cell_type": "code",
   "execution_count": null,
   "id": "cd9491f6",
   "metadata": {},
   "outputs": [],
   "source": [
    "index = 0\n",
    "img = io.imread(df.filepath[index])\n",
    "\n",
    "\n"
   ]
  },
  {
   "cell_type": "code",
   "execution_count": null,
   "id": "e25c65f2",
   "metadata": {},
   "outputs": [],
   "source": [
    "img.shape"
   ]
  },
  {
   "cell_type": "code",
   "execution_count": null,
   "id": "413cb6e3",
   "metadata": {},
   "outputs": [],
   "source": [
    "masks,flows,styles = model.eval(img[:,1,:,:],do_3D=False,stitch_threshold=0.3,cellprob_threshold =0,diameter =36)"
   ]
  },
  {
   "cell_type": "code",
   "execution_count": null,
   "id": "3c17225b",
   "metadata": {},
   "outputs": [],
   "source": [
    "# Segment nuclei \n",
    "masks,flows,styles = segment_nuclei(img[:,1,:,:],model) # Run the segmentation\n",
    "\n",
    "io.imsave(output_path+'segmentation/'+df.id[index]+'.tif',masks,check_contrast=False) #store segmentation\n",
    "\n"
   ]
  }
 ],
 "metadata": {
  "kernelspec": {
   "display_name": "lhcellpose",
   "language": "python",
   "name": "python3"
  },
  "language_info": {
   "codemirror_mode": {
    "name": "ipython",
    "version": 3
   },
   "file_extension": ".py",
   "mimetype": "text/x-python",
   "name": "python",
   "nbconvert_exporter": "python",
   "pygments_lexer": "ipython3",
   "version": "3.10.16"
  }
 },
 "nbformat": 4,
 "nbformat_minor": 5
}
