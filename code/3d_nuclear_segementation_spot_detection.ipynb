{
 "cells": [
  {
   "cell_type": "markdown",
   "id": "ecdc50a0",
   "metadata": {},
   "source": [
    "# Nuclear segmentation with emerin ring and spot detection\n",
    "\n",
    "Scripts to detect nuclei from 4d images (z,x,y,c) where channel 0 is green spots and channel 1 is red emerin rings.\n",
    "Mostly based on scripts from Lucien Hinderling, with some modifications and cleanup by Jennifer Semple\n",
    "\n",
    "**Inputs**:\n",
    "\n",
    "raw_input_path and denoised_input_path for directories containing raw and denoised images and output_path where results will be put. raw_input_path is used to create a dataframe with paths to images and the following \n",
    "columns:\n",
    "\n",
    "*filename\tdate\texperiment\tstrain\tprotein\tid  raw_filepath    denoised_filepath*\n",
    "\n",
    "example line:\n",
    "\n",
    "*20240915_1268_E_bean_15um\t20240915\t3d\t1268\tDPY27\tDPY27_3d_20240915_1268_E_bean_15um\t/mnt/external.data/MeisterLab/Dario/Imaging/DP...\t/mnt/external.data/MeisterLab/Dario/Imaging/DP...*\n",
    "\n",
    "the id column is used to name images in the output_path directories\n",
    "\n",
    "**Outputs**:\n",
    "\n",
    "segmentation masks (.tif files) in output_path/segementation/\n",
    "\n",
    "distance masks (.tif files) in output_path/edt/\n",
    "\n",
    "nuclear measurements from middle slice of each nucleus (.csv files) in output_path/nuclei/\n",
    "\n",
    "intensity measurements for nuclei with arrays of intensity/distance from middle slice of each nuclear mask (.pkl files) in output_path/dist/ \n",
    "\n",
    "qc plots of segmentation on original image (segmentation_XXX.pdf), individual masked nuclei (cropped_nuclei_XXX.pdf) in output_path/qc/\n",
    "\n",
    "spot detection (.csv files, doesn't work very well) in output_path/spots/ with some qc in output_path/qc/spots*.pdf and spotGMM*.pdf\n",
    "\n",
    "\n"
   ]
  },
  {
   "cell_type": "code",
   "execution_count": 19,
   "id": "b172333a",
   "metadata": {},
   "outputs": [
    {
     "data": {
      "text/html": [
       "<div>\n",
       "<style scoped>\n",
       "    .dataframe tbody tr th:only-of-type {\n",
       "        vertical-align: middle;\n",
       "    }\n",
       "\n",
       "    .dataframe tbody tr th {\n",
       "        vertical-align: top;\n",
       "    }\n",
       "\n",
       "    .dataframe thead th {\n",
       "        text-align: right;\n",
       "    }\n",
       "</style>\n",
       "<table border=\"1\" class=\"dataframe\">\n",
       "  <thead>\n",
       "    <tr style=\"text-align: right;\">\n",
       "      <th></th>\n",
       "      <th>filename</th>\n",
       "      <th>date</th>\n",
       "      <th>experiment</th>\n",
       "      <th>strain</th>\n",
       "      <th>protein</th>\n",
       "      <th>id</th>\n",
       "      <th>raw_filepath</th>\n",
       "      <th>denoised_filepath</th>\n",
       "    </tr>\n",
       "  </thead>\n",
       "  <tbody>\n",
       "    <tr>\n",
       "      <th>0</th>\n",
       "      <td>20240915_1268_E_bean_15um</td>\n",
       "      <td>20240915</td>\n",
       "      <td>3d</td>\n",
       "      <td>1268</td>\n",
       "      <td>DPY27</td>\n",
       "      <td>DPY27_3d_20240915_1268_E_bean_15um</td>\n",
       "      <td>/mnt/external.data/MeisterLab/Dario/Imaging/DP...</td>\n",
       "      <td>/mnt/external.data/MeisterLab/Dario/Imaging/DP...</td>\n",
       "    </tr>\n",
       "    <tr>\n",
       "      <th>1</th>\n",
       "      <td>20240915_1268_E_bean_15um_02</td>\n",
       "      <td>20240915</td>\n",
       "      <td>3d</td>\n",
       "      <td>1268</td>\n",
       "      <td>DPY27</td>\n",
       "      <td>DPY27_3d_20240915_1268_E_bean_15um_02</td>\n",
       "      <td>/mnt/external.data/MeisterLab/Dario/Imaging/DP...</td>\n",
       "      <td>/mnt/external.data/MeisterLab/Dario/Imaging/DP...</td>\n",
       "    </tr>\n",
       "    <tr>\n",
       "      <th>2</th>\n",
       "      <td>20240915_1268_E_early_15um</td>\n",
       "      <td>20240915</td>\n",
       "      <td>3d</td>\n",
       "      <td>1268</td>\n",
       "      <td>DPY27</td>\n",
       "      <td>DPY27_3d_20240915_1268_E_early_15um</td>\n",
       "      <td>/mnt/external.data/MeisterLab/Dario/Imaging/DP...</td>\n",
       "      <td>/mnt/external.data/MeisterLab/Dario/Imaging/DP...</td>\n",
       "    </tr>\n",
       "    <tr>\n",
       "      <th>3</th>\n",
       "      <td>20240915_1268_E_early_15um_02</td>\n",
       "      <td>20240915</td>\n",
       "      <td>3d</td>\n",
       "      <td>1268</td>\n",
       "      <td>DPY27</td>\n",
       "      <td>DPY27_3d_20240915_1268_E_early_15um_02</td>\n",
       "      <td>/mnt/external.data/MeisterLab/Dario/Imaging/DP...</td>\n",
       "      <td>/mnt/external.data/MeisterLab/Dario/Imaging/DP...</td>\n",
       "    </tr>\n",
       "    <tr>\n",
       "      <th>4</th>\n",
       "      <td>20240915_1268_E_early_15um_03</td>\n",
       "      <td>20240915</td>\n",
       "      <td>3d</td>\n",
       "      <td>1268</td>\n",
       "      <td>DPY27</td>\n",
       "      <td>DPY27_3d_20240915_1268_E_early_15um_03</td>\n",
       "      <td>/mnt/external.data/MeisterLab/Dario/Imaging/DP...</td>\n",
       "      <td>/mnt/external.data/MeisterLab/Dario/Imaging/DP...</td>\n",
       "    </tr>\n",
       "    <tr>\n",
       "      <th>5</th>\n",
       "      <td>20240915_1268_E_early_15um_04</td>\n",
       "      <td>20240915</td>\n",
       "      <td>3d</td>\n",
       "      <td>1268</td>\n",
       "      <td>DPY27</td>\n",
       "      <td>DPY27_3d_20240915_1268_E_early_15um_04</td>\n",
       "      <td>/mnt/external.data/MeisterLab/Dario/Imaging/DP...</td>\n",
       "      <td>/mnt/external.data/MeisterLab/Dario/Imaging/DP...</td>\n",
       "    </tr>\n",
       "    <tr>\n",
       "      <th>6</th>\n",
       "      <td>20240915_1268_E_early_15um_05</td>\n",
       "      <td>20240915</td>\n",
       "      <td>3d</td>\n",
       "      <td>1268</td>\n",
       "      <td>DPY27</td>\n",
       "      <td>DPY27_3d_20240915_1268_E_early_15um_05</td>\n",
       "      <td>/mnt/external.data/MeisterLab/Dario/Imaging/DP...</td>\n",
       "      <td>/mnt/external.data/MeisterLab/Dario/Imaging/DP...</td>\n",
       "    </tr>\n",
       "    <tr>\n",
       "      <th>7</th>\n",
       "      <td>20240915_1268_E_early_15um_06</td>\n",
       "      <td>20240915</td>\n",
       "      <td>3d</td>\n",
       "      <td>1268</td>\n",
       "      <td>DPY27</td>\n",
       "      <td>DPY27_3d_20240915_1268_E_early_15um_06</td>\n",
       "      <td>/mnt/external.data/MeisterLab/Dario/Imaging/DP...</td>\n",
       "      <td>/mnt/external.data/MeisterLab/Dario/Imaging/DP...</td>\n",
       "    </tr>\n",
       "    <tr>\n",
       "      <th>8</th>\n",
       "      <td>20240915_1268_E_early_15um_07</td>\n",
       "      <td>20240915</td>\n",
       "      <td>3d</td>\n",
       "      <td>1268</td>\n",
       "      <td>DPY27</td>\n",
       "      <td>DPY27_3d_20240915_1268_E_early_15um_07</td>\n",
       "      <td>/mnt/external.data/MeisterLab/Dario/Imaging/DP...</td>\n",
       "      <td>/mnt/external.data/MeisterLab/Dario/Imaging/DP...</td>\n",
       "    </tr>\n",
       "    <tr>\n",
       "      <th>9</th>\n",
       "      <td>20240915_1268_E_late_15um</td>\n",
       "      <td>20240915</td>\n",
       "      <td>3d</td>\n",
       "      <td>1268</td>\n",
       "      <td>DPY27</td>\n",
       "      <td>DPY27_3d_20240915_1268_E_late_15um</td>\n",
       "      <td>/mnt/external.data/MeisterLab/Dario/Imaging/DP...</td>\n",
       "      <td>/mnt/external.data/MeisterLab/Dario/Imaging/DP...</td>\n",
       "    </tr>\n",
       "    <tr>\n",
       "      <th>10</th>\n",
       "      <td>20240915_1268_E_late_15um_02</td>\n",
       "      <td>20240915</td>\n",
       "      <td>3d</td>\n",
       "      <td>1268</td>\n",
       "      <td>DPY27</td>\n",
       "      <td>DPY27_3d_20240915_1268_E_late_15um_02</td>\n",
       "      <td>/mnt/external.data/MeisterLab/Dario/Imaging/DP...</td>\n",
       "      <td>/mnt/external.data/MeisterLab/Dario/Imaging/DP...</td>\n",
       "    </tr>\n",
       "    <tr>\n",
       "      <th>11</th>\n",
       "      <td>20240915_1268_E_late_15um_03</td>\n",
       "      <td>20240915</td>\n",
       "      <td>3d</td>\n",
       "      <td>1268</td>\n",
       "      <td>DPY27</td>\n",
       "      <td>DPY27_3d_20240915_1268_E_late_15um_03</td>\n",
       "      <td>/mnt/external.data/MeisterLab/Dario/Imaging/DP...</td>\n",
       "      <td>/mnt/external.data/MeisterLab/Dario/Imaging/DP...</td>\n",
       "    </tr>\n",
       "    <tr>\n",
       "      <th>12</th>\n",
       "      <td>20240915_1268_E_late_15um_04</td>\n",
       "      <td>20240915</td>\n",
       "      <td>3d</td>\n",
       "      <td>1268</td>\n",
       "      <td>DPY27</td>\n",
       "      <td>DPY27_3d_20240915_1268_E_late_15um_04</td>\n",
       "      <td>/mnt/external.data/MeisterLab/Dario/Imaging/DP...</td>\n",
       "      <td>/mnt/external.data/MeisterLab/Dario/Imaging/DP...</td>\n",
       "    </tr>\n",
       "    <tr>\n",
       "      <th>13</th>\n",
       "      <td>20240915_1268_E_late_15um_05</td>\n",
       "      <td>20240915</td>\n",
       "      <td>3d</td>\n",
       "      <td>1268</td>\n",
       "      <td>DPY27</td>\n",
       "      <td>DPY27_3d_20240915_1268_E_late_15um_05</td>\n",
       "      <td>/mnt/external.data/MeisterLab/Dario/Imaging/DP...</td>\n",
       "      <td>/mnt/external.data/MeisterLab/Dario/Imaging/DP...</td>\n",
       "    </tr>\n",
       "    <tr>\n",
       "      <th>14</th>\n",
       "      <td>20240915_1268_E_late_15um_06</td>\n",
       "      <td>20240915</td>\n",
       "      <td>3d</td>\n",
       "      <td>1268</td>\n",
       "      <td>DPY27</td>\n",
       "      <td>DPY27_3d_20240915_1268_E_late_15um_06</td>\n",
       "      <td>/mnt/external.data/MeisterLab/Dario/Imaging/DP...</td>\n",
       "      <td>/mnt/external.data/MeisterLab/Dario/Imaging/DP...</td>\n",
       "    </tr>\n",
       "    <tr>\n",
       "      <th>15</th>\n",
       "      <td>20240915_1268_E_late_15um_07</td>\n",
       "      <td>20240915</td>\n",
       "      <td>3d</td>\n",
       "      <td>1268</td>\n",
       "      <td>DPY27</td>\n",
       "      <td>DPY27_3d_20240915_1268_E_late_15um_07</td>\n",
       "      <td>/mnt/external.data/MeisterLab/Dario/Imaging/DP...</td>\n",
       "      <td>/mnt/external.data/MeisterLab/Dario/Imaging/DP...</td>\n",
       "    </tr>\n",
       "    <tr>\n",
       "      <th>16</th>\n",
       "      <td>20240915_1268_E_mid_15um</td>\n",
       "      <td>20240915</td>\n",
       "      <td>3d</td>\n",
       "      <td>1268</td>\n",
       "      <td>DPY27</td>\n",
       "      <td>DPY27_3d_20240915_1268_E_mid_15um</td>\n",
       "      <td>/mnt/external.data/MeisterLab/Dario/Imaging/DP...</td>\n",
       "      <td>/mnt/external.data/MeisterLab/Dario/Imaging/DP...</td>\n",
       "    </tr>\n",
       "    <tr>\n",
       "      <th>17</th>\n",
       "      <td>20240915_1268_E_mid_15um_02</td>\n",
       "      <td>20240915</td>\n",
       "      <td>3d</td>\n",
       "      <td>1268</td>\n",
       "      <td>DPY27</td>\n",
       "      <td>DPY27_3d_20240915_1268_E_mid_15um_02</td>\n",
       "      <td>/mnt/external.data/MeisterLab/Dario/Imaging/DP...</td>\n",
       "      <td>/mnt/external.data/MeisterLab/Dario/Imaging/DP...</td>\n",
       "    </tr>\n",
       "    <tr>\n",
       "      <th>18</th>\n",
       "      <td>20240915_1268_E_mid_15um_03</td>\n",
       "      <td>20240915</td>\n",
       "      <td>3d</td>\n",
       "      <td>1268</td>\n",
       "      <td>DPY27</td>\n",
       "      <td>DPY27_3d_20240915_1268_E_mid_15um_03</td>\n",
       "      <td>/mnt/external.data/MeisterLab/Dario/Imaging/DP...</td>\n",
       "      <td>/mnt/external.data/MeisterLab/Dario/Imaging/DP...</td>\n",
       "    </tr>\n",
       "    <tr>\n",
       "      <th>19</th>\n",
       "      <td>20240915_1268_E_mid_15um_04</td>\n",
       "      <td>20240915</td>\n",
       "      <td>3d</td>\n",
       "      <td>1268</td>\n",
       "      <td>DPY27</td>\n",
       "      <td>DPY27_3d_20240915_1268_E_mid_15um_04</td>\n",
       "      <td>/mnt/external.data/MeisterLab/Dario/Imaging/DP...</td>\n",
       "      <td>/mnt/external.data/MeisterLab/Dario/Imaging/DP...</td>\n",
       "    </tr>\n",
       "    <tr>\n",
       "      <th>20</th>\n",
       "      <td>20240915_1268_E_mid_15um_05</td>\n",
       "      <td>20240915</td>\n",
       "      <td>3d</td>\n",
       "      <td>1268</td>\n",
       "      <td>DPY27</td>\n",
       "      <td>DPY27_3d_20240915_1268_E_mid_15um_05</td>\n",
       "      <td>/mnt/external.data/MeisterLab/Dario/Imaging/DP...</td>\n",
       "      <td>/mnt/external.data/MeisterLab/Dario/Imaging/DP...</td>\n",
       "    </tr>\n",
       "    <tr>\n",
       "      <th>21</th>\n",
       "      <td>20240915_1268_E_mid_15um_06</td>\n",
       "      <td>20240915</td>\n",
       "      <td>3d</td>\n",
       "      <td>1268</td>\n",
       "      <td>DPY27</td>\n",
       "      <td>DPY27_3d_20240915_1268_E_mid_15um_06</td>\n",
       "      <td>/mnt/external.data/MeisterLab/Dario/Imaging/DP...</td>\n",
       "      <td>/mnt/external.data/MeisterLab/Dario/Imaging/DP...</td>\n",
       "    </tr>\n",
       "    <tr>\n",
       "      <th>22</th>\n",
       "      <td>20240915_1268_E_mid_15um_07</td>\n",
       "      <td>20240915</td>\n",
       "      <td>3d</td>\n",
       "      <td>1268</td>\n",
       "      <td>DPY27</td>\n",
       "      <td>DPY27_3d_20240915_1268_E_mid_15um_07</td>\n",
       "      <td>/mnt/external.data/MeisterLab/Dario/Imaging/DP...</td>\n",
       "      <td>/mnt/external.data/MeisterLab/Dario/Imaging/DP...</td>\n",
       "    </tr>\n",
       "    <tr>\n",
       "      <th>23</th>\n",
       "      <td>20240915_1268_E_mid_15um_08</td>\n",
       "      <td>20240915</td>\n",
       "      <td>3d</td>\n",
       "      <td>1268</td>\n",
       "      <td>DPY27</td>\n",
       "      <td>DPY27_3d_20240915_1268_E_mid_15um_08</td>\n",
       "      <td>/mnt/external.data/MeisterLab/Dario/Imaging/DP...</td>\n",
       "      <td>/mnt/external.data/MeisterLab/Dario/Imaging/DP...</td>\n",
       "    </tr>\n",
       "  </tbody>\n",
       "</table>\n",
       "</div>"
      ],
      "text/plain": [
       "                         filename      date experiment strain protein  \\\n",
       "0       20240915_1268_E_bean_15um  20240915         3d   1268   DPY27   \n",
       "1    20240915_1268_E_bean_15um_02  20240915         3d   1268   DPY27   \n",
       "2      20240915_1268_E_early_15um  20240915         3d   1268   DPY27   \n",
       "3   20240915_1268_E_early_15um_02  20240915         3d   1268   DPY27   \n",
       "4   20240915_1268_E_early_15um_03  20240915         3d   1268   DPY27   \n",
       "5   20240915_1268_E_early_15um_04  20240915         3d   1268   DPY27   \n",
       "6   20240915_1268_E_early_15um_05  20240915         3d   1268   DPY27   \n",
       "7   20240915_1268_E_early_15um_06  20240915         3d   1268   DPY27   \n",
       "8   20240915_1268_E_early_15um_07  20240915         3d   1268   DPY27   \n",
       "9       20240915_1268_E_late_15um  20240915         3d   1268   DPY27   \n",
       "10   20240915_1268_E_late_15um_02  20240915         3d   1268   DPY27   \n",
       "11   20240915_1268_E_late_15um_03  20240915         3d   1268   DPY27   \n",
       "12   20240915_1268_E_late_15um_04  20240915         3d   1268   DPY27   \n",
       "13   20240915_1268_E_late_15um_05  20240915         3d   1268   DPY27   \n",
       "14   20240915_1268_E_late_15um_06  20240915         3d   1268   DPY27   \n",
       "15   20240915_1268_E_late_15um_07  20240915         3d   1268   DPY27   \n",
       "16       20240915_1268_E_mid_15um  20240915         3d   1268   DPY27   \n",
       "17    20240915_1268_E_mid_15um_02  20240915         3d   1268   DPY27   \n",
       "18    20240915_1268_E_mid_15um_03  20240915         3d   1268   DPY27   \n",
       "19    20240915_1268_E_mid_15um_04  20240915         3d   1268   DPY27   \n",
       "20    20240915_1268_E_mid_15um_05  20240915         3d   1268   DPY27   \n",
       "21    20240915_1268_E_mid_15um_06  20240915         3d   1268   DPY27   \n",
       "22    20240915_1268_E_mid_15um_07  20240915         3d   1268   DPY27   \n",
       "23    20240915_1268_E_mid_15um_08  20240915         3d   1268   DPY27   \n",
       "\n",
       "                                        id  \\\n",
       "0       DPY27_3d_20240915_1268_E_bean_15um   \n",
       "1    DPY27_3d_20240915_1268_E_bean_15um_02   \n",
       "2      DPY27_3d_20240915_1268_E_early_15um   \n",
       "3   DPY27_3d_20240915_1268_E_early_15um_02   \n",
       "4   DPY27_3d_20240915_1268_E_early_15um_03   \n",
       "5   DPY27_3d_20240915_1268_E_early_15um_04   \n",
       "6   DPY27_3d_20240915_1268_E_early_15um_05   \n",
       "7   DPY27_3d_20240915_1268_E_early_15um_06   \n",
       "8   DPY27_3d_20240915_1268_E_early_15um_07   \n",
       "9       DPY27_3d_20240915_1268_E_late_15um   \n",
       "10   DPY27_3d_20240915_1268_E_late_15um_02   \n",
       "11   DPY27_3d_20240915_1268_E_late_15um_03   \n",
       "12   DPY27_3d_20240915_1268_E_late_15um_04   \n",
       "13   DPY27_3d_20240915_1268_E_late_15um_05   \n",
       "14   DPY27_3d_20240915_1268_E_late_15um_06   \n",
       "15   DPY27_3d_20240915_1268_E_late_15um_07   \n",
       "16       DPY27_3d_20240915_1268_E_mid_15um   \n",
       "17    DPY27_3d_20240915_1268_E_mid_15um_02   \n",
       "18    DPY27_3d_20240915_1268_E_mid_15um_03   \n",
       "19    DPY27_3d_20240915_1268_E_mid_15um_04   \n",
       "20    DPY27_3d_20240915_1268_E_mid_15um_05   \n",
       "21    DPY27_3d_20240915_1268_E_mid_15um_06   \n",
       "22    DPY27_3d_20240915_1268_E_mid_15um_07   \n",
       "23    DPY27_3d_20240915_1268_E_mid_15um_08   \n",
       "\n",
       "                                         raw_filepath  \\\n",
       "0   /mnt/external.data/MeisterLab/Dario/Imaging/DP...   \n",
       "1   /mnt/external.data/MeisterLab/Dario/Imaging/DP...   \n",
       "2   /mnt/external.data/MeisterLab/Dario/Imaging/DP...   \n",
       "3   /mnt/external.data/MeisterLab/Dario/Imaging/DP...   \n",
       "4   /mnt/external.data/MeisterLab/Dario/Imaging/DP...   \n",
       "5   /mnt/external.data/MeisterLab/Dario/Imaging/DP...   \n",
       "6   /mnt/external.data/MeisterLab/Dario/Imaging/DP...   \n",
       "7   /mnt/external.data/MeisterLab/Dario/Imaging/DP...   \n",
       "8   /mnt/external.data/MeisterLab/Dario/Imaging/DP...   \n",
       "9   /mnt/external.data/MeisterLab/Dario/Imaging/DP...   \n",
       "10  /mnt/external.data/MeisterLab/Dario/Imaging/DP...   \n",
       "11  /mnt/external.data/MeisterLab/Dario/Imaging/DP...   \n",
       "12  /mnt/external.data/MeisterLab/Dario/Imaging/DP...   \n",
       "13  /mnt/external.data/MeisterLab/Dario/Imaging/DP...   \n",
       "14  /mnt/external.data/MeisterLab/Dario/Imaging/DP...   \n",
       "15  /mnt/external.data/MeisterLab/Dario/Imaging/DP...   \n",
       "16  /mnt/external.data/MeisterLab/Dario/Imaging/DP...   \n",
       "17  /mnt/external.data/MeisterLab/Dario/Imaging/DP...   \n",
       "18  /mnt/external.data/MeisterLab/Dario/Imaging/DP...   \n",
       "19  /mnt/external.data/MeisterLab/Dario/Imaging/DP...   \n",
       "20  /mnt/external.data/MeisterLab/Dario/Imaging/DP...   \n",
       "21  /mnt/external.data/MeisterLab/Dario/Imaging/DP...   \n",
       "22  /mnt/external.data/MeisterLab/Dario/Imaging/DP...   \n",
       "23  /mnt/external.data/MeisterLab/Dario/Imaging/DP...   \n",
       "\n",
       "                                    denoised_filepath  \n",
       "0   /mnt/external.data/MeisterLab/Dario/Imaging/DP...  \n",
       "1   /mnt/external.data/MeisterLab/Dario/Imaging/DP...  \n",
       "2   /mnt/external.data/MeisterLab/Dario/Imaging/DP...  \n",
       "3   /mnt/external.data/MeisterLab/Dario/Imaging/DP...  \n",
       "4   /mnt/external.data/MeisterLab/Dario/Imaging/DP...  \n",
       "5   /mnt/external.data/MeisterLab/Dario/Imaging/DP...  \n",
       "6   /mnt/external.data/MeisterLab/Dario/Imaging/DP...  \n",
       "7   /mnt/external.data/MeisterLab/Dario/Imaging/DP...  \n",
       "8   /mnt/external.data/MeisterLab/Dario/Imaging/DP...  \n",
       "9   /mnt/external.data/MeisterLab/Dario/Imaging/DP...  \n",
       "10  /mnt/external.data/MeisterLab/Dario/Imaging/DP...  \n",
       "11  /mnt/external.data/MeisterLab/Dario/Imaging/DP...  \n",
       "12  /mnt/external.data/MeisterLab/Dario/Imaging/DP...  \n",
       "13  /mnt/external.data/MeisterLab/Dario/Imaging/DP...  \n",
       "14  /mnt/external.data/MeisterLab/Dario/Imaging/DP...  \n",
       "15  /mnt/external.data/MeisterLab/Dario/Imaging/DP...  \n",
       "16  /mnt/external.data/MeisterLab/Dario/Imaging/DP...  \n",
       "17  /mnt/external.data/MeisterLab/Dario/Imaging/DP...  \n",
       "18  /mnt/external.data/MeisterLab/Dario/Imaging/DP...  \n",
       "19  /mnt/external.data/MeisterLab/Dario/Imaging/DP...  \n",
       "20  /mnt/external.data/MeisterLab/Dario/Imaging/DP...  \n",
       "21  /mnt/external.data/MeisterLab/Dario/Imaging/DP...  \n",
       "22  /mnt/external.data/MeisterLab/Dario/Imaging/DP...  \n",
       "23  /mnt/external.data/MeisterLab/Dario/Imaging/DP...  "
      ]
     },
     "execution_count": 19,
     "metadata": {},
     "output_type": "execute_result"
    }
   ],
   "source": [
    "df"
   ]
  },
  {
   "cell_type": "code",
   "execution_count": 6,
   "id": "4864532e",
   "metadata": {
    "tags": []
   },
   "outputs": [],
   "source": [
    "import napari\n",
    "import torch\n",
    "from skimage.measure import regionprops_table, regionprops\n",
    "import pandas as pd\n",
    "import numpy as np\n",
    "import matplotlib.pyplot as plt\n",
    "import trackpy as tp\n",
    "import cellpose\n",
    "from cellpose import models\n",
    "import edt\n",
    "import glob\n",
    "import os\n",
    "import tqdm\n",
    "from matplotlib_scalebar.scalebar import ScaleBar\n",
    "import gc\n",
    "import seaborn as sns\n",
    "from sklearn.mixture import GaussianMixture\n",
    "from bioio import BioImage\n",
    "import bioio_nd2\n",
    "import bioio_tifffile\n",
    "from bioio.writers import OmeTiffWriter\n",
    "\n",
    "\n",
    "anisotropy = (3,1,1) # Relative scale of (Z,X,Y) axes\n",
    "\n",
    "nucChannel = 0 # red emerin rings\n",
    "spotChannel = 1 # green spots\n",
    "\n",
    "# in lucien's original scripts:\n",
    "# channel 0 is green spots\n",
    "# channel 1 is red emerin"
   ]
  },
  {
   "cell_type": "code",
   "execution_count": 7,
   "id": "e8d2eb4b",
   "metadata": {
    "tags": []
   },
   "outputs": [
    {
     "name": "stdout",
     "output_type": "stream",
     "text": [
      "Found 24 *.nd2 files.\n"
     ]
    }
   ],
   "source": [
    "# on server\n",
    "raw_input_path = '/mnt/external.data/MeisterLab/Dario/Imaging/DPY27/1268/20240915_3d/'\n",
    "denoised_input_path = raw_input_path+'N2V_1268RG_1273RG/denoised/'\n",
    "output_path = '/mnt/external.data/MeisterLab/jsemple/lhinder/segmentation_Dario/DPY27/'\n",
    "\n",
    "# on local machine (mac) with izbkingston mounted\n",
    "#raw_input_path = '/Volumes/external.data/MeisterLab/Dario/Imaging/DPY27/1268/20240915_3d/'\n",
    "#denoised_input_path = raw_input_path+'N2V_1268RG_1273RG/denoised/'\n",
    "#output_path = '/Volumes/external.data/MeisterLab/jsemple/lhinder/segmentation_Dario/DPY27/'\n",
    "\n",
    "if not os.path.exists(output_path+\"/qc\"):\n",
    "    os.makedirs(output_path+\"/qc\")\n",
    "\n",
    "if not os.path.exists(output_path+\"/segmentation\"):\n",
    "    os.makedirs(output_path+\"/segmentation\")\n",
    "\n",
    "if not os.path.exists(output_path+\"/edt\"):\n",
    "    os.makedirs(output_path+\"/edt\")\n",
    "\n",
    "if not os.path.exists(output_path+\"/spots\"):\n",
    "    os.makedirs(output_path+\"/spots\")\n",
    "\n",
    "if not os.path.exists(output_path+\"/nuclei\"):\n",
    "    os.makedirs(output_path+\"/nuclei\")\n",
    "\n",
    "if not os.path.exists(output_path+\"/dist\"):\n",
    "    os.makedirs(output_path+\"/dist\")\n",
    "\n",
    "\n",
    "raw_file_name_pattern = \"/*.nd2\"\n",
    "denoised_file_name_pattern = \"/*_n2v.tif\"\n",
    "raw_filepaths = sorted(glob.glob(raw_input_path + raw_file_name_pattern,recursive=True))\n",
    "print(f\"Found {len(raw_filepaths)} *.nd2 files.\")"
   ]
  },
  {
   "cell_type": "markdown",
   "id": "1e87afd6",
   "metadata": {},
   "source": [
    "Generate data frame of file paths with metadata"
   ]
  },
  {
   "cell_type": "code",
   "execution_count": 8,
   "id": "f7fe90e4",
   "metadata": {},
   "outputs": [
    {
     "data": {
      "text/html": [
       "<div>\n",
       "<style scoped>\n",
       "    .dataframe tbody tr th:only-of-type {\n",
       "        vertical-align: middle;\n",
       "    }\n",
       "\n",
       "    .dataframe tbody tr th {\n",
       "        vertical-align: top;\n",
       "    }\n",
       "\n",
       "    .dataframe thead th {\n",
       "        text-align: right;\n",
       "    }\n",
       "</style>\n",
       "<table border=\"1\" class=\"dataframe\">\n",
       "  <thead>\n",
       "    <tr style=\"text-align: right;\">\n",
       "      <th></th>\n",
       "      <th>filename</th>\n",
       "      <th>date</th>\n",
       "      <th>experiment</th>\n",
       "      <th>strain</th>\n",
       "      <th>protein</th>\n",
       "      <th>id</th>\n",
       "      <th>raw_filepath</th>\n",
       "      <th>denoised_filepath</th>\n",
       "    </tr>\n",
       "  </thead>\n",
       "  <tbody>\n",
       "    <tr>\n",
       "      <th>0</th>\n",
       "      <td>20240915_1268_E_bean_15um</td>\n",
       "      <td>20240915</td>\n",
       "      <td>3d</td>\n",
       "      <td>1268</td>\n",
       "      <td>DPY27</td>\n",
       "      <td>DPY27_3d_20240915_1268_E_bean_15um</td>\n",
       "      <td>/mnt/external.data/MeisterLab/Dario/Imaging/DP...</td>\n",
       "      <td>/mnt/external.data/MeisterLab/Dario/Imaging/DP...</td>\n",
       "    </tr>\n",
       "    <tr>\n",
       "      <th>1</th>\n",
       "      <td>20240915_1268_E_bean_15um_02</td>\n",
       "      <td>20240915</td>\n",
       "      <td>3d</td>\n",
       "      <td>1268</td>\n",
       "      <td>DPY27</td>\n",
       "      <td>DPY27_3d_20240915_1268_E_bean_15um_02</td>\n",
       "      <td>/mnt/external.data/MeisterLab/Dario/Imaging/DP...</td>\n",
       "      <td>/mnt/external.data/MeisterLab/Dario/Imaging/DP...</td>\n",
       "    </tr>\n",
       "    <tr>\n",
       "      <th>2</th>\n",
       "      <td>20240915_1268_E_early_15um</td>\n",
       "      <td>20240915</td>\n",
       "      <td>3d</td>\n",
       "      <td>1268</td>\n",
       "      <td>DPY27</td>\n",
       "      <td>DPY27_3d_20240915_1268_E_early_15um</td>\n",
       "      <td>/mnt/external.data/MeisterLab/Dario/Imaging/DP...</td>\n",
       "      <td>/mnt/external.data/MeisterLab/Dario/Imaging/DP...</td>\n",
       "    </tr>\n",
       "    <tr>\n",
       "      <th>3</th>\n",
       "      <td>20240915_1268_E_early_15um_02</td>\n",
       "      <td>20240915</td>\n",
       "      <td>3d</td>\n",
       "      <td>1268</td>\n",
       "      <td>DPY27</td>\n",
       "      <td>DPY27_3d_20240915_1268_E_early_15um_02</td>\n",
       "      <td>/mnt/external.data/MeisterLab/Dario/Imaging/DP...</td>\n",
       "      <td>/mnt/external.data/MeisterLab/Dario/Imaging/DP...</td>\n",
       "    </tr>\n",
       "    <tr>\n",
       "      <th>4</th>\n",
       "      <td>20240915_1268_E_early_15um_03</td>\n",
       "      <td>20240915</td>\n",
       "      <td>3d</td>\n",
       "      <td>1268</td>\n",
       "      <td>DPY27</td>\n",
       "      <td>DPY27_3d_20240915_1268_E_early_15um_03</td>\n",
       "      <td>/mnt/external.data/MeisterLab/Dario/Imaging/DP...</td>\n",
       "      <td>/mnt/external.data/MeisterLab/Dario/Imaging/DP...</td>\n",
       "    </tr>\n",
       "    <tr>\n",
       "      <th>5</th>\n",
       "      <td>20240915_1268_E_early_15um_04</td>\n",
       "      <td>20240915</td>\n",
       "      <td>3d</td>\n",
       "      <td>1268</td>\n",
       "      <td>DPY27</td>\n",
       "      <td>DPY27_3d_20240915_1268_E_early_15um_04</td>\n",
       "      <td>/mnt/external.data/MeisterLab/Dario/Imaging/DP...</td>\n",
       "      <td>/mnt/external.data/MeisterLab/Dario/Imaging/DP...</td>\n",
       "    </tr>\n",
       "    <tr>\n",
       "      <th>6</th>\n",
       "      <td>20240915_1268_E_early_15um_05</td>\n",
       "      <td>20240915</td>\n",
       "      <td>3d</td>\n",
       "      <td>1268</td>\n",
       "      <td>DPY27</td>\n",
       "      <td>DPY27_3d_20240915_1268_E_early_15um_05</td>\n",
       "      <td>/mnt/external.data/MeisterLab/Dario/Imaging/DP...</td>\n",
       "      <td>/mnt/external.data/MeisterLab/Dario/Imaging/DP...</td>\n",
       "    </tr>\n",
       "    <tr>\n",
       "      <th>7</th>\n",
       "      <td>20240915_1268_E_early_15um_06</td>\n",
       "      <td>20240915</td>\n",
       "      <td>3d</td>\n",
       "      <td>1268</td>\n",
       "      <td>DPY27</td>\n",
       "      <td>DPY27_3d_20240915_1268_E_early_15um_06</td>\n",
       "      <td>/mnt/external.data/MeisterLab/Dario/Imaging/DP...</td>\n",
       "      <td>/mnt/external.data/MeisterLab/Dario/Imaging/DP...</td>\n",
       "    </tr>\n",
       "    <tr>\n",
       "      <th>8</th>\n",
       "      <td>20240915_1268_E_early_15um_07</td>\n",
       "      <td>20240915</td>\n",
       "      <td>3d</td>\n",
       "      <td>1268</td>\n",
       "      <td>DPY27</td>\n",
       "      <td>DPY27_3d_20240915_1268_E_early_15um_07</td>\n",
       "      <td>/mnt/external.data/MeisterLab/Dario/Imaging/DP...</td>\n",
       "      <td>/mnt/external.data/MeisterLab/Dario/Imaging/DP...</td>\n",
       "    </tr>\n",
       "    <tr>\n",
       "      <th>9</th>\n",
       "      <td>20240915_1268_E_late_15um</td>\n",
       "      <td>20240915</td>\n",
       "      <td>3d</td>\n",
       "      <td>1268</td>\n",
       "      <td>DPY27</td>\n",
       "      <td>DPY27_3d_20240915_1268_E_late_15um</td>\n",
       "      <td>/mnt/external.data/MeisterLab/Dario/Imaging/DP...</td>\n",
       "      <td>/mnt/external.data/MeisterLab/Dario/Imaging/DP...</td>\n",
       "    </tr>\n",
       "    <tr>\n",
       "      <th>10</th>\n",
       "      <td>20240915_1268_E_late_15um_02</td>\n",
       "      <td>20240915</td>\n",
       "      <td>3d</td>\n",
       "      <td>1268</td>\n",
       "      <td>DPY27</td>\n",
       "      <td>DPY27_3d_20240915_1268_E_late_15um_02</td>\n",
       "      <td>/mnt/external.data/MeisterLab/Dario/Imaging/DP...</td>\n",
       "      <td>/mnt/external.data/MeisterLab/Dario/Imaging/DP...</td>\n",
       "    </tr>\n",
       "    <tr>\n",
       "      <th>11</th>\n",
       "      <td>20240915_1268_E_late_15um_03</td>\n",
       "      <td>20240915</td>\n",
       "      <td>3d</td>\n",
       "      <td>1268</td>\n",
       "      <td>DPY27</td>\n",
       "      <td>DPY27_3d_20240915_1268_E_late_15um_03</td>\n",
       "      <td>/mnt/external.data/MeisterLab/Dario/Imaging/DP...</td>\n",
       "      <td>/mnt/external.data/MeisterLab/Dario/Imaging/DP...</td>\n",
       "    </tr>\n",
       "    <tr>\n",
       "      <th>12</th>\n",
       "      <td>20240915_1268_E_late_15um_04</td>\n",
       "      <td>20240915</td>\n",
       "      <td>3d</td>\n",
       "      <td>1268</td>\n",
       "      <td>DPY27</td>\n",
       "      <td>DPY27_3d_20240915_1268_E_late_15um_04</td>\n",
       "      <td>/mnt/external.data/MeisterLab/Dario/Imaging/DP...</td>\n",
       "      <td>/mnt/external.data/MeisterLab/Dario/Imaging/DP...</td>\n",
       "    </tr>\n",
       "    <tr>\n",
       "      <th>13</th>\n",
       "      <td>20240915_1268_E_late_15um_05</td>\n",
       "      <td>20240915</td>\n",
       "      <td>3d</td>\n",
       "      <td>1268</td>\n",
       "      <td>DPY27</td>\n",
       "      <td>DPY27_3d_20240915_1268_E_late_15um_05</td>\n",
       "      <td>/mnt/external.data/MeisterLab/Dario/Imaging/DP...</td>\n",
       "      <td>/mnt/external.data/MeisterLab/Dario/Imaging/DP...</td>\n",
       "    </tr>\n",
       "    <tr>\n",
       "      <th>14</th>\n",
       "      <td>20240915_1268_E_late_15um_06</td>\n",
       "      <td>20240915</td>\n",
       "      <td>3d</td>\n",
       "      <td>1268</td>\n",
       "      <td>DPY27</td>\n",
       "      <td>DPY27_3d_20240915_1268_E_late_15um_06</td>\n",
       "      <td>/mnt/external.data/MeisterLab/Dario/Imaging/DP...</td>\n",
       "      <td>/mnt/external.data/MeisterLab/Dario/Imaging/DP...</td>\n",
       "    </tr>\n",
       "    <tr>\n",
       "      <th>15</th>\n",
       "      <td>20240915_1268_E_late_15um_07</td>\n",
       "      <td>20240915</td>\n",
       "      <td>3d</td>\n",
       "      <td>1268</td>\n",
       "      <td>DPY27</td>\n",
       "      <td>DPY27_3d_20240915_1268_E_late_15um_07</td>\n",
       "      <td>/mnt/external.data/MeisterLab/Dario/Imaging/DP...</td>\n",
       "      <td>/mnt/external.data/MeisterLab/Dario/Imaging/DP...</td>\n",
       "    </tr>\n",
       "    <tr>\n",
       "      <th>16</th>\n",
       "      <td>20240915_1268_E_mid_15um</td>\n",
       "      <td>20240915</td>\n",
       "      <td>3d</td>\n",
       "      <td>1268</td>\n",
       "      <td>DPY27</td>\n",
       "      <td>DPY27_3d_20240915_1268_E_mid_15um</td>\n",
       "      <td>/mnt/external.data/MeisterLab/Dario/Imaging/DP...</td>\n",
       "      <td>/mnt/external.data/MeisterLab/Dario/Imaging/DP...</td>\n",
       "    </tr>\n",
       "    <tr>\n",
       "      <th>17</th>\n",
       "      <td>20240915_1268_E_mid_15um_02</td>\n",
       "      <td>20240915</td>\n",
       "      <td>3d</td>\n",
       "      <td>1268</td>\n",
       "      <td>DPY27</td>\n",
       "      <td>DPY27_3d_20240915_1268_E_mid_15um_02</td>\n",
       "      <td>/mnt/external.data/MeisterLab/Dario/Imaging/DP...</td>\n",
       "      <td>/mnt/external.data/MeisterLab/Dario/Imaging/DP...</td>\n",
       "    </tr>\n",
       "    <tr>\n",
       "      <th>18</th>\n",
       "      <td>20240915_1268_E_mid_15um_03</td>\n",
       "      <td>20240915</td>\n",
       "      <td>3d</td>\n",
       "      <td>1268</td>\n",
       "      <td>DPY27</td>\n",
       "      <td>DPY27_3d_20240915_1268_E_mid_15um_03</td>\n",
       "      <td>/mnt/external.data/MeisterLab/Dario/Imaging/DP...</td>\n",
       "      <td>/mnt/external.data/MeisterLab/Dario/Imaging/DP...</td>\n",
       "    </tr>\n",
       "    <tr>\n",
       "      <th>19</th>\n",
       "      <td>20240915_1268_E_mid_15um_04</td>\n",
       "      <td>20240915</td>\n",
       "      <td>3d</td>\n",
       "      <td>1268</td>\n",
       "      <td>DPY27</td>\n",
       "      <td>DPY27_3d_20240915_1268_E_mid_15um_04</td>\n",
       "      <td>/mnt/external.data/MeisterLab/Dario/Imaging/DP...</td>\n",
       "      <td>/mnt/external.data/MeisterLab/Dario/Imaging/DP...</td>\n",
       "    </tr>\n",
       "    <tr>\n",
       "      <th>20</th>\n",
       "      <td>20240915_1268_E_mid_15um_05</td>\n",
       "      <td>20240915</td>\n",
       "      <td>3d</td>\n",
       "      <td>1268</td>\n",
       "      <td>DPY27</td>\n",
       "      <td>DPY27_3d_20240915_1268_E_mid_15um_05</td>\n",
       "      <td>/mnt/external.data/MeisterLab/Dario/Imaging/DP...</td>\n",
       "      <td>/mnt/external.data/MeisterLab/Dario/Imaging/DP...</td>\n",
       "    </tr>\n",
       "    <tr>\n",
       "      <th>21</th>\n",
       "      <td>20240915_1268_E_mid_15um_06</td>\n",
       "      <td>20240915</td>\n",
       "      <td>3d</td>\n",
       "      <td>1268</td>\n",
       "      <td>DPY27</td>\n",
       "      <td>DPY27_3d_20240915_1268_E_mid_15um_06</td>\n",
       "      <td>/mnt/external.data/MeisterLab/Dario/Imaging/DP...</td>\n",
       "      <td>/mnt/external.data/MeisterLab/Dario/Imaging/DP...</td>\n",
       "    </tr>\n",
       "    <tr>\n",
       "      <th>22</th>\n",
       "      <td>20240915_1268_E_mid_15um_07</td>\n",
       "      <td>20240915</td>\n",
       "      <td>3d</td>\n",
       "      <td>1268</td>\n",
       "      <td>DPY27</td>\n",
       "      <td>DPY27_3d_20240915_1268_E_mid_15um_07</td>\n",
       "      <td>/mnt/external.data/MeisterLab/Dario/Imaging/DP...</td>\n",
       "      <td>/mnt/external.data/MeisterLab/Dario/Imaging/DP...</td>\n",
       "    </tr>\n",
       "    <tr>\n",
       "      <th>23</th>\n",
       "      <td>20240915_1268_E_mid_15um_08</td>\n",
       "      <td>20240915</td>\n",
       "      <td>3d</td>\n",
       "      <td>1268</td>\n",
       "      <td>DPY27</td>\n",
       "      <td>DPY27_3d_20240915_1268_E_mid_15um_08</td>\n",
       "      <td>/mnt/external.data/MeisterLab/Dario/Imaging/DP...</td>\n",
       "      <td>/mnt/external.data/MeisterLab/Dario/Imaging/DP...</td>\n",
       "    </tr>\n",
       "  </tbody>\n",
       "</table>\n",
       "</div>"
      ],
      "text/plain": [
       "                         filename      date experiment strain protein  \\\n",
       "0       20240915_1268_E_bean_15um  20240915         3d   1268   DPY27   \n",
       "1    20240915_1268_E_bean_15um_02  20240915         3d   1268   DPY27   \n",
       "2      20240915_1268_E_early_15um  20240915         3d   1268   DPY27   \n",
       "3   20240915_1268_E_early_15um_02  20240915         3d   1268   DPY27   \n",
       "4   20240915_1268_E_early_15um_03  20240915         3d   1268   DPY27   \n",
       "5   20240915_1268_E_early_15um_04  20240915         3d   1268   DPY27   \n",
       "6   20240915_1268_E_early_15um_05  20240915         3d   1268   DPY27   \n",
       "7   20240915_1268_E_early_15um_06  20240915         3d   1268   DPY27   \n",
       "8   20240915_1268_E_early_15um_07  20240915         3d   1268   DPY27   \n",
       "9       20240915_1268_E_late_15um  20240915         3d   1268   DPY27   \n",
       "10   20240915_1268_E_late_15um_02  20240915         3d   1268   DPY27   \n",
       "11   20240915_1268_E_late_15um_03  20240915         3d   1268   DPY27   \n",
       "12   20240915_1268_E_late_15um_04  20240915         3d   1268   DPY27   \n",
       "13   20240915_1268_E_late_15um_05  20240915         3d   1268   DPY27   \n",
       "14   20240915_1268_E_late_15um_06  20240915         3d   1268   DPY27   \n",
       "15   20240915_1268_E_late_15um_07  20240915         3d   1268   DPY27   \n",
       "16       20240915_1268_E_mid_15um  20240915         3d   1268   DPY27   \n",
       "17    20240915_1268_E_mid_15um_02  20240915         3d   1268   DPY27   \n",
       "18    20240915_1268_E_mid_15um_03  20240915         3d   1268   DPY27   \n",
       "19    20240915_1268_E_mid_15um_04  20240915         3d   1268   DPY27   \n",
       "20    20240915_1268_E_mid_15um_05  20240915         3d   1268   DPY27   \n",
       "21    20240915_1268_E_mid_15um_06  20240915         3d   1268   DPY27   \n",
       "22    20240915_1268_E_mid_15um_07  20240915         3d   1268   DPY27   \n",
       "23    20240915_1268_E_mid_15um_08  20240915         3d   1268   DPY27   \n",
       "\n",
       "                                        id  \\\n",
       "0       DPY27_3d_20240915_1268_E_bean_15um   \n",
       "1    DPY27_3d_20240915_1268_E_bean_15um_02   \n",
       "2      DPY27_3d_20240915_1268_E_early_15um   \n",
       "3   DPY27_3d_20240915_1268_E_early_15um_02   \n",
       "4   DPY27_3d_20240915_1268_E_early_15um_03   \n",
       "5   DPY27_3d_20240915_1268_E_early_15um_04   \n",
       "6   DPY27_3d_20240915_1268_E_early_15um_05   \n",
       "7   DPY27_3d_20240915_1268_E_early_15um_06   \n",
       "8   DPY27_3d_20240915_1268_E_early_15um_07   \n",
       "9       DPY27_3d_20240915_1268_E_late_15um   \n",
       "10   DPY27_3d_20240915_1268_E_late_15um_02   \n",
       "11   DPY27_3d_20240915_1268_E_late_15um_03   \n",
       "12   DPY27_3d_20240915_1268_E_late_15um_04   \n",
       "13   DPY27_3d_20240915_1268_E_late_15um_05   \n",
       "14   DPY27_3d_20240915_1268_E_late_15um_06   \n",
       "15   DPY27_3d_20240915_1268_E_late_15um_07   \n",
       "16       DPY27_3d_20240915_1268_E_mid_15um   \n",
       "17    DPY27_3d_20240915_1268_E_mid_15um_02   \n",
       "18    DPY27_3d_20240915_1268_E_mid_15um_03   \n",
       "19    DPY27_3d_20240915_1268_E_mid_15um_04   \n",
       "20    DPY27_3d_20240915_1268_E_mid_15um_05   \n",
       "21    DPY27_3d_20240915_1268_E_mid_15um_06   \n",
       "22    DPY27_3d_20240915_1268_E_mid_15um_07   \n",
       "23    DPY27_3d_20240915_1268_E_mid_15um_08   \n",
       "\n",
       "                                         raw_filepath  \\\n",
       "0   /mnt/external.data/MeisterLab/Dario/Imaging/DP...   \n",
       "1   /mnt/external.data/MeisterLab/Dario/Imaging/DP...   \n",
       "2   /mnt/external.data/MeisterLab/Dario/Imaging/DP...   \n",
       "3   /mnt/external.data/MeisterLab/Dario/Imaging/DP...   \n",
       "4   /mnt/external.data/MeisterLab/Dario/Imaging/DP...   \n",
       "5   /mnt/external.data/MeisterLab/Dario/Imaging/DP...   \n",
       "6   /mnt/external.data/MeisterLab/Dario/Imaging/DP...   \n",
       "7   /mnt/external.data/MeisterLab/Dario/Imaging/DP...   \n",
       "8   /mnt/external.data/MeisterLab/Dario/Imaging/DP...   \n",
       "9   /mnt/external.data/MeisterLab/Dario/Imaging/DP...   \n",
       "10  /mnt/external.data/MeisterLab/Dario/Imaging/DP...   \n",
       "11  /mnt/external.data/MeisterLab/Dario/Imaging/DP...   \n",
       "12  /mnt/external.data/MeisterLab/Dario/Imaging/DP...   \n",
       "13  /mnt/external.data/MeisterLab/Dario/Imaging/DP...   \n",
       "14  /mnt/external.data/MeisterLab/Dario/Imaging/DP...   \n",
       "15  /mnt/external.data/MeisterLab/Dario/Imaging/DP...   \n",
       "16  /mnt/external.data/MeisterLab/Dario/Imaging/DP...   \n",
       "17  /mnt/external.data/MeisterLab/Dario/Imaging/DP...   \n",
       "18  /mnt/external.data/MeisterLab/Dario/Imaging/DP...   \n",
       "19  /mnt/external.data/MeisterLab/Dario/Imaging/DP...   \n",
       "20  /mnt/external.data/MeisterLab/Dario/Imaging/DP...   \n",
       "21  /mnt/external.data/MeisterLab/Dario/Imaging/DP...   \n",
       "22  /mnt/external.data/MeisterLab/Dario/Imaging/DP...   \n",
       "23  /mnt/external.data/MeisterLab/Dario/Imaging/DP...   \n",
       "\n",
       "                                    denoised_filepath  \n",
       "0   /mnt/external.data/MeisterLab/Dario/Imaging/DP...  \n",
       "1   /mnt/external.data/MeisterLab/Dario/Imaging/DP...  \n",
       "2   /mnt/external.data/MeisterLab/Dario/Imaging/DP...  \n",
       "3   /mnt/external.data/MeisterLab/Dario/Imaging/DP...  \n",
       "4   /mnt/external.data/MeisterLab/Dario/Imaging/DP...  \n",
       "5   /mnt/external.data/MeisterLab/Dario/Imaging/DP...  \n",
       "6   /mnt/external.data/MeisterLab/Dario/Imaging/DP...  \n",
       "7   /mnt/external.data/MeisterLab/Dario/Imaging/DP...  \n",
       "8   /mnt/external.data/MeisterLab/Dario/Imaging/DP...  \n",
       "9   /mnt/external.data/MeisterLab/Dario/Imaging/DP...  \n",
       "10  /mnt/external.data/MeisterLab/Dario/Imaging/DP...  \n",
       "11  /mnt/external.data/MeisterLab/Dario/Imaging/DP...  \n",
       "12  /mnt/external.data/MeisterLab/Dario/Imaging/DP...  \n",
       "13  /mnt/external.data/MeisterLab/Dario/Imaging/DP...  \n",
       "14  /mnt/external.data/MeisterLab/Dario/Imaging/DP...  \n",
       "15  /mnt/external.data/MeisterLab/Dario/Imaging/DP...  \n",
       "16  /mnt/external.data/MeisterLab/Dario/Imaging/DP...  \n",
       "17  /mnt/external.data/MeisterLab/Dario/Imaging/DP...  \n",
       "18  /mnt/external.data/MeisterLab/Dario/Imaging/DP...  \n",
       "19  /mnt/external.data/MeisterLab/Dario/Imaging/DP...  \n",
       "20  /mnt/external.data/MeisterLab/Dario/Imaging/DP...  \n",
       "21  /mnt/external.data/MeisterLab/Dario/Imaging/DP...  \n",
       "22  /mnt/external.data/MeisterLab/Dario/Imaging/DP...  \n",
       "23  /mnt/external.data/MeisterLab/Dario/Imaging/DP...  "
      ]
     },
     "execution_count": 8,
     "metadata": {},
     "output_type": "execute_result"
    }
   ],
   "source": [
    "df = pd.DataFrame()\n",
    "df['filename'] = [os.path.basename(filepath)[:-4] for filepath in raw_filepaths]\n",
    "tmpdate = [os.path.normpath(filepath).split(os.sep)[-2] for filepath in raw_filepaths]\n",
    "df['date'] = pd.Series([exp.split('_')[0] for exp in tmpdate])\n",
    "df['experiment'] = pd.Series([exp.split('_')[1] for exp in tmpdate])\n",
    "df['strain'] = [os.path.normpath(filepath).split(os.sep)[-3] for filepath in raw_filepaths]\n",
    "df['protein'] = [os.path.normpath(filepath).split(os.sep)[-4] for filepath in raw_filepaths]\n",
    "df['id'] = df['protein'] + '_' + df['experiment'] + '_' + df['filename'] \n",
    "df['raw_filepath'] = raw_filepaths\n",
    "df['denoised_filepath'] = [denoised_input_path+filename+'_n2v.tif' for filename in df['filename']]\n",
    "\n",
    "df.to_csv(output_path+'fileList.csv',index=False)\n",
    "df"
   ]
  },
  {
   "cell_type": "markdown",
   "id": "27817eeb",
   "metadata": {},
   "source": [
    "Load model"
   ]
  },
  {
   "cell_type": "code",
   "execution_count": 9,
   "id": "667d650d",
   "metadata": {
    "tags": []
   },
   "outputs": [
    {
     "name": "stderr",
     "output_type": "stream",
     "text": [
      "/home/jsemple/miniforge3/envs/lhcellpose1/lib/python3.10/site-packages/cellpose/resnet_torch.py:276: FutureWarning: You are using `torch.load` with `weights_only=False` (the current default value), which uses the default pickle module implicitly. It is possible to construct malicious pickle data which will execute arbitrary code during unpickling (See https://github.com/pytorch/pytorch/blob/main/SECURITY.md#untrusted-models for more details). In a future release, the default value for `weights_only` will be flipped to `True`. This limits the functions that could be executed during unpickling. Arbitrary objects will no longer be allowed to be loaded via this mode unless they are explicitly allowlisted by the user via `torch.serialization.add_safe_globals`. We recommend you start setting `weights_only=True` for any use case where you don't have full control of the loaded file. Please open an issue on GitHub for any issues related to this experimental feature.\n",
      "  state_dict = torch.load(filename, map_location=device)\n"
     ]
    }
   ],
   "source": [
    "torch.cuda.device(0)\n",
    "\n",
    "# using gpu, on server\n",
    "model = models.CellposeModel(pretrained_model='/mnt/external.data/MeisterLab/lhinder/segmentation_3d_anja/code/worms_1000epochs_v0', gpu=False, device =torch.device('cuda:0'))\n",
    "\n",
    "# no gpu, on server\n",
    "#model = models.CellposeModel(pretrained_model='/mnt/external.data/MeisterLab/lhinder/segmentation_3d_anja/code/worms_1000epochs_v0')\n",
    "\n",
    "# no gpu, from local machine with izbkingston mounted \n",
    "#model = models.CellposeModel(pretrained_model='/Volumes/external.data/MeisterLab/lhinder/segmentation_3d_anja/code/worms_1000epochs_v0')"
   ]
  },
  {
   "cell_type": "markdown",
   "id": "dc1d6c4b",
   "metadata": {},
   "source": [
    "## Functions for nuclear segmentation and qc"
   ]
  },
  {
   "cell_type": "code",
   "execution_count": 10,
   "id": "1d68a0b9",
   "metadata": {
    "tags": []
   },
   "outputs": [],
   "source": [
    "# Disable do_3D, there is a bug. 2D and stitching with overlap works much better.\n",
    "# Takes around 7min for the whole image on the macbook\n",
    "def segment_nuclei(img, model):\n",
    "    masks,flows,styles = model.eval(img,do_3D=False,stitch_threshold=0.3,cellprob_threshold =0,diameter =36)\n",
    "    return masks,flows,styles\n",
    "\n",
    "\n",
    "def calc_distance_mask(masks,anisotropy):\n",
    "    '''Calculate the distance map from the nuclei-edge towards the center of nucleus'''\n",
    "    masks_edt = edt.edt(masks,anisotropy = anisotropy)\n",
    "    return masks_edt\n",
    "\n",
    "\n",
    "# \n",
    "\n",
    "def plot_qc_nuclei_crop(df, index, df_region_props, img, display = False, seed=1):\n",
    "    nb_nuc = 10\n",
    "    np.random.seed(seed)\n",
    "    indices_to_sample = np.random.choice(range(len(df_region_props)),size = nb_nuc,replace = False)\n",
    "    # sort indeces in descending order of area\n",
    "\n",
    "    widths=[df_region_props['image'][i].shape[1] for i in indices_to_sample]\n",
    "\n",
    "    fig, axs = plt.subplots(nrows = 2, ncols = nb_nuc, figsize = (15,5),dpi = 250, \n",
    "                            sharex=False, sharey=False, width_ratios=widths)\n",
    "    fig.suptitle(f'Cropped nuclei {df.id.iloc[index]}', fontsize=16)\n",
    "\n",
    "    for i,sample in enumerate(indices_to_sample):\n",
    "        intensity_image = df_region_props['intensity_image'][sample][:,:,:,spotChannel] #show first spot channel\n",
    "        image = df_region_props['image'][sample]\n",
    "        mx = np.ma.masked_array(intensity_image,mask = ~image)\n",
    "        z_height = image.shape[0] \n",
    "        axs[0,i].imshow(mx[int(z_height/2)])\n",
    "        axs[0,i].spines['top'].set_visible(False)\n",
    "        axs[0,i].spines['right'].set_visible(False)\n",
    "        axs[0,i].spines['bottom'].set_visible(False)\n",
    "        axs[0,i].spines['left'].set_visible(False)\n",
    "        axs[0,i].get_xaxis().set_ticks([])\n",
    "        axs[0,i].get_yaxis().set_ticks([])\n",
    "\n",
    "    for i,sample in enumerate(indices_to_sample):\n",
    "        intensity_image = df_region_props['intensity_image'][sample][:,:,:,nucChannel] #show second nuclear channel\n",
    "        image = df_region_props['image'][sample]\n",
    "        mx = np.ma.masked_array(intensity_image,mask = ~image)\n",
    "        z_height = image.shape[0]\n",
    "        axs[1,i].imshow(mx[int(z_height/2)])\n",
    "        axs[1,i].spines['top'].set_visible(False)\n",
    "        axs[1,i].spines['right'].set_visible(False)\n",
    "        axs[1,i].spines['bottom'].set_visible(False)\n",
    "        axs[1,i].spines['left'].set_visible(False)\n",
    "        axs[1,i].get_xaxis().set_ticks([])\n",
    "        axs[1,i].get_yaxis().set_ticks([])\n",
    "\n",
    "        if i == nb_nuc-1:\n",
    "            scalebar = ScaleBar(0.065, \"um\", length_fraction=1, box_alpha=0.7,color='black',location='lower right',height_fraction = 0.05,border_pad =-1)\n",
    "            axs[1,i].add_artist(scalebar)\n",
    "\n",
    "    #plt.tight_layout()\n",
    "    fig.savefig(output_path + 'qc/cropped_nuclei_'+df.id.iloc[index]+'.pdf')\n",
    "    if display == False:\n",
    "        plt.close()\n",
    "    else:\n",
    "        plt.show()\n",
    "\n",
    "\n",
    "\n",
    "def plot_qc_segmentation_xyz(img,masks,index,df,display_plot=False, plotContours=False):\n",
    "    nucChannel = 0\n",
    "    num_z=img.shape[1]\n",
    "    num_y=img.shape[2]\n",
    "    num_x=img.shape[3]\n",
    "    nlabel=100\n",
    "\n",
    "    fig = plt.figure(layout='constrained',dpi=450,figsize = (10,10))\n",
    "    fig.suptitle(f'Segmentation for {df.id.iloc[index]}', fontsize=10)\n",
    "    subfigs = fig.subfigures(2, 1, wspace=0.1)\n",
    "\n",
    "    axsTop = subfigs[0].subplots(2, 3,sharex=True, sharey=True)\n",
    "    #xy\n",
    "    axsTop[0,0].imshow(label2rgb(masks[int(num_z*0.3),:,:],bg_label=0,bg_color=(255, 255, 255),colors=np.random.random((nlabel, 3))))\n",
    "    axsTop[1,0].set_title('z='+str(int(num_z*0.3)), fontsize=8)\n",
    "    axsTop[0,1].imshow(label2rgb(masks[int(num_z*0.5),:,:],bg_label=0,bg_color=(255, 255, 255),colors=np.random.random((nlabel, 3))))\n",
    "    axsTop[1,1].set_title('z='+str(int(num_z*0.5)), fontsize=8)\n",
    "    axsTop[0,2].imshow(label2rgb(masks[int(num_z*0.7),:,:],bg_label=0,bg_color=(255, 255, 255),colors=np.random.random((nlabel, 3))))\n",
    "    axsTop[1,2].set_title('z='+str(int(num_z*0.7)), fontsize=8)\n",
    "\n",
    "    axsTop[1,0].imshow(img[nucChannel,int(num_z*0.3),:,:],cmap = 'gray_r')\n",
    "    axsTop[1,1].imshow(img[nucChannel,int(num_z*0.5),:,:],cmap = 'gray_r')\n",
    "    axsTop[1,2].imshow(img[nucChannel,int(num_z*0.7),:,:],cmap = 'gray_r')\n",
    "\n",
    "    if plotContours:\n",
    "        axsTop[1,0].contour(masks[int(num_z*0.3),:,:], [0.5], linewidths=0.5, colors='r')\n",
    "        axsTop[1,1].contour(masks[int(num_z*0.5),:,:], [0.5], linewidths=0.5, colors='r')\n",
    "        axsTop[1,2].contour(masks[int(num_z*0.7),:,:], [0.5], linewidths=0.5, colors='r')\n",
    "\n",
    "\n",
    "\n",
    "    for axss in axsTop:\n",
    "        for ax in axss:\n",
    "            #ax.set_xlim(0,num_x)\n",
    "            #ax.set_ylim(0,num_y)\n",
    "            ax.set_xticks([])\n",
    "            ax.set_yticks([])\n",
    "\n",
    "    axsBottom = subfigs[1].subplots(4, 3,sharex=True,sharey=True)\n",
    "    #xz\n",
    "    axsBottom[0,0].imshow(label2rgb(masks[:,int(num_y*0.3),:],bg_label=0,bg_color=(255, 255, 255),colors=np.random.random((nlabel, 3))))\n",
    "    axsBottom[1,0].set_title('y='+str(int(num_y*0.3)), fontsize=8)\n",
    "    axsBottom[0,1].imshow(label2rgb(masks[:,int(num_y*0.5),:],bg_label=0,bg_color=(255, 255, 255),colors=np.random.random((nlabel, 3))))\n",
    "    axsBottom[1,1].set_title('y='+str(int(num_y*0.5)), fontsize=8)\n",
    "    axsBottom[0,2].imshow(label2rgb(masks[:,int(num_y*0.7),:],bg_label=0,bg_color=(255, 255, 255),colors=np.random.random((nlabel, 3))))\n",
    "    axsBottom[1,2].set_title('y='+str(int(num_y*0.7)), fontsize=8)\n",
    "\n",
    "    axsBottom[1,0].imshow(img[nucChannel,:,int(num_y*0.3),:],cmap = 'gray_r')\n",
    "    axsBottom[1,1].imshow(img[nucChannel,:,int(num_y*0.5),:],cmap = 'gray_r')\n",
    "    axsBottom[1,2].imshow(img[nucChannel,:,int(num_y*0.7),:],cmap = 'gray_r')\n",
    "\n",
    "    if plotContours:\n",
    "        axsBottom[1,0].contour(masks[:,int(num_y*0.3),:], [0.5], linewidths=0.5, colors='r')\n",
    "        axsBottom[1,1].contour(masks[:,int(num_y*0.5),:], [0.5], linewidths=0.5, colors='r')\n",
    "        axsBottom[1,2].contour(masks[:,int(num_y*0.7),:], [0.5], linewidths=0.5, colors='r')\n",
    "\n",
    "\n",
    "    #yz\n",
    "    axsBottom[2,0].imshow(label2rgb(masks[:,:,int(num_x*0.3)],bg_label=0,bg_color=(255, 255, 255),colors=np.random.random((nlabel, 3))))\n",
    "    axsBottom[3,0].set_title('x='+str(int(num_x*0.3)), fontsize=8)\n",
    "    axsBottom[2,1].imshow(label2rgb(masks[:,:,int(num_x*0.5)],bg_label=0,bg_color=(255, 255, 255),colors=np.random.random((nlabel, 3))))\n",
    "    axsBottom[3,1].set_title('x='+str(int(num_x*0.5)), fontsize=8)\n",
    "    axsBottom[2,2].imshow(label2rgb(masks[:,:,int(num_x*0.7)],bg_label=0,bg_color=(255, 255, 255),colors=np.random.random((nlabel, 3))))\n",
    "    axsBottom[3,2].set_title('x='+str(int(num_x*0.7)), fontsize=8)\n",
    "\n",
    "    axsBottom[3,0].imshow(img[nucChannel,:,:,int(num_x*0.3)],cmap = 'gray_r')\n",
    "    axsBottom[3,1].imshow(img[nucChannel,:,:,int(num_x*0.5)],cmap = 'gray_r')\n",
    "    axsBottom[3,2].imshow(img[nucChannel,:,:,int(num_x*0.7)],cmap = 'gray_r')\n",
    "\n",
    "    if plotContours:\n",
    "        axsBottom[3,0].contour(masks[:,:,int(num_x*0.3)], [0.5], linewidths=0.5, colors='r')\n",
    "        axsBottom[3,1].contour(masks[:,:,int(num_x*0.5)], [0.5], linewidths=0.5, colors='r')\n",
    "        axsBottom[3,2].contour(masks[:,:,int(num_x*0.7)], [0.5], linewidths=0.5, colors='r')\n",
    "\n",
    "    for axss in axsBottom:\n",
    "        for ax in axss:\n",
    "            #ax.set_ylim(0,num_z)\n",
    "            ax.set_xticks([])\n",
    "            ax.set_yticks([])\n",
    "\n",
    "    plt.tight_layout()\n",
    "    if display_plot:\n",
    "        plt.show()\n",
    "    else:\n",
    "        fig.savefig(output_path + 'qc/segmentation_'+df.id.iloc[index]+'.pdf')\n",
    "        plt.close()"
   ]
  },
  {
   "cell_type": "code",
   "execution_count": 11,
   "id": "2061263f",
   "metadata": {},
   "outputs": [],
   "source": [
    "## Run the segmentation script on all images (reserve more than 24GB!)\n",
    "# this produces segmentation, segmentation_qc and edt files\n",
    "def run_nuclear_segmentation(indices, df):\n",
    "    for index in tqdm.tqdm(indices):\n",
    "        # Load the data\n",
    "        img = BioImage(df.denoised_filepath.iloc[index], reader=bioio_tifffile.Reader)\n",
    "        img = img.get_image_data(\"CZYX\", T=0)\n",
    "\n",
    "\n",
    "        # Segment nuclei \n",
    "        masks,flows,styles = segment_nuclei(img[nucChannel,:,:,:],model) # Run the segmentation\n",
    "        plot_qc_segmentation_xyz(img,masks,index, df, display_plot = False)                         # Create qc plot\n",
    "        OmeTiffWriter.save(masks, output_path+'segmentation/'+df.id.iloc[index]+'.tif')\n",
    "\n",
    "        del flows\n",
    "        del styles\n",
    "        gc.collect()\n",
    "        \n",
    "        # Calculate edt \n",
    "        masks_edt = calc_distance_mask(masks,anisotropy)\n",
    "        OmeTiffWriter.save(masks_edt, output_path+'edt/'+df.id.iloc[index]+'.tif')\n",
    "\n",
    "        del masks\n",
    "        del masks_edt\n",
    "        gc.collect()\n",
    "        continue\n"
   ]
  },
  {
   "cell_type": "code",
   "execution_count": 12,
   "id": "0f83e25f",
   "metadata": {},
   "outputs": [],
   "source": [
    "## read images\n",
    "## crop the nuclei slices\n",
    "## calculate EDT transform\n",
    "## for each nuclei loop over all distances (1:40) and take mean\n",
    "## array of distance/intensity measurements are taken only for middle slice of mask (?)\n",
    "\n",
    "## nucleus_id | nucleus volume | [1:20] mean intensities | group | ...\n",
    "\n",
    "\n",
    "def run_dist_analysis(indices,df):\n",
    "    for index in tqdm.tqdm(indices):\n",
    "        \n",
    "        df_nuclei = pd.DataFrame()\n",
    "        print(df.iloc[index].raw_filepath)\n",
    "        \n",
    "        masks = BioImage(output_path+'segmentation/'+df.id.iloc[index]+'.tif', reader=bioio_tifffile.Reader)\n",
    "        masks = masks.get_image_data(\"ZYX\", T=0, C=0)\n",
    "\n",
    "        img = BioImage(df.raw_filepath.iloc[index], reader=bioio_nd2.Reader)\n",
    "        img = img.get_image_data(\"ZYXC\", T=0)\n",
    "            \n",
    "          \n",
    "        df_region_props = regionprops_table(masks,img, properties = ['label', 'area','image','intensity_image'])\n",
    "        df_region_props = pd.DataFrame(df_region_props)\n",
    "\n",
    "        if len(df_region_props)>=10:\n",
    "            plot_qc_nuclei_crop(df, index, df_region_props, img, display = False) \n",
    "\n",
    "        for i in range(len(df_region_props)):\n",
    "            df_nuclei_temp = pd.DataFrame()\n",
    "\n",
    "            intensity_image_spots = df_region_props['intensity_image'][i][:,:,:,spotChannel] #show spot channel\n",
    "            intensity_image_nuclei = df_region_props['intensity_image'][i][:,:,:,nucChannel] #show nuclear ring channel\n",
    "\n",
    "            image = df_region_props['image'][i]\n",
    "            mx = np.ma.masked_array(intensity_image_spots,mask = ~image)\n",
    "\n",
    "            # Extract the intensity per distance\n",
    "            intensity_image = df_region_props['intensity_image'][i][:,:,:,spotChannel] #show first spot channel\n",
    "            image = df_region_props['image'][i]\n",
    "            mx_spots = np.ma.masked_array(intensity_image_spots,mask = ~image)\n",
    "            mx_nuclei = np.ma.masked_array(intensity_image_nuclei,mask = ~image)\n",
    "            mx_mask = np.ma.masked_array(image,mask = ~image)\n",
    "\n",
    "            z_height = image.shape[0]\n",
    "\n",
    "            slice_spots = mx_spots[int(z_height/2)]\n",
    "            slice_nuclei = mx_nuclei[int(z_height/2)]\n",
    "            slice_mask = mx_mask[int(z_height/2)]\n",
    "\n",
    "            slice_mask_edt = edt.edt(slice_mask)\n",
    "            slice_mask_edt = np.ma.masked_array(slice_mask_edt,mask = ~(slice_mask_edt>0)) \n",
    "\n",
    "            results = regionprops_table(slice_mask_edt.astype('int'),slice_nuclei,properties=['label','intensity_mean'])\n",
    "            intensity_dist_nuclei = results['intensity_mean']\n",
    "\n",
    "            results = regionprops_table(slice_mask_edt.astype('int'),slice_spots,properties=['label','intensity_mean'])\n",
    "            intensity_dist_spots = results['intensity_mean']\n",
    "            dist = results['label']\n",
    "\n",
    "            df_nuclei_temp['label']  = [df_region_props.label.iloc[i]]\n",
    "            df_nuclei_temp['bb_dimZ']  = [mx.shape[0]]\n",
    "            df_nuclei_temp['bb_dimY']  = [mx.shape[1]]\n",
    "            df_nuclei_temp['bb_dimX']  = [mx.shape[2]]\n",
    "            df_nuclei_temp['mean'] = [np.ma.mean(mx)]\n",
    "            df_nuclei_temp['median'] = [np.ma.median(mx)]\n",
    "            df_nuclei_temp['std']=  [np.ma.std(mx)]\n",
    "            df_nuclei_temp['sum']= [np.ma.sum(mx)]\n",
    "            df_nuclei_temp['variance']= [np.ma.var(mx)]\n",
    "            df_nuclei_temp['max'] = [np.ma.max(mx)]\n",
    "            df_nuclei_temp['min'] = [np.ma.min(mx)]\n",
    "            df_nuclei_temp['volume'] = [np.sum(mx.mask)]\n",
    "            df_nuclei_temp['id'] = [df.id.iloc[index]]\n",
    "            df_nuclei_temp['intensity_dist_nuclei'] = [intensity_dist_nuclei]  # this is the emerin ring channel intensity on central slice\n",
    "            df_nuclei_temp['intensity_dist_spots'] = [intensity_dist_spots] # this is the spot channel but not actual detected spots\n",
    "            df_nuclei_temp['intensity_dist'] = [dist]  # this is the distance from the edge of the nucleus\n",
    "\n",
    "            df_nuclei = pd.concat([df_nuclei,df_nuclei_temp])\n",
    "        # save as pickle because has array stored in Dataframe\n",
    "        df_nuclei.to_pickle(output_path+'dist/'+df.id.iloc[index]+'.pkl') # Back up the DF for this FOV\n",
    "\n",
    "        # save with metadata as csv for simple viewing \n",
    "        df_nuclei_for_csv = pd.merge(df_nuclei,df,on='id',how='left')\n",
    "        df_nuclei_for_csv.drop( columns = [ 'intensity_dist_nuclei','intensity_dist_spots','intensity_dist' ], axis=1, inplace=True)\n",
    "        df_nuclei_for_csv.to_csv(output_path+'nuclei/'+df.id.iloc[index]+'.csv', index=False)\n",
    "\n"
   ]
  },
  {
   "cell_type": "markdown",
   "id": "5596bfee",
   "metadata": {},
   "source": [
    "## Functions for spot detection and qc"
   ]
  },
  {
   "cell_type": "code",
   "execution_count": 13,
   "id": "4b7b6731-732e-453e-b8a4-7b1e1fb43ede",
   "metadata": {
    "tags": []
   },
   "outputs": [],
   "source": [
    "def find_spots(img,diameter=(9,5,5),separation=(3,2,2)):\n",
    "    '''Find protein clusters of a certain size. Method is very sensitive, be sure to filter the spots afterwards using the signal value.\n",
    "    Input: img -> 3D array from C0 containing\n",
    "    Output: pandas.df containing data with all the detected spots.\n",
    "            x,y,z: centroid of spot in image coordinates (px space)\n",
    "            mass: total integrated brightness of the blob\n",
    "            size: radius of gyration of its Gaussian-like profile\n",
    "            ecc: eccentricity\n",
    "            raw_mass: integrated brightness in raw_image '''\n",
    "\n",
    "    #features = tp.locate(img, diameter=diameter, engine='numba',minmass = 10,percentile = 0.95,max_iterations=3,preprocess = True) #check \n",
    "    features = tp.locate(img[:,:,:], diameter, minmass=None, maxsize=None, separation=separation, noise_size=1, smoothing_size=None, threshold=None, invert=False, percentile=95, topn=None, preprocess=True, max_iterations=3, filter_before=None, filter_after=None, characterize=True, engine='numba')\n",
    "    return features\n",
    "\n",
    "\n",
    "def extract_spot_features(features,masks,masks_edt):\n",
    "    '''For each spot get the label of the corresponding nucleus and distance to its envelope.'''\n",
    "\n",
    "    for feature in features.iterrows():\n",
    "        index = feature[0]\n",
    "        x = round(feature[1].x)\n",
    "        y = round(feature[1].y)\n",
    "        z = round(feature[1].z)\n",
    "        dist = masks_edt[z,y,x]\n",
    "        label = masks[z,y,x]\n",
    "        features.loc[index,'dist'] = dist\n",
    "        features.loc[index,'label'] = int(label)\n",
    "        \n",
    "    return features\n",
    "#features = extract_spot_features(features,masks,masks_edt)\n",
    "\n",
    "def filter_spots(features, measure = 'signal', signal_strength = 0.1):\n",
    "    '''Remove all spots that lie outside of a nucleus (or where nucleus is not detected.\n",
    "       Remove all spots with signal<signal_strength'''\n",
    "    features_filt = features[(features['dist']>0)&(features[measure]>signal_strength)]\n",
    "    return features_filt"
   ]
  },
  {
   "cell_type": "code",
   "execution_count": 14,
   "id": "f546a5be-5c00-4cdd-83ec-8133d19cf190",
   "metadata": {
    "tags": []
   },
   "outputs": [],
   "source": [
    "def plot_qc_spot_detection(df, index, df_features, img, display_plot = False,\n",
    "                            measure = 'signal', thresholds = [1 ,2.5, 5, 10]):\n",
    "    z_projection = np.max(img[:,:,:], axis = 0)\n",
    "    #masks_z_projection = np.max(masks[:,:,:], axis = 0)\n",
    "    features_filt_01 = filter_spots(df_features, measure = measure, signal_strength = thresholds[0])\n",
    "    features_filt_02 = filter_spots(df_features, measure = measure, signal_strength = thresholds[1])\n",
    "    features_filt_03 = filter_spots(df_features, measure = measure, signal_strength =  thresholds[2])\n",
    "    features_filt_04 = filter_spots(df_features, measure = measure, signal_strength = thresholds[3])\n",
    "\n",
    "\n",
    "    fig, axs = plt.subplots(2,2,figsize = (6,7),dpi= 450)\n",
    "\n",
    "    for axss in axs:\n",
    "        for ax in axss:\n",
    "            ax.set_xticks([])\n",
    "            ax.set_yticks([])\n",
    "\n",
    "\n",
    "    axs[0,0].imshow(z_projection, cmap = 'gray_r')\n",
    "    axs[0,0].scatter(features_filt_01[['x']],features_filt_01[['y']], s = 0.3, linewidths=0.1, alpha = 1, edgecolors = 'red', facecolors='none')\n",
    "    #axs[0,0].contour(masks_z_projection, [0.5], linewidths=0.5, colors='green')\n",
    "    axs[0,0].set_title(f'{measure}>{thresholds[0]} (n={len(features_filt_01)})', fontsize=8,y=-0.01)\n",
    "\n",
    "    axs[0,1].imshow(z_projection, cmap = 'gray_r')\n",
    "    axs[0,1].scatter(features_filt_02[['x']],features_filt_02[['y']], s = 0.3, linewidths=0.1, alpha = 1, edgecolors = 'red', facecolors='none')\n",
    "    #axs[0,1].contour(masks_z_projection, [0.5], linewidths=0.5, colors='green')\n",
    "    axs[0,1].set_title(f'{measure}>{thresholds[1]} (n={len(features_filt_02)})', fontsize=8,y=-0.01)\n",
    "\n",
    "    axs[1,0].imshow(z_projection, cmap = 'gray_r')\n",
    "    axs[1,0].scatter(features_filt_03[['x']],features_filt_03[['y']], s = 0.3, linewidths=0.11, alpha = 1, edgecolors = 'red', facecolors='none')\n",
    "    #axs[1,0].contour(masks_z_projection, [0.5], linewidths=0.5, colors='green')\n",
    "    axs[1,0].set_title(f'{measure}>{thresholds[2]} (n={len(features_filt_03)})', fontsize=8,y=-0.01)\n",
    "\n",
    "    axs[1,1].imshow(z_projection, cmap = 'gray_r')\n",
    "    axs[1,1].scatter(features_filt_04[['x']],features_filt_04[['y']], s = 0.3, linewidths=0.1, alpha = 1, edgecolors = 'red', facecolors='none')\n",
    "    #axs[1,1].contour(masks_z_projection, [0.5], linewidths=0.5, colors='green')\n",
    "    axs[1,1].set_title(f'{measure}>{thresholds[3]} (n={len(features_filt_04)})', fontsize=8,y=-0.01)\n",
    "\n",
    "    plt.tight_layout()\n",
    "    fig.suptitle(f'Spot detection for {df.filename.iloc[index]}', fontsize=10)\n",
    "    #xs[0,0].imshow(masks[10,:,:]>0,cmap = 'gray_r')\n",
    "\n",
    "    if display_plot:\n",
    "        plt.show()\n",
    "    else:\n",
    "        fig.savefig(output_path + 'qc/spots_'+df.id.iloc[index]+'.pdf')\n",
    "        plt.close()\n"
   ]
  },
  {
   "cell_type": "code",
   "execution_count": 15,
   "id": "d5e58611",
   "metadata": {},
   "outputs": [],
   "source": [
    "def plot_qc_spot_threshold(index, df, display_plot=False, measure='signal'):\n",
    "    ''' Fits mixed gaussian model to find threshold of spot mass\n",
    "\n",
    "    Parameters:\n",
    "    index (int): Index of image whose spots should be analysed\n",
    "    df (pd.DataFrame): Data frame with list of image ids\n",
    "\n",
    "    Returns:\n",
    "    Saves a spotThreshold__.pdf for each image with a histogram, model fit and \n",
    "    threshold and returns image id, number of spots and the estimated threshold\n",
    "    '''\n",
    "    df_spots = pd.read_csv(output_path+'spots/'+df.id.iloc[index]+'.csv')\n",
    "    x = np.array(df_spots[measure]).reshape(-1,1)\n",
    "    gm =GaussianMixture(n_components=2,random_state=0).fit(x)\n",
    "    mu1=gm.means_[0]\n",
    "    mu2=gm.means_[1]\n",
    "    sigma1=np.sqrt(gm.covariances_[0])\n",
    "    sigma2=np.sqrt(gm.covariances_[1])\n",
    "    threshold=np.round(float(mu1+3*sigma1),2)\n",
    "\n",
    "    x_fit = np.linspace(0,max(x),100)\n",
    "    y_fit = gm.score_samples(x_fit)\n",
    "\n",
    "    plt.figure(figsize=(10,6))\n",
    "    g = sns.histplot(data=df_spots,x=measure,stat='density',label=\"Data\")\n",
    "    plt.plot(x_fit,np.exp(y_fit),color='red',lw=1,ls='-',label=\"Fitted bimodal distribution\")\n",
    "    plt.axvline(mu1,0,1,color='red',lw=0.5,ls=\"--\",label=\"Mean first gaussian\")\n",
    "    plt.axvline(threshold,0,1,color='red',lw=2,ls=\"-\",label=\"Threshold (mean1+3*SD1)\")\n",
    "    plt.axvline(mu2,0,1,color='red',lw=0.5,ls=\":\",label=\"Mean second gaussian\")\n",
    "    plt.annotate('Threshold='+str(threshold),xy=(0.4,0.9),xycoords='axes fraction')\n",
    "    plt.title('Distribution of spot '+measure+' as mixture of two gaussians')\n",
    "    plt.xlabel(measure)\n",
    "    plt.legend()\n",
    "\n",
    "    if display_plot:\n",
    "        plt.show()\n",
    "    else:\n",
    "        plt.savefig(output_path + 'qc/spotGMM_'+df.id.iloc[index]+'.pdf')\n",
    "        plt.close()\n",
    "    id=df.id.iloc[index]\n",
    "    num_spot=len(df_spots)\n",
    "    return(id, num_spot, threshold)\n"
   ]
  },
  {
   "cell_type": "code",
   "execution_count": 16,
   "id": "d7b103e2-a6fa-47cb-8323-cc1dcdc4a59a",
   "metadata": {
    "tags": []
   },
   "outputs": [],
   "source": [
    "def run_spot_analysis(indices, df, useRaw=True, diameter=(7,9,9), separation=(5,7,7), qc_thresholds=[1,2.5,5,10]):\n",
    "    '''Finds spots and estimates threshold'''\n",
    "    ids = list()\n",
    "    num_spots = list()\n",
    "    thresholds = list()\n",
    "    for index in tqdm.tqdm(indices):\n",
    "        # Load the data\n",
    "        # with ND2Reader(df.filepath.iloc[index]) as images:\n",
    "        #     images.bundle_axes = ['z','x','y','c']\n",
    "        #     img = images[0]\n",
    "        if useRaw:\n",
    "            img = BioImage(df.raw_filepath.iloc[index], reader=bioio_nd2.Reader)\n",
    "            img = img.get_image_data(\"ZYX\", T=0, C=spotChannel)\n",
    "        else:\n",
    "            img = BioImage(df.denoised_filepath.iloc[index], reader=bioio_tifffile.Reader)\n",
    "            img = img.get_image_data(\"ZYX\", T=0, C=spotChannel)\n",
    "\n",
    "        # Run t\n",
    "        masks = BioImage(output_path+'segmentation/'+df.id.iloc[index]+'.tif', reader=bioio_tifffile.Reader)\n",
    "        masks = masks.get_image_data(\"ZYX\", T=0, C=0)\n",
    "\n",
    "        masks_edt = BioImage(output_path+'edt/'+df.id.iloc[index]+'.tif', reader=bioio_tifffile.Reader)\n",
    "        masks_edt = masks_edt.get_image_data(\"ZYX\", T=0, C=0)\n",
    "\n",
    "        # Find the spots (location given in image coordinate system )\n",
    "        df_spots = find_spots(img[:,:,:],diameter = diameter,separation = separation)\n",
    "        df_features = extract_spot_features(df_spots,masks,masks_edt)    # For all the spots calculate the features\n",
    "\n",
    "        \n",
    "        df_features = filter_spots(df_features, measure='signal', signal_strength = 0.0001)\n",
    "        if len(df_features) == 0:\n",
    "            print('EMPTY DF!!')\n",
    "            print(df.filename.iloc[index])\n",
    "            print('INDEX:' + str(index))\n",
    "        else:\n",
    "            print('found spots:' + str(len(df_features)))\n",
    "\n",
    "\n",
    "        df_features.loc[:,'id'] = df.id.iloc[index]\n",
    "\n",
    "        df_features.to_csv(output_path+'spots/'+df.id.iloc[index]+'.csv') # Back up the DF for this FOV\n",
    "        \n",
    "        #plot spots detected at different thresholds\n",
    "        plot_qc_spot_detection(df, index, df_features, img, display_plot = False, measure = 'signal', thresholds = qc_thresholds) # Plot and save the QC of the spot detection\n",
    "\n",
    "        # Use mixed Guassian model to separate background from true spots\n",
    "        id, num_spot, threshold = plot_qc_spot_threshold(index, df, display_plot = False, measure = 'signal')\n",
    "        ids.append(id)\n",
    "        num_spots.append(num_spot)\n",
    "        thresholds.append(threshold)\n",
    "    \n",
    "    df_thresholds = pd.DataFrame(data = {'id': ids, 'num_spots': num_spots, 'threshold':thresholds })\n",
    "    df_thresholds.to_csv(output_path+'spotGMMthresholds.csv',index=False)\n",
    "    return df_thresholds\n",
    "\n",
    "\n",
    "def replot_spots_with_thresholds(indices, df, useRaw=True, qc_thresholds=[1,2.5,5,10]):\n",
    "    '''Finds spots and estimates threshold'''\n",
    "    for index in tqdm.tqdm(indices):\n",
    "        # Load the data\n",
    "        # with ND2Reader(df.filepath.iloc[index]) as images:\n",
    "        #     images.bundle_axes = ['z','x','y','c']\n",
    "        #     img = images[0]\n",
    "        if useRaw:\n",
    "            img = BioImage(df.raw_filepath.iloc[index], reader=bioio_nd2.Reader)\n",
    "            img = img.get_image_data(\"ZYX\", T=0, C=spotChannel)\n",
    "        else:\n",
    "            img = BioImage(df.denoised_filepath.iloc[index], reader=bioio_tifffile.Reader)\n",
    "            img = img.get_image_data(\"ZYX\", T=0, C=spotChannel)\n",
    "\n",
    "        # Run t\n",
    "        masks = BioImage(output_path+'segmentation/'+df.id.iloc[index]+'.tif', reader=bioio_tifffile.Reader)\n",
    "        masks = masks.get_image_data(\"ZYX\", T=0, C=0)\n",
    "\n",
    "        df_features =  pd.read_csv(output_path+'spots/'+df.id.iloc[index]+'.csv') # Back up the DF for this FOV\n",
    "        \n",
    "        #plot spots detected at different thresholds\n",
    "        plot_qc_spot_detection(df,index, df_features, img, display_plot = False, measure = 'signal', thresholds = qc_thresholds) # Plot and save the QC of the spot detection\n"
   ]
  },
  {
   "cell_type": "markdown",
   "id": "3b657443",
   "metadata": {},
   "source": [
    "## Functions to gather results into single file"
   ]
  },
  {
   "cell_type": "code",
   "execution_count": 17,
   "id": "28a8332f",
   "metadata": {},
   "outputs": [],
   "source": [
    "def collect_nuclear_segementation_data(indices, df, suffix = 'v001'):\n",
    "    '''Collects nuclear intensity and intensity vs distance data for all nuclei in the dataset'''\n",
    "    df_nuclei = pd.DataFrame()\n",
    "    for index in tqdm.tqdm(indices):\n",
    "        df_tmp = pd.read_csv(output_path+'nuclei/'+df.id.iloc[index]+'.csv')\n",
    "        df_nuclei = pd.concat([df_nuclei,df_tmp])\n",
    "    df_nuclei.to_csv(output_path+'nuclei_analysis_'+suffix+'.csv',index=False)\n",
    "\n",
    "\n",
    "\n",
    "def collect_nuclear_distance_data(indices, df, suffix = 'v001'):\n",
    "    '''Collects nuclear intensity and intensity vs distance data for all nuclei in the dataset'''\n",
    "    df_dist = pd.DataFrame()\n",
    "    for index in tqdm.tqdm(indices):\n",
    "        df_tmp = pd.read_pickle(output_path+'dist/'+df.id.iloc[index]+'.pkl')\n",
    "        df_dist = pd.concat([df_dist,df_tmp])\n",
    "    df_dist.to_pickle(output_path+'dist_analysis_'+suffix+'.pkl')\n",
    "\n",
    "\n",
    "def collect_spot_data(indices, df, suffix = 'v001'):\n",
    "    '''Collects spot data for all images'''\n",
    "    df_spots = pd.DataFrame()\n",
    "    for index in tqdm.tqdm(indices):\n",
    "        df_tmp = pd.read_csv(output_path+'spots/'+df.id.iloc[index]+'.csv')\n",
    "        df_spots = pd.concat([df_spots,df_tmp])\n",
    "    df_spots.to_csv(output_path+'spots_analysis_'+suffix+'.csv',index=False)\n"
   ]
  },
  {
   "cell_type": "markdown",
   "id": "89662d67",
   "metadata": {},
   "source": [
    "## Running the analysis for nuclear segmentation"
   ]
  },
  {
   "cell_type": "code",
   "execution_count": 82,
   "id": "12b5278b",
   "metadata": {},
   "outputs": [
    {
     "name": "stderr",
     "output_type": "stream",
     "text": [
      "  0%|          | 0/24 [00:00<?, ?it/s]"
     ]
    },
    {
     "name": "stdout",
     "output_type": "stream",
     "text": [
      "/mnt/external.data/MeisterLab/Dario/Imaging/DPY27/1268/20240915_3d/20240915_1268_E_bean_15um.nd2\n"
     ]
    },
    {
     "name": "stderr",
     "output_type": "stream",
     "text": [
      "/home/jsemple/miniforge3/envs/lhcellpose/lib/python3.10/site-packages/dask/tokenize.py:242: UserWarning: ND2File file not closed before garbage collection. Please use `with ND2File(...):` context or call `.close()`.\n",
      "  mod.loads(out, buffers=buffers)\n",
      "  4%|▍         | 1/24 [00:10<04:07, 10.75s/it]"
     ]
    },
    {
     "name": "stdout",
     "output_type": "stream",
     "text": [
      "/mnt/external.data/MeisterLab/Dario/Imaging/DPY27/1268/20240915_3d/20240915_1268_E_bean_15um_02.nd2\n"
     ]
    },
    {
     "name": "stderr",
     "output_type": "stream",
     "text": [
      "/home/jsemple/miniforge3/envs/lhcellpose/lib/python3.10/site-packages/dask/tokenize.py:242: UserWarning: ND2File file not closed before garbage collection. Please use `with ND2File(...):` context or call `.close()`.\n",
      "  mod.loads(out, buffers=buffers)\n",
      "  8%|▊         | 2/24 [00:24<04:30, 12.28s/it]"
     ]
    },
    {
     "name": "stdout",
     "output_type": "stream",
     "text": [
      "/mnt/external.data/MeisterLab/Dario/Imaging/DPY27/1268/20240915_3d/20240915_1268_E_early_15um.nd2\n"
     ]
    },
    {
     "name": "stderr",
     "output_type": "stream",
     "text": [
      "/home/jsemple/miniforge3/envs/lhcellpose/lib/python3.10/site-packages/dask/tokenize.py:242: UserWarning: ND2File file not closed before garbage collection. Please use `with ND2File(...):` context or call `.close()`.\n",
      "  mod.loads(out, buffers=buffers)\n",
      " 12%|█▎        | 3/24 [00:35<04:13, 12.05s/it]"
     ]
    },
    {
     "name": "stdout",
     "output_type": "stream",
     "text": [
      "/mnt/external.data/MeisterLab/Dario/Imaging/DPY27/1268/20240915_3d/20240915_1268_E_early_15um_02.nd2\n"
     ]
    },
    {
     "name": "stderr",
     "output_type": "stream",
     "text": [
      "/home/jsemple/miniforge3/envs/lhcellpose/lib/python3.10/site-packages/dask/tokenize.py:242: UserWarning: ND2File file not closed before garbage collection. Please use `with ND2File(...):` context or call `.close()`.\n",
      "  mod.loads(out, buffers=buffers)\n",
      " 17%|█▋        | 4/24 [00:48<04:01, 12.09s/it]"
     ]
    },
    {
     "name": "stdout",
     "output_type": "stream",
     "text": [
      "/mnt/external.data/MeisterLab/Dario/Imaging/DPY27/1268/20240915_3d/20240915_1268_E_early_15um_03.nd2\n"
     ]
    },
    {
     "name": "stderr",
     "output_type": "stream",
     "text": [
      "/home/jsemple/miniforge3/envs/lhcellpose/lib/python3.10/site-packages/dask/tokenize.py:242: UserWarning: ND2File file not closed before garbage collection. Please use `with ND2File(...):` context or call `.close()`.\n",
      "  mod.loads(out, buffers=buffers)\n",
      " 21%|██        | 5/24 [00:59<03:45, 11.85s/it]"
     ]
    },
    {
     "name": "stdout",
     "output_type": "stream",
     "text": [
      "/mnt/external.data/MeisterLab/Dario/Imaging/DPY27/1268/20240915_3d/20240915_1268_E_early_15um_04.nd2\n"
     ]
    },
    {
     "name": "stderr",
     "output_type": "stream",
     "text": [
      "/home/jsemple/miniforge3/envs/lhcellpose/lib/python3.10/site-packages/dask/tokenize.py:242: UserWarning: ND2File file not closed before garbage collection. Please use `with ND2File(...):` context or call `.close()`.\n",
      "  mod.loads(out, buffers=buffers)\n",
      " 25%|██▌       | 6/24 [01:07<03:09, 10.54s/it]"
     ]
    },
    {
     "name": "stdout",
     "output_type": "stream",
     "text": [
      "/mnt/external.data/MeisterLab/Dario/Imaging/DPY27/1268/20240915_3d/20240915_1268_E_early_15um_05.nd2\n"
     ]
    },
    {
     "name": "stderr",
     "output_type": "stream",
     "text": [
      "/home/jsemple/miniforge3/envs/lhcellpose/lib/python3.10/site-packages/dask/tokenize.py:242: UserWarning: ND2File file not closed before garbage collection. Please use `with ND2File(...):` context or call `.close()`.\n",
      "  mod.loads(out, buffers=buffers)\n",
      " 29%|██▉       | 7/24 [01:15<02:43,  9.62s/it]"
     ]
    },
    {
     "name": "stdout",
     "output_type": "stream",
     "text": [
      "/mnt/external.data/MeisterLab/Dario/Imaging/DPY27/1268/20240915_3d/20240915_1268_E_early_15um_06.nd2\n"
     ]
    },
    {
     "name": "stderr",
     "output_type": "stream",
     "text": [
      "/home/jsemple/miniforge3/envs/lhcellpose/lib/python3.10/site-packages/dask/tokenize.py:242: UserWarning: ND2File file not closed before garbage collection. Please use `with ND2File(...):` context or call `.close()`.\n",
      "  mod.loads(out, buffers=buffers)\n",
      " 33%|███▎      | 8/24 [01:25<02:38,  9.88s/it]"
     ]
    },
    {
     "name": "stdout",
     "output_type": "stream",
     "text": [
      "/mnt/external.data/MeisterLab/Dario/Imaging/DPY27/1268/20240915_3d/20240915_1268_E_early_15um_07.nd2\n"
     ]
    },
    {
     "name": "stderr",
     "output_type": "stream",
     "text": [
      "/home/jsemple/miniforge3/envs/lhcellpose/lib/python3.10/site-packages/dask/tokenize.py:242: UserWarning: ND2File file not closed before garbage collection. Please use `with ND2File(...):` context or call `.close()`.\n",
      "  mod.loads(out, buffers=buffers)\n",
      " 38%|███▊      | 9/24 [01:34<02:23,  9.59s/it]"
     ]
    },
    {
     "name": "stdout",
     "output_type": "stream",
     "text": [
      "/mnt/external.data/MeisterLab/Dario/Imaging/DPY27/1268/20240915_3d/20240915_1268_E_late_15um.nd2\n"
     ]
    },
    {
     "name": "stderr",
     "output_type": "stream",
     "text": [
      "/home/jsemple/miniforge3/envs/lhcellpose/lib/python3.10/site-packages/dask/tokenize.py:242: UserWarning: ND2File file not closed before garbage collection. Please use `with ND2File(...):` context or call `.close()`.\n",
      "  mod.loads(out, buffers=buffers)\n",
      " 42%|████▏     | 10/24 [01:45<02:18,  9.88s/it]"
     ]
    },
    {
     "name": "stdout",
     "output_type": "stream",
     "text": [
      "/mnt/external.data/MeisterLab/Dario/Imaging/DPY27/1268/20240915_3d/20240915_1268_E_late_15um_02.nd2\n"
     ]
    },
    {
     "name": "stderr",
     "output_type": "stream",
     "text": [
      "/home/jsemple/miniforge3/envs/lhcellpose/lib/python3.10/site-packages/dask/tokenize.py:242: UserWarning: ND2File file not closed before garbage collection. Please use `with ND2File(...):` context or call `.close()`.\n",
      "  mod.loads(out, buffers=buffers)\n",
      " 46%|████▌     | 11/24 [01:55<02:08,  9.91s/it]"
     ]
    },
    {
     "name": "stdout",
     "output_type": "stream",
     "text": [
      "/mnt/external.data/MeisterLab/Dario/Imaging/DPY27/1268/20240915_3d/20240915_1268_E_late_15um_03.nd2\n"
     ]
    },
    {
     "name": "stderr",
     "output_type": "stream",
     "text": [
      "/home/jsemple/miniforge3/envs/lhcellpose/lib/python3.10/site-packages/dask/tokenize.py:242: UserWarning: ND2File file not closed before garbage collection. Please use `with ND2File(...):` context or call `.close()`.\n",
      "  mod.loads(out, buffers=buffers)\n",
      " 50%|█████     | 12/24 [02:05<02:01, 10.15s/it]"
     ]
    },
    {
     "name": "stdout",
     "output_type": "stream",
     "text": [
      "/mnt/external.data/MeisterLab/Dario/Imaging/DPY27/1268/20240915_3d/20240915_1268_E_late_15um_04.nd2\n"
     ]
    },
    {
     "name": "stderr",
     "output_type": "stream",
     "text": [
      "/home/jsemple/miniforge3/envs/lhcellpose/lib/python3.10/site-packages/dask/tokenize.py:242: UserWarning: ND2File file not closed before garbage collection. Please use `with ND2File(...):` context or call `.close()`.\n",
      "  mod.loads(out, buffers=buffers)\n",
      " 54%|█████▍    | 13/24 [02:17<01:55, 10.48s/it]"
     ]
    },
    {
     "name": "stdout",
     "output_type": "stream",
     "text": [
      "/mnt/external.data/MeisterLab/Dario/Imaging/DPY27/1268/20240915_3d/20240915_1268_E_late_15um_05.nd2\n"
     ]
    },
    {
     "name": "stderr",
     "output_type": "stream",
     "text": [
      "/home/jsemple/miniforge3/envs/lhcellpose/lib/python3.10/site-packages/dask/tokenize.py:242: UserWarning: ND2File file not closed before garbage collection. Please use `with ND2File(...):` context or call `.close()`.\n",
      "  mod.loads(out, buffers=buffers)\n",
      " 58%|█████▊    | 14/24 [02:32<01:59, 11.90s/it]"
     ]
    },
    {
     "name": "stdout",
     "output_type": "stream",
     "text": [
      "/mnt/external.data/MeisterLab/Dario/Imaging/DPY27/1268/20240915_3d/20240915_1268_E_late_15um_06.nd2\n"
     ]
    },
    {
     "name": "stderr",
     "output_type": "stream",
     "text": [
      "/home/jsemple/miniforge3/envs/lhcellpose/lib/python3.10/site-packages/dask/tokenize.py:242: UserWarning: ND2File file not closed before garbage collection. Please use `with ND2File(...):` context or call `.close()`.\n",
      "  mod.loads(out, buffers=buffers)\n",
      " 62%|██████▎   | 15/24 [02:43<01:46, 11.86s/it]"
     ]
    },
    {
     "name": "stdout",
     "output_type": "stream",
     "text": [
      "/mnt/external.data/MeisterLab/Dario/Imaging/DPY27/1268/20240915_3d/20240915_1268_E_late_15um_07.nd2\n"
     ]
    },
    {
     "name": "stderr",
     "output_type": "stream",
     "text": [
      "/home/jsemple/miniforge3/envs/lhcellpose/lib/python3.10/site-packages/dask/tokenize.py:242: UserWarning: ND2File file not closed before garbage collection. Please use `with ND2File(...):` context or call `.close()`.\n",
      "  mod.loads(out, buffers=buffers)\n",
      " 67%|██████▋   | 16/24 [02:58<01:41, 12.69s/it]"
     ]
    },
    {
     "name": "stdout",
     "output_type": "stream",
     "text": [
      "/mnt/external.data/MeisterLab/Dario/Imaging/DPY27/1268/20240915_3d/20240915_1268_E_mid_15um.nd2\n"
     ]
    },
    {
     "name": "stderr",
     "output_type": "stream",
     "text": [
      "/home/jsemple/miniforge3/envs/lhcellpose/lib/python3.10/site-packages/dask/tokenize.py:242: UserWarning: ND2File file not closed before garbage collection. Please use `with ND2File(...):` context or call `.close()`.\n",
      "  mod.loads(out, buffers=buffers)\n",
      " 71%|███████   | 17/24 [03:08<01:22, 11.82s/it]"
     ]
    },
    {
     "name": "stdout",
     "output_type": "stream",
     "text": [
      "/mnt/external.data/MeisterLab/Dario/Imaging/DPY27/1268/20240915_3d/20240915_1268_E_mid_15um_02.nd2\n"
     ]
    },
    {
     "name": "stderr",
     "output_type": "stream",
     "text": [
      "/home/jsemple/miniforge3/envs/lhcellpose/lib/python3.10/site-packages/dask/tokenize.py:242: UserWarning: ND2File file not closed before garbage collection. Please use `with ND2File(...):` context or call `.close()`.\n",
      "  mod.loads(out, buffers=buffers)\n",
      " 75%|███████▌  | 18/24 [03:16<01:04, 10.67s/it]"
     ]
    },
    {
     "name": "stdout",
     "output_type": "stream",
     "text": [
      "/mnt/external.data/MeisterLab/Dario/Imaging/DPY27/1268/20240915_3d/20240915_1268_E_mid_15um_03.nd2\n"
     ]
    },
    {
     "name": "stderr",
     "output_type": "stream",
     "text": [
      "/home/jsemple/miniforge3/envs/lhcellpose/lib/python3.10/site-packages/dask/tokenize.py:242: UserWarning: ND2File file not closed before garbage collection. Please use `with ND2File(...):` context or call `.close()`.\n",
      "  mod.loads(out, buffers=buffers)\n",
      " 79%|███████▉  | 19/24 [03:27<00:54, 10.81s/it]"
     ]
    },
    {
     "name": "stdout",
     "output_type": "stream",
     "text": [
      "/mnt/external.data/MeisterLab/Dario/Imaging/DPY27/1268/20240915_3d/20240915_1268_E_mid_15um_04.nd2\n"
     ]
    },
    {
     "name": "stderr",
     "output_type": "stream",
     "text": [
      "/home/jsemple/miniforge3/envs/lhcellpose/lib/python3.10/site-packages/dask/tokenize.py:242: UserWarning: ND2File file not closed before garbage collection. Please use `with ND2File(...):` context or call `.close()`.\n",
      "  mod.loads(out, buffers=buffers)\n",
      " 83%|████████▎ | 20/24 [03:36<00:41, 10.25s/it]"
     ]
    },
    {
     "name": "stdout",
     "output_type": "stream",
     "text": [
      "/mnt/external.data/MeisterLab/Dario/Imaging/DPY27/1268/20240915_3d/20240915_1268_E_mid_15um_05.nd2\n"
     ]
    },
    {
     "name": "stderr",
     "output_type": "stream",
     "text": [
      "/home/jsemple/miniforge3/envs/lhcellpose/lib/python3.10/site-packages/dask/tokenize.py:242: UserWarning: ND2File file not closed before garbage collection. Please use `with ND2File(...):` context or call `.close()`.\n",
      "  mod.loads(out, buffers=buffers)\n",
      " 88%|████████▊ | 21/24 [03:48<00:32, 10.80s/it]"
     ]
    },
    {
     "name": "stdout",
     "output_type": "stream",
     "text": [
      "/mnt/external.data/MeisterLab/Dario/Imaging/DPY27/1268/20240915_3d/20240915_1268_E_mid_15um_06.nd2\n"
     ]
    },
    {
     "name": "stderr",
     "output_type": "stream",
     "text": [
      "/home/jsemple/miniforge3/envs/lhcellpose/lib/python3.10/site-packages/dask/tokenize.py:242: UserWarning: ND2File file not closed before garbage collection. Please use `with ND2File(...):` context or call `.close()`.\n",
      "  mod.loads(out, buffers=buffers)\n",
      " 92%|█████████▏| 22/24 [03:58<00:21, 10.61s/it]"
     ]
    },
    {
     "name": "stdout",
     "output_type": "stream",
     "text": [
      "/mnt/external.data/MeisterLab/Dario/Imaging/DPY27/1268/20240915_3d/20240915_1268_E_mid_15um_07.nd2\n"
     ]
    },
    {
     "name": "stderr",
     "output_type": "stream",
     "text": [
      "/home/jsemple/miniforge3/envs/lhcellpose/lib/python3.10/site-packages/dask/tokenize.py:242: UserWarning: ND2File file not closed before garbage collection. Please use `with ND2File(...):` context or call `.close()`.\n",
      "  mod.loads(out, buffers=buffers)\n",
      " 96%|█████████▌| 23/24 [04:12<00:11, 11.58s/it]"
     ]
    },
    {
     "name": "stdout",
     "output_type": "stream",
     "text": [
      "/mnt/external.data/MeisterLab/Dario/Imaging/DPY27/1268/20240915_3d/20240915_1268_E_mid_15um_08.nd2\n"
     ]
    },
    {
     "name": "stderr",
     "output_type": "stream",
     "text": [
      "/home/jsemple/miniforge3/envs/lhcellpose/lib/python3.10/site-packages/dask/tokenize.py:242: UserWarning: ND2File file not closed before garbage collection. Please use `with ND2File(...):` context or call `.close()`.\n",
      "  mod.loads(out, buffers=buffers)\n",
      "100%|██████████| 24/24 [04:21<00:00, 10.88s/it]\n",
      "100%|██████████| 24/24 [00:00<00:00, 148.45it/s]\n",
      "100%|██████████| 24/24 [00:00<00:00, 24.27it/s]\n"
     ]
    }
   ],
   "source": [
    "# run analysis to segment nuclei\n",
    "indices=range(0,len(df))\n",
    "#indices=[0]\n",
    "\n",
    "run_nuclear_segmentation(indices, df) ### doesn't work with old version of skimage.measure\n",
    "\n",
    "run_dist_analysis(indices,df)\n",
    "\n",
    "collect_nuclear_segementation_data(indices, df, suffix = 'v001')\n",
    "collect_nuclear_distance_data(indices, df, suffix = 'v001')"
   ]
  },
  {
   "cell_type": "markdown",
   "id": "439a487a",
   "metadata": {},
   "source": [
    "## Running the analysis for spot detection"
   ]
  },
  {
   "cell_type": "code",
   "execution_count": 18,
   "id": "896ed966",
   "metadata": {},
   "outputs": [
    {
     "name": "stderr",
     "output_type": "stream",
     "text": [
      "  0%|          | 0/24 [00:00<?, ?it/s]/home/jsemple/miniforge3/envs/lhcellpose1/lib/python3.10/site-packages/dask/tokenize.py:242: UserWarning: ND2File file not closed before garbage collection. Please use `with ND2File(...):` context or call `.close()`.\n",
      "  mod.loads(out, buffers=buffers)\n"
     ]
    },
    {
     "name": "stdout",
     "output_type": "stream",
     "text": [
      "found spots:1573\n"
     ]
    },
    {
     "name": "stderr",
     "output_type": "stream",
     "text": [
      "/tmp/ipykernel_1991396/3139461931.py:39: SettingWithCopyWarning: \n",
      "A value is trying to be set on a copy of a slice from a DataFrame.\n",
      "Try using .loc[row_indexer,col_indexer] = value instead\n",
      "\n",
      "See the caveats in the documentation: https://pandas.pydata.org/pandas-docs/stable/user_guide/indexing.html#returning-a-view-versus-a-copy\n",
      "  df_features.loc[:,'id'] = df.id.iloc[index]\n",
      "/tmp/ipykernel_1991396/450708869.py:19: DeprecationWarning: Conversion of an array with ndim > 0 to a scalar is deprecated, and will error in future. Ensure you extract a single element from your array before performing this operation. (Deprecated NumPy 1.25.)\n",
      "  threshold=np.round(float(mu1+3*sigma1),2)\n",
      "  4%|▍         | 1/24 [00:15<05:47, 15.13s/it]/home/jsemple/miniforge3/envs/lhcellpose1/lib/python3.10/site-packages/dask/tokenize.py:242: UserWarning: ND2File file not closed before garbage collection. Please use `with ND2File(...):` context or call `.close()`.\n",
      "  mod.loads(out, buffers=buffers)\n"
     ]
    },
    {
     "name": "stdout",
     "output_type": "stream",
     "text": [
      "found spots:1736\n"
     ]
    },
    {
     "name": "stderr",
     "output_type": "stream",
     "text": [
      "/tmp/ipykernel_1991396/3139461931.py:39: SettingWithCopyWarning: \n",
      "A value is trying to be set on a copy of a slice from a DataFrame.\n",
      "Try using .loc[row_indexer,col_indexer] = value instead\n",
      "\n",
      "See the caveats in the documentation: https://pandas.pydata.org/pandas-docs/stable/user_guide/indexing.html#returning-a-view-versus-a-copy\n",
      "  df_features.loc[:,'id'] = df.id.iloc[index]\n",
      "/tmp/ipykernel_1991396/450708869.py:19: DeprecationWarning: Conversion of an array with ndim > 0 to a scalar is deprecated, and will error in future. Ensure you extract a single element from your array before performing this operation. (Deprecated NumPy 1.25.)\n",
      "  threshold=np.round(float(mu1+3*sigma1),2)\n",
      "  8%|▊         | 2/24 [00:30<05:36, 15.30s/it]/home/jsemple/miniforge3/envs/lhcellpose1/lib/python3.10/site-packages/dask/tokenize.py:242: UserWarning: ND2File file not closed before garbage collection. Please use `with ND2File(...):` context or call `.close()`.\n",
      "  mod.loads(out, buffers=buffers)\n"
     ]
    },
    {
     "name": "stdout",
     "output_type": "stream",
     "text": [
      "found spots:1907\n"
     ]
    },
    {
     "name": "stderr",
     "output_type": "stream",
     "text": [
      "/tmp/ipykernel_1991396/3139461931.py:39: SettingWithCopyWarning: \n",
      "A value is trying to be set on a copy of a slice from a DataFrame.\n",
      "Try using .loc[row_indexer,col_indexer] = value instead\n",
      "\n",
      "See the caveats in the documentation: https://pandas.pydata.org/pandas-docs/stable/user_guide/indexing.html#returning-a-view-versus-a-copy\n",
      "  df_features.loc[:,'id'] = df.id.iloc[index]\n",
      "/tmp/ipykernel_1991396/450708869.py:19: DeprecationWarning: Conversion of an array with ndim > 0 to a scalar is deprecated, and will error in future. Ensure you extract a single element from your array before performing this operation. (Deprecated NumPy 1.25.)\n",
      "  threshold=np.round(float(mu1+3*sigma1),2)\n",
      " 12%|█▎        | 3/24 [00:56<07:02, 20.14s/it]/home/jsemple/miniforge3/envs/lhcellpose1/lib/python3.10/site-packages/dask/tokenize.py:242: UserWarning: ND2File file not closed before garbage collection. Please use `with ND2File(...):` context or call `.close()`.\n",
      "  mod.loads(out, buffers=buffers)\n"
     ]
    },
    {
     "name": "stdout",
     "output_type": "stream",
     "text": [
      "found spots:1955\n"
     ]
    },
    {
     "name": "stderr",
     "output_type": "stream",
     "text": [
      "/tmp/ipykernel_1991396/3139461931.py:39: SettingWithCopyWarning: \n",
      "A value is trying to be set on a copy of a slice from a DataFrame.\n",
      "Try using .loc[row_indexer,col_indexer] = value instead\n",
      "\n",
      "See the caveats in the documentation: https://pandas.pydata.org/pandas-docs/stable/user_guide/indexing.html#returning-a-view-versus-a-copy\n",
      "  df_features.loc[:,'id'] = df.id.iloc[index]\n",
      "/tmp/ipykernel_1991396/450708869.py:19: DeprecationWarning: Conversion of an array with ndim > 0 to a scalar is deprecated, and will error in future. Ensure you extract a single element from your array before performing this operation. (Deprecated NumPy 1.25.)\n",
      "  threshold=np.round(float(mu1+3*sigma1),2)\n",
      " 17%|█▋        | 4/24 [01:22<07:28, 22.45s/it]/home/jsemple/miniforge3/envs/lhcellpose1/lib/python3.10/site-packages/dask/tokenize.py:242: UserWarning: ND2File file not closed before garbage collection. Please use `with ND2File(...):` context or call `.close()`.\n",
      "  mod.loads(out, buffers=buffers)\n"
     ]
    },
    {
     "name": "stdout",
     "output_type": "stream",
     "text": [
      "found spots:1700\n"
     ]
    },
    {
     "name": "stderr",
     "output_type": "stream",
     "text": [
      "/tmp/ipykernel_1991396/3139461931.py:39: SettingWithCopyWarning: \n",
      "A value is trying to be set on a copy of a slice from a DataFrame.\n",
      "Try using .loc[row_indexer,col_indexer] = value instead\n",
      "\n",
      "See the caveats in the documentation: https://pandas.pydata.org/pandas-docs/stable/user_guide/indexing.html#returning-a-view-versus-a-copy\n",
      "  df_features.loc[:,'id'] = df.id.iloc[index]\n",
      "/tmp/ipykernel_1991396/450708869.py:19: DeprecationWarning: Conversion of an array with ndim > 0 to a scalar is deprecated, and will error in future. Ensure you extract a single element from your array before performing this operation. (Deprecated NumPy 1.25.)\n",
      "  threshold=np.round(float(mu1+3*sigma1),2)\n",
      " 21%|██        | 5/24 [01:47<07:27, 23.56s/it]/home/jsemple/miniforge3/envs/lhcellpose1/lib/python3.10/site-packages/dask/tokenize.py:242: UserWarning: ND2File file not closed before garbage collection. Please use `with ND2File(...):` context or call `.close()`.\n",
      "  mod.loads(out, buffers=buffers)\n"
     ]
    },
    {
     "name": "stdout",
     "output_type": "stream",
     "text": [
      "found spots:1226\n"
     ]
    },
    {
     "name": "stderr",
     "output_type": "stream",
     "text": [
      "/tmp/ipykernel_1991396/3139461931.py:39: SettingWithCopyWarning: \n",
      "A value is trying to be set on a copy of a slice from a DataFrame.\n",
      "Try using .loc[row_indexer,col_indexer] = value instead\n",
      "\n",
      "See the caveats in the documentation: https://pandas.pydata.org/pandas-docs/stable/user_guide/indexing.html#returning-a-view-versus-a-copy\n",
      "  df_features.loc[:,'id'] = df.id.iloc[index]\n",
      "/tmp/ipykernel_1991396/450708869.py:19: DeprecationWarning: Conversion of an array with ndim > 0 to a scalar is deprecated, and will error in future. Ensure you extract a single element from your array before performing this operation. (Deprecated NumPy 1.25.)\n",
      "  threshold=np.round(float(mu1+3*sigma1),2)\n",
      " 25%|██▌       | 6/24 [02:07<06:38, 22.12s/it]/home/jsemple/miniforge3/envs/lhcellpose1/lib/python3.10/site-packages/dask/tokenize.py:242: UserWarning: ND2File file not closed before garbage collection. Please use `with ND2File(...):` context or call `.close()`.\n",
      "  mod.loads(out, buffers=buffers)\n"
     ]
    },
    {
     "name": "stdout",
     "output_type": "stream",
     "text": [
      "found spots:1098\n"
     ]
    },
    {
     "name": "stderr",
     "output_type": "stream",
     "text": [
      "/tmp/ipykernel_1991396/3139461931.py:39: SettingWithCopyWarning: \n",
      "A value is trying to be set on a copy of a slice from a DataFrame.\n",
      "Try using .loc[row_indexer,col_indexer] = value instead\n",
      "\n",
      "See the caveats in the documentation: https://pandas.pydata.org/pandas-docs/stable/user_guide/indexing.html#returning-a-view-versus-a-copy\n",
      "  df_features.loc[:,'id'] = df.id.iloc[index]\n",
      "/tmp/ipykernel_1991396/450708869.py:19: DeprecationWarning: Conversion of an array with ndim > 0 to a scalar is deprecated, and will error in future. Ensure you extract a single element from your array before performing this operation. (Deprecated NumPy 1.25.)\n",
      "  threshold=np.round(float(mu1+3*sigma1),2)\n",
      " 29%|██▉       | 7/24 [02:26<06:01, 21.29s/it]/home/jsemple/miniforge3/envs/lhcellpose1/lib/python3.10/site-packages/dask/tokenize.py:242: UserWarning: ND2File file not closed before garbage collection. Please use `with ND2File(...):` context or call `.close()`.\n",
      "  mod.loads(out, buffers=buffers)\n"
     ]
    },
    {
     "name": "stdout",
     "output_type": "stream",
     "text": [
      "found spots:2218\n"
     ]
    },
    {
     "name": "stderr",
     "output_type": "stream",
     "text": [
      "/tmp/ipykernel_1991396/3139461931.py:39: SettingWithCopyWarning: \n",
      "A value is trying to be set on a copy of a slice from a DataFrame.\n",
      "Try using .loc[row_indexer,col_indexer] = value instead\n",
      "\n",
      "See the caveats in the documentation: https://pandas.pydata.org/pandas-docs/stable/user_guide/indexing.html#returning-a-view-versus-a-copy\n",
      "  df_features.loc[:,'id'] = df.id.iloc[index]\n",
      "/tmp/ipykernel_1991396/450708869.py:19: DeprecationWarning: Conversion of an array with ndim > 0 to a scalar is deprecated, and will error in future. Ensure you extract a single element from your array before performing this operation. (Deprecated NumPy 1.25.)\n",
      "  threshold=np.round(float(mu1+3*sigma1),2)\n",
      " 33%|███▎      | 8/24 [02:45<05:27, 20.48s/it]/home/jsemple/miniforge3/envs/lhcellpose1/lib/python3.10/site-packages/dask/tokenize.py:242: UserWarning: ND2File file not closed before garbage collection. Please use `with ND2File(...):` context or call `.close()`.\n",
      "  mod.loads(out, buffers=buffers)\n"
     ]
    },
    {
     "name": "stdout",
     "output_type": "stream",
     "text": [
      "found spots:1595\n"
     ]
    },
    {
     "name": "stderr",
     "output_type": "stream",
     "text": [
      "/tmp/ipykernel_1991396/3139461931.py:39: SettingWithCopyWarning: \n",
      "A value is trying to be set on a copy of a slice from a DataFrame.\n",
      "Try using .loc[row_indexer,col_indexer] = value instead\n",
      "\n",
      "See the caveats in the documentation: https://pandas.pydata.org/pandas-docs/stable/user_guide/indexing.html#returning-a-view-versus-a-copy\n",
      "  df_features.loc[:,'id'] = df.id.iloc[index]\n",
      "/tmp/ipykernel_1991396/450708869.py:19: DeprecationWarning: Conversion of an array with ndim > 0 to a scalar is deprecated, and will error in future. Ensure you extract a single element from your array before performing this operation. (Deprecated NumPy 1.25.)\n",
      "  threshold=np.round(float(mu1+3*sigma1),2)\n",
      " 38%|███▊      | 9/24 [03:05<05:04, 20.31s/it]/home/jsemple/miniforge3/envs/lhcellpose1/lib/python3.10/site-packages/dask/tokenize.py:242: UserWarning: ND2File file not closed before garbage collection. Please use `with ND2File(...):` context or call `.close()`.\n",
      "  mod.loads(out, buffers=buffers)\n"
     ]
    },
    {
     "name": "stdout",
     "output_type": "stream",
     "text": [
      "found spots:988\n"
     ]
    },
    {
     "name": "stderr",
     "output_type": "stream",
     "text": [
      "/tmp/ipykernel_1991396/3139461931.py:39: SettingWithCopyWarning: \n",
      "A value is trying to be set on a copy of a slice from a DataFrame.\n",
      "Try using .loc[row_indexer,col_indexer] = value instead\n",
      "\n",
      "See the caveats in the documentation: https://pandas.pydata.org/pandas-docs/stable/user_guide/indexing.html#returning-a-view-versus-a-copy\n",
      "  df_features.loc[:,'id'] = df.id.iloc[index]\n",
      "/tmp/ipykernel_1991396/450708869.py:19: DeprecationWarning: Conversion of an array with ndim > 0 to a scalar is deprecated, and will error in future. Ensure you extract a single element from your array before performing this operation. (Deprecated NumPy 1.25.)\n",
      "  threshold=np.round(float(mu1+3*sigma1),2)\n",
      " 42%|████▏     | 10/24 [03:24<04:39, 19.94s/it]/home/jsemple/miniforge3/envs/lhcellpose1/lib/python3.10/site-packages/dask/tokenize.py:242: UserWarning: ND2File file not closed before garbage collection. Please use `with ND2File(...):` context or call `.close()`.\n",
      "  mod.loads(out, buffers=buffers)\n"
     ]
    },
    {
     "name": "stdout",
     "output_type": "stream",
     "text": [
      "found spots:1648\n"
     ]
    },
    {
     "name": "stderr",
     "output_type": "stream",
     "text": [
      "/tmp/ipykernel_1991396/3139461931.py:39: SettingWithCopyWarning: \n",
      "A value is trying to be set on a copy of a slice from a DataFrame.\n",
      "Try using .loc[row_indexer,col_indexer] = value instead\n",
      "\n",
      "See the caveats in the documentation: https://pandas.pydata.org/pandas-docs/stable/user_guide/indexing.html#returning-a-view-versus-a-copy\n",
      "  df_features.loc[:,'id'] = df.id.iloc[index]\n",
      "/tmp/ipykernel_1991396/450708869.py:19: DeprecationWarning: Conversion of an array with ndim > 0 to a scalar is deprecated, and will error in future. Ensure you extract a single element from your array before performing this operation. (Deprecated NumPy 1.25.)\n",
      "  threshold=np.round(float(mu1+3*sigma1),2)\n",
      " 46%|████▌     | 11/24 [03:43<04:13, 19.48s/it]/home/jsemple/miniforge3/envs/lhcellpose1/lib/python3.10/site-packages/dask/tokenize.py:242: UserWarning: ND2File file not closed before garbage collection. Please use `with ND2File(...):` context or call `.close()`.\n",
      "  mod.loads(out, buffers=buffers)\n"
     ]
    },
    {
     "name": "stdout",
     "output_type": "stream",
     "text": [
      "found spots:2639\n"
     ]
    },
    {
     "name": "stderr",
     "output_type": "stream",
     "text": [
      "/tmp/ipykernel_1991396/3139461931.py:39: SettingWithCopyWarning: \n",
      "A value is trying to be set on a copy of a slice from a DataFrame.\n",
      "Try using .loc[row_indexer,col_indexer] = value instead\n",
      "\n",
      "See the caveats in the documentation: https://pandas.pydata.org/pandas-docs/stable/user_guide/indexing.html#returning-a-view-versus-a-copy\n",
      "  df_features.loc[:,'id'] = df.id.iloc[index]\n",
      "/tmp/ipykernel_1991396/450708869.py:19: DeprecationWarning: Conversion of an array with ndim > 0 to a scalar is deprecated, and will error in future. Ensure you extract a single element from your array before performing this operation. (Deprecated NumPy 1.25.)\n",
      "  threshold=np.round(float(mu1+3*sigma1),2)\n",
      " 50%|█████     | 12/24 [04:01<03:48, 19.05s/it]/home/jsemple/miniforge3/envs/lhcellpose1/lib/python3.10/site-packages/dask/tokenize.py:242: UserWarning: ND2File file not closed before garbage collection. Please use `with ND2File(...):` context or call `.close()`.\n",
      "  mod.loads(out, buffers=buffers)\n"
     ]
    },
    {
     "name": "stdout",
     "output_type": "stream",
     "text": [
      "found spots:1627\n"
     ]
    },
    {
     "name": "stderr",
     "output_type": "stream",
     "text": [
      "/tmp/ipykernel_1991396/3139461931.py:39: SettingWithCopyWarning: \n",
      "A value is trying to be set on a copy of a slice from a DataFrame.\n",
      "Try using .loc[row_indexer,col_indexer] = value instead\n",
      "\n",
      "See the caveats in the documentation: https://pandas.pydata.org/pandas-docs/stable/user_guide/indexing.html#returning-a-view-versus-a-copy\n",
      "  df_features.loc[:,'id'] = df.id.iloc[index]\n",
      "/tmp/ipykernel_1991396/450708869.py:19: DeprecationWarning: Conversion of an array with ndim > 0 to a scalar is deprecated, and will error in future. Ensure you extract a single element from your array before performing this operation. (Deprecated NumPy 1.25.)\n",
      "  threshold=np.round(float(mu1+3*sigma1),2)\n",
      " 54%|█████▍    | 13/24 [04:20<03:30, 19.18s/it]/home/jsemple/miniforge3/envs/lhcellpose1/lib/python3.10/site-packages/dask/tokenize.py:242: UserWarning: ND2File file not closed before garbage collection. Please use `with ND2File(...):` context or call `.close()`.\n",
      "  mod.loads(out, buffers=buffers)\n"
     ]
    },
    {
     "name": "stdout",
     "output_type": "stream",
     "text": [
      "found spots:2554\n"
     ]
    },
    {
     "name": "stderr",
     "output_type": "stream",
     "text": [
      "/tmp/ipykernel_1991396/3139461931.py:39: SettingWithCopyWarning: \n",
      "A value is trying to be set on a copy of a slice from a DataFrame.\n",
      "Try using .loc[row_indexer,col_indexer] = value instead\n",
      "\n",
      "See the caveats in the documentation: https://pandas.pydata.org/pandas-docs/stable/user_guide/indexing.html#returning-a-view-versus-a-copy\n",
      "  df_features.loc[:,'id'] = df.id.iloc[index]\n",
      "/tmp/ipykernel_1991396/450708869.py:19: DeprecationWarning: Conversion of an array with ndim > 0 to a scalar is deprecated, and will error in future. Ensure you extract a single element from your array before performing this operation. (Deprecated NumPy 1.25.)\n",
      "  threshold=np.round(float(mu1+3*sigma1),2)\n",
      " 58%|█████▊    | 14/24 [04:34<02:54, 17.43s/it]/home/jsemple/miniforge3/envs/lhcellpose1/lib/python3.10/site-packages/dask/tokenize.py:242: UserWarning: ND2File file not closed before garbage collection. Please use `with ND2File(...):` context or call `.close()`.\n",
      "  mod.loads(out, buffers=buffers)\n"
     ]
    },
    {
     "name": "stdout",
     "output_type": "stream",
     "text": [
      "found spots:2160\n"
     ]
    },
    {
     "name": "stderr",
     "output_type": "stream",
     "text": [
      "/tmp/ipykernel_1991396/3139461931.py:39: SettingWithCopyWarning: \n",
      "A value is trying to be set on a copy of a slice from a DataFrame.\n",
      "Try using .loc[row_indexer,col_indexer] = value instead\n",
      "\n",
      "See the caveats in the documentation: https://pandas.pydata.org/pandas-docs/stable/user_guide/indexing.html#returning-a-view-versus-a-copy\n",
      "  df_features.loc[:,'id'] = df.id.iloc[index]\n",
      "/tmp/ipykernel_1991396/450708869.py:19: DeprecationWarning: Conversion of an array with ndim > 0 to a scalar is deprecated, and will error in future. Ensure you extract a single element from your array before performing this operation. (Deprecated NumPy 1.25.)\n",
      "  threshold=np.round(float(mu1+3*sigma1),2)\n",
      " 62%|██████▎   | 15/24 [04:46<02:24, 16.05s/it]/home/jsemple/miniforge3/envs/lhcellpose1/lib/python3.10/site-packages/dask/tokenize.py:242: UserWarning: ND2File file not closed before garbage collection. Please use `with ND2File(...):` context or call `.close()`.\n",
      "  mod.loads(out, buffers=buffers)\n"
     ]
    },
    {
     "name": "stdout",
     "output_type": "stream",
     "text": [
      "found spots:2585\n"
     ]
    },
    {
     "name": "stderr",
     "output_type": "stream",
     "text": [
      "/tmp/ipykernel_1991396/3139461931.py:39: SettingWithCopyWarning: \n",
      "A value is trying to be set on a copy of a slice from a DataFrame.\n",
      "Try using .loc[row_indexer,col_indexer] = value instead\n",
      "\n",
      "See the caveats in the documentation: https://pandas.pydata.org/pandas-docs/stable/user_guide/indexing.html#returning-a-view-versus-a-copy\n",
      "  df_features.loc[:,'id'] = df.id.iloc[index]\n",
      "/tmp/ipykernel_1991396/450708869.py:19: DeprecationWarning: Conversion of an array with ndim > 0 to a scalar is deprecated, and will error in future. Ensure you extract a single element from your array before performing this operation. (Deprecated NumPy 1.25.)\n",
      "  threshold=np.round(float(mu1+3*sigma1),2)\n",
      " 67%|██████▋   | 16/24 [05:04<02:10, 16.37s/it]/home/jsemple/miniforge3/envs/lhcellpose1/lib/python3.10/site-packages/dask/tokenize.py:242: UserWarning: ND2File file not closed before garbage collection. Please use `with ND2File(...):` context or call `.close()`.\n",
      "  mod.loads(out, buffers=buffers)\n"
     ]
    },
    {
     "name": "stdout",
     "output_type": "stream",
     "text": [
      "found spots:1848\n"
     ]
    },
    {
     "name": "stderr",
     "output_type": "stream",
     "text": [
      "/tmp/ipykernel_1991396/3139461931.py:39: SettingWithCopyWarning: \n",
      "A value is trying to be set on a copy of a slice from a DataFrame.\n",
      "Try using .loc[row_indexer,col_indexer] = value instead\n",
      "\n",
      "See the caveats in the documentation: https://pandas.pydata.org/pandas-docs/stable/user_guide/indexing.html#returning-a-view-versus-a-copy\n",
      "  df_features.loc[:,'id'] = df.id.iloc[index]\n",
      "/tmp/ipykernel_1991396/450708869.py:19: DeprecationWarning: Conversion of an array with ndim > 0 to a scalar is deprecated, and will error in future. Ensure you extract a single element from your array before performing this operation. (Deprecated NumPy 1.25.)\n",
      "  threshold=np.round(float(mu1+3*sigma1),2)\n",
      " 71%|███████   | 17/24 [05:25<02:06, 18.00s/it]/home/jsemple/miniforge3/envs/lhcellpose1/lib/python3.10/site-packages/dask/tokenize.py:242: UserWarning: ND2File file not closed before garbage collection. Please use `with ND2File(...):` context or call `.close()`.\n",
      "  mod.loads(out, buffers=buffers)\n"
     ]
    },
    {
     "name": "stdout",
     "output_type": "stream",
     "text": [
      "found spots:1025\n"
     ]
    },
    {
     "name": "stderr",
     "output_type": "stream",
     "text": [
      "/tmp/ipykernel_1991396/3139461931.py:39: SettingWithCopyWarning: \n",
      "A value is trying to be set on a copy of a slice from a DataFrame.\n",
      "Try using .loc[row_indexer,col_indexer] = value instead\n",
      "\n",
      "See the caveats in the documentation: https://pandas.pydata.org/pandas-docs/stable/user_guide/indexing.html#returning-a-view-versus-a-copy\n",
      "  df_features.loc[:,'id'] = df.id.iloc[index]\n",
      "/tmp/ipykernel_1991396/450708869.py:19: DeprecationWarning: Conversion of an array with ndim > 0 to a scalar is deprecated, and will error in future. Ensure you extract a single element from your array before performing this operation. (Deprecated NumPy 1.25.)\n",
      "  threshold=np.round(float(mu1+3*sigma1),2)\n",
      " 75%|███████▌  | 18/24 [05:40<01:41, 16.92s/it]/home/jsemple/miniforge3/envs/lhcellpose1/lib/python3.10/site-packages/dask/tokenize.py:242: UserWarning: ND2File file not closed before garbage collection. Please use `with ND2File(...):` context or call `.close()`.\n",
      "  mod.loads(out, buffers=buffers)\n"
     ]
    },
    {
     "name": "stdout",
     "output_type": "stream",
     "text": [
      "found spots:1111\n"
     ]
    },
    {
     "name": "stderr",
     "output_type": "stream",
     "text": [
      "/tmp/ipykernel_1991396/3139461931.py:39: SettingWithCopyWarning: \n",
      "A value is trying to be set on a copy of a slice from a DataFrame.\n",
      "Try using .loc[row_indexer,col_indexer] = value instead\n",
      "\n",
      "See the caveats in the documentation: https://pandas.pydata.org/pandas-docs/stable/user_guide/indexing.html#returning-a-view-versus-a-copy\n",
      "  df_features.loc[:,'id'] = df.id.iloc[index]\n",
      "/tmp/ipykernel_1991396/450708869.py:19: DeprecationWarning: Conversion of an array with ndim > 0 to a scalar is deprecated, and will error in future. Ensure you extract a single element from your array before performing this operation. (Deprecated NumPy 1.25.)\n",
      "  threshold=np.round(float(mu1+3*sigma1),2)\n",
      " 79%|███████▉  | 19/24 [05:55<01:22, 16.57s/it]/home/jsemple/miniforge3/envs/lhcellpose1/lib/python3.10/site-packages/dask/tokenize.py:242: UserWarning: ND2File file not closed before garbage collection. Please use `with ND2File(...):` context or call `.close()`.\n",
      "  mod.loads(out, buffers=buffers)\n"
     ]
    },
    {
     "name": "stdout",
     "output_type": "stream",
     "text": [
      "found spots:1627\n"
     ]
    },
    {
     "name": "stderr",
     "output_type": "stream",
     "text": [
      "/tmp/ipykernel_1991396/3139461931.py:39: SettingWithCopyWarning: \n",
      "A value is trying to be set on a copy of a slice from a DataFrame.\n",
      "Try using .loc[row_indexer,col_indexer] = value instead\n",
      "\n",
      "See the caveats in the documentation: https://pandas.pydata.org/pandas-docs/stable/user_guide/indexing.html#returning-a-view-versus-a-copy\n",
      "  df_features.loc[:,'id'] = df.id.iloc[index]\n",
      "/tmp/ipykernel_1991396/450708869.py:19: DeprecationWarning: Conversion of an array with ndim > 0 to a scalar is deprecated, and will error in future. Ensure you extract a single element from your array before performing this operation. (Deprecated NumPy 1.25.)\n",
      "  threshold=np.round(float(mu1+3*sigma1),2)\n",
      " 83%|████████▎ | 20/24 [06:13<01:07, 16.87s/it]/home/jsemple/miniforge3/envs/lhcellpose1/lib/python3.10/site-packages/dask/tokenize.py:242: UserWarning: ND2File file not closed before garbage collection. Please use `with ND2File(...):` context or call `.close()`.\n",
      "  mod.loads(out, buffers=buffers)\n"
     ]
    },
    {
     "name": "stdout",
     "output_type": "stream",
     "text": [
      "found spots:1674\n"
     ]
    },
    {
     "name": "stderr",
     "output_type": "stream",
     "text": [
      "/tmp/ipykernel_1991396/3139461931.py:39: SettingWithCopyWarning: \n",
      "A value is trying to be set on a copy of a slice from a DataFrame.\n",
      "Try using .loc[row_indexer,col_indexer] = value instead\n",
      "\n",
      "See the caveats in the documentation: https://pandas.pydata.org/pandas-docs/stable/user_guide/indexing.html#returning-a-view-versus-a-copy\n",
      "  df_features.loc[:,'id'] = df.id.iloc[index]\n",
      "/tmp/ipykernel_1991396/450708869.py:19: DeprecationWarning: Conversion of an array with ndim > 0 to a scalar is deprecated, and will error in future. Ensure you extract a single element from your array before performing this operation. (Deprecated NumPy 1.25.)\n",
      "  threshold=np.round(float(mu1+3*sigma1),2)\n",
      " 88%|████████▊ | 21/24 [06:33<00:53, 17.70s/it]/home/jsemple/miniforge3/envs/lhcellpose1/lib/python3.10/site-packages/dask/tokenize.py:242: UserWarning: ND2File file not closed before garbage collection. Please use `with ND2File(...):` context or call `.close()`.\n",
      "  mod.loads(out, buffers=buffers)\n"
     ]
    },
    {
     "name": "stdout",
     "output_type": "stream",
     "text": [
      "found spots:1638\n"
     ]
    },
    {
     "name": "stderr",
     "output_type": "stream",
     "text": [
      "/tmp/ipykernel_1991396/3139461931.py:39: SettingWithCopyWarning: \n",
      "A value is trying to be set on a copy of a slice from a DataFrame.\n",
      "Try using .loc[row_indexer,col_indexer] = value instead\n",
      "\n",
      "See the caveats in the documentation: https://pandas.pydata.org/pandas-docs/stable/user_guide/indexing.html#returning-a-view-versus-a-copy\n",
      "  df_features.loc[:,'id'] = df.id.iloc[index]\n",
      "/tmp/ipykernel_1991396/450708869.py:19: DeprecationWarning: Conversion of an array with ndim > 0 to a scalar is deprecated, and will error in future. Ensure you extract a single element from your array before performing this operation. (Deprecated NumPy 1.25.)\n",
      "  threshold=np.round(float(mu1+3*sigma1),2)\n",
      " 92%|█████████▏| 22/24 [06:53<00:37, 18.53s/it]/home/jsemple/miniforge3/envs/lhcellpose1/lib/python3.10/site-packages/dask/tokenize.py:242: UserWarning: ND2File file not closed before garbage collection. Please use `with ND2File(...):` context or call `.close()`.\n",
      "  mod.loads(out, buffers=buffers)\n"
     ]
    },
    {
     "name": "stdout",
     "output_type": "stream",
     "text": [
      "found spots:2097\n"
     ]
    },
    {
     "name": "stderr",
     "output_type": "stream",
     "text": [
      "/tmp/ipykernel_1991396/3139461931.py:39: SettingWithCopyWarning: \n",
      "A value is trying to be set on a copy of a slice from a DataFrame.\n",
      "Try using .loc[row_indexer,col_indexer] = value instead\n",
      "\n",
      "See the caveats in the documentation: https://pandas.pydata.org/pandas-docs/stable/user_guide/indexing.html#returning-a-view-versus-a-copy\n",
      "  df_features.loc[:,'id'] = df.id.iloc[index]\n",
      "/tmp/ipykernel_1991396/450708869.py:19: DeprecationWarning: Conversion of an array with ndim > 0 to a scalar is deprecated, and will error in future. Ensure you extract a single element from your array before performing this operation. (Deprecated NumPy 1.25.)\n",
      "  threshold=np.round(float(mu1+3*sigma1),2)\n",
      " 96%|█████████▌| 23/24 [07:11<00:18, 18.34s/it]/home/jsemple/miniforge3/envs/lhcellpose1/lib/python3.10/site-packages/dask/tokenize.py:242: UserWarning: ND2File file not closed before garbage collection. Please use `with ND2File(...):` context or call `.close()`.\n",
      "  mod.loads(out, buffers=buffers)\n"
     ]
    },
    {
     "name": "stdout",
     "output_type": "stream",
     "text": [
      "found spots:1083\n"
     ]
    },
    {
     "name": "stderr",
     "output_type": "stream",
     "text": [
      "/tmp/ipykernel_1991396/3139461931.py:39: SettingWithCopyWarning: \n",
      "A value is trying to be set on a copy of a slice from a DataFrame.\n",
      "Try using .loc[row_indexer,col_indexer] = value instead\n",
      "\n",
      "See the caveats in the documentation: https://pandas.pydata.org/pandas-docs/stable/user_guide/indexing.html#returning-a-view-versus-a-copy\n",
      "  df_features.loc[:,'id'] = df.id.iloc[index]\n",
      "/tmp/ipykernel_1991396/450708869.py:19: DeprecationWarning: Conversion of an array with ndim > 0 to a scalar is deprecated, and will error in future. Ensure you extract a single element from your array before performing this operation. (Deprecated NumPy 1.25.)\n",
      "  threshold=np.round(float(mu1+3*sigma1),2)\n",
      "100%|██████████| 24/24 [07:24<00:00, 18.54s/it]\n",
      "100%|██████████| 24/24 [00:00<00:00, 151.07it/s]\n"
     ]
    }
   ],
   "source": [
    "#indices=[0]\n",
    "indices=range(0,len(df))\n",
    "\n",
    "run_spot_analysis(indices, df, useRaw=True, diameter=(7,9,9), separation=(7,9,9), qc_thresholds=[10,15,20,25])\n",
    "#replot_spots_with_thresholds(indices, df, useRaw=False, qc_thresholds=[10, 15, 20, 25])\n",
    "\n",
    "collect_spot_data(indices, df, suffix = 'v002_raw')"
   ]
  }
 ],
 "metadata": {
  "kernelspec": {
   "display_name": "lhcellpose1",
   "language": "python",
   "name": "python3"
  },
  "language_info": {
   "codemirror_mode": {
    "name": "ipython",
    "version": 3
   },
   "file_extension": ".py",
   "mimetype": "text/x-python",
   "name": "python",
   "nbconvert_exporter": "python",
   "pygments_lexer": "ipython3",
   "version": "3.10.16"
  }
 },
 "nbformat": 4,
 "nbformat_minor": 5
}
