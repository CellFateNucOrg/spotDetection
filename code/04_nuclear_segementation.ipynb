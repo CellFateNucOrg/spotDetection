{
 "cells": [
  {
   "cell_type": "markdown",
   "id": "ecdc50a0",
   "metadata": {},
   "source": [
    "# Nuclear segmentation of nuclei\n",
    "\n",
    "Scripts to detect nuclei from 5d images (t,c,z,y,x) with a spot channel and an optional nuclear marker channel.\n",
    "Mostly based on scripts from Lucien Hinderling, with some modifications and cleanup by Jennifer Semple.\n",
    "\n",
    "Nuclear segmentation carried out with Cellpose.\n",
    "\n",
    "**Inputs**:\n",
    "\n",
    "1) Pandas dataframe fileList.csv (or fileList_wormMasks.csv) with absolute paths to raw .nd2 files and denoised .tif files in columns named raw_filepath and denoised_filepath.\n",
    "An 'id' column has a unique id for each image. Other metadata columns can also be present.\n",
    "\n",
    "Example column names:\n",
    "*filename\tdate\texperiment\tstrain\tprotein\tid  raw_filepath    denoised_filepath*\n",
    "\n",
    "example line:\n",
    "*20240915_1268_E_bean_15um\t20240915\t3d\t1268\tDPY27\tDPY27_3d_20240915_1268_E_bean_15um\t/mnt/external.data/MeisterLab/Dario/Imaging/DP...\t/mnt/external.data/MeisterLab/Dario/Imaging/DP...*\n",
    "\n",
    "2) output_path is the location of the file produced by this script\n",
    "\n",
    "**Outputs**:\n",
    "\n",
    "segmentation masks (.tif files) in output_path/segmentation/\n",
    "\n",
    "distance masks (.tif files) in output_path/edt/\n",
    "\n",
    "qc plots of segmentation on original image (segmentation_XXX.pdf), individual masked nuclei (cropped_nuclei_XXX.pdf) in output_path/qc/\n",
    "\n",
    "\n",
    "### Setting you might need to change\n",
    "\n",
    "output_path - create a directory for the analysis. results will be stored in a protein/strain/date structure same as in the raw_input_path.\n",
    "\n",
    "path_type - “server”, “mac” or “wsl” so I can switch between working on server or with izbkingston mounted on mac/pc. (for PC izbkingston needs to be mounted with sshfs as /mnt/izbkingston/ from within WSL). Since this script works best with gpu, it will almost always be \"server\"\n",
    "\n",
    "Set the channel number (as it is in the orignal image) for nuclear marker (nucChannel) and for spots (spotChannel). If there is no additional nuclear marker channel, set it to the same as the spotChannel\n",
    "\n",
    "use_worm_masks - True if you presegmented particular worm regions which you later want to filter your nuclei by (this determines whether you use fileList.csv or fileList_wormMasks.csv)\n",
    "\n",
    "model_path - path to pretrained cellpose model\n",
    "\n"
   ]
  },
  {
   "cell_type": "code",
   "execution_count": null,
   "id": "4864532e",
   "metadata": {
    "tags": []
   },
   "outputs": [],
   "source": [
    "import torch\n",
    "from skimage.color import label2rgb\n",
    "import pandas as pd\n",
    "import numpy as np\n",
    "import matplotlib.pyplot as plt\n",
    "import cellpose\n",
    "from cellpose import models\n",
    "import edt\n",
    "import glob\n",
    "import os\n",
    "import tqdm\n",
    "from matplotlib_scalebar.scalebar import ScaleBar\n",
    "import gc\n",
    "import seaborn as sns\n",
    "from bioio import BioImage\n",
    "import bioio_nd2\n",
    "import bioio_tifffile\n",
    "from bioio.writers import OmeTiffWriter\n",
    "from convert_paths import correct_path, correct_save_path, correct_loaded_path\n",
    "\n",
    "\n",
    "pd.set_option('display.max_columns', None)"
   ]
  },
  {
   "cell_type": "markdown",
   "id": "800f5f29",
   "metadata": {},
   "source": [
    "## Input settings"
   ]
  },
  {
   "cell_type": "code",
   "execution_count": 2,
   "id": "e8d2eb4b",
   "metadata": {
    "tags": []
   },
   "outputs": [
    {
     "data": {
      "application/vnd.microsoft.datawrangler.viewer.v0+json": {
       "columns": [
        {
         "name": "index",
         "rawType": "int64",
         "type": "integer"
        },
        {
         "name": "filename",
         "rawType": "object",
         "type": "string"
        },
        {
         "name": "date",
         "rawType": "object",
         "type": "string"
        },
        {
         "name": "protein",
         "rawType": "object",
         "type": "string"
        },
        {
         "name": "strain",
         "rawType": "object",
         "type": "string"
        },
        {
         "name": "treatment",
         "rawType": "object",
         "type": "string"
        },
        {
         "name": "worm_id",
         "rawType": "int64",
         "type": "integer"
        },
        {
         "name": "id",
         "rawType": "object",
         "type": "string"
        },
        {
         "name": "raw_filepath",
         "rawType": "object",
         "type": "string"
        },
        {
         "name": "denoised_filepath",
         "rawType": "object",
         "type": "string"
        },
        {
         "name": "worm_region",
         "rawType": "object",
         "type": "string"
        }
       ],
       "ref": "6dfc15cd-fa37-4d3d-8b47-0a7ec8cea9ba",
       "rows": [
        [
         "0",
         "2025_10_05_wPM1353_HS_001",
         "2025-10-05",
         "bet1-mSG",
         "wPM1353",
         "HS",
         "1",
         "bet1-mSG_2025-10-05_2025_10_05_wPM1353_HS_001",
         "/mnt/external.data/MeisterLab/jsemple/demo_VIBE/images/wPM1353_bet1_mSG/2025_10_05_wPM1353/2025_10_05_wPM1353_HS/2025_10_05_wPM1353_HS_001.nd2",
         "/mnt/external.data/MeisterLab/jsemple/demo_VIBE/images/wPM1353_bet1_mSG/2025_10_05_wPM1353/2025_10_05_wPM1353_HS/n2v_denoise/denoised/2025_10_05_wPM1353_HS_001_green_n2v.tif",
         "head;body_other"
        ],
        [
         "1",
         "2025_10_05_wPM1353_nHS_001",
         "2025-10-05",
         "bet1-mSG",
         "wPM1353",
         "nHS",
         "1",
         "bet1-mSG_2025-10-05_2025_10_05_wPM1353_nHS_001",
         "/mnt/external.data/MeisterLab/jsemple/demo_VIBE/images/wPM1353_bet1_mSG/2025_10_05_wPM1353/2025_10_05_wPM1353_HS/2025_10_05_wPM1353_nHS_001.nd2",
         "/mnt/external.data/MeisterLab/jsemple/demo_VIBE/images/wPM1353_bet1_mSG/2025_10_05_wPM1353/2025_10_05_wPM1353_HS/n2v_denoise/denoised/2025_10_05_wPM1353_nHS_001_green_n2v.tif",
         "head"
        ]
       ],
       "shape": {
        "columns": 10,
        "rows": 2
       }
      },
      "text/html": [
       "<div>\n",
       "<style scoped>\n",
       "    .dataframe tbody tr th:only-of-type {\n",
       "        vertical-align: middle;\n",
       "    }\n",
       "\n",
       "    .dataframe tbody tr th {\n",
       "        vertical-align: top;\n",
       "    }\n",
       "\n",
       "    .dataframe thead th {\n",
       "        text-align: right;\n",
       "    }\n",
       "</style>\n",
       "<table border=\"1\" class=\"dataframe\">\n",
       "  <thead>\n",
       "    <tr style=\"text-align: right;\">\n",
       "      <th></th>\n",
       "      <th>filename</th>\n",
       "      <th>date</th>\n",
       "      <th>protein</th>\n",
       "      <th>strain</th>\n",
       "      <th>treatment</th>\n",
       "      <th>worm_id</th>\n",
       "      <th>id</th>\n",
       "      <th>raw_filepath</th>\n",
       "      <th>denoised_filepath</th>\n",
       "      <th>worm_region</th>\n",
       "    </tr>\n",
       "  </thead>\n",
       "  <tbody>\n",
       "    <tr>\n",
       "      <th>0</th>\n",
       "      <td>2025_10_05_wPM1353_HS_001</td>\n",
       "      <td>2025-10-05</td>\n",
       "      <td>bet1-mSG</td>\n",
       "      <td>wPM1353</td>\n",
       "      <td>HS</td>\n",
       "      <td>1</td>\n",
       "      <td>bet1-mSG_2025-10-05_2025_10_05_wPM1353_HS_001</td>\n",
       "      <td>/mnt/external.data/MeisterLab/jsemple/demo_VIB...</td>\n",
       "      <td>/mnt/external.data/MeisterLab/jsemple/demo_VIB...</td>\n",
       "      <td>head;body_other</td>\n",
       "    </tr>\n",
       "    <tr>\n",
       "      <th>1</th>\n",
       "      <td>2025_10_05_wPM1353_nHS_001</td>\n",
       "      <td>2025-10-05</td>\n",
       "      <td>bet1-mSG</td>\n",
       "      <td>wPM1353</td>\n",
       "      <td>nHS</td>\n",
       "      <td>1</td>\n",
       "      <td>bet1-mSG_2025-10-05_2025_10_05_wPM1353_nHS_001</td>\n",
       "      <td>/mnt/external.data/MeisterLab/jsemple/demo_VIB...</td>\n",
       "      <td>/mnt/external.data/MeisterLab/jsemple/demo_VIB...</td>\n",
       "      <td>head</td>\n",
       "    </tr>\n",
       "  </tbody>\n",
       "</table>\n",
       "</div>"
      ],
      "text/plain": [
       "                     filename        date   protein   strain treatment  \\\n",
       "0   2025_10_05_wPM1353_HS_001  2025-10-05  bet1-mSG  wPM1353        HS   \n",
       "1  2025_10_05_wPM1353_nHS_001  2025-10-05  bet1-mSG  wPM1353       nHS   \n",
       "\n",
       "   worm_id                                              id  \\\n",
       "0        1   bet1-mSG_2025-10-05_2025_10_05_wPM1353_HS_001   \n",
       "1        1  bet1-mSG_2025-10-05_2025_10_05_wPM1353_nHS_001   \n",
       "\n",
       "                                        raw_filepath  \\\n",
       "0  /mnt/external.data/MeisterLab/jsemple/demo_VIB...   \n",
       "1  /mnt/external.data/MeisterLab/jsemple/demo_VIB...   \n",
       "\n",
       "                                   denoised_filepath      worm_region  \n",
       "0  /mnt/external.data/MeisterLab/jsemple/demo_VIB...  head;body_other  \n",
       "1  /mnt/external.data/MeisterLab/jsemple/demo_VIB...             head  "
      ]
     },
     "execution_count": 2,
     "metadata": {},
     "output_type": "execute_result"
    }
   ],
   "source": [
    "\n",
    "nucChannel = 0 # red emerin rings\n",
    "spotChannel = 0 # green spots\n",
    "path_type=\"server\"\n",
    "use_worm_masks = True\n",
    "\n",
    "#output_path = correct_path('/mnt/external.data/MeisterLab/jsemple/lhinder/segmentation_Kalyan/2025-25-02_bet1-mSG_wPM1353')\n",
    "#output_path = correct_path('/mnt/external.data/MeisterLab/jsemple/lhinder/segmentation_Kalyan/2025-04-03_bet1-mSG_wPM1353')\n",
    "#output_path = correct_path('/mnt/external.data/MeisterLab/jsemple/lhinder/segmentation_Kalyan/2025-10-05_bet1-mSG_wPM1353')\n",
    "output_path = '/mnt/external.data/MeisterLab/jsemple/demo_VIBE/results/2025-10-05_bet1-mSG_wPM1353'\n",
    "output_path = correct_path(output_path, path_type)\n",
    "\n",
    "model_path=correct_path('/mnt/external.data/MeisterLab/jsemple/demo_VIBE/cellpose_model/worms_1000epochs_v0', path_type)\n",
    "\n",
    "\n",
    "if use_worm_masks:\n",
    "    df = pd.read_csv(os.path.join(output_path,'fileList_wormMasks.csv'))\n",
    "    df = correct_loaded_path(df, path_type)\n",
    "else:\n",
    "    df = pd.read_csv(os.path.join(output_path,'fileList.csv'))\n",
    "    df = correct_loaded_path(df, path_type)\n",
    "\n",
    "df.head()\n"
   ]
  },
  {
   "cell_type": "markdown",
   "id": "e7ab4836",
   "metadata": {},
   "source": [
    "## Create output directories and load cellpose model"
   ]
  },
  {
   "cell_type": "code",
   "execution_count": 3,
   "id": "23988066",
   "metadata": {},
   "outputs": [],
   "source": [
    "if not os.path.exists(os.path.join(output_path,\"qc\")):\n",
    "    os.makedirs(os.path.join(output_path,\"qc\"))\n",
    "\n",
    "if not os.path.exists(os.path.join(output_path,\"segmentation\")):\n",
    "    os.makedirs(os.path.join(output_path,\"segmentation\"))\n",
    "\n",
    "if not os.path.exists(os.path.join(output_path,\"edt\")):\n",
    "    os.makedirs(os.path.join(output_path,\"edt\"))\n"
   ]
  },
  {
   "cell_type": "code",
   "execution_count": 4,
   "id": "667d650d",
   "metadata": {
    "tags": []
   },
   "outputs": [
    {
     "name": "stdout",
     "output_type": "stream",
     "text": [
      "GPU is available\n"
     ]
    },
    {
     "name": "stderr",
     "output_type": "stream",
     "text": [
      "/home/jsemple/miniforge3/envs/lhcellpose1/lib/python3.10/site-packages/cellpose/resnet_torch.py:276: FutureWarning: You are using `torch.load` with `weights_only=False` (the current default value), which uses the default pickle module implicitly. It is possible to construct malicious pickle data which will execute arbitrary code during unpickling (See https://github.com/pytorch/pytorch/blob/main/SECURITY.md#untrusted-models for more details). In a future release, the default value for `weights_only` will be flipped to `True`. This limits the functions that could be executed during unpickling. Arbitrary objects will no longer be allowed to be loaded via this mode unless they are explicitly allowlisted by the user via `torch.serialization.add_safe_globals`. We recommend you start setting `weights_only=True` for any use case where you don't have full control of the loaded file. Please open an issue on GitHub for any issues related to this experimental feature.\n",
      "  state_dict = torch.load(filename, map_location=device)\n"
     ]
    }
   ],
   "source": [
    "torch.cuda.device(0)\n",
    "\n",
    "if torch.cuda.is_available():\n",
    "    print(\"GPU is available\")\n",
    "    model = models.CellposeModel(pretrained_model=model_path, gpu=True, device =torch.device('cuda:0'))\n",
    "else:\n",
    "    print(\"Only CPU is available\")\n",
    "    model = models.CellposeModel(pretrained_model=model_path, gpu=False)\n"
   ]
  },
  {
   "cell_type": "markdown",
   "id": "dc1d6c4b",
   "metadata": {},
   "source": [
    "## Functions for nuclear segmentation and qc"
   ]
  },
  {
   "cell_type": "code",
   "execution_count": null,
   "id": "1d68a0b9",
   "metadata": {
    "tags": []
   },
   "outputs": [],
   "source": [
    "# Disable do_3D, there is a bug. 2D and stitching with overlap works much better.\n",
    "# Takes around 7min for the whole image on the macbook\n",
    "def segment_nuclei(img, model):\n",
    "    ''' use pytorch cellpose model to segment nuclei'''\n",
    "    masks,flows,styles = model.eval(img,do_3D=False,stitch_threshold=0.3,cellprob_threshold =0,diameter =36)\n",
    "    return masks,flows,styles\n",
    "\n",
    "\n",
    "def calc_distance_mask(masks,anisotropy):\n",
    "    '''Calculate the distance map from the nuclei-edge towards the center of nucleus'''\n",
    "    masks_edt = edt.edt(masks,anisotropy = anisotropy)\n",
    "    return masks_edt\n",
    "\n",
    "\n",
    "\n",
    "def plot_single_nucleus_crop(df, index, df_region_props, nuc_index, img):\n",
    "    '''Plot a cropped region of a particular nucleus'''\n",
    "    if spotChannel != nucChannel:\n",
    "        fig, axs = plt.subplots(nrows = 1, ncols = 2, figsize = (3,1.5),dpi = 250, sharey=True)\n",
    "    else:\n",
    "        fig, axs = plt.subplots(nrows = 1, ncols = 1, figsize = (1.5,1.5),dpi = 250, sharey=True)\n",
    "    fig.suptitle(f'{df.id.iloc[index]}', fontsize=6)\n",
    "\n",
    "    intensity_image = df_region_props['intensity_image'][nuc_index][:,:,:,spotChannel] #show first spot channel\n",
    "    image = df_region_props['image'][nuc_index]\n",
    "    mx = np.ma.masked_array(intensity_image, mask = ~image)\n",
    "    z_height = image.shape[0] \n",
    "    axs[0].imshow(mx[int(z_height/2)])\n",
    "    axs[0].spines['top'].set_visible(False)\n",
    "    axs[0].spines['right'].set_visible(False)\n",
    "    axs[0].spines['bottom'].set_visible(False)\n",
    "    axs[0].spines['left'].set_visible(False)\n",
    "    axs[0].get_xaxis().set_ticks([])\n",
    "    axs[0].get_yaxis().set_ticks([])\n",
    "\n",
    "    if spotChannel != nucChannel:\n",
    "        intensity_image = df_region_props['intensity_image'][nuc_index][:,:,:,nucChannel] #show second nuclear channel\n",
    "        image = df_region_props['image'][nuc_index]\n",
    "        mx = np.ma.masked_array(intensity_image, mask = ~image)\n",
    "        z_height = image.shape[0]\n",
    "        axs[1].imshow(mx[int(z_height/2)])\n",
    "        axs[1].spines['top'].set_visible(False)\n",
    "        axs[1].spines['right'].set_visible(False)\n",
    "        axs[1].spines['bottom'].set_visible(False)\n",
    "        axs[1].spines['left'].set_visible(False)\n",
    "        axs[1].get_xaxis().set_ticks([])\n",
    "        axs[1].get_yaxis().set_ticks([])\n",
    "\n",
    "\n",
    "    scalebar = ScaleBar(0.065, \"um\", length_fraction=1, box_alpha=0.7,color='black',location='lower right',height_fraction = 0.05,border_pad =-1)\n",
    "    if spotChannel != nucChannel:\n",
    "        axs[1].add_artist(scalebar)\n",
    "    else:\n",
    "        axs[0].add_artist(scalebar) \n",
    "\n",
    "    plt.show()\n",
    "\n",
    "\n",
    "def plot_qc_segmentation_xyz(img, masks, index, df, t=0, display_plot=False, plotContours=False):\n",
    "    '''Plot a 2x3 grid of xy, xz, yz slices of the image and the corresponding segmentation'''\n",
    "    nucChannel = 0\n",
    "    num_z=img.shape[1]\n",
    "    num_y=img.shape[2]\n",
    "    num_x=img.shape[3]\n",
    "    nlabel=100\n",
    "\n",
    "    fig = plt.figure(layout='constrained',dpi=450,figsize = (10,10))\n",
    "    fig.suptitle(f'Segmentation for {df.id.iloc[index]}', fontsize=10)\n",
    "    subfigs = fig.subfigures(2, 1, wspace=0.1)\n",
    "\n",
    "    axsTop = subfigs[0].subplots(2, 3,sharex=True, sharey=True)\n",
    "    #xy\n",
    "    axsTop[0,0].imshow(label2rgb(masks[int(num_z*0.3),:,:],bg_label=0,bg_color=(255, 255, 255),colors=np.random.random((nlabel, 3))))\n",
    "    axsTop[1,0].set_title('z='+str(int(num_z*0.3)), fontsize=8)\n",
    "    axsTop[0,1].imshow(label2rgb(masks[int(num_z*0.5),:,:],bg_label=0,bg_color=(255, 255, 255),colors=np.random.random((nlabel, 3))))\n",
    "    axsTop[1,1].set_title('z='+str(int(num_z*0.5)), fontsize=8)\n",
    "    axsTop[0,2].imshow(label2rgb(masks[int(num_z*0.7),:,:],bg_label=0,bg_color=(255, 255, 255),colors=np.random.random((nlabel, 3))))\n",
    "    axsTop[1,2].set_title('z='+str(int(num_z*0.7)), fontsize=8)\n",
    "\n",
    "    axsTop[1,0].imshow(img[nucChannel,int(num_z*0.3),:,:],cmap = 'gray_r')\n",
    "    axsTop[1,1].imshow(img[nucChannel,int(num_z*0.5),:,:],cmap = 'gray_r')\n",
    "    axsTop[1,2].imshow(img[nucChannel,int(num_z*0.7),:,:],cmap = 'gray_r')\n",
    "\n",
    "    if plotContours:\n",
    "        axsTop[1,0].contour(masks[int(num_z*0.3),:,:], [0.5], linewidths=0.5, colors='r')\n",
    "        axsTop[1,1].contour(masks[int(num_z*0.5),:,:], [0.5], linewidths=0.5, colors='r')\n",
    "        axsTop[1,2].contour(masks[int(num_z*0.7),:,:], [0.5], linewidths=0.5, colors='r')\n",
    "\n",
    "\n",
    "    for axss in axsTop:\n",
    "        for ax in axss:\n",
    "            #ax.set_xlim(0,num_x)\n",
    "            #ax.set_ylim(0,num_y)\n",
    "            ax.set_xticks([])\n",
    "            ax.set_yticks([])\n",
    "\n",
    "    axsBottom = subfigs[1].subplots(4, 3,sharex=True,sharey=True)\n",
    "    #xz\n",
    "    axsBottom[0,0].imshow(label2rgb(masks[:,int(num_y*0.3),:],bg_label=0,bg_color=(255, 255, 255),colors=np.random.random((nlabel, 3))))\n",
    "    axsBottom[1,0].set_title('y='+str(int(num_y*0.3)), fontsize=8)\n",
    "    axsBottom[0,1].imshow(label2rgb(masks[:,int(num_y*0.5),:],bg_label=0,bg_color=(255, 255, 255),colors=np.random.random((nlabel, 3))))\n",
    "    axsBottom[1,1].set_title('y='+str(int(num_y*0.5)), fontsize=8)\n",
    "    axsBottom[0,2].imshow(label2rgb(masks[:,int(num_y*0.7),:],bg_label=0,bg_color=(255, 255, 255),colors=np.random.random((nlabel, 3))))\n",
    "    axsBottom[1,2].set_title('y='+str(int(num_y*0.7)), fontsize=8)\n",
    "\n",
    "    axsBottom[1,0].imshow(img[nucChannel,:,int(num_y*0.3),:],cmap = 'gray_r')\n",
    "    axsBottom[1,1].imshow(img[nucChannel,:,int(num_y*0.5),:],cmap = 'gray_r')\n",
    "    axsBottom[1,2].imshow(img[nucChannel,:,int(num_y*0.7),:],cmap = 'gray_r')\n",
    "\n",
    "    if plotContours:\n",
    "        axsBottom[1,0].contour(masks[:,int(num_y*0.3),:], [0.5], linewidths=0.5, colors='r')\n",
    "        axsBottom[1,1].contour(masks[:,int(num_y*0.5),:], [0.5], linewidths=0.5, colors='r')\n",
    "        axsBottom[1,2].contour(masks[:,int(num_y*0.7),:], [0.5], linewidths=0.5, colors='r')\n",
    "\n",
    "\n",
    "    #yz\n",
    "    axsBottom[2,0].imshow(label2rgb(masks[:,:,int(num_x*0.3)],bg_label=0,bg_color=(255, 255, 255),colors=np.random.random((nlabel, 3))))\n",
    "    axsBottom[3,0].set_title('x='+str(int(num_x*0.3)), fontsize=8)\n",
    "    axsBottom[2,1].imshow(label2rgb(masks[:,:,int(num_x*0.5)],bg_label=0,bg_color=(255, 255, 255),colors=np.random.random((nlabel, 3))))\n",
    "    axsBottom[3,1].set_title('x='+str(int(num_x*0.5)), fontsize=8)\n",
    "    axsBottom[2,2].imshow(label2rgb(masks[:,:,int(num_x*0.7)],bg_label=0,bg_color=(255, 255, 255),colors=np.random.random((nlabel, 3))))\n",
    "    axsBottom[3,2].set_title('x='+str(int(num_x*0.7)), fontsize=8)\n",
    "\n",
    "    axsBottom[3,0].imshow(img[nucChannel,:,:,int(num_x*0.3)],cmap = 'gray_r')\n",
    "    axsBottom[3,1].imshow(img[nucChannel,:,:,int(num_x*0.5)],cmap = 'gray_r')\n",
    "    axsBottom[3,2].imshow(img[nucChannel,:,:,int(num_x*0.7)],cmap = 'gray_r')\n",
    "\n",
    "    if plotContours:\n",
    "        axsBottom[3,0].contour(masks[:,:,int(num_x*0.3)], [0.5], linewidths=0.5, colors='r')\n",
    "        axsBottom[3,1].contour(masks[:,:,int(num_x*0.5)], [0.5], linewidths=0.5, colors='r')\n",
    "        axsBottom[3,2].contour(masks[:,:,int(num_x*0.7)], [0.5], linewidths=0.5, colors='r')\n",
    "\n",
    "    for axss in axsBottom:\n",
    "        for ax in axss:\n",
    "            #ax.set_ylim(0,num_z)\n",
    "            ax.set_xticks([])\n",
    "            ax.set_yticks([])\n",
    "\n",
    "    plt.tight_layout()\n",
    "    if display_plot:\n",
    "        plt.show()\n",
    "    else:\n",
    "        fig.savefig(os.path.join(output_path,'qc','segmentation_'+df.id.iloc[index]+'_t'+'{:02d}'.format(t)+'.png'))\n",
    "        plt.close()"
   ]
  },
  {
   "cell_type": "code",
   "execution_count": 6,
   "id": "2061263f",
   "metadata": {},
   "outputs": [],
   "source": [
    "## Run the segmentation script on all images (reserve more than 24GB!)\n",
    "# this produces segmentation, segmentation_qc and edt files\n",
    "def run_nuclear_segmentation(indices, df, rerun=False, use_denoised=True):\n",
    "    '''Run the segmentation on all images in the dataframe'''\n",
    "    for index in tqdm.tqdm(indices):\n",
    "        if rerun or not os.path.exists(os.path.join(output_path,'edt',df.id.iloc[index]+'_t0.tif')):\n",
    "            # get anisotropy from raw image metadata\n",
    "            img_5d = BioImage(df.raw_filepath.iloc[index], reader=bioio_nd2.Reader)\n",
    "\n",
    "            ZvX = np.round(img_5d.physical_pixel_sizes.Z/img_5d.physical_pixel_sizes.X,0)\n",
    "            anisotropy = (ZvX,1,1)\n",
    "            # Load the denoised data\n",
    "            if use_denoised:\n",
    "                img_5d = BioImage(df.denoised_filepath.iloc[index], reader=bioio_tifffile.Reader)\n",
    "            for t in range(img_5d.dims.T):\n",
    "                img = img_5d.get_image_data(\"CZYX\", T=t)\n",
    "\n",
    "                # Segment nuclei \n",
    "                masks,flows,styles = segment_nuclei(img[nucChannel,:,:,:],model) # Run the segmentation\n",
    "                plot_qc_segmentation_xyz(img,masks,index, df, t, display_plot = False)                         # Create qc plot\n",
    "                OmeTiffWriter.save(masks, os.path.join(output_path,'segmentation',df.id.iloc[index]+'_t'+'{:02d}'.format(t)+'.tif'))\n",
    "\n",
    "                del flows\n",
    "                del styles\n",
    "                gc.collect()\n",
    "                \n",
    "                # Calculate edt \n",
    "                masks_edt = calc_distance_mask(masks,anisotropy)\n",
    "                OmeTiffWriter.save(masks_edt, os.path.join(output_path,'edt',df.id.iloc[index]+'_t'+'{:02d}'.format(t)+'.tif'))\n",
    "\n",
    "                del masks\n",
    "                del masks_edt\n",
    "                gc.collect()\n",
    "                continue\n"
   ]
  },
  {
   "cell_type": "markdown",
   "id": "12b5278b",
   "metadata": {},
   "source": [
    "## Running the analysis for nuclear segmentation"
   ]
  },
  {
   "cell_type": "code",
   "execution_count": 7,
   "id": "12b5278b",
   "metadata": {},
   "outputs": [
    {
     "name": "stderr",
     "output_type": "stream",
     "text": [
      "100%|██████████| 80/80 [00:04<00:00, 19.59it/s]\n",
      "Clipping input data to the valid range for imshow with RGB data ([0..1] for floats or [0..255] for integers). Got range [0.0030314768628217914..255.0].\n",
      "Clipping input data to the valid range for imshow with RGB data ([0..1] for floats or [0..255] for integers). Got range [0.003044939462909957..255.0].\n",
      "Clipping input data to the valid range for imshow with RGB data ([0..1] for floats or [0..255] for integers). Got range [0.0022763987603476865..255.0].\n",
      "Clipping input data to the valid range for imshow with RGB data ([0..1] for floats or [0..255] for integers). Got range [255.0..255.0].\n",
      "Clipping input data to the valid range for imshow with RGB data ([0..1] for floats or [0..255] for integers). Got range [255.0..255.0].\n",
      "Clipping input data to the valid range for imshow with RGB data ([0..1] for floats or [0..255] for integers). Got range [0.004826562097455023..255.0].\n",
      "Clipping input data to the valid range for imshow with RGB data ([0..1] for floats or [0..255] for integers). Got range [0.014114383792366736..255.0].\n",
      "Clipping input data to the valid range for imshow with RGB data ([0..1] for floats or [0..255] for integers). Got range [0.03387681892175143..255.0].\n",
      "Clipping input data to the valid range for imshow with RGB data ([0..1] for floats or [0..255] for integers). Got range [0.038604439055803685..255.0].\n",
      "/tmp/ipykernel_558910/4283392726.py:211: UserWarning: The figure layout has changed to tight\n",
      "  plt.tight_layout()\n",
      "100%|██████████| 107/107 [00:04<00:00, 24.85it/s]\n",
      "Clipping input data to the valid range for imshow with RGB data ([0..1] for floats or [0..255] for integers). Got range [0.09614901483024274..255.0].\n",
      "Clipping input data to the valid range for imshow with RGB data ([0..1] for floats or [0..255] for integers). Got range [0.012107916830790932..255.0].\n",
      "Clipping input data to the valid range for imshow with RGB data ([0..1] for floats or [0..255] for integers). Got range [0.002526696825361441..255.0].\n",
      "Clipping input data to the valid range for imshow with RGB data ([0..1] for floats or [0..255] for integers). Got range [0.021242811971777464..255.0].\n",
      "Clipping input data to the valid range for imshow with RGB data ([0..1] for floats or [0..255] for integers). Got range [0.08463045810266279..255.0].\n",
      "Clipping input data to the valid range for imshow with RGB data ([0..1] for floats or [0..255] for integers). Got range [0.20447839828728587..255.0].\n",
      "Clipping input data to the valid range for imshow with RGB data ([0..1] for floats or [0..255] for integers). Got range [255.0..255.0].\n",
      "Clipping input data to the valid range for imshow with RGB data ([0..1] for floats or [0..255] for integers). Got range [255.0..255.0].\n",
      "Clipping input data to the valid range for imshow with RGB data ([0..1] for floats or [0..255] for integers). Got range [0.09180946500480813..255.0].\n",
      "/tmp/ipykernel_558910/4283392726.py:211: UserWarning: The figure layout has changed to tight\n",
      "  plt.tight_layout()\n",
      "100%|██████████| 2/2 [08:59<00:00, 269.77s/it]\n"
     ]
    }
   ],
   "source": [
    "# run analysis to segment nuclei\n",
    "indices=range(0,len(df))\n",
    "\n",
    "#indices=[7,50]\n",
    "\n",
    "run_nuclear_segmentation(indices, df, rerun=True, use_denoised=True) \n",
    "\n"
   ]
  }
 ],
 "metadata": {
  "kernelspec": {
   "display_name": "lhcellpose1",
   "language": "python",
   "name": "python3"
  },
  "language_info": {
   "codemirror_mode": {
    "name": "ipython",
    "version": 3
   },
   "file_extension": ".py",
   "mimetype": "text/x-python",
   "name": "python",
   "nbconvert_exporter": "python",
   "pygments_lexer": "ipython3",
   "version": "3.10.16"
  }
 },
 "nbformat": 4,
 "nbformat_minor": 5
}
