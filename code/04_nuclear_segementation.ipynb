{
 "cells": [
  {
   "cell_type": "markdown",
   "id": "ecdc50a0",
   "metadata": {},
   "source": [
    "# Nuclear segmentation of nuclei\n",
    "\n",
    "Scripts to detect nuclei from 5d images (t,c,z,y,x) with a spot channel and an optional nuclear marker channel.\n",
    "Mostly based on scripts from Lucien Hinderling, with some modifications and cleanup by Jennifer Semple.\n",
    "\n",
    "Nuclear segmentation carried out with Cellpose.\n",
    "\n",
    "**Inputs**:\n",
    "\n",
    "1) Pandas dataframe fileList.csv (or fileList_wormMasks.csv) with absolute paths to raw .nd2 files and denoised .tif files in columns named raw_filepath and denoised_filepath.\n",
    "An 'id' column has a unique id for each image. Other metadata columns can also be present.\n",
    "\n",
    "Example column names:\n",
    "*filename\tdate\texperiment\tstrain\tprotein\tid  raw_filepath    denoised_filepath*\n",
    "\n",
    "example line:\n",
    "*20240915_1268_E_bean_15um\t20240915\t3d\t1268\tDPY27\tDPY27_3d_20240915_1268_E_bean_15um\t/mnt/external.data/MeisterLab/Dario/Imaging/DP...\t/mnt/external.data/MeisterLab/Dario/Imaging/DP...*\n",
    "\n",
    "2) output_path is the location of the file produced by this script\n",
    "\n",
    "**Outputs**:\n",
    "\n",
    "segmentation masks (.tif files) in output_path/segmentation/\n",
    "\n",
    "distance masks (.tif files) in output_path/edt/\n",
    "\n",
    "qc plots of segmentation on original image (segmentation_XXX.pdf), individual masked nuclei (cropped_nuclei_XXX.pdf) in output_path/qc/\n",
    "\n",
    "\n",
    "### Setting you might need to change\n",
    "\n",
    "output_path - create a directory for the analysis. results will be stored in a protein/strain/date structure same as in the raw_input_path.\n",
    "\n",
    "path_type - “server”, “mac” or “wsl” so I can switch between working on server or with izbkingston mounted on mac/pc. (for PC izbkingston needs to be mounted with sshfs as /mnt/izbkingston/ from within WSL). Since this script works best with gpu, it will almost always be \"server\"\n",
    "\n",
    "Set the channel number (as it is in the orignal image) for nuclear marker (nucChannel) and for spots (spotChannel). If there is no additional nuclear marker channel, set it to the same as the spotChannel\n",
    "\n",
    "use_worm_masks - True if you presegmented particular worm regions which you later want to filter your nuclei by (this determines whether you use fileList.csv or fileList_wormMasks.csv)\n",
    "\n",
    "model_path - path to pretrained cellpose model\n",
    "\n"
   ]
  },
  {
   "cell_type": "code",
   "execution_count": 8,
   "id": "4864532e",
   "metadata": {
    "tags": []
   },
   "outputs": [],
   "source": [
    "import torch\n",
    "from skimage.color import label2rgb\n",
    "import pandas as pd\n",
    "import numpy as np\n",
    "import matplotlib.pyplot as plt\n",
    "import cellpose\n",
    "from cellpose import models\n",
    "import edt\n",
    "import glob\n",
    "import os\n",
    "import tqdm\n",
    "from matplotlib_scalebar.scalebar import ScaleBar\n",
    "import gc\n",
    "import seaborn as sns\n",
    "from bioio import BioImage\n",
    "import bioio_nd2\n",
    "import bioio_tifffile\n",
    "from bioio.writers import OmeTiffWriter\n",
    "from convert_paths import correct_path, correct_save_path, correct_loaded_path\n",
    "\n",
    "\n",
    "pd.set_option('display.max_columns', None)"
   ]
  },
  {
   "cell_type": "markdown",
   "id": "800f5f29",
   "metadata": {},
   "source": [
    "## Input settings"
   ]
  },
  {
   "cell_type": "code",
   "execution_count": null,
   "id": "e8d2eb4b",
   "metadata": {
    "tags": []
   },
   "outputs": [
    {
     "data": {
      "application/vnd.microsoft.datawrangler.viewer.v0+json": {
       "columns": [
        {
         "name": "index",
         "rawType": "int64",
         "type": "integer"
        },
        {
         "name": "filename",
         "rawType": "object",
         "type": "string"
        },
        {
         "name": "date",
         "rawType": "object",
         "type": "string"
        },
        {
         "name": "protein",
         "rawType": "object",
         "type": "string"
        },
        {
         "name": "strain",
         "rawType": "object",
         "type": "string"
        },
        {
         "name": "treatment",
         "rawType": "object",
         "type": "string"
        },
        {
         "name": "worm_id",
         "rawType": "int64",
         "type": "integer"
        },
        {
         "name": "id",
         "rawType": "object",
         "type": "string"
        },
        {
         "name": "raw_filepath",
         "rawType": "object",
         "type": "string"
        },
        {
         "name": "denoised_filepath",
         "rawType": "object",
         "type": "string"
        },
        {
         "name": "worm_regions_all",
         "rawType": "object",
         "type": "string"
        }
       ],
       "ref": "f2c9f901-6df9-46a9-bca7-cdd23cbe50c9",
       "rows": [
        [
         "0",
         "2025_10_05_wPM1353_HS_001",
         "2025-10-05",
         "bet1-mSG",
         "wPM1353",
         "HS",
         "1",
         "bet1-mSG_2025-10-05_2025_10_05_wPM1353_HS_001",
         "/mnt/external.data/MeisterLab/jsemple/demo_VIBE/images/wPM1353_bet1_mSG/2025_10_05_wPM1353/2025_10_05_wPM1353_HS/2025_10_05_wPM1353_HS_001.nd2",
         "/mnt/external.data/MeisterLab/jsemple/demo_VIBE/images/wPM1353_bet1_mSG/2025_10_05_wPM1353/2025_10_05_wPM1353_HS/n2v_denoise/denoised/2025_10_05_wPM1353_HS_001_green_n2v.tif",
         "head;body_other"
        ],
        [
         "1",
         "2025_10_05_wPM1353_nHS_001",
         "2025-10-05",
         "bet1-mSG",
         "wPM1353",
         "nHS",
         "1",
         "bet1-mSG_2025-10-05_2025_10_05_wPM1353_nHS_001",
         "/mnt/external.data/MeisterLab/jsemple/demo_VIBE/images/wPM1353_bet1_mSG/2025_10_05_wPM1353/2025_10_05_wPM1353_HS/2025_10_05_wPM1353_nHS_001.nd2",
         "/mnt/external.data/MeisterLab/jsemple/demo_VIBE/images/wPM1353_bet1_mSG/2025_10_05_wPM1353/2025_10_05_wPM1353_HS/n2v_denoise/denoised/2025_10_05_wPM1353_nHS_001_green_n2v.tif",
         "head;body_other"
        ]
       ],
       "shape": {
        "columns": 10,
        "rows": 2
       }
      },
      "text/html": [
       "<div>\n",
       "<style scoped>\n",
       "    .dataframe tbody tr th:only-of-type {\n",
       "        vertical-align: middle;\n",
       "    }\n",
       "\n",
       "    .dataframe tbody tr th {\n",
       "        vertical-align: top;\n",
       "    }\n",
       "\n",
       "    .dataframe thead th {\n",
       "        text-align: right;\n",
       "    }\n",
       "</style>\n",
       "<table border=\"1\" class=\"dataframe\">\n",
       "  <thead>\n",
       "    <tr style=\"text-align: right;\">\n",
       "      <th></th>\n",
       "      <th>filename</th>\n",
       "      <th>date</th>\n",
       "      <th>protein</th>\n",
       "      <th>strain</th>\n",
       "      <th>treatment</th>\n",
       "      <th>worm_id</th>\n",
       "      <th>id</th>\n",
       "      <th>raw_filepath</th>\n",
       "      <th>denoised_filepath</th>\n",
       "      <th>worm_regions_all</th>\n",
       "    </tr>\n",
       "  </thead>\n",
       "  <tbody>\n",
       "    <tr>\n",
       "      <th>0</th>\n",
       "      <td>2025_10_05_wPM1353_HS_001</td>\n",
       "      <td>2025-10-05</td>\n",
       "      <td>bet1-mSG</td>\n",
       "      <td>wPM1353</td>\n",
       "      <td>HS</td>\n",
       "      <td>1</td>\n",
       "      <td>bet1-mSG_2025-10-05_2025_10_05_wPM1353_HS_001</td>\n",
       "      <td>/mnt/external.data/MeisterLab/jsemple/demo_VIB...</td>\n",
       "      <td>/mnt/external.data/MeisterLab/jsemple/demo_VIB...</td>\n",
       "      <td>head;body_other</td>\n",
       "    </tr>\n",
       "    <tr>\n",
       "      <th>1</th>\n",
       "      <td>2025_10_05_wPM1353_nHS_001</td>\n",
       "      <td>2025-10-05</td>\n",
       "      <td>bet1-mSG</td>\n",
       "      <td>wPM1353</td>\n",
       "      <td>nHS</td>\n",
       "      <td>1</td>\n",
       "      <td>bet1-mSG_2025-10-05_2025_10_05_wPM1353_nHS_001</td>\n",
       "      <td>/mnt/external.data/MeisterLab/jsemple/demo_VIB...</td>\n",
       "      <td>/mnt/external.data/MeisterLab/jsemple/demo_VIB...</td>\n",
       "      <td>head;body_other</td>\n",
       "    </tr>\n",
       "  </tbody>\n",
       "</table>\n",
       "</div>"
      ],
      "text/plain": [
       "                     filename        date   protein   strain treatment  \\\n",
       "0   2025_10_05_wPM1353_HS_001  2025-10-05  bet1-mSG  wPM1353        HS   \n",
       "1  2025_10_05_wPM1353_nHS_001  2025-10-05  bet1-mSG  wPM1353       nHS   \n",
       "\n",
       "   worm_id                                              id  \\\n",
       "0        1   bet1-mSG_2025-10-05_2025_10_05_wPM1353_HS_001   \n",
       "1        1  bet1-mSG_2025-10-05_2025_10_05_wPM1353_nHS_001   \n",
       "\n",
       "                                        raw_filepath  \\\n",
       "0  /mnt/external.data/MeisterLab/jsemple/demo_VIB...   \n",
       "1  /mnt/external.data/MeisterLab/jsemple/demo_VIB...   \n",
       "\n",
       "                                   denoised_filepath worm_regions_all  \n",
       "0  /mnt/external.data/MeisterLab/jsemple/demo_VIB...  head;body_other  \n",
       "1  /mnt/external.data/MeisterLab/jsemple/demo_VIB...  head;body_other  "
      ]
     },
     "execution_count": 9,
     "metadata": {},
     "output_type": "execute_result"
    }
   ],
   "source": [
    "\n",
    "nucChannel = 0 # red emerin rings if present, otherwise set to the same as spotChannel\n",
    "spotChannel = 0 # green spots\n",
    "path_type=\"server\" # \"server\" or \"mac\" or \"wsl\"\n",
    "use_worm_masks = True # determines if fileList.csv or fileList_wormMasks.csv is used\n",
    "\n",
    "#output_path = correct_path('/mnt/external.data/MeisterLab/jsemple/lhinder/segmentation_Kalyan/2025-25-02_bet1-mSG_wPM1353')\n",
    "#output_path = correct_path('/mnt/external.data/MeisterLab/jsemple/lhinder/segmentation_Kalyan/2025-04-03_bet1-mSG_wPM1353')\n",
    "#output_path = correct_path('/mnt/external.data/MeisterLab/jsemple/lhinder/segmentation_Kalyan/2025-10-05_bet1-mSG_wPM1353')\n",
    "output_path = '/mnt/external.data/MeisterLab/jsemple/demo_VIBE/results/2025-10-05_bet1-mSG_wPM1353'\n",
    "output_path = correct_path(output_path, path_type)\n",
    "\n",
    "model_path=correct_path('/mnt/external.data/MeisterLab/jsemple/demo_VIBE/cellpose_model/worms_1000epochs_v0', path_type)\n",
    "\n",
    "\n",
    "if use_worm_masks:\n",
    "    df = pd.read_csv(os.path.join(output_path,'fileList_wormMasks.csv'))\n",
    "    df = correct_loaded_path(df, path_type)\n",
    "else:\n",
    "    df = pd.read_csv(os.path.join(output_path,'fileList.csv'))\n",
    "    df = correct_loaded_path(df, path_type)\n",
    "\n",
    "df.head()\n"
   ]
  },
  {
   "cell_type": "markdown",
   "id": "e7ab4836",
   "metadata": {},
   "source": [
    "## Create output directories and load cellpose model"
   ]
  },
  {
   "cell_type": "code",
   "execution_count": 10,
   "id": "23988066",
   "metadata": {},
   "outputs": [],
   "source": [
    "if not os.path.exists(os.path.join(output_path,\"qc\")):\n",
    "    os.makedirs(os.path.join(output_path,\"qc\"))\n",
    "\n",
    "if not os.path.exists(os.path.join(output_path,\"segmentation\")):\n",
    "    os.makedirs(os.path.join(output_path,\"segmentation\"))\n",
    "\n",
    "if not os.path.exists(os.path.join(output_path,\"edt\")):\n",
    "    os.makedirs(os.path.join(output_path,\"edt\"))\n"
   ]
  },
  {
   "cell_type": "code",
   "execution_count": 11,
   "id": "667d650d",
   "metadata": {
    "tags": []
   },
   "outputs": [
    {
     "name": "stdout",
     "output_type": "stream",
     "text": [
      "GPU is available\n"
     ]
    },
    {
     "name": "stderr",
     "output_type": "stream",
     "text": [
      "/home/jsemple/miniforge3/envs/lhcellpose2/lib/python3.10/site-packages/cellpose/resnet_torch.py:276: FutureWarning: You are using `torch.load` with `weights_only=False` (the current default value), which uses the default pickle module implicitly. It is possible to construct malicious pickle data which will execute arbitrary code during unpickling (See https://github.com/pytorch/pytorch/blob/main/SECURITY.md#untrusted-models for more details). In a future release, the default value for `weights_only` will be flipped to `True`. This limits the functions that could be executed during unpickling. Arbitrary objects will no longer be allowed to be loaded via this mode unless they are explicitly allowlisted by the user via `torch.serialization.add_safe_globals`. We recommend you start setting `weights_only=True` for any use case where you don't have full control of the loaded file. Please open an issue on GitHub for any issues related to this experimental feature.\n",
      "  state_dict = torch.load(filename, map_location=device)\n"
     ]
    }
   ],
   "source": [
    "torch.cuda.device(0)\n",
    "\n",
    "if torch.cuda.is_available():\n",
    "    print(\"GPU is available\")\n",
    "    model = models.CellposeModel(pretrained_model=model_path, gpu=True, device =torch.device('cuda:0'))\n",
    "else:\n",
    "    print(\"Only CPU is available\")\n",
    "    model = models.CellposeModel(pretrained_model=model_path, gpu=False)\n"
   ]
  },
  {
   "cell_type": "markdown",
   "id": "dc1d6c4b",
   "metadata": {},
   "source": [
    "## Functions for nuclear segmentation and qc"
   ]
  },
  {
   "cell_type": "code",
   "execution_count": 12,
   "id": "1d68a0b9",
   "metadata": {
    "tags": []
   },
   "outputs": [],
   "source": [
    "# Disable do_3D, there is a bug. 2D and stitching with overlap works much better.\n",
    "# Takes around 7min for the whole image on the macbook\n",
    "def segment_nuclei(img, model):\n",
    "    ''' use pytorch cellpose model to segment nuclei'''\n",
    "    masks,flows,styles = model.eval(img,do_3D=False,stitch_threshold=0.3,cellprob_threshold =0,diameter =36)\n",
    "    return masks,flows,styles\n",
    "\n",
    "\n",
    "def calc_distance_mask(masks,anisotropy):\n",
    "    '''Calculate the distance map from the nuclei-edge towards the center of nucleus'''\n",
    "    masks_edt = edt.edt(masks,anisotropy = anisotropy)\n",
    "    return masks_edt\n",
    "\n",
    "\n",
    "\n",
    "def plot_single_nucleus_crop(df, index, df_region_props, nuc_index, img):\n",
    "    '''Plot a cropped region of a particular nucleus'''\n",
    "    if spotChannel != nucChannel:\n",
    "        fig, axs = plt.subplots(nrows = 1, ncols = 2, figsize = (3,1.5),dpi = 250, sharey=True)\n",
    "    else:\n",
    "        fig, axs = plt.subplots(nrows = 1, ncols = 1, figsize = (1.5,1.5),dpi = 250, sharey=True)\n",
    "    fig.suptitle(f'{df.id.iloc[index]}', fontsize=6)\n",
    "\n",
    "    intensity_image = df_region_props['intensity_image'][nuc_index][:,:,:,spotChannel] #show first spot channel\n",
    "    image = df_region_props['image'][nuc_index]\n",
    "    mx = np.ma.masked_array(intensity_image, mask = ~image)\n",
    "    z_height = image.shape[0] \n",
    "    axs[0].imshow(mx[int(z_height/2)])\n",
    "    axs[0].spines['top'].set_visible(False)\n",
    "    axs[0].spines['right'].set_visible(False)\n",
    "    axs[0].spines['bottom'].set_visible(False)\n",
    "    axs[0].spines['left'].set_visible(False)\n",
    "    axs[0].get_xaxis().set_ticks([])\n",
    "    axs[0].get_yaxis().set_ticks([])\n",
    "\n",
    "    if spotChannel != nucChannel:\n",
    "        intensity_image = df_region_props['intensity_image'][nuc_index][:,:,:,nucChannel] #show second nuclear channel\n",
    "        image = df_region_props['image'][nuc_index]\n",
    "        mx = np.ma.masked_array(intensity_image, mask = ~image)\n",
    "        z_height = image.shape[0]\n",
    "        axs[1].imshow(mx[int(z_height/2)])\n",
    "        axs[1].spines['top'].set_visible(False)\n",
    "        axs[1].spines['right'].set_visible(False)\n",
    "        axs[1].spines['bottom'].set_visible(False)\n",
    "        axs[1].spines['left'].set_visible(False)\n",
    "        axs[1].get_xaxis().set_ticks([])\n",
    "        axs[1].get_yaxis().set_ticks([])\n",
    "\n",
    "\n",
    "    scalebar = ScaleBar(0.065, \"um\", length_fraction=1, box_alpha=0.7,color='black',location='lower right',height_fraction = 0.05,border_pad =-1)\n",
    "    if spotChannel != nucChannel:\n",
    "        axs[1].add_artist(scalebar)\n",
    "    else:\n",
    "        axs[0].add_artist(scalebar) \n",
    "\n",
    "    plt.show()\n",
    "\n",
    "\n",
    "def plot_qc_segmentation_xyz(img, masks, index, df, t=0, display_plot=False, plotContours=False):\n",
    "    '''Plot a 2x3 grid of xy, xz, yz slices of the image and the corresponding segmentation'''\n",
    "    nucChannel = 0\n",
    "    num_z=img.shape[1]\n",
    "    num_y=img.shape[2]\n",
    "    num_x=img.shape[3]\n",
    "    nlabel=100\n",
    "\n",
    "    fig = plt.figure(layout='constrained',dpi=450,figsize = (10,10))\n",
    "    fig.suptitle(f'Segmentation for {df.id.iloc[index]}', fontsize=10)\n",
    "    subfigs = fig.subfigures(2, 1, wspace=0.1)\n",
    "\n",
    "    axsTop = subfigs[0].subplots(2, 3,sharex=True, sharey=True)\n",
    "    #xy\n",
    "    axsTop[0,0].imshow(label2rgb(masks[int(num_z*0.3),:,:],bg_label=0,bg_color=(255, 255, 255),colors=np.random.random((nlabel, 3))))\n",
    "    axsTop[1,0].set_title('z='+str(int(num_z*0.3)), fontsize=8)\n",
    "    axsTop[0,1].imshow(label2rgb(masks[int(num_z*0.5),:,:],bg_label=0,bg_color=(255, 255, 255),colors=np.random.random((nlabel, 3))))\n",
    "    axsTop[1,1].set_title('z='+str(int(num_z*0.5)), fontsize=8)\n",
    "    axsTop[0,2].imshow(label2rgb(masks[int(num_z*0.7),:,:],bg_label=0,bg_color=(255, 255, 255),colors=np.random.random((nlabel, 3))))\n",
    "    axsTop[1,2].set_title('z='+str(int(num_z*0.7)), fontsize=8)\n",
    "\n",
    "    axsTop[1,0].imshow(img[nucChannel,int(num_z*0.3),:,:],cmap = 'gray_r')\n",
    "    axsTop[1,1].imshow(img[nucChannel,int(num_z*0.5),:,:],cmap = 'gray_r')\n",
    "    axsTop[1,2].imshow(img[nucChannel,int(num_z*0.7),:,:],cmap = 'gray_r')\n",
    "\n",
    "    if plotContours:\n",
    "        axsTop[1,0].contour(masks[int(num_z*0.3),:,:], [0.5], linewidths=0.5, colors='r')\n",
    "        axsTop[1,1].contour(masks[int(num_z*0.5),:,:], [0.5], linewidths=0.5, colors='r')\n",
    "        axsTop[1,2].contour(masks[int(num_z*0.7),:,:], [0.5], linewidths=0.5, colors='r')\n",
    "\n",
    "\n",
    "    for axss in axsTop:\n",
    "        for ax in axss:\n",
    "            #ax.set_xlim(0,num_x)\n",
    "            #ax.set_ylim(0,num_y)\n",
    "            ax.set_xticks([])\n",
    "            ax.set_yticks([])\n",
    "\n",
    "    axsBottom = subfigs[1].subplots(4, 3,sharex=True,sharey=True)\n",
    "    #xz\n",
    "    axsBottom[0,0].imshow(label2rgb(masks[:,int(num_y*0.3),:],bg_label=0,bg_color=(255, 255, 255),colors=np.random.random((nlabel, 3))))\n",
    "    axsBottom[1,0].set_title('y='+str(int(num_y*0.3)), fontsize=8)\n",
    "    axsBottom[0,1].imshow(label2rgb(masks[:,int(num_y*0.5),:],bg_label=0,bg_color=(255, 255, 255),colors=np.random.random((nlabel, 3))))\n",
    "    axsBottom[1,1].set_title('y='+str(int(num_y*0.5)), fontsize=8)\n",
    "    axsBottom[0,2].imshow(label2rgb(masks[:,int(num_y*0.7),:],bg_label=0,bg_color=(255, 255, 255),colors=np.random.random((nlabel, 3))))\n",
    "    axsBottom[1,2].set_title('y='+str(int(num_y*0.7)), fontsize=8)\n",
    "\n",
    "    axsBottom[1,0].imshow(img[nucChannel,:,int(num_y*0.3),:],cmap = 'gray_r')\n",
    "    axsBottom[1,1].imshow(img[nucChannel,:,int(num_y*0.5),:],cmap = 'gray_r')\n",
    "    axsBottom[1,2].imshow(img[nucChannel,:,int(num_y*0.7),:],cmap = 'gray_r')\n",
    "\n",
    "    if plotContours:\n",
    "        axsBottom[1,0].contour(masks[:,int(num_y*0.3),:], [0.5], linewidths=0.5, colors='r')\n",
    "        axsBottom[1,1].contour(masks[:,int(num_y*0.5),:], [0.5], linewidths=0.5, colors='r')\n",
    "        axsBottom[1,2].contour(masks[:,int(num_y*0.7),:], [0.5], linewidths=0.5, colors='r')\n",
    "\n",
    "\n",
    "    #yz\n",
    "    axsBottom[2,0].imshow(label2rgb(masks[:,:,int(num_x*0.3)],bg_label=0,bg_color=(255, 255, 255),colors=np.random.random((nlabel, 3))))\n",
    "    axsBottom[3,0].set_title('x='+str(int(num_x*0.3)), fontsize=8)\n",
    "    axsBottom[2,1].imshow(label2rgb(masks[:,:,int(num_x*0.5)],bg_label=0,bg_color=(255, 255, 255),colors=np.random.random((nlabel, 3))))\n",
    "    axsBottom[3,1].set_title('x='+str(int(num_x*0.5)), fontsize=8)\n",
    "    axsBottom[2,2].imshow(label2rgb(masks[:,:,int(num_x*0.7)],bg_label=0,bg_color=(255, 255, 255),colors=np.random.random((nlabel, 3))))\n",
    "    axsBottom[3,2].set_title('x='+str(int(num_x*0.7)), fontsize=8)\n",
    "\n",
    "    axsBottom[3,0].imshow(img[nucChannel,:,:,int(num_x*0.3)],cmap = 'gray_r')\n",
    "    axsBottom[3,1].imshow(img[nucChannel,:,:,int(num_x*0.5)],cmap = 'gray_r')\n",
    "    axsBottom[3,2].imshow(img[nucChannel,:,:,int(num_x*0.7)],cmap = 'gray_r')\n",
    "\n",
    "    if plotContours:\n",
    "        axsBottom[3,0].contour(masks[:,:,int(num_x*0.3)], [0.5], linewidths=0.5, colors='r')\n",
    "        axsBottom[3,1].contour(masks[:,:,int(num_x*0.5)], [0.5], linewidths=0.5, colors='r')\n",
    "        axsBottom[3,2].contour(masks[:,:,int(num_x*0.7)], [0.5], linewidths=0.5, colors='r')\n",
    "\n",
    "    for axss in axsBottom:\n",
    "        for ax in axss:\n",
    "            #ax.set_ylim(0,num_z)\n",
    "            ax.set_xticks([])\n",
    "            ax.set_yticks([])\n",
    "\n",
    "    plt.tight_layout()\n",
    "    if display_plot:\n",
    "        plt.show()\n",
    "    else:\n",
    "        fig.savefig(os.path.join(output_path,'qc','segmentation_'+df.id.iloc[index]+'_t'+'{:02d}'.format(t)+'.png'))\n",
    "        plt.close()"
   ]
  },
  {
   "cell_type": "code",
   "execution_count": 13,
   "id": "2061263f",
   "metadata": {},
   "outputs": [],
   "source": [
    "## Run the segmentation script on all images (reserve more than 24GB!)\n",
    "# this produces segmentation, segmentation_qc and edt files\n",
    "def run_nuclear_segmentation(indices, df, rerun=False, use_denoised=True):\n",
    "    '''Run the segmentation on all images in the dataframe'''\n",
    "    for index in tqdm.tqdm(indices):\n",
    "        if rerun or not os.path.exists(os.path.join(output_path,'edt',df.id.iloc[index]+'_t0.tif')):\n",
    "            # get anisotropy from raw image metadata\n",
    "            img_5d = BioImage(df.raw_filepath.iloc[index], reader=bioio_nd2.Reader)\n",
    "\n",
    "            ZvX = np.round(img_5d.physical_pixel_sizes.Z/img_5d.physical_pixel_sizes.X,0)\n",
    "            anisotropy = (ZvX,1,1)\n",
    "            # Load the denoised data\n",
    "            if use_denoised:\n",
    "                img_5d = BioImage(df.denoised_filepath.iloc[index], reader=bioio_tifffile.Reader)\n",
    "            for t in range(img_5d.dims.T):\n",
    "                img = img_5d.get_image_data(\"CZYX\", T=t)\n",
    "\n",
    "                # Segment nuclei \n",
    "                masks,flows,styles = segment_nuclei(img[nucChannel,:,:,:],model) # Run the segmentation\n",
    "                plot_qc_segmentation_xyz(img,masks,index, df, t, display_plot = False)                         # Create qc plot\n",
    "                OmeTiffWriter.save(masks, os.path.join(output_path,'segmentation',df.id.iloc[index]+'_t'+'{:02d}'.format(t)+'.tif'))\n",
    "\n",
    "                del flows\n",
    "                del styles\n",
    "                gc.collect()\n",
    "                \n",
    "                # Calculate edt \n",
    "                masks_edt = calc_distance_mask(masks,anisotropy)\n",
    "                OmeTiffWriter.save(masks_edt, os.path.join(output_path,'edt',df.id.iloc[index]+'_t'+'{:02d}'.format(t)+'.tif'))\n",
    "\n",
    "                del masks\n",
    "                del masks_edt\n",
    "                gc.collect()\n",
    "                continue\n"
   ]
  },
  {
   "cell_type": "markdown",
   "id": "12b5278b",
   "metadata": {},
   "source": [
    "## Running the analysis for nuclear segmentation"
   ]
  },
  {
   "cell_type": "code",
   "execution_count": 14,
   "id": "12b5278b",
   "metadata": {},
   "outputs": [
    {
     "name": "stderr",
     "output_type": "stream",
     "text": [
      "100%|██████████| 80/80 [00:03<00:00, 24.18it/s]\n",
      "  0%|          | 0/2 [02:45<?, ?it/s]\n"
     ]
    },
    {
     "ename": "KeyboardInterrupt",
     "evalue": "",
     "output_type": "error",
     "traceback": [
      "\u001b[0;31m---------------------------------------------------------------------------\u001b[0m",
      "\u001b[0;31mKeyboardInterrupt\u001b[0m                         Traceback (most recent call last)",
      "Cell \u001b[0;32mIn[14], line 6\u001b[0m\n\u001b[1;32m      2\u001b[0m indices\u001b[38;5;241m=\u001b[39m\u001b[38;5;28mrange\u001b[39m(\u001b[38;5;241m0\u001b[39m,\u001b[38;5;28mlen\u001b[39m(df))\n\u001b[1;32m      4\u001b[0m \u001b[38;5;66;03m#indices=[7,50]\u001b[39;00m\n\u001b[0;32m----> 6\u001b[0m \u001b[43mrun_nuclear_segmentation\u001b[49m\u001b[43m(\u001b[49m\u001b[43mindices\u001b[49m\u001b[43m,\u001b[49m\u001b[43m \u001b[49m\u001b[43mdf\u001b[49m\u001b[43m,\u001b[49m\u001b[43m \u001b[49m\u001b[43mrerun\u001b[49m\u001b[38;5;241;43m=\u001b[39;49m\u001b[38;5;28;43;01mTrue\u001b[39;49;00m\u001b[43m,\u001b[49m\u001b[43m \u001b[49m\u001b[43muse_denoised\u001b[49m\u001b[38;5;241;43m=\u001b[39;49m\u001b[38;5;28;43;01mTrue\u001b[39;49;00m\u001b[43m)\u001b[49m \n",
      "Cell \u001b[0;32mIn[13], line 19\u001b[0m, in \u001b[0;36mrun_nuclear_segmentation\u001b[0;34m(indices, df, rerun, use_denoised)\u001b[0m\n\u001b[1;32m     16\u001b[0m img \u001b[38;5;241m=\u001b[39m img_5d\u001b[38;5;241m.\u001b[39mget_image_data(\u001b[38;5;124m\"\u001b[39m\u001b[38;5;124mCZYX\u001b[39m\u001b[38;5;124m\"\u001b[39m, T\u001b[38;5;241m=\u001b[39mt)\n\u001b[1;32m     18\u001b[0m \u001b[38;5;66;03m# Segment nuclei \u001b[39;00m\n\u001b[0;32m---> 19\u001b[0m masks,flows,styles \u001b[38;5;241m=\u001b[39m \u001b[43msegment_nuclei\u001b[49m\u001b[43m(\u001b[49m\u001b[43mimg\u001b[49m\u001b[43m[\u001b[49m\u001b[43mnucChannel\u001b[49m\u001b[43m,\u001b[49m\u001b[43m:\u001b[49m\u001b[43m,\u001b[49m\u001b[43m:\u001b[49m\u001b[43m,\u001b[49m\u001b[43m:\u001b[49m\u001b[43m]\u001b[49m\u001b[43m,\u001b[49m\u001b[43mmodel\u001b[49m\u001b[43m)\u001b[49m \u001b[38;5;66;03m# Run the segmentation\u001b[39;00m\n\u001b[1;32m     20\u001b[0m plot_qc_segmentation_xyz(img,masks,index, df, t, display_plot \u001b[38;5;241m=\u001b[39m \u001b[38;5;28;01mFalse\u001b[39;00m)                         \u001b[38;5;66;03m# Create qc plot\u001b[39;00m\n\u001b[1;32m     21\u001b[0m OmeTiffWriter\u001b[38;5;241m.\u001b[39msave(masks, os\u001b[38;5;241m.\u001b[39mpath\u001b[38;5;241m.\u001b[39mjoin(output_path,\u001b[38;5;124m'\u001b[39m\u001b[38;5;124msegmentation\u001b[39m\u001b[38;5;124m'\u001b[39m,df\u001b[38;5;241m.\u001b[39mid\u001b[38;5;241m.\u001b[39miloc[index]\u001b[38;5;241m+\u001b[39m\u001b[38;5;124m'\u001b[39m\u001b[38;5;124m_t\u001b[39m\u001b[38;5;124m'\u001b[39m\u001b[38;5;241m+\u001b[39m\u001b[38;5;124m'\u001b[39m\u001b[38;5;132;01m{:02d}\u001b[39;00m\u001b[38;5;124m'\u001b[39m\u001b[38;5;241m.\u001b[39mformat(t)\u001b[38;5;241m+\u001b[39m\u001b[38;5;124m'\u001b[39m\u001b[38;5;124m.tif\u001b[39m\u001b[38;5;124m'\u001b[39m))\n",
      "Cell \u001b[0;32mIn[12], line 5\u001b[0m, in \u001b[0;36msegment_nuclei\u001b[0;34m(img, model)\u001b[0m\n\u001b[1;32m      3\u001b[0m \u001b[38;5;28;01mdef\u001b[39;00m\u001b[38;5;250m \u001b[39m\u001b[38;5;21msegment_nuclei\u001b[39m(img, model):\n\u001b[1;32m      4\u001b[0m \u001b[38;5;250m    \u001b[39m\u001b[38;5;124;03m''' use pytorch cellpose model to segment nuclei'''\u001b[39;00m\n\u001b[0;32m----> 5\u001b[0m     masks,flows,styles \u001b[38;5;241m=\u001b[39m \u001b[43mmodel\u001b[49m\u001b[38;5;241;43m.\u001b[39;49m\u001b[43meval\u001b[49m\u001b[43m(\u001b[49m\u001b[43mimg\u001b[49m\u001b[43m,\u001b[49m\u001b[43mdo_3D\u001b[49m\u001b[38;5;241;43m=\u001b[39;49m\u001b[38;5;28;43;01mFalse\u001b[39;49;00m\u001b[43m,\u001b[49m\u001b[43mstitch_threshold\u001b[49m\u001b[38;5;241;43m=\u001b[39;49m\u001b[38;5;241;43m0.3\u001b[39;49m\u001b[43m,\u001b[49m\u001b[43mcellprob_threshold\u001b[49m\u001b[43m \u001b[49m\u001b[38;5;241;43m=\u001b[39;49m\u001b[38;5;241;43m0\u001b[39;49m\u001b[43m,\u001b[49m\u001b[43mdiameter\u001b[49m\u001b[43m \u001b[49m\u001b[38;5;241;43m=\u001b[39;49m\u001b[38;5;241;43m36\u001b[39;49m\u001b[43m)\u001b[49m\n\u001b[1;32m      6\u001b[0m     \u001b[38;5;28;01mreturn\u001b[39;00m masks,flows,styles\n",
      "File \u001b[0;32m~/miniforge3/envs/lhcellpose2/lib/python3.10/site-packages/cellpose/models.py:462\u001b[0m, in \u001b[0;36mCellposeModel.eval\u001b[0;34m(self, x, batch_size, resample, channels, channel_axis, z_axis, normalize, invert, rescale, diameter, flow_threshold, cellprob_threshold, do_3D, anisotropy, stitch_threshold, min_size, niter, augment, tile, tile_overlap, bsize, interp, compute_masks, progress)\u001b[0m\n\u001b[1;32m    452\u001b[0m     rescale \u001b[38;5;241m=\u001b[39m \u001b[38;5;28mself\u001b[39m\u001b[38;5;241m.\u001b[39mdiam_mean \u001b[38;5;241m/\u001b[39m diameter\n\u001b[1;32m    454\u001b[0m masks, styles, dP, cellprob, p \u001b[38;5;241m=\u001b[39m \u001b[38;5;28mself\u001b[39m\u001b[38;5;241m.\u001b[39m_run_cp(\n\u001b[1;32m    455\u001b[0m     x, compute_masks\u001b[38;5;241m=\u001b[39mcompute_masks, normalize\u001b[38;5;241m=\u001b[39mnormalize, invert\u001b[38;5;241m=\u001b[39minvert,\n\u001b[1;32m    456\u001b[0m     rescale\u001b[38;5;241m=\u001b[39mrescale, resample\u001b[38;5;241m=\u001b[39mresample, augment\u001b[38;5;241m=\u001b[39maugment, tile\u001b[38;5;241m=\u001b[39mtile,\n\u001b[0;32m   (...)\u001b[0m\n\u001b[1;32m    459\u001b[0m     do_3D\u001b[38;5;241m=\u001b[39mdo_3D, anisotropy\u001b[38;5;241m=\u001b[39manisotropy, niter\u001b[38;5;241m=\u001b[39mniter,\n\u001b[1;32m    460\u001b[0m     stitch_threshold\u001b[38;5;241m=\u001b[39mstitch_threshold)\n\u001b[0;32m--> 462\u001b[0m flows \u001b[38;5;241m=\u001b[39m [\u001b[43mplot\u001b[49m\u001b[38;5;241;43m.\u001b[39;49m\u001b[43mdx_to_circ\u001b[49m\u001b[43m(\u001b[49m\u001b[43mdP\u001b[49m\u001b[43m)\u001b[49m, dP, cellprob, p]\n\u001b[1;32m    463\u001b[0m \u001b[38;5;28;01mreturn\u001b[39;00m masks, flows, styles\n",
      "File \u001b[0;32m~/miniforge3/envs/lhcellpose2/lib/python3.10/site-packages/cellpose/plot.py:40\u001b[0m, in \u001b[0;36mdx_to_circ\u001b[0;34m(dP, transparency, mask)\u001b[0m\n\u001b[1;32m     38\u001b[0m dP \u001b[38;5;241m=\u001b[39m np\u001b[38;5;241m.\u001b[39marray(dP)\n\u001b[1;32m     39\u001b[0m mag \u001b[38;5;241m=\u001b[39m np\u001b[38;5;241m.\u001b[39mclip(transforms\u001b[38;5;241m.\u001b[39mnormalize99(np\u001b[38;5;241m.\u001b[39msqrt(np\u001b[38;5;241m.\u001b[39msum(dP\u001b[38;5;241m*\u001b[39m\u001b[38;5;241m*\u001b[39m\u001b[38;5;241m2\u001b[39m, axis\u001b[38;5;241m=\u001b[39m\u001b[38;5;241m0\u001b[39m))), \u001b[38;5;241m0\u001b[39m, \u001b[38;5;241m1.\u001b[39m)\n\u001b[0;32m---> 40\u001b[0m angles \u001b[38;5;241m=\u001b[39m \u001b[43mnp\u001b[49m\u001b[38;5;241;43m.\u001b[39;49m\u001b[43marctan2\u001b[49m\u001b[43m(\u001b[49m\u001b[43mdP\u001b[49m\u001b[43m[\u001b[49m\u001b[38;5;241;43m1\u001b[39;49m\u001b[43m]\u001b[49m\u001b[43m,\u001b[49m\u001b[43m \u001b[49m\u001b[43mdP\u001b[49m\u001b[43m[\u001b[49m\u001b[38;5;241;43m0\u001b[39;49m\u001b[43m]\u001b[49m\u001b[43m)\u001b[49m \u001b[38;5;241m+\u001b[39m np\u001b[38;5;241m.\u001b[39mpi\n\u001b[1;32m     41\u001b[0m a \u001b[38;5;241m=\u001b[39m \u001b[38;5;241m2\u001b[39m\n\u001b[1;32m     42\u001b[0m r \u001b[38;5;241m=\u001b[39m ((np\u001b[38;5;241m.\u001b[39mcos(angles) \u001b[38;5;241m+\u001b[39m \u001b[38;5;241m1\u001b[39m) \u001b[38;5;241m/\u001b[39m a)\n",
      "\u001b[0;31mKeyboardInterrupt\u001b[0m: "
     ]
    }
   ],
   "source": [
    "# run analysis to segment nuclei\n",
    "indices=range(0,len(df))\n",
    "\n",
    "#indices=[7,50]\n",
    "\n",
    "run_nuclear_segmentation(indices, df, rerun=True, use_denoised=True) \n",
    "\n"
   ]
  }
 ],
 "metadata": {
  "kernelspec": {
   "display_name": "lhcellpose2",
   "language": "python",
   "name": "python3"
  },
  "language_info": {
   "codemirror_mode": {
    "name": "ipython",
    "version": 3
   },
   "file_extension": ".py",
   "mimetype": "text/x-python",
   "name": "python",
   "nbconvert_exporter": "python",
   "pygments_lexer": "ipython3",
   "version": "3.10.16"
  }
 },
 "nbformat": 4,
 "nbformat_minor": 5
}
